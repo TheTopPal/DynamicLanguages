{
  "cells": [
    {
      "cell_type": "markdown",
      "metadata": {
        "id": "uV4sWShgp18K"
      },
      "source": [
        "# Подготовка к обработке данных"
      ]
    },
    {
      "cell_type": "markdown",
      "metadata": {
        "id": "5WLUcszkg7rT"
      },
      "source": [
        "## Подключение и преднастройка необходимых компонент"
      ]
    },
    {
      "cell_type": "markdown",
      "metadata": {
        "id": "UdrcNFuEdEKH"
      },
      "source": [
        "Подключение Google Drive"
      ]
    },
    {
      "cell_type": "code",
      "execution_count": 1,
      "metadata": {
        "colab": {
          "base_uri": "https://localhost:8080/"
        },
        "id": "VsDiyTaMk1ZM",
        "outputId": "a9b56a99-6539-465c-d6a7-83e66a9aeb63"
      },
      "outputs": [
        {
          "output_type": "stream",
          "name": "stdout",
          "text": [
            "Mounted at /content/drive\n",
            "CPU times: user 1.3 s, sys: 230 ms, total: 1.53 s\n",
            "Wall time: 23.2 s\n"
          ]
        }
      ],
      "source": [
        "%%time\n",
        "# монтируем диск\n",
        "from google.colab import drive\n",
        "drive.mount('/content/drive')"
      ]
    },
    {
      "cell_type": "markdown",
      "metadata": {
        "id": "7GsKPJ4gc-hU"
      },
      "source": [
        "Подключение глобально необходимых библиотек"
      ]
    },
    {
      "cell_type": "code",
      "execution_count": 12,
      "metadata": {
        "id": "SxCtlek8gYa9"
      },
      "outputs": [],
      "source": [
        "# для отрисовки графиков\n",
        "import pandas as pd\n",
        "import numpy as np\n",
        "import os\n",
        "import matplotlib.pyplot as plt\n",
        "import seaborn as sns\n",
        "import random as rand\n",
        "import plotly.express as px\n",
        "\n",
        "# для объединения в одну модель\n",
        "from sklearn.pipeline import Pipeline\n",
        "\n",
        "# для масштабирования\n",
        "from sklearn.preprocessing import StandardScaler\n",
        "from sklearn.preprocessing import MinMaxScaler\n",
        "from sklearn.preprocessing import LabelEncoder\n",
        "\n",
        "# модули оценщика\n",
        "from sklearn.model_selection import GridSearchCV\n",
        "from sklearn.model_selection import RandomizedSearchCV\n",
        "\n",
        "# для вывода результатов\n",
        "from sklearn.model_selection import train_test_split\n",
        "from sklearn.metrics import confusion_matrix, classification_report\n",
        "from sklearn.metrics import accuracy_score, r2_score\n",
        "from sklearn.metrics import mean_absolute_error, mean_squared_error"
      ]
    },
    {
      "cell_type": "markdown",
      "source": [
        "Инициализация константы для random_state"
      ],
      "metadata": {
        "id": "SNhi3OSxZfkN"
      }
    },
    {
      "cell_type": "code",
      "source": [
        "# для повторяемости результатов\n",
        "SEED = 100"
      ],
      "metadata": {
        "id": "YIfRnBzcZkBN"
      },
      "execution_count": 3,
      "outputs": []
    },
    {
      "cell_type": "markdown",
      "metadata": {
        "id": "KfVPsaNXLqZO"
      },
      "source": [
        "Настройка графиков"
      ]
    },
    {
      "cell_type": "code",
      "execution_count": 4,
      "metadata": {
        "id": "gXHhEysMIT1p"
      },
      "outputs": [],
      "source": [
        "# преднастройка графиков\n",
        "plt.style.use(\"fivethirtyeight\")\n",
        "sns.set_style('whitegrid')\n",
        "\n",
        "# чтобы графики были в одном окне\n",
        "%matplotlib inline"
      ]
    },
    {
      "cell_type": "markdown",
      "source": [
        "Установка catboost"
      ],
      "metadata": {
        "id": "2hURhAiUBxgf"
      }
    },
    {
      "cell_type": "code",
      "source": [
        "!pip install catboost"
      ],
      "metadata": {
        "colab": {
          "base_uri": "https://localhost:8080/"
        },
        "id": "Fxw1cKCHBxEv",
        "outputId": "fe470cda-108f-4d72-d2e1-c1efd3b5cd74"
      },
      "execution_count": 5,
      "outputs": [
        {
          "output_type": "stream",
          "name": "stdout",
          "text": [
            "Collecting catboost\n",
            "  Downloading catboost-1.2.5-cp310-cp310-manylinux2014_x86_64.whl (98.2 MB)\n",
            "\u001b[2K     \u001b[90m━━━━━━━━━━━━━━━━━━━━━━━━━━━━━━━━━━━━━━━━\u001b[0m \u001b[32m98.2/98.2 MB\u001b[0m \u001b[31m4.9 MB/s\u001b[0m eta \u001b[36m0:00:00\u001b[0m\n",
            "\u001b[?25hRequirement already satisfied: graphviz in /usr/local/lib/python3.10/dist-packages (from catboost) (0.20.3)\n",
            "Requirement already satisfied: matplotlib in /usr/local/lib/python3.10/dist-packages (from catboost) (3.7.1)\n",
            "Requirement already satisfied: numpy>=1.16.0 in /usr/local/lib/python3.10/dist-packages (from catboost) (1.25.2)\n",
            "Requirement already satisfied: pandas>=0.24 in /usr/local/lib/python3.10/dist-packages (from catboost) (2.0.3)\n",
            "Requirement already satisfied: scipy in /usr/local/lib/python3.10/dist-packages (from catboost) (1.11.4)\n",
            "Requirement already satisfied: plotly in /usr/local/lib/python3.10/dist-packages (from catboost) (5.15.0)\n",
            "Requirement already satisfied: six in /usr/local/lib/python3.10/dist-packages (from catboost) (1.16.0)\n",
            "Requirement already satisfied: python-dateutil>=2.8.2 in /usr/local/lib/python3.10/dist-packages (from pandas>=0.24->catboost) (2.8.2)\n",
            "Requirement already satisfied: pytz>=2020.1 in /usr/local/lib/python3.10/dist-packages (from pandas>=0.24->catboost) (2023.4)\n",
            "Requirement already satisfied: tzdata>=2022.1 in /usr/local/lib/python3.10/dist-packages (from pandas>=0.24->catboost) (2024.1)\n",
            "Requirement already satisfied: contourpy>=1.0.1 in /usr/local/lib/python3.10/dist-packages (from matplotlib->catboost) (1.2.1)\n",
            "Requirement already satisfied: cycler>=0.10 in /usr/local/lib/python3.10/dist-packages (from matplotlib->catboost) (0.12.1)\n",
            "Requirement already satisfied: fonttools>=4.22.0 in /usr/local/lib/python3.10/dist-packages (from matplotlib->catboost) (4.51.0)\n",
            "Requirement already satisfied: kiwisolver>=1.0.1 in /usr/local/lib/python3.10/dist-packages (from matplotlib->catboost) (1.4.5)\n",
            "Requirement already satisfied: packaging>=20.0 in /usr/local/lib/python3.10/dist-packages (from matplotlib->catboost) (24.0)\n",
            "Requirement already satisfied: pillow>=6.2.0 in /usr/local/lib/python3.10/dist-packages (from matplotlib->catboost) (9.4.0)\n",
            "Requirement already satisfied: pyparsing>=2.3.1 in /usr/local/lib/python3.10/dist-packages (from matplotlib->catboost) (3.1.2)\n",
            "Requirement already satisfied: tenacity>=6.2.0 in /usr/local/lib/python3.10/dist-packages (from plotly->catboost) (8.2.3)\n",
            "Installing collected packages: catboost\n",
            "Successfully installed catboost-1.2.5\n"
          ]
        }
      ]
    },
    {
      "cell_type": "markdown",
      "metadata": {
        "id": "KHRcoxp5iIqS"
      },
      "source": [
        "## Загрузка датасета"
      ]
    },
    {
      "cell_type": "markdown",
      "metadata": {
        "id": "wUNS_280H6Ho"
      },
      "source": [
        "Чтение датасета, чтобы к нему можно было обратиться методами sklearn"
      ]
    },
    {
      "cell_type": "code",
      "execution_count": 6,
      "metadata": {
        "id": "dnX3SK-WiL2I"
      },
      "outputs": [],
      "source": [
        "# загружаем данные с Google Drive\n",
        "df = pd.read_csv('/content/drive/MyDrive/AnimeList.csv')"
      ]
    },
    {
      "cell_type": "markdown",
      "metadata": {
        "id": "h9irmNMyHsvO"
      },
      "source": [
        "Проверка типов данных столбцов и того, как их интерпретировал pandas"
      ]
    },
    {
      "cell_type": "code",
      "execution_count": 7,
      "metadata": {
        "id": "n6ff-04mHqCa",
        "colab": {
          "base_uri": "https://localhost:8080/"
        },
        "outputId": "94efe874-88ae-425e-b72e-e9f211caa53b"
      },
      "outputs": [
        {
          "output_type": "stream",
          "name": "stdout",
          "text": [
            "<class 'pandas.core.frame.DataFrame'>\n",
            "RangeIndex: 24985 entries, 0 to 24984\n",
            "Data columns (total 39 columns):\n",
            " #   Column            Non-Null Count  Dtype  \n",
            "---  ------            --------------  -----  \n",
            " 0   anime_id          24985 non-null  int64  \n",
            " 1   title             24985 non-null  object \n",
            " 2   type              24927 non-null  object \n",
            " 3   score             16050 non-null  float64\n",
            " 4   scored_by         24985 non-null  int64  \n",
            " 5   status            24985 non-null  object \n",
            " 6   episodes          24438 non-null  float64\n",
            " 7   start_date        24110 non-null  object \n",
            " 8   end_date          22215 non-null  object \n",
            " 9   source            21424 non-null  object \n",
            " 10  members           24985 non-null  int64  \n",
            " 11  favorites         24985 non-null  int64  \n",
            " 12  episode_duration  24387 non-null  object \n",
            " 13  total_duration    24162 non-null  object \n",
            " 14  rating            24405 non-null  object \n",
            " 15  sfw               24985 non-null  bool   \n",
            " 16  approved          24985 non-null  bool   \n",
            " 17  created_at        24985 non-null  object \n",
            " 18  updated_at        24985 non-null  object \n",
            " 19  start_year        20301 non-null  float64\n",
            " 20  start_season      20301 non-null  object \n",
            " 21  real_start_date   24110 non-null  object \n",
            " 22  real_end_date     22215 non-null  object \n",
            " 23  broadcast_day     3450 non-null   object \n",
            " 24  broadcast_time    3313 non-null   object \n",
            " 25  genres            24985 non-null  object \n",
            " 26  themes            24985 non-null  object \n",
            " 27  demographics      24985 non-null  object \n",
            " 28  studios           24985 non-null  object \n",
            " 29  producers         24985 non-null  object \n",
            " 30  licensors         24985 non-null  object \n",
            " 31  synopsis          20492 non-null  object \n",
            " 32  background        2450 non-null   object \n",
            " 33  main_picture      24831 non-null  object \n",
            " 34  url               24985 non-null  object \n",
            " 35  trailer_url       4724 non-null   object \n",
            " 36  title_english     10402 non-null  object \n",
            " 37  title_japanese    24895 non-null  object \n",
            " 38  title_synonyms    24985 non-null  object \n",
            "dtypes: bool(2), float64(3), int64(4), object(30)\n",
            "memory usage: 7.1+ MB\n"
          ]
        }
      ],
      "source": [
        "# выводим информацию о датасете\n",
        "df.info()"
      ]
    },
    {
      "cell_type": "markdown",
      "metadata": {
        "id": "kY9kDGFJKM2O"
      },
      "source": [
        "Данный объем данных слишком велик для быстрого обучения моделей ресурсами, бесплатно предоставляемым в Google Colab.\n",
        "Поэтому разумно ограничить объем выборки"
      ]
    },
    {
      "cell_type": "code",
      "execution_count": 8,
      "metadata": {
        "id": "mvrSaVmJKjDk",
        "colab": {
          "base_uri": "https://localhost:8080/"
        },
        "outputId": "982b9e30-416b-429b-fed9-1516ed0dddae"
      },
      "outputs": [
        {
          "output_type": "stream",
          "name": "stdout",
          "text": [
            "<class 'pandas.core.frame.DataFrame'>\n",
            "Index: 20000 entries, 10844 to 19496\n",
            "Data columns (total 39 columns):\n",
            " #   Column            Non-Null Count  Dtype  \n",
            "---  ------            --------------  -----  \n",
            " 0   anime_id          20000 non-null  int64  \n",
            " 1   title             20000 non-null  object \n",
            " 2   type              19949 non-null  object \n",
            " 3   score             12855 non-null  float64\n",
            " 4   scored_by         20000 non-null  int64  \n",
            " 5   status            20000 non-null  object \n",
            " 6   episodes          19565 non-null  float64\n",
            " 7   start_date        19304 non-null  object \n",
            " 8   end_date          17784 non-null  object \n",
            " 9   source            17151 non-null  object \n",
            " 10  members           20000 non-null  int64  \n",
            " 11  favorites         20000 non-null  int64  \n",
            " 12  episode_duration  19533 non-null  object \n",
            " 13  total_duration    19346 non-null  object \n",
            " 14  rating            19526 non-null  object \n",
            " 15  sfw               20000 non-null  bool   \n",
            " 16  approved          20000 non-null  bool   \n",
            " 17  created_at        20000 non-null  object \n",
            " 18  updated_at        20000 non-null  object \n",
            " 19  start_year        16261 non-null  float64\n",
            " 20  start_season      16261 non-null  object \n",
            " 21  real_start_date   19304 non-null  object \n",
            " 22  real_end_date     17784 non-null  object \n",
            " 23  broadcast_day     2725 non-null   object \n",
            " 24  broadcast_time    2613 non-null   object \n",
            " 25  genres            20000 non-null  object \n",
            " 26  themes            20000 non-null  object \n",
            " 27  demographics      20000 non-null  object \n",
            " 28  studios           20000 non-null  object \n",
            " 29  producers         20000 non-null  object \n",
            " 30  licensors         20000 non-null  object \n",
            " 31  synopsis          16397 non-null  object \n",
            " 32  background        1995 non-null   object \n",
            " 33  main_picture      19874 non-null  object \n",
            " 34  url               20000 non-null  object \n",
            " 35  trailer_url       3767 non-null   object \n",
            " 36  title_english     8328 non-null   object \n",
            " 37  title_japanese    19930 non-null  object \n",
            " 38  title_synonyms    20000 non-null  object \n",
            "dtypes: bool(2), float64(3), int64(4), object(30)\n",
            "memory usage: 5.8+ MB\n"
          ]
        }
      ],
      "source": [
        "# выбираем случайные 20000 записей со всего датасета\n",
        "# также задаем random_state для повторяемости результатов\n",
        "df = df.sample(n=20000, random_state=SEED)\n",
        "\n",
        "# выводим информацию о датасете\n",
        "df.info()"
      ]
    },
    {
      "cell_type": "markdown",
      "metadata": {
        "id": "mQAjoZgDiOz_"
      },
      "source": [
        "## Анализ датасета"
      ]
    },
    {
      "cell_type": "markdown",
      "metadata": {
        "id": "lJOz_KKOlGUH"
      },
      "source": [
        "### Проверка статистики"
      ]
    },
    {
      "cell_type": "markdown",
      "metadata": {
        "id": "XC5NE8iqICeu"
      },
      "source": [
        "Проверка на наличие отклонений важных характеристик числовых признаков: среднего арифметического, стандартного квадратичного отклонения, перцентилей, а также максимума и минимума"
      ]
    },
    {
      "cell_type": "code",
      "execution_count": 9,
      "metadata": {
        "id": "6mfQeHCwHcse",
        "colab": {
          "base_uri": "https://localhost:8080/",
          "height": 300
        },
        "outputId": "a9f67559-d12d-4f1b-9b0a-af451342b01d"
      },
      "outputs": [
        {
          "output_type": "execute_result",
          "data": {
            "text/plain": [
              "           anime_id         score     scored_by      episodes       members  \\\n",
              "count  20000.000000  12855.000000  2.000000e+04  19565.000000  2.000000e+04   \n",
              "mean   29817.209200      6.418470  1.932610e+04     15.001482  3.771719e+04   \n",
              "std    18025.096493      0.902566  9.806842e+04     49.572439  1.621694e+05   \n",
              "min        5.000000      1.850000  0.000000e+00      1.000000  0.000000e+00   \n",
              "25%    10493.250000      5.790000  5.100000e+01      1.000000  2.210000e+02   \n",
              "50%    34650.000000      6.420000  3.080000e+02      2.000000  1.085000e+03   \n",
              "75%    45329.250000      7.070000  3.383000e+03     13.000000  9.318250e+03   \n",
              "max    56202.000000      9.100000  2.685033e+06   3057.000000  3.779820e+06   \n",
              "\n",
              "           favorites    start_year  \n",
              "count   20000.000000  16261.000000  \n",
              "mean      452.381400   2008.682984  \n",
              "std      4661.403205     13.473318  \n",
              "min         0.000000   1917.000000  \n",
              "25%         0.000000   2003.000000  \n",
              "50%         1.000000   2013.000000  \n",
              "75%        18.000000   2018.000000  \n",
              "max    219036.000000   2025.000000  "
            ],
            "text/html": [
              "\n",
              "  <div id=\"df-299db527-5ffa-461f-b848-f4113add3b84\" class=\"colab-df-container\">\n",
              "    <div>\n",
              "<style scoped>\n",
              "    .dataframe tbody tr th:only-of-type {\n",
              "        vertical-align: middle;\n",
              "    }\n",
              "\n",
              "    .dataframe tbody tr th {\n",
              "        vertical-align: top;\n",
              "    }\n",
              "\n",
              "    .dataframe thead th {\n",
              "        text-align: right;\n",
              "    }\n",
              "</style>\n",
              "<table border=\"1\" class=\"dataframe\">\n",
              "  <thead>\n",
              "    <tr style=\"text-align: right;\">\n",
              "      <th></th>\n",
              "      <th>anime_id</th>\n",
              "      <th>score</th>\n",
              "      <th>scored_by</th>\n",
              "      <th>episodes</th>\n",
              "      <th>members</th>\n",
              "      <th>favorites</th>\n",
              "      <th>start_year</th>\n",
              "    </tr>\n",
              "  </thead>\n",
              "  <tbody>\n",
              "    <tr>\n",
              "      <th>count</th>\n",
              "      <td>20000.000000</td>\n",
              "      <td>12855.000000</td>\n",
              "      <td>2.000000e+04</td>\n",
              "      <td>19565.000000</td>\n",
              "      <td>2.000000e+04</td>\n",
              "      <td>20000.000000</td>\n",
              "      <td>16261.000000</td>\n",
              "    </tr>\n",
              "    <tr>\n",
              "      <th>mean</th>\n",
              "      <td>29817.209200</td>\n",
              "      <td>6.418470</td>\n",
              "      <td>1.932610e+04</td>\n",
              "      <td>15.001482</td>\n",
              "      <td>3.771719e+04</td>\n",
              "      <td>452.381400</td>\n",
              "      <td>2008.682984</td>\n",
              "    </tr>\n",
              "    <tr>\n",
              "      <th>std</th>\n",
              "      <td>18025.096493</td>\n",
              "      <td>0.902566</td>\n",
              "      <td>9.806842e+04</td>\n",
              "      <td>49.572439</td>\n",
              "      <td>1.621694e+05</td>\n",
              "      <td>4661.403205</td>\n",
              "      <td>13.473318</td>\n",
              "    </tr>\n",
              "    <tr>\n",
              "      <th>min</th>\n",
              "      <td>5.000000</td>\n",
              "      <td>1.850000</td>\n",
              "      <td>0.000000e+00</td>\n",
              "      <td>1.000000</td>\n",
              "      <td>0.000000e+00</td>\n",
              "      <td>0.000000</td>\n",
              "      <td>1917.000000</td>\n",
              "    </tr>\n",
              "    <tr>\n",
              "      <th>25%</th>\n",
              "      <td>10493.250000</td>\n",
              "      <td>5.790000</td>\n",
              "      <td>5.100000e+01</td>\n",
              "      <td>1.000000</td>\n",
              "      <td>2.210000e+02</td>\n",
              "      <td>0.000000</td>\n",
              "      <td>2003.000000</td>\n",
              "    </tr>\n",
              "    <tr>\n",
              "      <th>50%</th>\n",
              "      <td>34650.000000</td>\n",
              "      <td>6.420000</td>\n",
              "      <td>3.080000e+02</td>\n",
              "      <td>2.000000</td>\n",
              "      <td>1.085000e+03</td>\n",
              "      <td>1.000000</td>\n",
              "      <td>2013.000000</td>\n",
              "    </tr>\n",
              "    <tr>\n",
              "      <th>75%</th>\n",
              "      <td>45329.250000</td>\n",
              "      <td>7.070000</td>\n",
              "      <td>3.383000e+03</td>\n",
              "      <td>13.000000</td>\n",
              "      <td>9.318250e+03</td>\n",
              "      <td>18.000000</td>\n",
              "      <td>2018.000000</td>\n",
              "    </tr>\n",
              "    <tr>\n",
              "      <th>max</th>\n",
              "      <td>56202.000000</td>\n",
              "      <td>9.100000</td>\n",
              "      <td>2.685033e+06</td>\n",
              "      <td>3057.000000</td>\n",
              "      <td>3.779820e+06</td>\n",
              "      <td>219036.000000</td>\n",
              "      <td>2025.000000</td>\n",
              "    </tr>\n",
              "  </tbody>\n",
              "</table>\n",
              "</div>\n",
              "    <div class=\"colab-df-buttons\">\n",
              "\n",
              "  <div class=\"colab-df-container\">\n",
              "    <button class=\"colab-df-convert\" onclick=\"convertToInteractive('df-299db527-5ffa-461f-b848-f4113add3b84')\"\n",
              "            title=\"Convert this dataframe to an interactive table.\"\n",
              "            style=\"display:none;\">\n",
              "\n",
              "  <svg xmlns=\"http://www.w3.org/2000/svg\" height=\"24px\" viewBox=\"0 -960 960 960\">\n",
              "    <path d=\"M120-120v-720h720v720H120Zm60-500h600v-160H180v160Zm220 220h160v-160H400v160Zm0 220h160v-160H400v160ZM180-400h160v-160H180v160Zm440 0h160v-160H620v160ZM180-180h160v-160H180v160Zm440 0h160v-160H620v160Z\"/>\n",
              "  </svg>\n",
              "    </button>\n",
              "\n",
              "  <style>\n",
              "    .colab-df-container {\n",
              "      display:flex;\n",
              "      gap: 12px;\n",
              "    }\n",
              "\n",
              "    .colab-df-convert {\n",
              "      background-color: #E8F0FE;\n",
              "      border: none;\n",
              "      border-radius: 50%;\n",
              "      cursor: pointer;\n",
              "      display: none;\n",
              "      fill: #1967D2;\n",
              "      height: 32px;\n",
              "      padding: 0 0 0 0;\n",
              "      width: 32px;\n",
              "    }\n",
              "\n",
              "    .colab-df-convert:hover {\n",
              "      background-color: #E2EBFA;\n",
              "      box-shadow: 0px 1px 2px rgba(60, 64, 67, 0.3), 0px 1px 3px 1px rgba(60, 64, 67, 0.15);\n",
              "      fill: #174EA6;\n",
              "    }\n",
              "\n",
              "    .colab-df-buttons div {\n",
              "      margin-bottom: 4px;\n",
              "    }\n",
              "\n",
              "    [theme=dark] .colab-df-convert {\n",
              "      background-color: #3B4455;\n",
              "      fill: #D2E3FC;\n",
              "    }\n",
              "\n",
              "    [theme=dark] .colab-df-convert:hover {\n",
              "      background-color: #434B5C;\n",
              "      box-shadow: 0px 1px 3px 1px rgba(0, 0, 0, 0.15);\n",
              "      filter: drop-shadow(0px 1px 2px rgba(0, 0, 0, 0.3));\n",
              "      fill: #FFFFFF;\n",
              "    }\n",
              "  </style>\n",
              "\n",
              "    <script>\n",
              "      const buttonEl =\n",
              "        document.querySelector('#df-299db527-5ffa-461f-b848-f4113add3b84 button.colab-df-convert');\n",
              "      buttonEl.style.display =\n",
              "        google.colab.kernel.accessAllowed ? 'block' : 'none';\n",
              "\n",
              "      async function convertToInteractive(key) {\n",
              "        const element = document.querySelector('#df-299db527-5ffa-461f-b848-f4113add3b84');\n",
              "        const dataTable =\n",
              "          await google.colab.kernel.invokeFunction('convertToInteractive',\n",
              "                                                    [key], {});\n",
              "        if (!dataTable) return;\n",
              "\n",
              "        const docLinkHtml = 'Like what you see? Visit the ' +\n",
              "          '<a target=\"_blank\" href=https://colab.research.google.com/notebooks/data_table.ipynb>data table notebook</a>'\n",
              "          + ' to learn more about interactive tables.';\n",
              "        element.innerHTML = '';\n",
              "        dataTable['output_type'] = 'display_data';\n",
              "        await google.colab.output.renderOutput(dataTable, element);\n",
              "        const docLink = document.createElement('div');\n",
              "        docLink.innerHTML = docLinkHtml;\n",
              "        element.appendChild(docLink);\n",
              "      }\n",
              "    </script>\n",
              "  </div>\n",
              "\n",
              "\n",
              "<div id=\"df-153143d3-b518-42b2-9049-1bff4baae17c\">\n",
              "  <button class=\"colab-df-quickchart\" onclick=\"quickchart('df-153143d3-b518-42b2-9049-1bff4baae17c')\"\n",
              "            title=\"Suggest charts\"\n",
              "            style=\"display:none;\">\n",
              "\n",
              "<svg xmlns=\"http://www.w3.org/2000/svg\" height=\"24px\"viewBox=\"0 0 24 24\"\n",
              "     width=\"24px\">\n",
              "    <g>\n",
              "        <path d=\"M19 3H5c-1.1 0-2 .9-2 2v14c0 1.1.9 2 2 2h14c1.1 0 2-.9 2-2V5c0-1.1-.9-2-2-2zM9 17H7v-7h2v7zm4 0h-2V7h2v10zm4 0h-2v-4h2v4z\"/>\n",
              "    </g>\n",
              "</svg>\n",
              "  </button>\n",
              "\n",
              "<style>\n",
              "  .colab-df-quickchart {\n",
              "      --bg-color: #E8F0FE;\n",
              "      --fill-color: #1967D2;\n",
              "      --hover-bg-color: #E2EBFA;\n",
              "      --hover-fill-color: #174EA6;\n",
              "      --disabled-fill-color: #AAA;\n",
              "      --disabled-bg-color: #DDD;\n",
              "  }\n",
              "\n",
              "  [theme=dark] .colab-df-quickchart {\n",
              "      --bg-color: #3B4455;\n",
              "      --fill-color: #D2E3FC;\n",
              "      --hover-bg-color: #434B5C;\n",
              "      --hover-fill-color: #FFFFFF;\n",
              "      --disabled-bg-color: #3B4455;\n",
              "      --disabled-fill-color: #666;\n",
              "  }\n",
              "\n",
              "  .colab-df-quickchart {\n",
              "    background-color: var(--bg-color);\n",
              "    border: none;\n",
              "    border-radius: 50%;\n",
              "    cursor: pointer;\n",
              "    display: none;\n",
              "    fill: var(--fill-color);\n",
              "    height: 32px;\n",
              "    padding: 0;\n",
              "    width: 32px;\n",
              "  }\n",
              "\n",
              "  .colab-df-quickchart:hover {\n",
              "    background-color: var(--hover-bg-color);\n",
              "    box-shadow: 0 1px 2px rgba(60, 64, 67, 0.3), 0 1px 3px 1px rgba(60, 64, 67, 0.15);\n",
              "    fill: var(--button-hover-fill-color);\n",
              "  }\n",
              "\n",
              "  .colab-df-quickchart-complete:disabled,\n",
              "  .colab-df-quickchart-complete:disabled:hover {\n",
              "    background-color: var(--disabled-bg-color);\n",
              "    fill: var(--disabled-fill-color);\n",
              "    box-shadow: none;\n",
              "  }\n",
              "\n",
              "  .colab-df-spinner {\n",
              "    border: 2px solid var(--fill-color);\n",
              "    border-color: transparent;\n",
              "    border-bottom-color: var(--fill-color);\n",
              "    animation:\n",
              "      spin 1s steps(1) infinite;\n",
              "  }\n",
              "\n",
              "  @keyframes spin {\n",
              "    0% {\n",
              "      border-color: transparent;\n",
              "      border-bottom-color: var(--fill-color);\n",
              "      border-left-color: var(--fill-color);\n",
              "    }\n",
              "    20% {\n",
              "      border-color: transparent;\n",
              "      border-left-color: var(--fill-color);\n",
              "      border-top-color: var(--fill-color);\n",
              "    }\n",
              "    30% {\n",
              "      border-color: transparent;\n",
              "      border-left-color: var(--fill-color);\n",
              "      border-top-color: var(--fill-color);\n",
              "      border-right-color: var(--fill-color);\n",
              "    }\n",
              "    40% {\n",
              "      border-color: transparent;\n",
              "      border-right-color: var(--fill-color);\n",
              "      border-top-color: var(--fill-color);\n",
              "    }\n",
              "    60% {\n",
              "      border-color: transparent;\n",
              "      border-right-color: var(--fill-color);\n",
              "    }\n",
              "    80% {\n",
              "      border-color: transparent;\n",
              "      border-right-color: var(--fill-color);\n",
              "      border-bottom-color: var(--fill-color);\n",
              "    }\n",
              "    90% {\n",
              "      border-color: transparent;\n",
              "      border-bottom-color: var(--fill-color);\n",
              "    }\n",
              "  }\n",
              "</style>\n",
              "\n",
              "  <script>\n",
              "    async function quickchart(key) {\n",
              "      const quickchartButtonEl =\n",
              "        document.querySelector('#' + key + ' button');\n",
              "      quickchartButtonEl.disabled = true;  // To prevent multiple clicks.\n",
              "      quickchartButtonEl.classList.add('colab-df-spinner');\n",
              "      try {\n",
              "        const charts = await google.colab.kernel.invokeFunction(\n",
              "            'suggestCharts', [key], {});\n",
              "      } catch (error) {\n",
              "        console.error('Error during call to suggestCharts:', error);\n",
              "      }\n",
              "      quickchartButtonEl.classList.remove('colab-df-spinner');\n",
              "      quickchartButtonEl.classList.add('colab-df-quickchart-complete');\n",
              "    }\n",
              "    (() => {\n",
              "      let quickchartButtonEl =\n",
              "        document.querySelector('#df-153143d3-b518-42b2-9049-1bff4baae17c button');\n",
              "      quickchartButtonEl.style.display =\n",
              "        google.colab.kernel.accessAllowed ? 'block' : 'none';\n",
              "    })();\n",
              "  </script>\n",
              "</div>\n",
              "    </div>\n",
              "  </div>\n"
            ],
            "application/vnd.google.colaboratory.intrinsic+json": {
              "type": "dataframe",
              "summary": "{\n  \"name\": \"df\",\n  \"rows\": 8,\n  \"fields\": [\n    {\n      \"column\": \"anime_id\",\n      \"properties\": {\n        \"dtype\": \"number\",\n        \"std\": 18460.985728432275,\n        \"min\": 5.0,\n        \"max\": 56202.0,\n        \"num_unique_values\": 8,\n        \"samples\": [\n          29817.2092,\n          34650.0,\n          20000.0\n        ],\n        \"semantic_type\": \"\",\n        \"description\": \"\"\n      }\n    },\n    {\n      \"column\": \"score\",\n      \"properties\": {\n        \"dtype\": \"number\",\n        \"std\": 4543.033032509419,\n        \"min\": 0.9025664530224127,\n        \"max\": 12855.0,\n        \"num_unique_values\": 8,\n        \"samples\": [\n          6.4184698560871265,\n          6.42,\n          12855.0\n        ],\n        \"semantic_type\": \"\",\n        \"description\": \"\"\n      }\n    },\n    {\n      \"column\": \"scored_by\",\n      \"properties\": {\n        \"dtype\": \"number\",\n        \"std\": 942746.7769249098,\n        \"min\": 0.0,\n        \"max\": 2685033.0,\n        \"num_unique_values\": 8,\n        \"samples\": [\n          19326.0951,\n          308.0,\n          20000.0\n        ],\n        \"semantic_type\": \"\",\n        \"description\": \"\"\n      }\n    },\n    {\n      \"column\": \"episodes\",\n      \"properties\": {\n        \"dtype\": \"number\",\n        \"std\": 6842.157114631707,\n        \"min\": 1.0,\n        \"max\": 19565.0,\n        \"num_unique_values\": 7,\n        \"samples\": [\n          19565.0,\n          15.00148223869154,\n          13.0\n        ],\n        \"semantic_type\": \"\",\n        \"description\": \"\"\n      }\n    },\n    {\n      \"column\": \"members\",\n      \"properties\": {\n        \"dtype\": \"number\",\n        \"std\": 1325836.9122812557,\n        \"min\": 0.0,\n        \"max\": 3779820.0,\n        \"num_unique_values\": 8,\n        \"samples\": [\n          37717.19285,\n          1085.0,\n          20000.0\n        ],\n        \"semantic_type\": \"\",\n        \"description\": \"\"\n      }\n    },\n    {\n      \"column\": \"favorites\",\n      \"properties\": {\n        \"dtype\": \"number\",\n        \"std\": 76481.93393383108,\n        \"min\": 0.0,\n        \"max\": 219036.0,\n        \"num_unique_values\": 7,\n        \"samples\": [\n          20000.0,\n          452.3814,\n          18.0\n        ],\n        \"semantic_type\": \"\",\n        \"description\": \"\"\n      }\n    },\n    {\n      \"column\": \"start_year\",\n      \"properties\": {\n        \"dtype\": \"number\",\n        \"std\": 5189.889022983944,\n        \"min\": 13.473318313354941,\n        \"max\": 16261.0,\n        \"num_unique_values\": 8,\n        \"samples\": [\n          2008.682983826333,\n          2013.0,\n          16261.0\n        ],\n        \"semantic_type\": \"\",\n        \"description\": \"\"\n      }\n    }\n  ]\n}"
            }
          },
          "metadata": {},
          "execution_count": 9
        }
      ],
      "source": [
        "# выводим статистику числовых записей датасета\n",
        "df.describe()"
      ]
    },
    {
      "cell_type": "markdown",
      "metadata": {
        "id": "UXAu9wG5IO9Z"
      },
      "source": [
        "Уточнение показателей для категориальных данных"
      ]
    },
    {
      "cell_type": "code",
      "execution_count": 10,
      "metadata": {
        "id": "NcpCdDfNHGqa",
        "colab": {
          "base_uri": "https://localhost:8080/",
          "height": 311
        },
        "outputId": "98ee596d-e58b-4fe6-c39e-bffe047993f3"
      },
      "outputs": [
        {
          "output_type": "execute_result",
          "data": {
            "text/plain": [
              "          title   type           status  start_date    end_date    source  \\\n",
              "count     20000  19949            20000       19304       17784     17151   \n",
              "unique    19999      6                3        7661        7466        16   \n",
              "top     Urahara     tv  finished_airing  2012-01-01  2019-01-01  original   \n",
              "freq          2   6092            19402         127          69      7810   \n",
              "\n",
              "       episode_duration   total_duration rating    sfw  ... producers  \\\n",
              "count             19533            19346  19526  20000  ...     20000   \n",
              "unique             2715             4818      6      2  ...      3713   \n",
              "top     0 days 00:24:00  0 days 04:48:00  pg_13   True  ...        []   \n",
              "freq                928              267   6818  18757  ...     10644   \n",
              "\n",
              "       licensors             synopsis  \\\n",
              "count      20000                16397   \n",
              "unique       242                16228   \n",
              "top           []  Furukawa Taku film.   \n",
              "freq       16159                   12   \n",
              "\n",
              "                                               background  \\\n",
              "count                                                1995   \n",
              "unique                                               1947   \n",
              "top     The Minna no Uta Hakkutsu Project started in 2...   \n",
              "freq                                                    5   \n",
              "\n",
              "                                             main_picture  \\\n",
              "count                                               19874   \n",
              "unique                                              19874   \n",
              "top     https://cdn.myanimelist.net/images/anime/1515/...   \n",
              "freq                                                    1   \n",
              "\n",
              "                                                      url  \\\n",
              "count                                               20000   \n",
              "unique                                              20000   \n",
              "top     https://myanimelist.net/anime/51045/Sode_no_Quilt   \n",
              "freq                                                    1   \n",
              "\n",
              "                                        trailer_url     title_english  \\\n",
              "count                                          3767              8328   \n",
              "unique                                         3750              8200   \n",
              "top     https://www.youtube.com/watch?v=9GVMoxhtrY8  Spirit Guardians   \n",
              "freq                                              3                 5   \n",
              "\n",
              "       title_japanese title_synonyms  \n",
              "count           19930          20000  \n",
              "unique          19280           9797  \n",
              "top           おしりたんてい             []  \n",
              "freq                7           9638  \n",
              "\n",
              "[4 rows x 32 columns]"
            ],
            "text/html": [
              "\n",
              "  <div id=\"df-ef076364-8342-4d2e-b996-0ba47da4d9f2\" class=\"colab-df-container\">\n",
              "    <div>\n",
              "<style scoped>\n",
              "    .dataframe tbody tr th:only-of-type {\n",
              "        vertical-align: middle;\n",
              "    }\n",
              "\n",
              "    .dataframe tbody tr th {\n",
              "        vertical-align: top;\n",
              "    }\n",
              "\n",
              "    .dataframe thead th {\n",
              "        text-align: right;\n",
              "    }\n",
              "</style>\n",
              "<table border=\"1\" class=\"dataframe\">\n",
              "  <thead>\n",
              "    <tr style=\"text-align: right;\">\n",
              "      <th></th>\n",
              "      <th>title</th>\n",
              "      <th>type</th>\n",
              "      <th>status</th>\n",
              "      <th>start_date</th>\n",
              "      <th>end_date</th>\n",
              "      <th>source</th>\n",
              "      <th>episode_duration</th>\n",
              "      <th>total_duration</th>\n",
              "      <th>rating</th>\n",
              "      <th>sfw</th>\n",
              "      <th>...</th>\n",
              "      <th>producers</th>\n",
              "      <th>licensors</th>\n",
              "      <th>synopsis</th>\n",
              "      <th>background</th>\n",
              "      <th>main_picture</th>\n",
              "      <th>url</th>\n",
              "      <th>trailer_url</th>\n",
              "      <th>title_english</th>\n",
              "      <th>title_japanese</th>\n",
              "      <th>title_synonyms</th>\n",
              "    </tr>\n",
              "  </thead>\n",
              "  <tbody>\n",
              "    <tr>\n",
              "      <th>count</th>\n",
              "      <td>20000</td>\n",
              "      <td>19949</td>\n",
              "      <td>20000</td>\n",
              "      <td>19304</td>\n",
              "      <td>17784</td>\n",
              "      <td>17151</td>\n",
              "      <td>19533</td>\n",
              "      <td>19346</td>\n",
              "      <td>19526</td>\n",
              "      <td>20000</td>\n",
              "      <td>...</td>\n",
              "      <td>20000</td>\n",
              "      <td>20000</td>\n",
              "      <td>16397</td>\n",
              "      <td>1995</td>\n",
              "      <td>19874</td>\n",
              "      <td>20000</td>\n",
              "      <td>3767</td>\n",
              "      <td>8328</td>\n",
              "      <td>19930</td>\n",
              "      <td>20000</td>\n",
              "    </tr>\n",
              "    <tr>\n",
              "      <th>unique</th>\n",
              "      <td>19999</td>\n",
              "      <td>6</td>\n",
              "      <td>3</td>\n",
              "      <td>7661</td>\n",
              "      <td>7466</td>\n",
              "      <td>16</td>\n",
              "      <td>2715</td>\n",
              "      <td>4818</td>\n",
              "      <td>6</td>\n",
              "      <td>2</td>\n",
              "      <td>...</td>\n",
              "      <td>3713</td>\n",
              "      <td>242</td>\n",
              "      <td>16228</td>\n",
              "      <td>1947</td>\n",
              "      <td>19874</td>\n",
              "      <td>20000</td>\n",
              "      <td>3750</td>\n",
              "      <td>8200</td>\n",
              "      <td>19280</td>\n",
              "      <td>9797</td>\n",
              "    </tr>\n",
              "    <tr>\n",
              "      <th>top</th>\n",
              "      <td>Urahara</td>\n",
              "      <td>tv</td>\n",
              "      <td>finished_airing</td>\n",
              "      <td>2012-01-01</td>\n",
              "      <td>2019-01-01</td>\n",
              "      <td>original</td>\n",
              "      <td>0 days 00:24:00</td>\n",
              "      <td>0 days 04:48:00</td>\n",
              "      <td>pg_13</td>\n",
              "      <td>True</td>\n",
              "      <td>...</td>\n",
              "      <td>[]</td>\n",
              "      <td>[]</td>\n",
              "      <td>Furukawa Taku film.</td>\n",
              "      <td>The Minna no Uta Hakkutsu Project started in 2...</td>\n",
              "      <td>https://cdn.myanimelist.net/images/anime/1515/...</td>\n",
              "      <td>https://myanimelist.net/anime/51045/Sode_no_Quilt</td>\n",
              "      <td>https://www.youtube.com/watch?v=9GVMoxhtrY8</td>\n",
              "      <td>Spirit Guardians</td>\n",
              "      <td>おしりたんてい</td>\n",
              "      <td>[]</td>\n",
              "    </tr>\n",
              "    <tr>\n",
              "      <th>freq</th>\n",
              "      <td>2</td>\n",
              "      <td>6092</td>\n",
              "      <td>19402</td>\n",
              "      <td>127</td>\n",
              "      <td>69</td>\n",
              "      <td>7810</td>\n",
              "      <td>928</td>\n",
              "      <td>267</td>\n",
              "      <td>6818</td>\n",
              "      <td>18757</td>\n",
              "      <td>...</td>\n",
              "      <td>10644</td>\n",
              "      <td>16159</td>\n",
              "      <td>12</td>\n",
              "      <td>5</td>\n",
              "      <td>1</td>\n",
              "      <td>1</td>\n",
              "      <td>3</td>\n",
              "      <td>5</td>\n",
              "      <td>7</td>\n",
              "      <td>9638</td>\n",
              "    </tr>\n",
              "  </tbody>\n",
              "</table>\n",
              "<p>4 rows × 32 columns</p>\n",
              "</div>\n",
              "    <div class=\"colab-df-buttons\">\n",
              "\n",
              "  <div class=\"colab-df-container\">\n",
              "    <button class=\"colab-df-convert\" onclick=\"convertToInteractive('df-ef076364-8342-4d2e-b996-0ba47da4d9f2')\"\n",
              "            title=\"Convert this dataframe to an interactive table.\"\n",
              "            style=\"display:none;\">\n",
              "\n",
              "  <svg xmlns=\"http://www.w3.org/2000/svg\" height=\"24px\" viewBox=\"0 -960 960 960\">\n",
              "    <path d=\"M120-120v-720h720v720H120Zm60-500h600v-160H180v160Zm220 220h160v-160H400v160Zm0 220h160v-160H400v160ZM180-400h160v-160H180v160Zm440 0h160v-160H620v160ZM180-180h160v-160H180v160Zm440 0h160v-160H620v160Z\"/>\n",
              "  </svg>\n",
              "    </button>\n",
              "\n",
              "  <style>\n",
              "    .colab-df-container {\n",
              "      display:flex;\n",
              "      gap: 12px;\n",
              "    }\n",
              "\n",
              "    .colab-df-convert {\n",
              "      background-color: #E8F0FE;\n",
              "      border: none;\n",
              "      border-radius: 50%;\n",
              "      cursor: pointer;\n",
              "      display: none;\n",
              "      fill: #1967D2;\n",
              "      height: 32px;\n",
              "      padding: 0 0 0 0;\n",
              "      width: 32px;\n",
              "    }\n",
              "\n",
              "    .colab-df-convert:hover {\n",
              "      background-color: #E2EBFA;\n",
              "      box-shadow: 0px 1px 2px rgba(60, 64, 67, 0.3), 0px 1px 3px 1px rgba(60, 64, 67, 0.15);\n",
              "      fill: #174EA6;\n",
              "    }\n",
              "\n",
              "    .colab-df-buttons div {\n",
              "      margin-bottom: 4px;\n",
              "    }\n",
              "\n",
              "    [theme=dark] .colab-df-convert {\n",
              "      background-color: #3B4455;\n",
              "      fill: #D2E3FC;\n",
              "    }\n",
              "\n",
              "    [theme=dark] .colab-df-convert:hover {\n",
              "      background-color: #434B5C;\n",
              "      box-shadow: 0px 1px 3px 1px rgba(0, 0, 0, 0.15);\n",
              "      filter: drop-shadow(0px 1px 2px rgba(0, 0, 0, 0.3));\n",
              "      fill: #FFFFFF;\n",
              "    }\n",
              "  </style>\n",
              "\n",
              "    <script>\n",
              "      const buttonEl =\n",
              "        document.querySelector('#df-ef076364-8342-4d2e-b996-0ba47da4d9f2 button.colab-df-convert');\n",
              "      buttonEl.style.display =\n",
              "        google.colab.kernel.accessAllowed ? 'block' : 'none';\n",
              "\n",
              "      async function convertToInteractive(key) {\n",
              "        const element = document.querySelector('#df-ef076364-8342-4d2e-b996-0ba47da4d9f2');\n",
              "        const dataTable =\n",
              "          await google.colab.kernel.invokeFunction('convertToInteractive',\n",
              "                                                    [key], {});\n",
              "        if (!dataTable) return;\n",
              "\n",
              "        const docLinkHtml = 'Like what you see? Visit the ' +\n",
              "          '<a target=\"_blank\" href=https://colab.research.google.com/notebooks/data_table.ipynb>data table notebook</a>'\n",
              "          + ' to learn more about interactive tables.';\n",
              "        element.innerHTML = '';\n",
              "        dataTable['output_type'] = 'display_data';\n",
              "        await google.colab.output.renderOutput(dataTable, element);\n",
              "        const docLink = document.createElement('div');\n",
              "        docLink.innerHTML = docLinkHtml;\n",
              "        element.appendChild(docLink);\n",
              "      }\n",
              "    </script>\n",
              "  </div>\n",
              "\n",
              "\n",
              "<div id=\"df-20b2259d-f920-46a0-90ee-d519f85a25a4\">\n",
              "  <button class=\"colab-df-quickchart\" onclick=\"quickchart('df-20b2259d-f920-46a0-90ee-d519f85a25a4')\"\n",
              "            title=\"Suggest charts\"\n",
              "            style=\"display:none;\">\n",
              "\n",
              "<svg xmlns=\"http://www.w3.org/2000/svg\" height=\"24px\"viewBox=\"0 0 24 24\"\n",
              "     width=\"24px\">\n",
              "    <g>\n",
              "        <path d=\"M19 3H5c-1.1 0-2 .9-2 2v14c0 1.1.9 2 2 2h14c1.1 0 2-.9 2-2V5c0-1.1-.9-2-2-2zM9 17H7v-7h2v7zm4 0h-2V7h2v10zm4 0h-2v-4h2v4z\"/>\n",
              "    </g>\n",
              "</svg>\n",
              "  </button>\n",
              "\n",
              "<style>\n",
              "  .colab-df-quickchart {\n",
              "      --bg-color: #E8F0FE;\n",
              "      --fill-color: #1967D2;\n",
              "      --hover-bg-color: #E2EBFA;\n",
              "      --hover-fill-color: #174EA6;\n",
              "      --disabled-fill-color: #AAA;\n",
              "      --disabled-bg-color: #DDD;\n",
              "  }\n",
              "\n",
              "  [theme=dark] .colab-df-quickchart {\n",
              "      --bg-color: #3B4455;\n",
              "      --fill-color: #D2E3FC;\n",
              "      --hover-bg-color: #434B5C;\n",
              "      --hover-fill-color: #FFFFFF;\n",
              "      --disabled-bg-color: #3B4455;\n",
              "      --disabled-fill-color: #666;\n",
              "  }\n",
              "\n",
              "  .colab-df-quickchart {\n",
              "    background-color: var(--bg-color);\n",
              "    border: none;\n",
              "    border-radius: 50%;\n",
              "    cursor: pointer;\n",
              "    display: none;\n",
              "    fill: var(--fill-color);\n",
              "    height: 32px;\n",
              "    padding: 0;\n",
              "    width: 32px;\n",
              "  }\n",
              "\n",
              "  .colab-df-quickchart:hover {\n",
              "    background-color: var(--hover-bg-color);\n",
              "    box-shadow: 0 1px 2px rgba(60, 64, 67, 0.3), 0 1px 3px 1px rgba(60, 64, 67, 0.15);\n",
              "    fill: var(--button-hover-fill-color);\n",
              "  }\n",
              "\n",
              "  .colab-df-quickchart-complete:disabled,\n",
              "  .colab-df-quickchart-complete:disabled:hover {\n",
              "    background-color: var(--disabled-bg-color);\n",
              "    fill: var(--disabled-fill-color);\n",
              "    box-shadow: none;\n",
              "  }\n",
              "\n",
              "  .colab-df-spinner {\n",
              "    border: 2px solid var(--fill-color);\n",
              "    border-color: transparent;\n",
              "    border-bottom-color: var(--fill-color);\n",
              "    animation:\n",
              "      spin 1s steps(1) infinite;\n",
              "  }\n",
              "\n",
              "  @keyframes spin {\n",
              "    0% {\n",
              "      border-color: transparent;\n",
              "      border-bottom-color: var(--fill-color);\n",
              "      border-left-color: var(--fill-color);\n",
              "    }\n",
              "    20% {\n",
              "      border-color: transparent;\n",
              "      border-left-color: var(--fill-color);\n",
              "      border-top-color: var(--fill-color);\n",
              "    }\n",
              "    30% {\n",
              "      border-color: transparent;\n",
              "      border-left-color: var(--fill-color);\n",
              "      border-top-color: var(--fill-color);\n",
              "      border-right-color: var(--fill-color);\n",
              "    }\n",
              "    40% {\n",
              "      border-color: transparent;\n",
              "      border-right-color: var(--fill-color);\n",
              "      border-top-color: var(--fill-color);\n",
              "    }\n",
              "    60% {\n",
              "      border-color: transparent;\n",
              "      border-right-color: var(--fill-color);\n",
              "    }\n",
              "    80% {\n",
              "      border-color: transparent;\n",
              "      border-right-color: var(--fill-color);\n",
              "      border-bottom-color: var(--fill-color);\n",
              "    }\n",
              "    90% {\n",
              "      border-color: transparent;\n",
              "      border-bottom-color: var(--fill-color);\n",
              "    }\n",
              "  }\n",
              "</style>\n",
              "\n",
              "  <script>\n",
              "    async function quickchart(key) {\n",
              "      const quickchartButtonEl =\n",
              "        document.querySelector('#' + key + ' button');\n",
              "      quickchartButtonEl.disabled = true;  // To prevent multiple clicks.\n",
              "      quickchartButtonEl.classList.add('colab-df-spinner');\n",
              "      try {\n",
              "        const charts = await google.colab.kernel.invokeFunction(\n",
              "            'suggestCharts', [key], {});\n",
              "      } catch (error) {\n",
              "        console.error('Error during call to suggestCharts:', error);\n",
              "      }\n",
              "      quickchartButtonEl.classList.remove('colab-df-spinner');\n",
              "      quickchartButtonEl.classList.add('colab-df-quickchart-complete');\n",
              "    }\n",
              "    (() => {\n",
              "      let quickchartButtonEl =\n",
              "        document.querySelector('#df-20b2259d-f920-46a0-90ee-d519f85a25a4 button');\n",
              "      quickchartButtonEl.style.display =\n",
              "        google.colab.kernel.accessAllowed ? 'block' : 'none';\n",
              "    })();\n",
              "  </script>\n",
              "</div>\n",
              "    </div>\n",
              "  </div>\n"
            ],
            "application/vnd.google.colaboratory.intrinsic+json": {
              "type": "dataframe"
            }
          },
          "metadata": {},
          "execution_count": 10
        }
      ],
      "source": [
        "# выводим статистику категориальных записей датасета\n",
        "df.describe(include = [object, 'bool'])"
      ]
    },
    {
      "cell_type": "markdown",
      "metadata": {
        "id": "WPSp0NP7kYiV"
      },
      "source": [
        "Проверка статистики по \"типу\" аниме"
      ]
    },
    {
      "cell_type": "code",
      "execution_count": 14,
      "metadata": {
        "id": "k0owGwzukesY",
        "colab": {
          "base_uri": "https://localhost:8080/",
          "height": 542
        },
        "outputId": "ee4f0077-43c8-4318-c295-eb1793ee4887"
      },
      "outputs": [
        {
          "output_type": "display_data",
          "data": {
            "text/html": [
              "<html>\n",
              "<head><meta charset=\"utf-8\" /></head>\n",
              "<body>\n",
              "    <div>            <script src=\"https://cdnjs.cloudflare.com/ajax/libs/mathjax/2.7.5/MathJax.js?config=TeX-AMS-MML_SVG\"></script><script type=\"text/javascript\">if (window.MathJax && window.MathJax.Hub && window.MathJax.Hub.Config) {window.MathJax.Hub.Config({SVG: {font: \"STIX-Web\"}});}</script>                <script type=\"text/javascript\">window.PlotlyConfig = {MathJaxConfig: 'local'};</script>\n",
              "        <script charset=\"utf-8\" src=\"https://cdn.plot.ly/plotly-2.24.1.min.js\"></script>                <div id=\"c9aeb447-5b26-4766-a800-81067939f510\" class=\"plotly-graph-div\" style=\"height:525px; width:100%;\"></div>            <script type=\"text/javascript\">                                    window.PLOTLYENV=window.PLOTLYENV || {};                                    if (document.getElementById(\"c9aeb447-5b26-4766-a800-81067939f510\")) {                    Plotly.newPlot(                        \"c9aeb447-5b26-4766-a800-81067939f510\",                        [{\"domain\":{\"x\":[0.0,1.0],\"y\":[0.0,1.0]},\"hovertemplate\":\"type=%{label}\\u003cextra\\u003e\\u003c\\u002fextra\\u003e\",\"labels\":[\"music\",\"music\",\"ova\",\"ona\",\"movie\",\"music\",\"tv\",\"ova\",\"movie\",\"ona\",\"music\",\"ova\",\"ona\",\"ona\",\"music\",\"tv\",\"movie\",\"special\",\"ova\",null,\"tv\",\"movie\",\"ona\",\"tv\",\"movie\",\"tv\",\"tv\",\"music\",\"tv\",\"special\",\"movie\",\"tv\",\"tv\",\"tv\",\"movie\",\"ova\",\"ova\",\"music\",\"ova\",\"movie\",\"movie\",\"movie\",\"tv\",\"movie\",\"tv\",\"movie\",\"ona\",\"tv\",\"special\",\"ona\",\"special\",\"special\",\"tv\",\"tv\",\"special\",\"movie\",\"tv\",\"tv\",\"ova\",\"tv\",\"tv\",\"ona\",\"movie\",\"movie\",\"special\",\"tv\",\"tv\",\"tv\",\"music\",\"tv\",\"tv\",\"tv\",\"ona\",\"ona\",\"movie\",\"tv\",\"tv\",\"tv\",\"ova\",\"tv\",\"ona\",\"ova\",\"music\",\"ona\",\"movie\",\"tv\",\"special\",\"tv\",\"movie\",\"ova\",\"tv\",\"ova\",\"movie\",\"ona\",\"tv\",\"movie\",\"ova\",\"movie\",\"tv\",\"tv\",\"movie\",\"tv\",\"music\",\"tv\",\"tv\",\"tv\",\"tv\",\"music\",\"music\",\"ova\",\"ona\",\"music\",\"movie\",\"movie\",\"music\",\"ona\",\"ova\",\"movie\",\"music\",\"ova\",\"ona\",\"movie\",\"ova\",\"ova\",\"tv\",\"tv\",\"tv\",\"tv\",\"movie\",\"special\",\"tv\",\"music\",\"movie\",\"music\",\"ova\",\"special\",\"movie\",\"music\",\"movie\",\"ona\",\"tv\",\"ona\",\"music\",\"special\",\"movie\",\"music\",\"tv\",\"tv\",\"special\",\"ona\",\"movie\",\"special\",\"special\",\"special\",\"ova\",\"ova\",\"tv\",\"tv\",\"ova\",\"ona\",\"tv\",\"tv\",\"special\",\"tv\",\"movie\",\"special\",\"movie\",\"ova\",\"ona\",\"movie\",\"ova\",\"ova\",\"tv\",\"special\",\"movie\",null,\"tv\",\"movie\",\"movie\",\"ona\",\"special\",\"music\",\"tv\",\"music\",\"music\",\"tv\",\"ova\",\"ova\",\"tv\",\"ona\",\"tv\",\"ona\",\"tv\",\"special\",\"music\",\"ona\",\"tv\",\"tv\",\"tv\",\"special\",\"ova\",\"tv\",\"ova\",\"ona\",\"ona\",\"ona\",\"tv\",\"ona\",\"tv\",\"special\",\"tv\",\"ova\",\"ona\",\"tv\",\"tv\",\"movie\",\"special\",\"music\",\"tv\",\"movie\",\"ona\",\"ova\",\"special\",\"tv\",\"movie\",\"ona\",\"movie\",\"music\",\"movie\",\"movie\",\"ona\",\"movie\",\"movie\",\"tv\",\"ova\",\"music\",\"ova\",\"tv\",\"ova\",\"special\",\"ona\",\"tv\",\"movie\",\"tv\",\"ona\",\"movie\",\"ona\",\"ova\",\"movie\",\"movie\",\"ova\",\"ona\",\"ova\",\"ova\",\"movie\",\"tv\",\"tv\",\"movie\",\"ova\",\"ona\",\"movie\",\"music\",\"ona\",\"tv\",\"tv\",\"music\",\"tv\",\"movie\",\"movie\",\"special\",\"movie\",\"music\",\"tv\",\"tv\",\"ova\",\"movie\",\"movie\",\"movie\",\"music\",\"music\",\"special\",\"tv\",\"ova\",\"tv\",\"ona\",\"tv\",\"music\",\"ova\",\"movie\",\"tv\",\"special\",\"tv\",\"ona\",\"tv\",\"special\",\"tv\",\"tv\",\"music\",\"special\",\"tv\",\"music\",\"ova\",\"ova\",\"tv\",\"movie\",\"special\",\"ona\",\"ona\",\"ona\",\"movie\",\"tv\",\"tv\",\"music\",\"special\",\"ova\",\"music\",\"movie\",\"music\",\"tv\",\"ova\",\"movie\",\"ona\",\"ova\",\"special\",\"tv\",\"movie\",\"ona\",\"tv\",\"tv\",\"tv\",\"movie\",\"music\",\"ova\",\"tv\",\"tv\",\"special\",\"movie\",\"movie\",\"ona\",\"ova\",\"special\",\"tv\",\"movie\",\"tv\",\"special\",\"tv\",\"tv\",\"movie\",\"movie\",\"ova\",\"ova\",\"tv\",\"tv\",\"special\",\"tv\",\"music\",\"ona\",\"tv\",\"tv\",\"tv\",\"special\",\"ona\",\"movie\",\"tv\",\"movie\",\"movie\",\"ova\",\"special\",\"tv\",\"tv\",\"tv\",\"music\",\"special\",\"tv\",\"ova\",\"ona\",\"special\",\"tv\",\"ona\",\"ova\",\"movie\",\"ova\",\"ova\",\"movie\",\"tv\",\"tv\",\"music\",\"tv\",\"movie\",\"movie\",\"tv\",\"movie\",\"ona\",\"movie\",\"ona\",\"ova\",\"tv\",\"tv\",\"music\",\"movie\",\"ova\",\"tv\",\"special\",\"tv\",\"tv\",\"ona\",\"ova\",\"movie\",\"special\",\"ova\",\"tv\",\"movie\",\"special\",\"music\",\"tv\",\"tv\",\"ova\",\"tv\",\"tv\",\"tv\",\"ona\",\"ona\",\"ona\",\"movie\",\"tv\",\"music\",\"tv\",\"ona\",\"tv\",\"ova\",\"ona\",\"special\",\"tv\",\"ova\",\"tv\",\"special\",\"tv\",\"ova\",\"tv\",\"movie\",\"ova\",\"movie\",\"music\",\"movie\",\"ona\",\"movie\",\"tv\",\"ona\",\"movie\",\"ona\",\"ova\",\"movie\",\"music\",\"tv\",\"tv\",\"special\",\"music\",\"tv\",\"ona\",\"tv\",\"movie\",\"tv\",\"tv\",\"movie\",\"ona\",\"music\",\"tv\",\"movie\",\"music\",\"ona\",\"movie\",\"ona\",\"movie\",\"tv\",\"ova\",\"tv\",\"tv\",\"movie\",\"tv\",\"music\",\"music\",\"tv\",\"ova\",\"ova\",\"movie\",\"ova\",\"tv\",\"ona\",\"movie\",\"special\",\"ona\",\"special\",\"special\",\"ona\",\"ona\",\"tv\",\"tv\",\"ova\",\"ova\",\"movie\",\"ova\",\"ona\",\"ova\",\"ona\",\"music\",\"tv\",\"tv\",null,\"special\",\"music\",\"tv\",\"special\",\"tv\",\"music\",\"ona\",\"ova\",\"ova\",\"ova\",\"music\",\"tv\",\"special\",\"tv\",\"tv\",\"ova\",\"tv\",\"ova\",\"ova\",\"special\",\"music\",\"music\",\"tv\",\"special\",\"ova\",\"special\",\"movie\",\"tv\",\"special\",\"music\",\"tv\",\"movie\",\"ova\",\"music\",\"music\",\"movie\",\"special\",\"tv\",\"special\",\"movie\",\"special\",\"movie\",\"movie\",\"movie\",\"tv\",\"tv\",\"special\",\"tv\",\"tv\",\"ona\",\"music\",\"ova\",\"music\",\"tv\",\"movie\",\"movie\",\"ona\",\"tv\",\"ova\",\"tv\",\"movie\",\"ona\",\"special\",\"tv\",\"movie\",\"music\",\"music\",\"tv\",\"movie\",\"tv\",\"ona\",\"special\",\"tv\",\"music\",\"music\",\"ova\",\"tv\",\"ova\",\"ova\",\"ova\",\"tv\",\"special\",\"music\",\"movie\",\"tv\",\"movie\",\"movie\",\"music\",\"movie\",\"special\",\"movie\",\"ona\",\"music\",\"movie\",\"ona\",\"special\",\"movie\",\"tv\",\"tv\",\"music\",\"ova\",\"tv\",\"movie\",\"ona\",\"ona\",\"ona\",\"tv\",\"special\",\"tv\",\"ova\",\"ona\",\"tv\",\"tv\",\"movie\",\"ova\",\"movie\",\"special\",\"movie\",\"ona\",\"movie\",\"ova\",\"ona\",\"ona\",\"special\",\"movie\",\"tv\",\"ova\",\"movie\",\"ova\",\"ona\",\"ona\",\"tv\",\"ova\",\"ona\",\"special\",\"special\",\"special\",\"movie\",\"tv\",\"tv\",\"special\",\"tv\",\"movie\",\"tv\",\"tv\",\"special\",\"movie\",\"movie\",\"tv\",\"ova\",\"special\",\"ova\",\"music\",\"tv\",\"tv\",\"tv\",\"tv\",\"tv\",\"tv\",\"music\",\"special\",\"tv\",\"ona\",\"tv\",\"tv\",\"movie\",\"movie\",\"tv\",\"music\",\"tv\",\"ova\",\"ova\",\"tv\",\"tv\",\"movie\",\"movie\",\"music\",\"tv\",\"tv\",\"tv\",\"ona\",\"music\",\"tv\",\"music\",\"tv\",\"tv\",\"movie\",\"special\",\"ova\",\"music\",\"special\",\"tv\",\"music\",\"tv\",\"tv\",\"ova\",\"ona\",\"tv\",\"movie\",\"ova\",\"tv\",\"movie\",\"tv\",\"tv\",\"ova\",\"tv\",\"ona\",\"special\",\"movie\",\"tv\",\"music\",\"movie\",\"ona\",\"tv\",\"tv\",\"special\",\"tv\",\"movie\",\"music\",\"music\",\"ona\",\"ona\",\"special\",\"tv\",\"ona\",\"tv\",\"tv\",\"ona\",\"ona\",\"tv\",\"ova\",\"music\",\"ona\",\"ona\",\"tv\",\"ova\",\"movie\",\"ona\",\"ova\",\"ova\",\"special\",\"ova\",\"ona\",\"tv\",\"ova\",\"special\",\"tv\",\"ova\",\"music\",\"tv\",\"music\",\"music\",\"ova\",\"tv\",\"ova\",\"tv\",\"tv\",\"tv\",\"tv\",\"tv\",\"movie\",\"ona\",\"tv\",\"ova\",\"movie\",\"tv\",\"tv\",\"ona\",\"music\",\"tv\",\"ova\",\"tv\",\"movie\",\"special\",\"ona\",\"ova\",\"ona\",\"ova\",\"ova\",\"movie\",\"music\",\"tv\",\"ona\",\"special\",\"special\",\"ova\",\"movie\",\"music\",\"tv\",\"music\",\"tv\",\"movie\",\"tv\",\"tv\",\"movie\",\"movie\",\"ona\",\"tv\",\"tv\",\"tv\",\"tv\",\"tv\",\"ova\",\"tv\",\"tv\",\"music\",\"movie\",\"special\",\"ova\",\"movie\",\"movie\",\"special\",\"tv\",\"movie\",\"special\",\"special\",\"movie\",\"ona\",\"ona\",\"tv\",\"ova\",\"tv\",\"ova\",\"music\",\"special\",\"music\",\"tv\",\"ona\",\"movie\",\"special\",\"ova\",\"ona\",\"movie\",\"ova\",\"ova\",\"ova\",\"ona\",\"tv\",\"tv\",\"special\",\"special\",\"ova\",\"ona\",\"ona\",\"tv\",\"tv\",\"music\",\"music\",\"tv\",\"movie\",\"tv\",\"movie\",\"tv\",\"special\",\"tv\",\"music\",\"ona\",\"ova\",\"music\",\"ona\",\"tv\",\"tv\",\"ona\",\"ova\",\"tv\",\"music\",\"ona\",\"music\",\"special\",\"ova\",\"ova\",\"tv\",\"tv\",\"music\",\"ona\",\"movie\",\"tv\",\"tv\",\"tv\",\"tv\",\"ona\",\"ona\",\"tv\",\"music\",\"tv\",\"tv\",\"ova\",\"ova\",\"movie\",\"tv\",\"movie\",\"music\",\"special\",\"tv\",\"music\",\"ova\",\"ova\",\"ona\",\"ova\",\"ova\",\"ona\",\"tv\",\"music\",\"ova\",\"tv\",\"movie\",\"ova\",\"music\",\"tv\",\"tv\",\"ova\",\"ova\",\"tv\",\"ona\",\"tv\",\"tv\",\"tv\",\"tv\",\"tv\",\"music\",\"movie\",\"tv\",\"movie\",\"movie\",\"ona\",\"ona\",\"music\",\"special\",\"ona\",\"tv\",\"movie\",\"ova\",\"tv\",\"ova\",\"tv\",\"ova\",\"tv\",\"movie\",\"movie\",\"ona\",\"movie\",\"ona\",\"music\",\"ova\",\"ona\",\"ova\",\"tv\",\"ova\",\"tv\",\"tv\",\"movie\",\"tv\",\"ona\",\"tv\",\"tv\",\"ona\",\"tv\",\"ona\",\"tv\",\"tv\",\"tv\",\"tv\",\"special\",\"ona\",\"ova\",\"movie\",\"ova\",\"ona\",\"movie\",\"tv\",\"music\",\"tv\",\"tv\",\"ona\",\"ona\",\"tv\",\"ona\",\"music\",\"special\",\"ova\",\"music\",\"music\",\"tv\",\"tv\",\"movie\",\"ona\",\"tv\",\"ona\",\"tv\",\"music\",\"tv\",\"special\",\"tv\",\"tv\",\"ova\",\"special\",\"ova\",\"ova\",\"ova\",\"ova\",\"ona\",\"ova\",\"music\",\"ona\",\"ova\",\"movie\",\"special\",\"tv\",\"ona\",\"ona\",\"tv\",\"movie\",\"movie\",\"tv\",\"special\",\"tv\",\"tv\",\"ona\",\"tv\",\"ova\",\"music\",\"tv\",\"movie\",\"ona\",\"tv\",\"music\",\"tv\",\"tv\",\"music\",\"ova\",\"tv\",\"movie\",\"ova\",\"movie\",\"tv\",\"special\",\"ova\",\"movie\",\"ova\",\"movie\",\"special\",\"ova\",\"ona\",\"special\",\"tv\",\"movie\",\"ova\",\"tv\",\"ona\",\"tv\",\"ona\",\"ova\",\"movie\",\"movie\",\"music\",\"ona\",\"movie\",\"ova\",\"tv\",\"music\",\"special\",\"tv\",\"ova\",\"special\",\"tv\",\"ona\",\"movie\",\"special\",\"ova\",\"tv\",\"tv\",\"ova\",\"ona\",\"music\",\"movie\",\"ova\",\"special\",\"ova\",\"music\",\"ona\",\"tv\",\"movie\",\"music\",\"tv\",\"tv\",\"ova\",\"ova\",\"ona\",\"tv\",\"ona\",\"ona\",\"movie\",\"ona\",\"tv\",\"ona\",\"tv\",\"tv\",\"special\",\"ova\",\"movie\",\"ona\",\"special\",\"tv\",\"special\",\"tv\",\"ona\",\"ova\",\"tv\",\"music\",\"movie\",\"movie\",\"tv\",\"music\",\"ona\",\"special\",\"tv\",\"tv\",\"tv\",\"tv\",\"movie\",\"music\",\"tv\",\"music\",\"movie\",\"tv\",\"ona\",\"movie\",\"music\",\"movie\",\"ona\",\"movie\",\"special\",\"ona\",\"music\",\"ona\",\"tv\",\"movie\",\"movie\",\"tv\",\"ova\",\"movie\",\"special\",\"tv\",\"tv\",\"special\",\"ova\",\"movie\",\"tv\",\"ova\",\"ona\",\"movie\",\"tv\",\"tv\",\"ona\",\"tv\",\"tv\",\"tv\",\"tv\",\"special\",\"music\",\"tv\",\"tv\",\"movie\",\"movie\",\"music\",\"music\",\"tv\",\"music\",\"movie\",\"tv\",\"ona\",\"ona\",\"tv\",\"movie\",\"movie\",\"special\",\"tv\",\"tv\",\"movie\",\"music\",\"movie\",\"tv\",\"tv\",\"movie\",\"tv\",\"special\",\"special\",\"ona\",\"movie\",\"special\",\"tv\",\"movie\",\"music\",\"movie\",\"ona\",\"movie\",\"ova\",\"ova\",\"ona\",\"movie\",\"ova\",\"ova\",\"ona\",\"ova\",null,\"movie\",\"tv\",\"tv\",\"movie\",\"music\",\"ova\",\"tv\",\"movie\",\"ona\",\"tv\",\"tv\",\"movie\",\"special\",\"music\",\"special\",\"tv\",\"tv\",\"movie\",\"movie\",\"tv\",\"tv\",\"ova\",\"tv\",\"tv\",\"tv\",\"movie\",\"movie\",\"tv\",\"ona\",\"movie\",\"music\",\"tv\",\"music\",\"movie\",\"movie\",\"tv\",\"music\",\"special\",\"tv\",\"movie\",\"movie\",\"movie\",\"ona\",\"ova\",\"tv\",\"movie\",\"music\",\"tv\",\"tv\",\"music\",\"tv\",\"tv\",\"tv\",\"movie\",\"music\",\"ova\",\"ona\",\"tv\",\"ova\",\"tv\",\"tv\",\"tv\",\"movie\",\"ona\",\"special\",\"tv\",\"music\",\"music\",\"music\",\"ona\",\"ova\",\"ona\",\"movie\",\"tv\",\"ova\",\"ona\",\"music\",\"ova\",\"music\",\"ona\",\"tv\",\"music\",\"special\",\"tv\",\"special\",\"tv\",\"tv\",\"music\",\"special\",\"ona\",\"ona\",\"tv\",\"tv\",\"movie\",\"special\",\"music\",\"movie\",\"movie\",\"movie\",\"ona\",\"movie\",\"tv\",\"ona\",\"tv\",\"tv\",\"ova\",\"movie\",\"special\",\"special\",\"special\",\"tv\",\"tv\",\"movie\",\"ova\",\"movie\",\"movie\",\"ona\",\"ova\",\"tv\",\"tv\",\"movie\",\"tv\",\"ova\",\"music\",\"ova\",\"tv\",\"ova\",\"ova\",\"ona\",\"ona\",\"ona\",\"ova\",\"movie\",\"special\",\"movie\",\"tv\",\"movie\",\"ona\",\"ona\",\"ova\",\"tv\",\"tv\",\"ova\",\"movie\",\"ona\",\"music\",\"ona\",\"tv\",\"movie\",\"tv\",\"music\",\"music\",\"ova\",\"movie\",\"ona\",\"movie\",\"special\",\"tv\",\"movie\",\"movie\",\"special\",\"ova\",\"movie\",\"ona\",\"tv\",\"tv\",\"ona\",\"ona\",\"special\",\"tv\",\"ona\",\"movie\",\"music\",\"tv\",\"tv\",\"music\",\"movie\",\"ova\",\"tv\",\"tv\",\"ona\",\"movie\",\"tv\",\"tv\",\"special\",\"ova\",\"tv\",\"ova\",\"tv\",\"movie\",\"ona\",\"tv\",\"tv\",\"movie\",\"movie\",\"tv\",\"tv\",\"ova\",\"tv\",\"tv\",\"ona\",\"tv\",\"movie\",\"movie\",\"movie\",\"movie\",\"movie\",\"tv\",\"ova\",\"tv\",\"movie\",\"ova\",\"movie\",\"ona\",\"ova\",\"tv\",\"tv\",\"ova\",\"movie\",\"tv\",\"tv\",\"music\",\"tv\",\"music\",\"movie\",\"tv\",\"ova\",\"music\",\"tv\",\"music\",\"tv\",\"tv\",\"movie\",\"tv\",\"special\",\"ova\",\"ova\",\"movie\",\"ova\",\"movie\",\"tv\",\"tv\",\"ova\",\"movie\",\"special\",\"movie\",\"movie\",\"special\",\"movie\",\"ona\",\"music\",\"tv\",\"ona\",\"tv\",\"tv\",\"movie\",\"ona\",\"music\",\"special\",\"special\",null,\"movie\",\"tv\",\"tv\",\"tv\",\"movie\",\"music\",\"ova\",\"special\",\"tv\",\"special\",\"music\",\"movie\",\"music\",\"tv\",\"music\",\"tv\",\"movie\",\"tv\",\"ova\",\"tv\",\"ona\",\"tv\",\"tv\",\"movie\",\"music\",\"tv\",\"tv\",\"music\",\"ona\",\"ona\",\"movie\",\"ova\",\"music\",\"ova\",\"special\",\"movie\",\"music\",\"special\",\"tv\",\"movie\",\"ona\",\"tv\",\"movie\",\"tv\",\"movie\",\"special\",\"movie\",\"music\",\"tv\",\"movie\",\"tv\",\"special\",\"music\",\"movie\",\"tv\",\"tv\",\"ova\",\"ova\",\"special\",\"tv\",\"ova\",\"special\",\"tv\",\"ova\",\"movie\",\"music\",\"tv\",\"ova\",\"movie\",\"tv\",\"ova\",\"tv\",\"movie\",\"special\",\"music\",\"tv\",\"tv\",\"movie\",\"tv\",\"ova\",\"music\",\"special\",\"movie\",\"special\",\"ona\",\"music\",\"music\",\"tv\",\"ova\",\"ona\",\"tv\",\"tv\",\"ova\",\"tv\",\"tv\",\"tv\",\"tv\",\"tv\",\"tv\",\"movie\",\"movie\",\"music\",\"ona\",\"movie\",\"music\",\"ova\",\"tv\",\"ova\",\"tv\",\"tv\",\"ova\",\"movie\",\"movie\",\"tv\",\"ova\",\"music\",\"music\",\"tv\",\"tv\",\"tv\",null,\"ova\",\"special\",\"tv\",\"tv\",\"tv\",\"music\",\"music\",\"tv\",\"movie\",\"special\",\"movie\",\"tv\",\"movie\",\"movie\",\"tv\",\"ova\",\"ova\",\"ova\",\"movie\",\"movie\",\"tv\",\"tv\",\"movie\",\"ova\",\"music\",\"tv\",\"tv\",\"special\",\"music\",\"ova\",\"music\",\"special\",\"music\",\"special\",\"tv\",\"ova\",\"movie\",\"special\",\"music\",\"ova\",\"ova\",\"tv\",\"movie\",\"special\",\"ona\",\"tv\",\"movie\",\"ona\",\"tv\",\"music\",\"special\",\"special\",\"ova\",\"movie\",\"ova\",\"tv\",\"tv\",\"ona\",\"ona\",\"ova\",\"tv\",\"ona\",\"music\",\"movie\",\"tv\",\"tv\",\"tv\",\"music\",\"ova\",\"ova\",\"tv\",\"special\",\"ona\",\"tv\",\"movie\",\"tv\",\"ona\",\"tv\",\"tv\",\"tv\",\"ova\",\"ona\",\"movie\",\"tv\",\"movie\",\"ova\",\"tv\",\"tv\",\"music\",\"movie\",\"ona\",\"music\",\"music\",\"music\",\"special\",\"movie\",\"tv\",\"music\",\"movie\",\"tv\",\"movie\",\"tv\",\"tv\",\"movie\",\"tv\",\"tv\",\"ona\",\"tv\",\"ona\",\"ona\",\"special\",\"ona\",\"special\",\"special\",\"ona\",\"tv\",\"tv\",\"ova\",\"tv\",\"music\",\"tv\",\"movie\",\"movie\",\"tv\",\"tv\",\"tv\",\"ova\",\"tv\",\"special\",\"ova\",\"tv\",\"special\",\"tv\",\"ona\",\"music\",\"ova\",\"movie\",\"movie\",\"tv\",\"ona\",\"movie\",\"special\",\"ona\",\"tv\",\"tv\",\"movie\",\"tv\",\"music\",\"ova\",\"ona\",\"special\",\"movie\",\"movie\",\"tv\",\"ona\",\"tv\",\"movie\",\"movie\",\"ova\",\"tv\",\"tv\",\"ova\",\"tv\",\"movie\",\"special\",\"movie\",\"movie\",\"ona\",\"special\",\"movie\",\"tv\",\"ona\",\"ova\",\"tv\",\"tv\",\"music\",\"music\",\"tv\",\"tv\",\"tv\",\"ona\",\"ova\",\"ova\",\"movie\",\"tv\",\"tv\",\"special\",\"ona\",\"tv\",\"tv\",\"music\",\"special\",\"movie\",\"special\",\"ona\",\"ona\",\"ona\",\"tv\",\"music\",\"special\",\"movie\",\"tv\",\"special\",\"tv\",\"special\",\"music\",\"tv\",\"ova\",\"tv\",\"tv\",\"ova\",\"tv\",\"special\",\"ona\",\"ova\",\"special\",\"music\",\"ova\",\"tv\",\"tv\",\"ova\",\"music\",\"movie\",\"ova\",\"special\",\"tv\",\"ona\",\"tv\",\"tv\",\"tv\",\"movie\",\"tv\",\"ova\",\"tv\",\"ona\",\"ona\",\"tv\",\"tv\",\"music\",\"ona\",\"music\",\"music\",\"music\",\"tv\",\"ona\",\"special\",\"movie\",\"music\",\"ova\",\"ova\",\"music\",\"tv\",\"special\",\"tv\",\"ona\",\"special\",\"ona\",\"ova\",\"ova\",\"ova\",\"movie\",\"special\",\"tv\",\"movie\",\"ova\",\"special\",\"movie\",\"ova\",\"tv\",\"ova\",\"special\",\"ona\",\"ova\",\"ona\",\"music\",\"special\",\"ona\",\"ova\",\"music\",\"tv\",\"music\",\"movie\",\"tv\",\"ova\",\"tv\",\"movie\",\"tv\",\"ova\",\"tv\",\"music\",\"movie\",\"ona\",\"ova\",\"ova\",\"music\",\"tv\",\"music\",\"movie\",\"ova\",\"movie\",\"ona\",\"tv\",\"music\",\"movie\",\"music\",\"ova\",\"movie\",\"special\",\"tv\",\"tv\",\"tv\",\"movie\",\"ova\",\"movie\",\"music\",\"ova\",\"tv\",\"movie\",\"movie\",\"movie\",\"tv\",\"movie\",\"music\",\"ova\",\"movie\",\"movie\",\"special\",\"movie\",\"music\",\"movie\",\"music\",\"ona\",\"music\",\"movie\",\"tv\",\"tv\",\"special\",\"tv\",\"special\",\"ona\",\"ova\",\"music\",\"ona\",\"tv\",\"movie\",\"ova\",\"music\",\"tv\",\"tv\",\"ona\",\"tv\",\"special\",\"special\",\"music\",\"movie\",\"tv\",\"tv\",\"movie\",\"ona\",\"tv\",\"tv\",\"tv\",\"tv\",\"special\",\"tv\",\"tv\",\"tv\",\"tv\",\"ova\",\"ova\",\"ova\",\"special\",\"ova\",\"ova\",\"ova\",\"ova\",\"tv\",\"ona\",\"special\",\"ova\",\"tv\",\"movie\",\"tv\",\"music\",\"ova\",\"ona\",\"movie\",\"ova\",\"movie\",\"movie\",\"tv\",\"movie\",\"music\",\"ona\",\"movie\",\"music\",\"music\",\"tv\",\"special\",\"ona\",\"special\",\"ona\",\"tv\",\"tv\",\"ona\",\"tv\",\"ona\",\"ova\",\"tv\",\"tv\",\"movie\",\"movie\",\"movie\",\"movie\",\"movie\",\"music\",\"tv\",\"ova\",\"tv\",\"music\",\"ova\",\"tv\",\"movie\",\"tv\",\"tv\",\"movie\",\"ova\",\"music\",\"movie\",\"special\",\"special\",\"special\",\"movie\",\"music\",\"movie\",\"movie\",\"music\",\"tv\",\"special\",\"ona\",\"tv\",\"tv\",\"tv\",\"tv\",\"ona\",\"tv\",\"tv\",\"special\",\"special\",\"ova\",\"movie\",\"ona\",\"special\",\"movie\",\"tv\",\"movie\",\"ona\",\"tv\",\"ova\",\"movie\",\"ona\",\"tv\",\"tv\",\"ona\",\"music\",\"special\",\"ova\",\"music\",\"music\",\"ona\",\"tv\",\"tv\",\"movie\",\"music\",\"special\",\"ona\",\"tv\",\"tv\",\"tv\",\"movie\",\"ona\",\"music\",\"music\",\"ova\",\"movie\",\"ova\",\"music\",\"tv\",\"special\",\"movie\",\"ona\",\"movie\",\"tv\",\"tv\",\"tv\",\"ova\",\"special\",\"movie\",\"music\",\"tv\",\"ova\",\"ova\",\"ova\",\"tv\",\"ona\",\"tv\",\"ona\",\"music\",\"movie\",\"movie\",\"ova\",\"movie\",\"tv\",\"special\",\"ona\",\"movie\",\"tv\",\"ova\",\"ona\",\"tv\",\"ona\",\"movie\",\"music\",\"special\",\"tv\",\"tv\",\"tv\",\"ova\",\"special\",\"ova\",\"special\",\"music\",\"ona\",\"tv\",\"music\",\"special\",\"special\",\"ova\",\"ova\",\"tv\",\"movie\",\"tv\",\"ona\",\"music\",\"ova\",\"ova\",\"ona\",\"tv\",\"tv\",\"music\",\"tv\",\"ova\",\"tv\",\"tv\",\"ova\",\"tv\",\"ova\",\"music\",\"tv\",\"tv\",\"movie\",\"special\",\"ova\",\"movie\",\"tv\",\"tv\",\"ova\",\"tv\",\"ova\",\"tv\",\"ona\",\"tv\",\"movie\",\"movie\",\"movie\",\"tv\",\"music\",\"tv\",\"music\",\"music\",\"ona\",\"ova\",\"music\",\"movie\",\"tv\",\"tv\",\"ona\",\"music\",\"tv\",\"ova\",\"ova\",\"special\",\"ova\",\"ova\",\"movie\",\"movie\",\"tv\",\"tv\",\"ona\",\"ona\",\"ova\",\"tv\",\"ona\",\"tv\",\"ona\",\"tv\",\"ova\",\"ova\",\"movie\",\"ova\",\"tv\",\"music\",\"ona\",\"special\",\"special\",\"special\",\"special\",\"ona\",\"music\",\"movie\",\"movie\",\"ona\",\"tv\",\"ova\",\"music\",\"movie\",\"ona\",\"movie\",\"ona\",\"special\",\"music\",\"movie\",\"tv\",\"ova\",\"ona\",\"tv\",\"special\",\"ova\",\"ona\",\"music\",\"ona\",\"movie\",\"tv\",\"tv\",\"ona\",\"ona\",\"tv\",\"tv\",\"movie\",\"tv\",\"ona\",\"movie\",\"music\",\"ona\",\"music\",\"ona\",\"tv\",\"tv\",\"ova\",\"movie\",\"tv\",\"ova\",\"special\",\"tv\",\"tv\",\"tv\",\"special\",\"ova\",\"tv\",\"special\",\"tv\",\"special\",\"ova\",\"tv\",\"ova\",\"special\",\"music\",\"movie\",\"ova\",\"movie\",\"movie\",\"music\",\"ova\",\"ona\",\"ona\",\"tv\",\"ova\",\"ona\",\"tv\",\"tv\",\"tv\",\"special\",\"ona\",\"movie\",\"ona\",\"movie\",\"ona\",\"music\",\"tv\",\"tv\",\"tv\",\"movie\",\"music\",\"ona\",\"ona\",\"special\",\"tv\",\"ona\",\"tv\",\"tv\",\"movie\",\"ona\",\"tv\",\"special\",\"tv\",\"movie\",\"tv\",\"ona\",\"movie\",\"special\",\"movie\",\"special\",\"ona\",\"special\",\"tv\",\"tv\",\"ova\",\"ona\",\"special\",\"ona\",\"tv\",\"tv\",\"tv\",\"tv\",\"ova\",\"music\",\"tv\",\"ona\",\"tv\",\"ova\",\"ova\",\"ona\",\"ova\",\"movie\",\"ova\",\"ova\",\"special\",\"tv\",\"ona\",\"tv\",\"movie\",\"music\",\"tv\",\"tv\",\"tv\",\"music\",\"ona\",\"special\",\"movie\",\"tv\",\"music\",\"tv\",\"movie\",\"music\",\"music\",\"tv\",\"special\",\"music\",\"music\",\"ova\",\"tv\",\"ova\",\"tv\",\"special\",\"ova\",\"ova\",\"movie\",\"ova\",\"tv\",\"special\",\"music\",\"ova\",\"tv\",\"music\",\"tv\",\"tv\",\"ona\",\"tv\",\"tv\",\"tv\",\"music\",\"tv\",\"music\",\"tv\",\"movie\",\"tv\",\"ona\",\"music\",\"ova\",\"movie\",\"ova\",\"movie\",\"ova\",\"ona\",\"movie\",\"tv\",\"tv\",\"movie\",\"special\",\"tv\",\"special\",\"movie\",\"ona\",\"music\",\"movie\",\"ona\",\"tv\",\"tv\",\"music\",\"ona\",\"tv\",\"special\",\"tv\",\"tv\",\"tv\",\"ona\",\"tv\",\"special\",\"ova\",\"special\",\"ona\",\"music\",\"ova\",\"tv\",\"ova\",\"ova\",\"ona\",\"special\",\"tv\",\"ova\",\"ona\",\"tv\",\"movie\",\"tv\",\"ova\",\"music\",\"ona\",\"ona\",\"movie\",\"movie\",\"movie\",\"ona\",\"ova\",\"tv\",\"ova\",\"tv\",\"ova\",\"ona\",\"special\",\"movie\",\"ona\",\"movie\",\"movie\",\"ona\",\"ova\",\"movie\",\"ova\",\"tv\",\"tv\",\"tv\",\"tv\",\"ova\",\"ona\",\"music\",\"ova\",\"ova\",\"special\",\"ova\",\"music\",\"movie\",\"special\",\"tv\",\"tv\",\"special\",\"ona\",\"tv\",\"ona\",\"tv\",\"tv\",\"movie\",\"special\",\"movie\",\"ova\",\"tv\",\"ona\",\"movie\",\"movie\",\"ova\",\"tv\",\"ova\",\"tv\",\"tv\",\"tv\",\"music\",\"movie\",\"ova\",\"music\",\"special\",\"ova\",\"ova\",\"ona\",\"tv\",\"tv\",\"movie\",\"special\",\"ova\",\"movie\",\"ova\",\"tv\",\"movie\",\"ova\",\"movie\",\"tv\",\"ova\",\"tv\",\"tv\",\"movie\",\"ona\",\"movie\",\"ona\",\"movie\",\"tv\",\"music\",\"movie\",\"movie\",\"tv\",\"special\",\"ova\",\"tv\",\"special\",\"tv\",\"ona\",\"special\",\"movie\",\"ova\",\"tv\",\"special\",\"tv\",\"special\",\"movie\",\"movie\",\"tv\",\"ova\",\"ova\",\"tv\",\"ona\",\"ona\",\"ova\",\"movie\",\"movie\",\"special\",\"special\",\"tv\",\"movie\",\"tv\",\"ova\",\"tv\",\"tv\",\"special\",\"ona\",\"tv\",\"tv\",\"tv\",\"ona\",\"movie\",\"music\",\"tv\",\"tv\",\"ona\",\"tv\",\"tv\",\"tv\",\"ona\",\"movie\",\"special\",\"ova\",\"ova\",\"movie\",\"tv\",\"tv\",\"tv\",\"special\",\"tv\",\"special\",\"ova\",\"tv\",\"tv\",\"tv\",\"special\",\"ova\",\"tv\",\"tv\",\"ova\",\"ona\",\"movie\",\"ova\",\"music\",\"tv\",\"music\",\"tv\",\"ona\",\"tv\",\"tv\",\"tv\",\"special\",\"movie\",\"tv\",\"special\",\"music\",\"movie\",\"movie\",\"ona\",\"tv\",\"movie\",\"ova\",\"ona\",\"ova\",\"tv\",\"ova\",\"ova\",\"movie\",\"movie\",\"tv\",\"tv\",\"movie\",\"ona\",\"ova\",\"ona\",\"tv\",\"tv\",\"music\",\"ona\",\"ova\",\"movie\",\"music\",\"movie\",\"ova\",\"ona\",\"movie\",\"movie\",\"tv\",\"tv\",\"movie\",\"ona\",\"ona\",\"tv\",\"movie\",\"special\",\"special\",\"special\",\"tv\",\"tv\",\"movie\",\"tv\",\"music\",\"tv\",\"ona\",\"movie\",\"music\",\"special\",\"tv\",\"music\",\"music\",\"tv\",\"movie\",\"movie\",\"music\",\"tv\",\"ova\",\"movie\",\"ova\",\"music\",null,\"ova\",\"movie\",\"tv\",\"music\",\"tv\",\"special\",\"tv\",\"tv\",\"ova\",\"tv\",\"tv\",\"ova\",\"movie\",\"tv\",\"tv\",\"ova\",\"movie\",\"ova\",\"tv\",\"movie\",\"ona\",\"tv\",\"movie\",\"ova\",\"ona\",\"ova\",\"tv\",\"tv\",\"special\",\"movie\",\"ona\",\"tv\",\"tv\",\"ona\",\"tv\",\"music\",\"ova\",\"music\",\"tv\",\"tv\",\"ona\",\"ova\",\"tv\",\"tv\",\"ova\",\"movie\",\"tv\",\"ova\",\"ova\",\"tv\",\"ova\",\"movie\",\"ova\",\"ova\",\"special\",\"special\",\"ova\",\"ova\",\"tv\",\"movie\",\"ova\",\"tv\",\"ona\",\"music\",\"tv\",\"special\",\"movie\",\"music\",\"special\",\"tv\",\"tv\",\"special\",\"ova\",\"ova\",\"music\",\"movie\",\"tv\",\"ona\",\"music\",\"music\",\"tv\",\"movie\",\"tv\",\"special\",\"ova\",\"ova\",\"tv\",\"movie\",\"special\",\"ova\",\"movie\",\"tv\",\"music\",\"music\",\"ona\",\"tv\",\"special\",\"ona\",\"ova\",\"tv\",\"special\",\"tv\",\"ova\",\"tv\",\"ova\",\"ona\",\"special\",\"tv\",\"movie\",\"music\",\"tv\",\"movie\",\"ona\",\"ona\",\"special\",\"movie\",\"special\",\"movie\",\"special\",\"tv\",\"special\",\"tv\",\"tv\",\"movie\",\"movie\",\"tv\",\"ova\",\"movie\",\"music\",\"special\",\"movie\",\"special\",\"tv\",\"ova\",\"movie\",\"tv\",\"tv\",\"tv\",\"ona\",\"ova\",\"ova\",\"tv\",\"tv\",\"tv\",\"ona\",\"movie\",\"ova\",\"tv\",\"music\",\"ova\",\"movie\",\"special\",\"special\",\"tv\",\"movie\",\"ova\",\"tv\",\"ova\",\"tv\",\"tv\",\"movie\",\"tv\",\"music\",\"tv\",\"tv\",\"tv\",\"music\",\"special\",\"music\",\"music\",\"music\",\"ona\",\"ona\",\"tv\",\"tv\",\"movie\",\"tv\",\"music\",\"special\",\"movie\",\"tv\",\"tv\",\"ona\",\"tv\",\"music\",\"ova\",\"ona\",\"tv\",\"ova\",\"movie\",\"tv\",\"tv\",\"tv\",\"ova\",\"movie\",\"ova\",\"tv\",\"music\",\"tv\",\"tv\",\"ona\",\"ova\",\"tv\",\"tv\",\"tv\",\"tv\",\"ova\",\"ova\",\"music\",\"music\",\"movie\",\"ova\",\"special\",\"music\",\"tv\",\"movie\",\"movie\",\"special\",\"movie\",\"music\",\"ova\",\"movie\",\"ova\",\"ova\",\"tv\",\"ova\",\"tv\",\"tv\",\"tv\",\"movie\",\"special\",\"tv\",\"tv\",\"ona\",\"tv\",\"movie\",\"tv\",\"special\",\"special\",\"movie\",\"ona\",\"ona\",\"movie\",\"special\",\"tv\",\"special\",\"movie\",\"movie\",\"ova\",\"tv\",\"music\",\"ona\",\"ona\",\"movie\",\"ova\",\"ova\",\"tv\",\"ova\",\"tv\",\"tv\",\"movie\",\"ona\",\"special\",\"special\",\"movie\",\"special\",\"tv\",\"ona\",\"tv\",\"tv\",\"tv\",\"music\",\"tv\",\"music\",\"movie\",\"ova\",\"tv\",\"tv\",\"movie\",\"tv\",\"tv\",\"music\",\"special\",\"tv\",\"movie\",\"ona\",\"ova\",\"ova\",\"music\",\"special\",\"tv\",\"ona\",\"ona\",\"tv\",\"movie\",\"ova\",\"music\",\"ona\",\"ova\",\"music\",\"special\",\"ova\",\"tv\",\"tv\",\"music\",\"ona\",\"movie\",\"tv\",\"tv\",\"special\",\"ona\",\"tv\",\"movie\",\"tv\",\"ova\",\"tv\",\"ova\",\"ova\",\"ona\",\"special\",\"tv\",\"ona\",\"ova\",\"special\",\"ova\",\"movie\",\"special\",\"special\",\"ona\",\"movie\",\"tv\",\"tv\",\"ova\",\"ona\",\"movie\",\"ona\",\"tv\",\"tv\",\"ona\",\"music\",\"movie\",\"movie\",\"special\",\"ova\",\"movie\",\"ona\",\"ona\",\"special\",\"ona\",\"ona\",\"tv\",\"movie\",\"music\",\"music\",\"movie\",\"movie\",\"movie\",\"tv\",\"ova\",\"ona\",\"tv\",\"special\",\"movie\",\"tv\",\"ona\",\"movie\",\"tv\",\"special\",\"ona\",\"ona\",\"ova\",\"tv\",\"ona\",\"music\",\"tv\",\"special\",\"movie\",\"movie\",\"ona\",\"tv\",\"tv\",\"tv\",\"tv\",\"ova\",\"special\",\"tv\",\"tv\",\"music\",\"ova\",\"music\",\"tv\",\"music\",\"ona\",\"tv\",\"ona\",\"ova\",\"movie\",\"special\",\"tv\",\"ona\",\"tv\",\"ova\",\"tv\",\"ona\",\"movie\",\"music\",\"music\",\"tv\",\"ova\",\"ova\",\"ona\",\"movie\",\"special\",\"music\",\"movie\",\"tv\",\"ona\",\"movie\",\"tv\",\"special\",\"special\",\"tv\",\"music\",\"ona\",\"ona\",\"tv\",\"ova\",\"special\",\"ova\",\"ona\",\"tv\",\"tv\",\"movie\",\"ona\",\"ona\",\"tv\",\"tv\",\"special\",\"tv\",\"tv\",\"tv\",\"movie\",\"ova\",\"music\",\"special\",\"tv\",\"tv\",\"tv\",\"music\",\"ona\",\"ova\",\"music\",\"music\",\"tv\",\"tv\",\"ova\",\"tv\",\"music\",\"special\",\"ova\",\"ova\",\"ova\",\"movie\",\"ova\",\"special\",\"movie\",\"movie\",\"music\",\"special\",\"movie\",\"special\",\"special\",\"tv\",\"special\",\"tv\",\"ona\",\"tv\",\"ova\",\"tv\",\"ova\",\"movie\",\"ona\",\"ona\",\"tv\",\"ona\",\"tv\",\"special\",\"tv\",\"special\",\"music\",\"movie\",\"movie\",\"tv\",\"ona\",\"ona\",\"tv\",\"tv\",\"ova\",\"movie\",\"ova\",\"ova\",\"ona\",\"special\",\"music\",\"music\",\"music\",\"tv\",\"movie\",\"movie\",\"special\",\"tv\",\"tv\",\"ona\",\"ova\",\"ova\",\"ona\",\"tv\",\"special\",\"ova\",\"ova\",\"music\",\"music\",\"music\",\"tv\",\"ona\",\"tv\",\"ova\",\"ova\",\"ova\",\"tv\",\"tv\",\"ona\",\"music\",\"tv\",\"tv\",\"tv\",\"movie\",\"movie\",\"movie\",\"tv\",\"tv\",\"tv\",\"tv\",\"ona\",\"special\",\"ova\",\"movie\",\"tv\",\"special\",\"tv\",\"movie\",\"ova\",\"special\",\"movie\",\"tv\",\"movie\",\"ona\",\"movie\",\"ona\",\"music\",\"ova\",\"ona\",\"ona\",\"ona\",\"special\",\"ova\",\"music\",\"ova\",\"ova\",\"movie\",\"ona\",\"tv\",\"tv\",\"ova\",\"ona\",\"tv\",\"ova\",\"ova\",\"tv\",\"music\",\"music\",\"special\",\"special\",\"music\",\"ova\",\"tv\",\"movie\",\"tv\",\"ova\",\"ona\",\"tv\",\"ova\",\"movie\",\"movie\",\"special\",\"movie\",\"special\",\"ova\",\"special\",\"tv\",\"movie\",\"movie\",\"tv\",\"ova\",\"ona\",\"music\",\"ona\",\"tv\",\"music\",null,\"ona\",\"tv\",\"tv\",\"tv\",\"ova\",\"ova\",\"tv\",\"movie\",\"ova\",\"movie\",\"tv\",\"music\",\"movie\",\"tv\",\"music\",\"ova\",\"tv\",\"tv\",\"movie\",\"music\",\"tv\",\"ona\",\"tv\",\"tv\",\"ova\",\"ova\",\"tv\",\"music\",\"movie\",\"ona\",\"tv\",\"ona\",\"ova\",\"ona\",\"tv\",\"ona\",\"tv\",\"tv\",\"tv\",\"special\",\"ona\",\"ova\",\"ona\",\"special\",\"ova\",\"special\",\"ona\",\"special\",\"special\",\"tv\",\"tv\",\"tv\",\"tv\",\"movie\",\"ova\",\"special\",\"tv\",\"ova\",\"tv\",\"special\",\"music\",\"tv\",\"music\",\"music\",\"ova\",\"tv\",\"ona\",\"ova\",\"tv\",\"ona\",\"tv\",\"movie\",\"movie\",\"movie\",\"special\",\"tv\",\"tv\",\"tv\",\"tv\",\"ova\",\"special\",\"special\",\"ona\",\"music\",\"ova\",\"ova\",\"tv\",\"ova\",\"music\",\"tv\",\"ona\",\"music\",\"ova\",\"movie\",\"movie\",\"special\",\"ova\",\"tv\",\"special\",\"ona\",\"tv\",\"ova\",\"special\",\"tv\",\"ova\",\"ova\",\"music\",\"movie\",\"special\",\"music\",\"ona\",\"ona\",\"ova\",\"tv\",\"ona\",\"movie\",\"tv\",\"music\",\"movie\",\"tv\",\"movie\",\"ona\",\"ova\",\"ova\",\"tv\",\"ona\",\"tv\",\"tv\",\"ova\",\"ona\",\"music\",\"ova\",\"movie\",\"music\",\"music\",\"ova\",\"ova\",\"music\",\"tv\",\"ona\",\"tv\",\"tv\",\"tv\",\"music\",\"movie\",\"music\",\"ona\",\"tv\",\"ova\",\"ova\",\"tv\",\"music\",\"movie\",\"ona\",\"tv\",\"tv\",\"tv\",\"movie\",\"tv\",\"ova\",\"tv\",\"music\",\"ona\",\"ona\",\"tv\",\"tv\",\"ova\",\"tv\",\"ova\",\"ova\",\"tv\",\"music\",\"music\",\"movie\",\"music\",\"special\",\"tv\",\"tv\",\"movie\",\"movie\",\"tv\",\"movie\",\"tv\",\"movie\",\"ova\",\"special\",\"ona\",\"ona\",\"tv\",\"ova\",\"movie\",\"special\",\"tv\",\"movie\",\"tv\",\"special\",\"movie\",\"movie\",\"music\",\"ova\",\"movie\",\"tv\",\"special\",\"tv\",\"ona\",\"tv\",\"movie\",\"music\",\"special\",\"ova\",\"ova\",\"special\",\"ova\",\"ona\",\"music\",\"ona\",\"movie\",\"movie\",\"ova\",\"music\",\"special\",\"special\",\"tv\",\"special\",\"ova\",\"tv\",\"ona\",\"tv\",\"tv\",\"movie\",\"movie\",\"ona\",\"tv\",\"ona\",\"ova\",\"tv\",\"music\",\"tv\",\"ova\",\"ova\",\"tv\",\"tv\",\"tv\",\"special\",\"ova\",\"ova\",\"ova\",\"tv\",\"ona\",\"tv\",\"ova\",\"movie\",\"tv\",\"music\",\"ona\",\"music\",\"ona\",\"ona\",\"tv\",\"ova\",\"tv\",\"ona\",\"ova\",\"ona\",\"music\",\"tv\",\"ova\",\"movie\",\"tv\",\"music\",\"movie\",\"tv\",\"movie\",\"movie\",\"ova\",\"ova\",\"ova\",\"movie\",\"tv\",\"movie\",\"movie\",\"ona\",\"movie\",\"ona\",\"ona\",\"ova\",\"ova\",\"ona\",\"music\",\"tv\",\"ova\",\"tv\",\"music\",\"music\",\"movie\",\"special\",\"tv\",\"music\",\"movie\",\"movie\",\"ona\",\"special\",\"ova\",\"tv\",\"ona\",\"movie\",\"tv\",\"movie\",\"ona\",\"ona\",\"movie\",\"ova\",\"tv\",\"tv\",\"special\",\"movie\",\"special\",\"music\",\"ona\",\"ona\",\"tv\",\"special\",\"ova\",\"ova\",\"ova\",\"tv\",\"tv\",\"music\",\"ona\",\"tv\",\"movie\",\"special\",\"tv\",\"ova\",\"ona\",\"movie\",\"tv\",\"special\",\"tv\",\"music\",\"tv\",\"tv\",\"tv\",\"tv\",\"ona\",\"special\",\"movie\",\"tv\",\"ova\",\"ova\",\"ova\",\"tv\",\"ova\",\"music\",\"ova\",\"movie\",\"tv\",\"music\",\"music\",null,\"music\",\"tv\",\"ona\",\"special\",\"movie\",\"movie\",\"movie\",\"ona\",\"movie\",\"movie\",\"music\",\"movie\",\"tv\",\"movie\",\"tv\",\"ova\",\"movie\",\"special\",\"tv\",\"tv\",\"tv\",\"tv\",\"tv\",\"ona\",\"ona\",\"movie\",\"movie\",\"ona\",\"special\",\"ova\",\"tv\",\"special\",\"tv\",\"movie\",\"music\",\"tv\",\"ova\",\"movie\",\"ona\",\"movie\",\"ona\",\"special\",\"tv\",\"music\",\"tv\",\"tv\",\"tv\",\"movie\",\"ova\",\"ova\",\"special\",\"ona\",\"tv\",\"movie\",\"music\",\"ona\",\"ova\",\"special\",\"ona\",\"tv\",\"tv\",\"movie\",\"movie\",\"tv\",\"movie\",\"tv\",\"movie\",\"ona\",\"tv\",\"ova\",\"movie\",\"ona\",\"ova\",\"movie\",\"ova\",\"ona\",\"music\",\"ona\",\"tv\",\"movie\",\"tv\",\"tv\",\"special\",\"ova\",\"movie\",\"music\",\"special\",\"tv\",\"ona\",\"tv\",\"tv\",\"tv\",\"music\",\"ova\",\"tv\",\"movie\",\"movie\",\"movie\",\"ova\",\"tv\",\"ova\",\"movie\",\"music\",\"movie\",\"tv\",\"special\",\"movie\",\"special\",\"music\",\"ona\",\"special\",\"tv\",\"tv\",\"special\",\"tv\",\"music\",\"tv\",\"ona\",\"tv\",\"ona\",\"tv\",\"ova\",\"movie\",\"ova\",\"ona\",\"tv\",\"ona\",\"ova\",\"ona\",\"special\",\"tv\",\"movie\",\"movie\",\"tv\",\"ova\",\"special\",\"tv\",\"movie\",\"ova\",\"tv\",\"movie\",\"ova\",\"music\",\"movie\",\"ova\",\"ona\",\"music\",\"ova\",\"ona\",\"ova\",\"ona\",\"tv\",\"movie\",\"music\",\"tv\",\"ona\",\"music\",\"tv\",\"music\",\"ona\",\"music\",\"music\",\"movie\",\"special\",\"ova\",\"ova\",\"music\",\"movie\",\"music\",\"tv\",\"ona\",\"movie\",\"tv\",\"special\",\"ova\",\"ona\",\"tv\",\"tv\",\"ova\",\"ona\",\"tv\",\"movie\",\"special\",\"movie\",\"tv\",\"tv\",\"tv\",\"movie\",\"movie\",\"tv\",\"movie\",null,\"tv\",\"ona\",\"ona\",\"tv\",\"movie\",\"tv\",\"ova\",\"tv\",\"ova\",\"movie\",\"tv\",\"special\",\"tv\",\"tv\",\"tv\",\"tv\",\"movie\",\"ova\",\"tv\",\"special\",\"movie\",\"music\",\"ona\",\"tv\",\"tv\",\"tv\",\"ona\",\"movie\",\"tv\",\"special\",\"tv\",\"music\",\"tv\",\"special\",\"tv\",\"ona\",\"ova\",\"ova\",\"music\",\"movie\",\"movie\",\"ona\",\"tv\",\"movie\",\"ova\",\"tv\",\"tv\",\"special\",\"tv\",\"tv\",\"special\",\"tv\",\"tv\",\"special\",\"ova\",null,\"ova\",\"special\",\"special\",\"special\",\"special\",\"ova\",\"ona\",\"special\",\"ova\",\"ova\",\"ova\",\"tv\",\"movie\",\"tv\",\"ova\",\"tv\",\"movie\",\"ova\",\"tv\",\"music\",\"movie\",\"ova\",\"movie\",\"ova\",\"ona\",\"movie\",\"movie\",\"movie\",\"tv\",\"tv\",\"special\",\"music\",\"tv\",\"movie\",\"movie\",\"tv\",\"ona\",\"music\",\"tv\",\"special\",\"movie\",\"ova\",\"ova\",\"music\",\"movie\",\"movie\",\"tv\",\"tv\",\"music\",\"ova\",\"ova\",\"tv\",\"special\",\"ona\",\"movie\",\"ona\",\"tv\",\"special\",\"special\",\"tv\",\"special\",\"special\",\"tv\",\"movie\",\"special\",\"special\",\"special\",\"ona\",\"music\",\"music\",\"movie\",\"tv\",\"music\",\"special\",\"tv\",\"tv\",\"tv\",\"tv\",\"movie\",\"music\",\"music\",\"ova\",\"tv\",\"ova\",\"tv\",\"movie\",\"movie\",\"movie\",\"ova\",\"ona\",\"ona\",\"ova\",\"tv\",\"ova\",\"ova\",\"tv\",\"ona\",\"tv\",\"tv\",\"ona\",\"movie\",\"ova\",\"tv\",\"special\",\"ova\",\"special\",\"tv\",\"movie\",\"tv\",\"ona\",\"movie\",\"ona\",\"ova\",\"music\",\"tv\",\"ova\",\"ona\",\"ona\",\"tv\",\"ova\",\"ova\",\"ova\",\"ona\",\"tv\",\"tv\",\"special\",\"music\",\"tv\",\"movie\",\"special\",\"ova\",\"ona\",\"ova\",\"special\",\"movie\",\"special\",\"tv\",\"movie\",\"ova\",\"movie\",\"movie\",\"music\",\"special\",\"movie\",\"ona\",\"tv\",\"tv\",\"tv\",\"movie\",\"music\",\"ona\",\"movie\",\"ona\",\"ova\",\"movie\",\"special\",\"ova\",\"tv\",\"tv\",\"movie\",\"ona\",\"ona\",\"ova\",\"music\",\"ona\",\"tv\",\"ona\",\"ona\",\"ova\",\"tv\",\"ova\",\"ova\",\"tv\",\"ona\",\"ova\",\"ova\",\"special\",\"ova\",\"tv\",\"tv\",\"special\",\"movie\",\"ona\",\"tv\",\"tv\",\"ova\",\"music\",\"ona\",\"special\",\"tv\",\"ona\",\"special\",\"tv\",\"music\",\"tv\",\"ova\",\"movie\",\"movie\",\"movie\",\"music\",\"ova\",\"tv\",\"tv\",\"movie\",\"tv\",\"tv\",\"tv\",\"music\",\"ova\",\"tv\",\"tv\",\"ova\",\"ova\",\"ova\",\"tv\",\"tv\",\"ova\",\"tv\",\"ova\",\"music\",\"tv\",\"tv\",\"movie\",\"tv\",\"ova\",\"music\",\"special\",\"ova\",\"ova\",\"tv\",\"tv\",\"movie\",\"tv\",null,\"special\",\"ona\",\"ona\",\"tv\",\"music\",\"movie\",\"ova\",\"ona\",\"ona\",\"ona\",\"ova\",\"movie\",\"tv\",\"tv\",\"special\",\"tv\",\"ona\",\"tv\",\"ova\",\"movie\",\"tv\",\"movie\",\"ova\",\"movie\",\"ova\",\"tv\",\"movie\",\"ona\",\"special\",\"ova\",\"tv\",\"movie\",\"ova\",\"ova\",\"movie\",\"tv\",\"movie\",\"ova\",\"tv\",\"music\",\"music\",\"tv\",\"ova\",\"tv\",\"tv\",\"tv\",\"movie\",\"music\",\"ona\",\"tv\",\"ova\",\"tv\",\"music\",\"movie\",\"special\",\"tv\",\"music\",\"movie\",\"movie\",\"tv\",\"movie\",\"ova\",\"tv\",\"ona\",\"music\",\"tv\",\"movie\",\"music\",\"ova\",\"ona\",\"tv\",\"special\",\"ova\",\"special\",\"ona\",\"tv\",\"tv\",\"ova\",\"tv\",\"music\",\"ona\",\"movie\",\"ova\",\"movie\",\"ona\",\"tv\",\"tv\",\"special\",\"ona\",\"ona\",\"special\",\"tv\",\"special\",\"music\",\"tv\",\"movie\",\"ova\",\"ova\",\"ona\",\"ova\",\"ona\",\"tv\",\"movie\",\"tv\",\"tv\",\"tv\",\"special\",\"tv\",\"ona\",\"special\",\"special\",\"music\",\"tv\",\"tv\",\"music\",\"ona\",\"ova\",\"movie\",\"ova\",\"ona\",\"tv\",\"music\",\"movie\",\"tv\",\"ona\",\"tv\",\"ova\",\"tv\",\"ona\",\"tv\",\"movie\",\"movie\",\"tv\",\"ova\",\"ova\",\"music\",\"ova\",\"ona\",\"ona\",\"ona\",\"tv\",\"ona\",\"special\",\"ona\",\"ona\",\"ova\",\"tv\",\"ova\",\"ova\",\"ova\",\"ona\",\"tv\",\"ona\",\"tv\",\"special\",\"tv\",\"music\",\"ova\",\"ova\",\"special\",\"music\",\"ona\",\"movie\",\"tv\",\"tv\",\"ova\",\"tv\",\"music\",\"ova\",\"ova\",\"ona\",\"tv\",\"ova\",\"movie\",\"ova\",\"movie\",\"movie\",\"ona\",\"tv\",\"tv\",\"ona\",\"ova\",\"movie\",\"special\",\"special\",\"tv\",\"ona\",\"ona\",\"ova\",\"ona\",\"special\",\"movie\",\"ova\",\"ova\",\"movie\",\"ova\",\"movie\",\"ona\",\"tv\",\"ova\",\"tv\",\"movie\",\"tv\",\"tv\",\"special\",\"movie\",\"tv\",\"tv\",\"ova\",\"tv\",\"ona\",\"special\",\"tv\",\"special\",\"music\",\"music\",\"movie\",\"tv\",\"tv\",\"tv\",\"tv\",\"movie\",\"ona\",\"tv\",\"movie\",\"movie\",\"movie\",\"ona\",\"tv\",\"movie\",\"music\",\"ova\",\"ona\",\"special\",\"music\",\"ova\",\"tv\",\"ova\",\"ona\",\"movie\",\"special\",\"special\",\"music\",\"ova\",\"tv\",\"tv\",\"tv\",\"movie\",\"tv\",\"movie\",\"tv\",\"music\",\"tv\",\"movie\",\"tv\",\"music\",\"ova\",\"ova\",\"tv\",\"tv\",\"ona\",\"ona\",\"music\",\"ova\",\"music\",\"ova\",\"tv\",\"tv\",\"ova\",\"tv\",\"music\",\"music\",\"ona\",\"movie\",\"ona\",\"ona\",\"ova\",\"music\",\"movie\",\"music\",\"movie\",\"ona\",\"music\",\"music\",\"tv\",\"movie\",\"tv\",\"ona\",\"tv\",\"movie\",\"special\",\"ona\",\"ona\",\"tv\",\"movie\",\"tv\",\"ova\",\"movie\",\"tv\",\"movie\",\"ona\",\"tv\",\"tv\",\"tv\",\"ona\",\"music\",\"ova\",\"tv\",\"tv\",\"music\",\"tv\",\"ova\",\"ova\",\"ova\",\"ova\",\"tv\",\"movie\",\"tv\",\"music\",\"special\",\"tv\",\"music\",\"tv\",\"tv\",\"movie\",\"movie\",\"ona\",\"ona\",\"ona\",\"ova\",\"ona\",\"tv\",\"tv\",\"movie\",\"special\",\"ova\",\"ona\",\"movie\",\"tv\",\"tv\",\"special\",\"ova\",\"music\",\"ona\",\"ova\",\"tv\",\"tv\",\"tv\",\"special\",\"special\",\"ona\",\"movie\",\"tv\",\"ona\",\"ona\",\"tv\",\"ona\",\"ova\",\"tv\",\"ova\",\"special\",\"movie\",\"ova\",\"music\",\"movie\",\"movie\",\"tv\",\"movie\",\"ova\",\"movie\",\"ova\",\"music\",\"tv\",\"ova\",\"ova\",null,\"tv\",\"special\",\"tv\",\"tv\",\"ona\",\"ova\",\"music\",\"tv\",\"tv\",\"special\",\"movie\",\"tv\",\"music\",\"movie\",\"tv\",\"music\",\"tv\",\"music\",\"ova\",\"tv\",\"movie\",\"ova\",\"tv\",\"music\",\"ona\",\"tv\",\"music\",\"tv\",\"tv\",\"ova\",\"ona\",\"ona\",\"ova\",\"tv\",\"tv\",\"ova\",\"tv\",\"music\",\"tv\",\"ona\",\"special\",\"ona\",\"movie\",\"music\",\"music\",\"tv\",\"ona\",\"ona\",\"tv\",\"music\",\"ona\",\"tv\",\"tv\",\"music\",\"music\",\"ona\",\"tv\",\"special\",\"tv\",\"movie\",\"tv\",\"music\",\"ova\",\"music\",\"tv\",\"tv\",\"music\",\"music\",\"tv\",\"music\",\"tv\",\"ova\",\"ona\",\"movie\",\"tv\",\"movie\",\"tv\",\"ova\",\"movie\",\"tv\",\"tv\",\"ova\",\"ova\",\"ova\",\"music\",\"music\",\"ova\",\"movie\",\"tv\",\"tv\",\"ova\",\"ova\",\"music\",\"movie\",\"ona\",\"tv\",\"tv\",\"music\",\"special\",\"special\",\"tv\",\"ova\",\"ona\",\"tv\",\"special\",\"movie\",\"special\",\"movie\",\"ona\",\"tv\",\"ona\",\"movie\",\"tv\",\"ona\",\"tv\",\"tv\",\"music\",\"ova\",\"movie\",\"ova\",\"tv\",\"movie\",\"tv\",\"tv\",\"tv\",\"ona\",\"ona\",\"tv\",\"ova\",\"tv\",\"ona\",\"special\",\"movie\",\"movie\",\"ova\",\"music\",\"special\",\"special\",\"tv\",\"music\",\"movie\",\"tv\",\"ona\",\"movie\",null,\"music\",\"tv\",\"music\",\"ova\",\"tv\",\"movie\",\"special\",\"tv\",\"tv\",\"tv\",\"ona\",\"ona\",\"ova\",\"tv\",\"music\",\"tv\",\"special\",\"ona\",\"tv\",\"tv\",\"ona\",\"ona\",\"tv\",\"movie\",\"tv\",\"tv\",\"ova\",\"ona\",\"music\",\"ova\",\"music\",\"tv\",\"tv\",\"special\",\"tv\",\"music\",\"movie\",\"movie\",\"tv\",\"tv\",\"ona\",\"tv\",\"special\",\"ova\",\"tv\",\"movie\",\"movie\",\"movie\",\"movie\",\"movie\",\"tv\",\"tv\",\"ova\",\"tv\",\"tv\",\"music\",\"special\",\"tv\",\"special\",\"special\",\"tv\",\"movie\",\"ona\",\"music\",\"music\",\"ona\",\"tv\",\"music\",\"tv\",\"tv\",\"tv\",\"tv\",\"tv\",\"ona\",\"ova\",\"special\",\"music\",\"tv\",\"tv\",\"music\",\"movie\",\"tv\",\"ova\",\"tv\",\"ona\",\"ona\",\"ova\",\"music\",\"music\",\"movie\",\"ona\",\"movie\",\"ona\",\"ona\",\"ova\",\"tv\",\"tv\",\"special\",\"music\",\"ona\",\"music\",\"tv\",\"ova\",\"ona\",\"music\",\"tv\",\"ova\",\"movie\",\"ova\",\"ova\",\"tv\",\"ona\",\"tv\",\"tv\",\"ona\",\"movie\",\"movie\",\"movie\",\"special\",\"tv\",\"tv\",\"special\",\"tv\",\"ova\",\"ona\",\"ona\",\"movie\",\"ova\",\"ova\",\"music\",\"ona\",\"movie\",\"ova\",\"special\",\"tv\",\"tv\",\"tv\",\"ova\",\"ova\",\"movie\",\"tv\",\"ona\",\"ova\",\"ona\",\"music\",\"tv\",\"movie\",\"ova\",\"movie\",\"tv\",\"ona\",\"ova\",\"ova\",\"ova\",\"music\",\"ona\",\"tv\",\"special\",\"tv\",\"ova\",\"movie\",\"tv\",\"tv\",\"movie\",\"movie\",\"special\",\"tv\",\"music\",\"tv\",\"tv\",\"ona\",\"tv\",\"ova\",\"ona\",\"tv\",\"tv\",\"tv\",\"ova\",\"ova\",\"tv\",\"movie\",\"ova\",\"tv\",\"ova\",\"tv\",\"ona\",\"tv\",\"tv\",\"ova\",\"music\",\"tv\",\"tv\",\"music\",\"ova\",\"tv\",\"music\",\"tv\",\"ova\",\"ova\",\"ova\",\"movie\",\"special\",\"ova\",\"movie\",\"tv\",\"tv\",\"music\",\"tv\",\"ova\",\"special\",\"tv\",\"ova\",\"ova\",\"ova\",\"movie\",\"tv\",\"ova\",\"ova\",\"tv\",\"movie\",\"ova\",\"music\",\"movie\",\"ona\",\"movie\",\"tv\",\"tv\",\"tv\",\"tv\",\"music\",\"music\",\"ona\",\"tv\",\"tv\",\"tv\",\"ova\",\"ona\",\"tv\",\"tv\",\"ova\",\"music\",\"tv\",\"ona\",\"ova\",\"movie\",\"tv\",\"special\",\"music\",\"tv\",\"tv\",\"movie\",\"ona\",\"tv\",\"ova\",\"tv\",\"tv\",\"music\",\"ona\",\"ova\",\"ona\",\"ona\",\"tv\",\"tv\",\"movie\",\"tv\",\"ova\",\"tv\",\"special\",\"music\",\"ona\",\"ona\",\"special\",\"ona\",\"music\",\"ona\",\"special\",\"music\",\"ova\",\"movie\",\"tv\",\"movie\",\"movie\",\"ona\",\"movie\",\"music\",\"tv\",\"music\",\"tv\",\"tv\",\"movie\",\"tv\",\"movie\",\"ova\",\"ova\",\"tv\",\"special\",\"movie\",\"ova\",\"ona\",\"tv\",\"tv\",\"ova\",\"movie\",\"ona\",\"movie\",\"special\",\"ona\",\"movie\",\"special\",\"tv\",\"music\",\"movie\",\"special\",\"special\",\"ona\",\"tv\",\"ona\",\"special\",\"ona\",\"tv\",\"ona\",\"ova\",\"music\",\"music\",\"music\",\"ova\",\"ona\",\"tv\",\"movie\",\"music\",\"tv\",\"movie\",\"ona\",\"special\",\"tv\",\"ova\",\"special\",\"tv\",\"ova\",\"ona\",\"music\",\"movie\",\"tv\",\"special\",\"ona\",\"ova\",\"ova\",\"tv\",\"movie\",\"ova\",\"tv\",\"music\",\"music\",\"ona\",\"tv\",\"music\",\"tv\",\"tv\",\"tv\",\"ova\",\"special\",\"ona\",\"movie\",\"special\",\"ova\",\"tv\",\"movie\",\"tv\",\"tv\",\"ona\",\"ova\",\"tv\",\"movie\",\"ova\",\"tv\",\"movie\",\"music\",\"ova\",\"ova\",\"music\",\"special\",\"tv\",\"music\",\"tv\",\"tv\",\"tv\",\"special\",\"music\",\"movie\",\"ona\",\"movie\",\"ona\",\"ona\",\"ona\",\"movie\",\"tv\",\"music\",\"ova\",\"movie\",\"music\",\"movie\",\"music\",\"tv\",\"ova\",\"movie\",\"movie\",\"special\",\"special\",\"ova\",\"ova\",\"movie\",\"tv\",\"ova\",\"music\",\"movie\",\"ova\",\"movie\",\"tv\",\"movie\",\"ova\",\"tv\",\"tv\",\"tv\",\"movie\",\"ona\",\"movie\",\"movie\",\"ova\",\"music\",\"special\",\"special\",\"tv\",\"tv\",\"movie\",\"tv\",\"music\",\"movie\",\"tv\",\"tv\",\"ona\",\"ona\",\"ova\",\"movie\",\"movie\",\"movie\",\"tv\",\"ova\",\"music\",\"movie\",\"ova\",\"ova\",\"ova\",\"tv\",\"movie\",\"ova\",\"movie\",\"ova\",\"ova\",\"tv\",\"special\",\"movie\",\"movie\",\"tv\",\"ova\",\"tv\",\"tv\",\"tv\",\"tv\",\"ova\",\"tv\",\"tv\",\"tv\",\"ova\",\"special\",\"music\",\"ona\",\"special\",\"ona\",\"music\",\"tv\",\"ova\",\"tv\",\"music\",\"movie\",\"movie\",\"ona\",\"tv\",\"tv\",\"tv\",\"music\",\"ova\",\"tv\",\"movie\",\"tv\",\"movie\",\"movie\",\"ona\",\"tv\",\"special\",\"movie\",\"special\",\"tv\",\"ova\",\"ova\",\"ova\",\"tv\",\"tv\",\"ova\",\"ona\",\"movie\",\"ova\",\"ona\",\"tv\",\"tv\",\"movie\",\"ona\",\"movie\",\"music\",\"ova\",\"movie\",\"ova\",\"movie\",\"ova\",\"ona\",\"special\",\"tv\",\"music\",\"special\",\"tv\",\"ona\",\"tv\",\"movie\",\"movie\",\"ova\",\"music\",\"tv\",\"ona\",\"movie\",\"tv\",\"ona\",\"ova\",\"tv\",\"tv\",\"ona\",\"movie\",\"ona\",\"ova\",\"ova\",\"ova\",\"ova\",\"music\",\"tv\",\"music\",\"special\",\"ona\",\"special\",\"special\",\"movie\",\"ova\",\"special\",\"music\",\"ova\",\"special\",\"ona\",\"tv\",\"tv\",\"music\",\"ova\",\"ova\",\"movie\",\"movie\",\"tv\",\"ona\",\"movie\",\"ova\",\"special\",\"tv\",\"special\",null,\"tv\",\"movie\",\"ona\",\"music\",\"tv\",\"tv\",\"tv\",\"tv\",\"special\",\"tv\",\"tv\",\"ona\",\"ona\",\"music\",\"special\",\"ova\",\"tv\",\"music\",\"tv\",\"tv\",\"special\",\"movie\",\"tv\",\"movie\",\"movie\",\"special\",\"ova\",\"tv\",\"movie\",\"ona\",\"movie\",\"ona\",\"tv\",\"tv\",\"music\",\"ova\",\"ona\",\"movie\",\"ona\",\"special\",\"tv\",\"special\",\"special\",\"special\",\"tv\",\"movie\",\"special\",\"ova\",\"tv\",\"music\",\"special\",\"music\",\"ova\",\"music\",\"special\",\"ona\",\"ona\",\"movie\",\"ona\",\"ona\",\"tv\",\"tv\",\"ona\",\"movie\",\"ona\",\"music\",\"tv\",\"ona\",\"music\",\"music\",\"tv\",\"tv\",\"special\",\"music\",\"tv\",\"movie\",\"tv\",\"tv\",\"movie\",\"tv\",\"tv\",\"music\",\"movie\",\"movie\",\"tv\",\"tv\",\"tv\",\"ova\",\"tv\",\"tv\",\"movie\",\"movie\",\"ona\",\"music\",\"special\",\"ona\",\"music\",\"special\",\"movie\",\"tv\",\"movie\",\"tv\",\"ona\",\"tv\",\"tv\",\"ova\",\"ona\",\"ova\",\"ova\",\"movie\",\"music\",\"movie\",\"tv\",\"ova\",\"movie\",\"tv\",\"tv\",\"ova\",\"music\",\"music\",\"ova\",\"music\",\"ova\",\"music\",\"tv\",\"movie\",\"special\",\"ona\",\"tv\",\"tv\",\"music\",\"ona\",\"ova\",\"ona\",\"music\",\"tv\",\"movie\",\"ova\",\"ona\",\"ona\",\"music\",\"movie\",\"special\",\"movie\",\"tv\",\"tv\",\"music\",\"ona\",\"ova\",\"tv\",\"tv\",\"special\",\"movie\",\"music\",\"movie\",\"music\",\"ova\",\"movie\",\"music\",\"movie\",\"ova\",\"tv\",\"ona\",\"tv\",\"tv\",\"ova\",\"ova\",\"ona\",\"ona\",\"music\",\"tv\",\"music\",\"special\",\"ova\",\"special\",\"tv\",\"special\",\"ona\",\"special\",\"movie\",\"ona\",\"movie\",\"ova\",\"ova\",\"movie\",\"movie\",\"special\",\"ona\",\"tv\",\"ova\",\"movie\",\"ona\",\"ona\",\"music\",\"special\",\"ona\",\"ova\",\"tv\",\"tv\",\"tv\",\"ova\",\"tv\",\"tv\",\"music\",\"tv\",\"tv\",\"movie\",\"ova\",\"music\",\"movie\",\"movie\",\"ova\",\"ona\",\"tv\",\"ona\",\"ova\",\"special\",\"movie\",\"movie\",\"ova\",\"tv\",\"special\",\"tv\",\"ova\",\"ona\",\"music\",\"ona\",\"movie\",\"ona\",\"ona\",\"special\",\"tv\",\"tv\",\"ova\",\"movie\",\"ova\",\"tv\",\"special\",\"ova\",\"tv\",\"tv\",\"movie\",\"tv\",\"ova\",\"music\",\"ona\",\"ona\",\"ova\",\"tv\",\"ova\",\"ova\",\"special\",\"tv\",\"ona\",\"tv\",\"special\",\"movie\",\"movie\",\"ona\",\"ova\",\"tv\",\"special\",\"special\",\"special\",\"tv\",\"movie\",\"movie\",\"ona\",\"tv\",\"tv\",\"tv\",\"music\",\"ona\",\"tv\",\"movie\",\"tv\",\"tv\",\"movie\",\"ona\",\"tv\",\"movie\",\"tv\",\"ona\",\"tv\",\"movie\",\"special\",\"ova\",\"music\",\"tv\",\"ova\",\"ona\",\"ova\",\"tv\",\"ova\",\"ova\",\"tv\",\"music\",\"ona\",\"tv\",\"ova\",\"special\",\"tv\",\"ova\",\"ova\",\"ova\",\"ona\",\"tv\",\"music\",\"ona\",\"movie\",\"ova\",\"music\",\"special\",\"music\",\"tv\",\"ona\",\"ona\",\"special\",\"ona\",\"tv\",\"ova\",\"tv\",\"tv\",\"tv\",\"tv\",\"tv\",\"ova\",\"tv\",\"special\",\"music\",\"music\",\"ova\",\"ova\",\"music\",\"ova\",\"ova\",\"tv\",\"ova\",\"tv\",\"music\",\"ona\",\"tv\",\"ova\",\"ona\",\"ona\",\"tv\",\"ova\",\"tv\",\"tv\",\"movie\",\"music\",\"ona\",\"ova\",\"music\",\"tv\",\"special\",\"movie\",\"ona\",\"special\",\"special\",\"ova\",\"movie\",\"tv\",\"ova\",\"tv\",\"music\",\"ona\",\"ova\",\"special\",\"tv\",\"ova\",\"tv\",\"special\",\"ova\",\"ova\",\"tv\",null,\"ona\",\"ova\",\"movie\",\"movie\",\"ona\",\"movie\",\"special\",\"tv\",\"tv\",\"ona\",\"special\",\"tv\",\"special\",null,\"movie\",\"tv\",\"ova\",\"tv\",\"movie\",\"tv\",\"special\",\"tv\",\"tv\",\"ona\",\"special\",\"tv\",\"music\",\"tv\",\"music\",\"movie\",\"movie\",\"tv\",\"tv\",\"tv\",\"ona\",\"ova\",\"music\",\"ova\",\"music\",\"tv\",\"tv\",\"ona\",\"music\",\"special\",\"special\",\"tv\",\"tv\",\"tv\",\"special\",\"ona\",\"music\",\"music\",\"special\",\"ova\",\"movie\",\"ona\",\"ona\",\"music\",\"music\",\"movie\",\"ova\",\"special\",\"music\",\"tv\",\"ova\",\"ova\",\"tv\",\"ona\",\"ova\",\"music\",\"music\",\"ova\",\"ova\",\"tv\",\"movie\",\"movie\",\"music\",\"ova\",\"music\",\"movie\",\"movie\",\"ona\",\"ona\",\"special\",\"tv\",\"ova\",\"movie\",\"tv\",\"tv\",\"ova\",\"music\",\"tv\",\"tv\",\"ova\",\"movie\",\"ona\",\"tv\",\"ova\",\"tv\",\"movie\",\"movie\",\"tv\",\"movie\",\"movie\",\"tv\",\"ova\",\"ova\",\"special\",\"movie\",\"tv\",\"movie\",\"special\",\"music\",\"tv\",\"ova\",\"tv\",\"movie\",\"tv\",\"tv\",\"ova\",\"movie\",\"special\",\"tv\",\"ona\",\"tv\",\"tv\",\"movie\",\"special\",\"ova\",\"movie\",\"tv\",\"ova\",\"special\",\"special\",\"tv\",\"ova\",\"movie\",\"music\",\"movie\",\"movie\",\"ova\",\"movie\",\"ona\",\"music\",\"movie\",\"special\",\"ova\",\"tv\",\"special\",\"special\",\"special\",\"movie\",\"music\",\"movie\",\"movie\",\"tv\",\"ona\",\"special\",\"ona\",\"tv\",\"tv\",\"music\",\"ova\",\"tv\",\"movie\",\"music\",\"tv\",\"tv\",\"movie\",\"ona\",\"ova\",\"ona\",\"music\",\"tv\",\"tv\",\"music\",\"tv\",\"ova\",\"ona\",\"movie\",\"ova\",\"ona\",\"tv\",\"special\",\"ova\",\"ona\",\"music\",\"movie\",\"movie\",\"ona\",\"ova\",\"special\",\"movie\",\"tv\",\"movie\",\"ova\",\"movie\",\"ova\",\"movie\",\"movie\",\"tv\",\"ona\",\"ona\",\"tv\",\"tv\",\"tv\",\"movie\",\"tv\",\"special\",\"tv\",\"special\",\"special\",\"ona\",\"ona\",\"movie\",\"ona\",\"special\",\"music\",\"ova\",\"music\",\"ova\",\"tv\",\"tv\",\"ona\",\"ova\",\"music\",\"tv\",\"movie\",\"tv\",\"tv\",\"movie\",\"tv\",\"ona\",\"tv\",\"tv\",\"music\",\"special\",\"special\",\"tv\",\"special\",\"tv\",\"ona\",\"movie\",\"tv\",\"movie\",\"movie\",\"tv\",\"movie\",\"music\",\"ova\",\"ova\",\"tv\",\"special\",\"tv\",\"tv\",\"ova\",\"movie\",\"special\",\"movie\",\"ova\",\"movie\",\"tv\",\"movie\",\"tv\",\"ova\",\"ova\",\"ona\",\"special\",\"ova\",\"tv\",\"tv\",\"music\",\"ova\",\"tv\",\"music\",\"ona\",\"music\",\"special\",\"tv\",\"ova\",\"tv\",\"ova\",\"ona\",\"special\",\"movie\",\"ova\",\"ova\",\"ova\",\"special\",\"ova\",\"ova\",\"tv\",\"ona\",\"special\",\"ova\",\"movie\",\"ova\",\"movie\",\"tv\",\"tv\",\"tv\",\"music\",\"tv\",\"ova\",\"movie\",\"ona\",\"ova\",\"tv\",\"tv\",\"ova\",\"ova\",\"tv\",\"movie\",\"movie\",\"tv\",\"ova\",\"ova\",\"movie\",\"tv\",\"ova\",\"ona\",\"tv\",\"music\",\"ova\",\"music\",\"special\",\"tv\",\"ona\",\"ova\",\"ova\",\"music\",\"movie\",\"ova\",\"tv\",\"music\",\"movie\",\"ona\",\"tv\",\"ova\",\"special\",\"ona\",\"tv\",\"music\",\"ona\",\"movie\",\"tv\",\"ona\",\"movie\",\"ona\",\"movie\",\"ova\",\"tv\",\"ona\",\"special\",\"ova\",\"tv\",\"music\",\"ova\",\"music\",\"movie\",\"movie\",\"ova\",\"ona\",\"tv\",\"tv\",\"ova\",\"tv\",\"special\",\"tv\",\"ova\",\"special\",\"ova\",\"special\",\"special\",\"ona\",\"tv\",\"tv\",\"ova\",\"movie\",\"ona\",\"tv\",\"ona\",\"tv\",\"tv\",\"music\",\"ova\",\"ova\",\"special\",\"ona\",\"movie\",\"movie\",\"ona\",\"ova\",\"ona\",\"movie\",\"movie\",\"ova\",\"ova\",\"movie\",\"special\",\"movie\",\"tv\",\"tv\",\"ova\",\"movie\",\"music\",\"movie\",\"tv\",\"tv\",\"music\",\"movie\",\"ova\",\"tv\",\"tv\",\"ona\",\"special\",\"movie\",\"tv\",\"tv\",\"ova\",\"music\",\"tv\",\"tv\",\"ova\",\"ova\",\"ona\",\"tv\",\"ona\",\"ona\",\"tv\",\"special\",\"ova\",\"tv\",null,\"special\",\"tv\",\"ona\",\"music\",\"tv\",\"ova\",\"music\",\"tv\",\"ova\",\"special\",\"ova\",\"tv\",\"ova\",\"movie\",\"tv\",\"tv\",\"movie\",\"tv\",\"movie\",\"tv\",\"ova\",\"ona\",\"tv\",\"movie\",\"music\",\"movie\",\"tv\",\"tv\",\"ona\",\"movie\",\"special\",\"music\",\"tv\",\"ona\",\"ova\",\"ova\",\"music\",\"music\",\"tv\",\"tv\",\"ova\",\"movie\",\"tv\",\"movie\",\"ona\",\"movie\",\"tv\",\"ova\",\"ona\",\"ona\",\"ona\",\"tv\",\"special\",\"special\",\"music\",\"ona\",\"movie\",\"ona\",\"ona\",\"tv\",\"music\",\"tv\",\"movie\",\"tv\",\"music\",\"tv\",\"tv\",\"ova\",\"ova\",\"special\",\"ova\",\"tv\",\"movie\",\"special\",\"movie\",\"ova\",\"ona\",\"tv\",\"music\",\"tv\",\"tv\",\"tv\",\"tv\",\"music\",\"ova\",\"ova\",\"movie\",\"movie\",\"movie\",\"movie\",\"tv\",\"special\",\"movie\",\"ova\",\"ona\",\"ova\",\"special\",\"tv\",\"ova\",\"tv\",\"movie\",\"ona\",\"movie\",\"ova\",\"ova\",\"tv\",\"ona\",\"ova\",\"music\",\"movie\",\"movie\",\"tv\",\"ova\",\"ova\",\"special\",\"tv\",\"movie\",\"music\",\"tv\",\"ova\",\"tv\",\"music\",\"tv\",\"tv\",\"ova\",\"tv\",\"ova\",\"music\",\"music\",\"ova\",\"ona\",\"ona\",\"ova\",\"music\",\"tv\",\"movie\",\"special\",\"ova\",\"ona\",\"ova\",\"special\",\"music\",\"ova\",\"tv\",\"tv\",\"tv\",\"ona\",\"ova\",\"special\",\"ona\",\"ova\",\"tv\",\"tv\",\"ova\",\"special\",\"tv\",\"tv\",\"movie\",\"music\",\"movie\",\"music\",\"tv\",\"tv\",\"music\",\"special\",\"music\",\"ova\",\"tv\",\"tv\",\"ova\",\"ona\",\"tv\",\"music\",\"tv\",\"movie\",\"tv\",\"special\",\"ova\",\"ona\",\"movie\",\"tv\",\"movie\",\"movie\",\"special\",\"tv\",\"ona\",\"ova\",\"tv\",\"movie\",\"tv\",\"ona\",\"ova\",\"tv\",\"tv\",\"ona\",\"tv\",\"music\",\"ona\",\"ona\",\"ova\",\"ona\",\"special\",\"ona\",\"special\",\"movie\",\"movie\",\"tv\",\"tv\",\"tv\",\"music\",\"tv\",\"tv\",\"tv\",\"movie\",\"special\",\"music\",\"movie\",\"ova\",\"ona\",\"tv\",\"movie\",\"music\",\"ona\",\"music\",\"movie\",\"ona\",\"ova\",\"music\",\"special\",\"music\",\"special\",\"music\",\"ona\",\"tv\",\"music\",\"movie\",\"music\",\"ova\",\"movie\",\"ova\",\"movie\",\"movie\",\"ona\",\"tv\",\"movie\",\"tv\",\"ona\",\"tv\",\"tv\",\"movie\",\"ova\",\"tv\",\"ova\",\"tv\",\"ona\",\"tv\",\"tv\",\"tv\",\"music\",\"special\",\"tv\",\"tv\",\"ona\",\"tv\",\"movie\",\"ova\",\"ova\",\"tv\",\"tv\",\"ova\",\"tv\",\"ova\",\"tv\",\"tv\",\"ova\",\"movie\",\"music\",\"music\",\"ova\",\"tv\",\"ona\",\"tv\",\"tv\",\"special\",\"movie\",\"movie\",\"ona\",\"ova\",\"ona\",\"music\",\"ova\",\"ona\",\"tv\",\"ova\",\"ova\",\"tv\",\"special\",\"special\",\"music\",\"special\",\"tv\",\"ona\",\"music\",\"ova\",\"tv\",\"music\",\"ova\",\"special\",\"tv\",\"tv\",\"ona\",\"ona\",\"ova\",\"ova\",\"tv\",\"tv\",\"ona\",\"tv\",\"movie\",\"movie\",\"movie\",\"music\",\"movie\",\"tv\",\"tv\",\"ona\",\"tv\",\"movie\",\"movie\",\"tv\",\"tv\",\"ona\",\"tv\",\"movie\",\"ova\",\"tv\",\"tv\",\"special\",\"music\",\"music\",\"tv\",\"ona\",\"ova\",\"ona\",\"tv\",\"movie\",\"ova\",\"ova\",\"tv\",\"special\",\"tv\",\"tv\",\"music\",\"music\",\"tv\",\"movie\",\"ova\",\"movie\",\"ova\",\"tv\",\"tv\",\"special\",\"ova\",\"music\",\"tv\",\"tv\",\"music\",\"tv\",\"music\",\"ona\",\"tv\",\"ova\",\"tv\",\"music\",\"tv\",\"ona\",\"music\",\"music\",\"tv\",\"tv\",\"ona\",\"tv\",\"tv\",\"ova\",\"movie\",\"movie\",\"tv\",\"ova\",\"tv\",\"ona\",\"movie\",\"movie\",\"ova\",\"ova\",\"music\",\"movie\",\"tv\",\"ona\",\"tv\",\"ona\",\"tv\",\"tv\",\"tv\",\"special\",\"ova\",\"ova\",\"music\",\"tv\",\"ova\",\"tv\",\"movie\",\"ona\",\"movie\",\"tv\",\"movie\",\"movie\",\"tv\",\"special\",\"tv\",\"movie\",\"ova\",\"tv\",\"ona\",\"ona\",\"ova\",\"movie\",\"movie\",\"tv\",\"tv\",\"ova\",\"music\",\"music\",\"ova\",\"ona\",\"movie\",\"special\",\"ova\",\"music\",\"tv\",\"movie\",\"ona\",\"ona\",\"ona\",\"movie\",\"ova\",\"ova\",\"special\",\"ona\",\"movie\",\"movie\",\"tv\",\"movie\",\"ova\",\"tv\",\"movie\",\"ona\",\"movie\",\"tv\",\"tv\",\"movie\",\"ona\",\"tv\",\"movie\",\"tv\",\"movie\",\"tv\",\"tv\",\"tv\",\"tv\",\"special\",\"tv\",\"tv\",\"tv\",\"tv\",\"ova\",\"music\",\"tv\",\"ona\",\"tv\",\"special\",\"movie\",\"movie\",\"ona\",\"ona\",\"ova\",\"tv\",\"tv\",\"tv\",\"music\",\"tv\",\"music\",\"tv\",\"tv\",\"tv\",\"special\",\"movie\",\"tv\",\"tv\",\"ona\",\"ona\",\"tv\",\"tv\",\"tv\",\"ova\",\"tv\",\"special\",\"music\",\"special\",\"tv\",\"music\",\"ona\",\"movie\",\"tv\",\"tv\",\"special\",\"ona\",\"music\",\"special\",\"movie\",\"tv\",\"special\",\"ova\",\"ona\",\"tv\",\"music\",\"tv\",\"music\",\"ova\",\"movie\",\"tv\",\"movie\",\"music\",\"tv\",\"movie\",\"tv\",\"movie\",\"tv\",\"tv\",\"tv\",\"special\",\"tv\",\"ova\",\"ona\",\"ona\",\"tv\",\"music\",\"tv\",\"tv\",\"movie\",\"tv\",\"ova\",\"tv\",\"tv\",\"music\",\"special\",\"tv\",\"ova\",\"tv\",\"special\",\"special\",\"tv\",\"music\",\"movie\",\"ona\",\"movie\",\"ova\",\"ona\",\"ova\",\"tv\",\"movie\",\"ova\",\"special\",\"ova\",\"tv\",\"movie\",\"ona\",\"movie\",\"tv\",\"ona\",\"ova\",\"movie\",\"movie\",\"tv\",\"special\",\"ova\",\"tv\",\"tv\",\"ona\",\"tv\",\"tv\",\"ova\",\"tv\",\"ova\",\"tv\",\"tv\",\"music\",\"ona\",\"tv\",\"ova\",\"music\",\"music\",\"special\",\"special\",\"music\",\"music\",\"ova\",\"movie\",\"movie\",\"movie\",\"music\",\"movie\",\"special\",\"ova\",\"ova\",\"tv\",\"tv\",\"special\",\"special\",\"special\",\"movie\",\"ova\",\"tv\",\"tv\",\"special\",\"movie\",\"ova\",\"tv\",\"tv\",\"ona\",\"tv\",\"music\",\"ova\",\"movie\",\"tv\",\"special\",\"music\",\"ova\",\"music\",\"movie\",\"ona\",\"tv\",\"ova\",\"tv\",\"tv\",\"special\",\"movie\",\"tv\",\"tv\",\"music\",\"tv\",\"ona\",\"ona\",\"ova\",\"tv\",\"tv\",\"music\",\"special\",\"ova\",\"tv\",\"ona\",\"movie\",\"ona\",\"tv\",\"music\",\"movie\",\"ona\",\"tv\",\"special\",\"music\",\"music\",\"movie\",\"special\",\"music\",\"tv\",\"tv\",\"ova\",\"special\",\"ona\",\"tv\",\"ona\",\"music\",\"ova\",\"tv\",\"tv\",\"tv\",\"tv\",\"ona\",\"tv\",\"special\",\"tv\",\"ova\",\"tv\",\"special\",\"movie\",\"ona\",\"tv\",\"movie\",\"music\",\"movie\",\"movie\",\"ona\",\"music\",\"music\",\"tv\",\"movie\",\"special\",\"music\",\"music\",\"tv\",\"tv\",\"tv\",\"ona\",\"movie\",\"movie\",\"special\",\"tv\",\"special\",\"movie\",\"tv\",\"ova\",\"tv\",\"ona\",\"special\",\"tv\",\"tv\",\"music\",\"ova\",\"tv\",\"special\",\"ova\",\"tv\",\"tv\",\"movie\",\"ona\",\"movie\",\"music\",\"tv\",\"tv\",\"music\",\"ona\",\"movie\",\"special\",\"music\",\"tv\",\"tv\",\"special\",\"tv\",\"tv\",\"tv\",\"tv\",\"ova\",\"movie\",\"movie\",\"ova\",\"movie\",\"tv\",\"tv\",\"ona\",\"tv\",\"music\",\"tv\",\"ova\",\"tv\",\"ona\",\"tv\",\"ova\",\"movie\",\"movie\",\"ova\",\"tv\",\"tv\",\"tv\",\"ova\",\"ona\",\"tv\",\"tv\",\"movie\",\"tv\",\"ova\",\"music\",\"movie\",\"movie\",\"tv\",\"ona\",\"movie\",\"tv\",\"tv\",\"movie\",\"tv\",\"ona\",\"tv\",\"tv\",\"ona\",\"movie\",\"tv\",\"movie\",\"ona\",\"ona\",\"tv\",\"ova\",\"ona\",\"tv\",\"tv\",\"music\",\"ona\",\"movie\",\"tv\",\"movie\",\"movie\",\"music\",\"music\",\"special\",\"tv\",\"tv\",\"ona\",\"tv\",\"ona\",\"tv\",\"tv\",\"special\",\"ova\",\"tv\",\"movie\",\"ona\",\"ona\",\"music\",\"ova\",\"movie\",\"tv\",\"movie\",\"music\",\"special\",\"tv\",\"tv\",\"movie\",\"movie\",\"music\",\"music\",\"ona\",\"tv\",\"tv\",\"tv\",\"movie\",\"tv\",\"tv\",\"special\",\"movie\",\"ova\",\"music\",\"tv\",\"ova\",\"ona\",\"tv\",\"ova\",\"special\",\"special\",\"tv\",\"movie\",\"music\",\"ona\",\"movie\",\"movie\",\"music\",\"ova\",\"special\",\"special\",\"ova\",\"ova\",\"special\",\"tv\",\"movie\",\"ova\",\"movie\",\"movie\",\"ova\",\"tv\",\"ova\",\"ona\",\"movie\",\"ova\",\"ona\",\"ona\",\"special\",\"movie\",\"ona\",\"special\",\"special\",\"tv\",\"music\",\"special\",\"tv\",\"tv\",\"special\",\"ova\",\"ova\",\"music\",\"movie\",\"music\",\"ova\",\"movie\",\"special\",\"movie\",\"ova\",\"music\",\"music\",\"tv\",\"tv\",\"music\",\"tv\",\"movie\",\"tv\",\"tv\",\"movie\",\"special\",\"movie\",\"movie\",\"tv\",\"ova\",\"ova\",\"tv\",\"tv\",\"tv\",\"tv\",\"ona\",\"movie\",\"ona\",\"tv\",\"ona\",\"tv\",\"tv\",\"tv\",\"movie\",\"music\",\"ova\",\"tv\",\"special\",\"movie\",\"movie\",\"special\",\"special\",\"music\",\"special\",\"music\",\"ova\",\"ona\",\"ova\",\"movie\",\"music\",\"ova\",\"ova\",\"movie\",\"music\",\"tv\",\"ova\",\"movie\",\"movie\",\"tv\",\"ova\",\"special\",\"tv\",\"ona\",\"special\",\"tv\",\"movie\",\"tv\",\"music\",\"tv\",\"movie\",\"tv\",\"movie\",\"ona\",\"music\",\"tv\",\"ova\",\"ona\",\"movie\",\"music\",\"music\",\"tv\",\"music\",\"movie\",\"ona\",\"movie\",\"movie\",\"movie\",\"movie\",\"tv\",\"ova\",\"ona\",\"special\",\"tv\",\"special\",\"special\",\"movie\",\"movie\",\"ova\",\"movie\",\"music\",\"ova\",\"special\",\"ona\",\"ona\",\"tv\",\"music\",\"tv\",\"tv\",\"music\",\"tv\",\"ona\",\"music\",\"movie\",\"ona\",\"ova\",\"movie\",\"ova\",\"tv\",\"special\",\"ona\",\"special\",\"special\",\"ova\",\"ova\",\"tv\",\"ova\",\"music\",\"movie\",\"movie\",\"tv\",\"tv\",\"tv\",\"movie\",\"music\",\"movie\",\"music\",\"ova\",\"tv\",\"ova\",\"special\",\"tv\",\"movie\",\"ona\",\"tv\",\"movie\",\"movie\",\"tv\",\"ova\",\"tv\",\"tv\",\"tv\",\"ona\",\"movie\",\"movie\",\"movie\",\"movie\",\"special\",\"ova\",\"tv\",\"movie\",\"movie\",\"movie\",\"ova\",\"movie\",\"tv\",\"ova\",\"ova\",\"ova\",\"music\",\"tv\",\"tv\",\"ona\",\"music\",\"movie\",\"music\",\"special\",\"special\",\"movie\",\"music\",\"special\",\"ona\",\"tv\",\"ona\",\"ova\",\"music\",\"music\",\"ova\",\"ova\",\"ona\",\"movie\",\"ova\",\"ona\",\"ona\",\"ova\",\"ona\",\"ona\",\"ona\",\"ova\",\"movie\",\"tv\",\"tv\",\"tv\",\"tv\",\"movie\",\"music\",\"tv\",\"ova\",\"tv\",\"tv\",\"ona\",\"music\",\"tv\",\"tv\",\"movie\",\"ova\",\"movie\",\"special\",\"ova\",\"movie\",\"ova\",\"tv\",\"ova\",\"ona\",\"ona\",\"movie\",\"music\",\"tv\",\"tv\",\"ova\",\"ova\",\"ova\",\"tv\",\"tv\",\"ona\",\"ova\",\"ova\",\"music\",\"music\",\"tv\",\"tv\",\"ona\",\"tv\",\"ova\",\"tv\",\"movie\",\"movie\",\"ova\",\"movie\",\"movie\",\"special\",\"ova\",\"ona\",\"movie\",\"ova\",\"ova\",\"ova\",\"music\",\"ova\",\"ova\",\"movie\",\"movie\",\"tv\",\"tv\",\"tv\",\"tv\",\"movie\",\"ona\",\"tv\",\"music\",\"ona\",\"tv\",\"ona\",\"tv\",\"ona\",\"tv\",\"movie\",\"ova\",\"special\",\"movie\",\"tv\",\"ona\",\"tv\",\"movie\",\"special\",\"ona\",\"ova\",\"ona\",\"music\",\"movie\",\"tv\",\"special\",\"ona\",\"tv\",\"tv\",\"special\",\"ova\",\"music\",\"tv\",\"tv\",\"music\",\"tv\",\"ona\",\"music\",null,\"tv\",\"tv\",\"music\",\"tv\",\"tv\",\"music\",\"ova\",\"ona\",\"tv\",\"music\",\"movie\",\"special\",\"movie\",\"ona\",\"tv\",\"movie\",\"music\",\"tv\",\"special\",\"ona\",\"movie\",\"tv\",\"movie\",\"ova\",\"ova\",\"movie\",\"tv\",\"ova\",\"movie\",\"ova\",null,\"ova\",\"tv\",\"ona\",\"tv\",\"ova\",\"special\",\"movie\",\"movie\",\"special\",\"movie\",\"tv\",\"ona\",\"tv\",\"tv\",\"movie\",\"tv\",\"tv\",\"movie\",\"tv\",\"ova\",\"music\",\"ona\",\"ova\",\"ona\",\"tv\",\"tv\",\"ova\",\"movie\",\"music\",\"ona\",\"ova\",\"tv\",\"movie\",\"special\",\"music\",\"special\",\"tv\",\"movie\",\"movie\",\"music\",\"ova\",\"ova\",\"movie\",\"tv\",\"ona\",\"tv\",\"music\",\"music\",\"music\",\"tv\",\"tv\",\"special\",\"ova\",\"ova\",\"tv\",\"tv\",\"ona\",\"tv\",\"ona\",\"tv\",\"ona\",\"ona\",\"tv\",\"ova\",\"tv\",\"special\",\"ova\",\"special\",\"tv\",\"ona\",\"tv\",\"movie\",\"movie\",\"tv\",\"movie\",\"special\",\"ona\",\"tv\",\"tv\",\"movie\",\"ova\",\"special\",\"ova\",\"ona\",\"special\",\"ona\",\"ona\",\"ova\",\"ona\",\"tv\",\"music\",\"ova\",\"special\",\"tv\",\"tv\",\"tv\",\"music\",\"music\",\"special\",\"movie\",\"tv\",\"tv\",\"ona\",\"movie\",\"music\",\"ova\",\"tv\",\"music\",\"tv\",\"movie\",\"movie\",\"movie\",\"tv\",\"tv\",\"tv\",\"tv\",\"tv\",\"ova\",\"tv\",\"ova\",\"ova\",\"movie\",\"movie\",\"music\",\"music\",\"ona\",\"movie\",\"tv\",\"movie\",\"movie\",\"tv\",\"tv\",\"ova\",\"ova\",\"tv\",\"movie\",\"movie\",\"music\",\"ova\",\"music\",\"ona\",\"ova\",\"special\",\"tv\",\"ova\",\"ona\",\"ova\",\"tv\",\"music\",\"music\",\"ona\",\"ova\",\"tv\",\"tv\",\"ova\",\"tv\",\"movie\",\"ova\",\"ova\",\"movie\",\"ona\",\"music\",\"ona\",\"ova\",\"tv\",\"tv\",\"tv\",\"ova\",\"special\",\"movie\",\"special\",\"movie\",\"ova\",\"tv\",\"special\",\"special\",\"tv\",\"tv\",\"tv\",\"tv\",\"movie\",\"ova\",\"music\",\"special\",\"music\",\"movie\",\"special\",\"tv\",\"movie\",\"tv\",\"ova\",\"tv\",\"ona\",\"ona\",\"tv\",\"movie\",\"ova\",\"movie\",\"ona\",\"movie\",\"ova\",\"movie\",\"ona\",\"special\",\"ona\",\"tv\",\"ona\",\"tv\",\"ona\",\"ova\",\"tv\",\"movie\",\"ova\",\"tv\",\"movie\",\"ona\",\"special\",\"movie\",\"movie\",\"ona\",\"music\",\"special\",\"ona\",\"ova\",\"tv\",\"tv\",\"ova\",\"ona\",\"ona\",\"ona\",\"ova\",\"tv\",\"ova\",\"tv\",\"tv\",\"tv\",\"tv\",\"music\",\"ova\",\"music\",\"special\",\"movie\",\"music\",\"music\",\"movie\",\"ona\",\"tv\",\"movie\",\"ova\",\"tv\",\"tv\",\"tv\",\"tv\",\"music\",\"ona\",\"special\",\"movie\",\"ova\",\"music\",\"special\",\"tv\",\"tv\",\"ova\",\"ona\",\"tv\",\"ona\",\"movie\",\"music\",\"tv\",\"tv\",\"tv\",\"tv\",\"music\",\"tv\",\"movie\",\"music\",\"movie\",\"music\",\"ona\",\"movie\",\"ova\",\"tv\",\"special\",\"ona\",\"movie\",\"movie\",\"movie\",\"movie\",\"special\",\"movie\",\"music\",\"tv\",\"ona\",\"movie\",\"ova\",\"special\",\"ova\",\"special\",\"ova\",\"ova\",\"ova\",\"movie\",\"movie\",\"movie\",\"movie\",\"ona\",\"music\",\"tv\",\"music\",\"tv\",\"tv\",\"music\",\"ova\",\"ona\",\"movie\",\"ova\",\"ona\",\"tv\",\"ova\",\"movie\",\"tv\",\"ova\",\"ona\",\"tv\",\"movie\",\"music\",\"ova\",\"tv\",\"movie\",\"tv\",\"tv\",\"ova\",\"tv\",\"tv\",\"ova\",\"ova\",\"ona\",\"ona\",\"ova\",\"tv\",\"ova\",\"tv\",\"special\",\"ona\",\"music\",\"tv\",\"special\",\"tv\",\"music\",\"tv\",\"special\",\"music\",\"ova\",\"special\",\"music\",\"ova\",\"tv\",\"ova\",\"tv\",\"tv\",\"ona\",\"music\",\"ona\",\"special\",\"tv\",\"ova\",\"music\",\"special\",\"tv\",\"ona\",\"ova\",\"tv\",\"tv\",\"ona\",\"ona\",\"ova\",\"tv\",\"ona\",\"music\",\"tv\",\"special\",\"ona\",\"ona\",\"music\",\"ona\",\"tv\",\"special\",\"tv\",\"tv\",\"tv\",\"ova\",\"tv\",\"tv\",\"tv\",\"tv\",\"tv\",\"movie\",\"movie\",\"tv\",\"ova\",\"ona\",\"tv\",\"tv\",\"tv\",\"special\",\"ova\",\"ova\",\"tv\",\"tv\",\"tv\",\"ova\",\"movie\",\"music\",\"ona\",\"tv\",\"tv\",\"music\",\"movie\",\"ova\",\"ona\",\"ova\",\"tv\",\"ona\",\"special\",\"ona\",\"ova\",\"tv\",\"music\",\"tv\",\"tv\",\"ona\",\"movie\",\"movie\",\"movie\",\"ona\",\"ona\",\"ona\",\"movie\",\"tv\",\"special\",\"music\",\"special\",\"ona\",\"ona\",\"music\",\"ova\",\"special\",\"tv\",\"movie\",\"special\",\"tv\",\"special\",\"tv\",\"tv\",\"ona\",\"tv\",\"music\",\"movie\",\"ova\",\"tv\",\"tv\",\"tv\",\"ova\",\"tv\",\"tv\",\"movie\",\"ona\",\"tv\",\"tv\",\"tv\",\"movie\",\"tv\",\"tv\",\"movie\",\"movie\",\"special\",\"special\",\"ona\",\"ona\",\"movie\",\"movie\",\"ona\",\"ona\",\"special\",\"ova\",\"special\",\"tv\",\"movie\",\"music\",\"music\",\"tv\",\"tv\",\"ona\",\"ona\",\"ova\",\"ona\",\"movie\",\"ova\",\"tv\",\"special\",\"ona\",\"movie\",\"special\",\"music\",\"music\",\"music\",\"movie\",\"ona\",\"ova\",\"special\",\"tv\",\"ona\",\"special\",\"music\",\"ona\",\"ova\",\"tv\",\"ona\",\"ova\",\"special\",\"tv\",\"movie\",\"movie\",\"ona\",\"ona\",\"tv\",\"special\",\"music\",\"tv\",\"special\",\"ona\",\"tv\",\"ova\",\"movie\",\"ova\",\"ona\",\"music\",\"movie\",\"movie\",\"tv\",\"tv\",\"special\",\"ova\",\"ona\",\"tv\",\"tv\",\"tv\",\"ova\",\"music\",\"tv\",\"special\",\"movie\",\"movie\",\"tv\",\"tv\",\"tv\",\"movie\",\"music\",\"ona\",\"tv\",\"ona\",\"ova\",\"movie\",\"music\",\"tv\",\"tv\",\"movie\",\"movie\",\"ova\",\"ova\",\"movie\",\"tv\",\"special\",\"ova\",\"ova\",\"ova\",\"tv\",\"movie\",\"ona\",\"ona\",\"tv\",\"tv\",\"tv\",\"ona\",\"tv\",\"tv\",\"ova\",\"ona\",\"ona\",\"ova\",\"ova\",\"movie\",\"ona\",\"music\",\"music\",\"music\",\"movie\",\"ova\",\"ova\",\"tv\",\"ova\",\"tv\",\"tv\",\"movie\",\"tv\",\"ona\",\"ova\",\"tv\",\"movie\",\"music\",\"movie\",\"ova\",\"ova\",\"movie\",\"ona\",\"music\",\"special\",\"ona\",\"ona\",\"music\",\"tv\",\"tv\",\"movie\",\"ona\",\"tv\",\"movie\",\"ova\",\"special\",\"special\",\"tv\",\"movie\",\"tv\",\"ona\",\"ona\",\"movie\",\"movie\",\"tv\",\"special\",\"movie\",\"ova\",\"tv\",\"movie\",\"movie\",\"ona\",\"tv\",\"tv\",\"movie\",\"tv\",\"tv\",\"special\",\"ova\",\"ova\",\"ova\",\"music\",\"music\",\"tv\",\"ova\",\"movie\",\"ona\",\"special\",\"music\",\"tv\",\"special\",\"ova\",\"special\",\"ona\",\"special\",\"ona\",\"ona\",\"special\",\"ova\",\"movie\",\"tv\",\"movie\",\"special\",\"ona\",\"movie\",\"tv\",\"tv\",\"ova\",\"music\",\"music\",\"music\",\"ona\",\"ova\",\"tv\",\"music\",\"movie\",\"movie\",\"tv\",\"tv\",\"special\",\"ova\",\"special\",\"ona\",\"tv\",\"special\",\"tv\",\"movie\",\"music\",\"tv\",\"movie\",\"tv\",\"ova\",\"tv\",\"ova\",\"ona\",\"tv\",\"movie\",\"tv\",\"ova\",\"movie\",\"tv\",\"tv\",\"movie\",\"tv\",\"special\",\"tv\",\"ona\",\"tv\",\"tv\",\"ona\",\"movie\",\"ona\",\"special\",\"special\",\"tv\",\"tv\",\"tv\",\"special\",\"movie\",\"tv\",\"tv\",\"tv\",\"movie\",\"ova\",\"ova\",\"ona\",\"ova\",\"tv\",\"tv\",\"tv\",\"tv\",\"ova\",\"special\",\"special\",\"tv\",\"tv\",\"movie\",\"ona\",\"ova\",\"special\",\"ona\",\"ona\",\"movie\",\"ova\",\"tv\",\"ona\",\"special\",\"ona\",\"tv\",\"ova\",\"music\",\"ona\",\"tv\",\"special\",\"special\",\"tv\",\"movie\",\"special\",\"tv\",\"tv\",\"tv\",\"tv\",\"tv\",\"ova\",\"movie\",\"tv\",\"ona\",\"tv\",\"ona\",\"ona\",\"movie\",\"special\",\"movie\",\"movie\",\"ona\",\"ona\",\"ova\",\"movie\",\"ona\",\"tv\",\"movie\",\"tv\",\"ova\",\"tv\",\"ona\",\"special\",\"ona\",\"tv\",\"ova\",\"ona\",\"ova\",\"ona\",\"ona\",\"tv\",\"ona\",\"movie\",\"ona\",\"tv\",\"tv\",\"music\",\"tv\",\"movie\",\"ova\",\"ova\",\"ona\",\"ova\",\"ona\",\"tv\",\"tv\",null,\"movie\",\"ona\",\"music\",\"ona\",\"tv\",\"ova\",\"music\",\"ona\",\"tv\",\"movie\",\"ova\",\"movie\",\"ova\",\"tv\",\"music\",\"tv\",\"ona\",\"special\",\"special\",\"ova\",\"tv\",\"ova\",\"movie\",\"music\",\"tv\",\"movie\",\"ova\",\"tv\",\"movie\",\"ona\",\"tv\",\"ona\",\"movie\",\"ova\",\"ona\",\"movie\",\"movie\",\"tv\",\"ova\",\"movie\",\"ona\",\"ova\",\"movie\",\"movie\",\"movie\",\"movie\",\"special\",\"movie\",\"ona\",\"tv\",\"special\",\"ona\",\"movie\",\"tv\",\"special\",\"tv\",\"special\",\"tv\",\"tv\",\"ova\",\"ona\",\"ona\",\"tv\",\"movie\",\"tv\",\"movie\",\"tv\",\"music\",\"tv\",\"tv\",\"ova\",\"special\",\"special\",\"tv\",\"movie\",\"tv\",\"movie\",\"ona\",\"ona\",\"tv\",\"ona\",\"special\",\"movie\",\"ova\",\"tv\",\"ova\",\"tv\",\"ona\",\"movie\",\"ona\",\"ova\",\"ova\",\"movie\",\"music\",\"ova\",\"tv\",\"movie\",\"ona\",\"tv\",\"special\",\"ova\",\"special\",\"music\",\"tv\",\"movie\",\"ova\",\"movie\",\"ova\",\"movie\",\"movie\",\"tv\",\"tv\",\"movie\",\"movie\",\"ona\",\"movie\",\"movie\",\"ova\",\"ova\",\"ona\",\"movie\",\"movie\",\"ova\",\"tv\",\"movie\",\"tv\",\"tv\",\"ova\",\"ona\",\"tv\",\"tv\",\"tv\",\"ova\",\"ona\",\"ona\",\"ova\",\"ova\",\"ona\",\"music\",\"tv\",\"ona\",\"special\",\"tv\",\"tv\",\"tv\",\"tv\",\"ova\",\"ova\",\"music\",\"tv\",\"tv\",\"ova\",\"tv\",\"special\",\"tv\",\"ova\",\"special\",\"ona\",\"music\",\"music\",\"tv\",\"ova\",\"tv\",\"tv\",\"ova\",\"special\",\"movie\",\"tv\",\"tv\",\"tv\",\"ova\",\"ona\",\"movie\",\"special\",null,\"tv\",\"movie\",\"ona\",\"ona\",\"music\",\"movie\",\"ona\",\"tv\",\"ova\",\"ona\",\"tv\",\"ona\",\"tv\",\"tv\",\"ona\",\"music\",\"movie\",\"tv\",\"ona\",\"ona\",\"tv\",\"ona\",\"movie\",\"special\",\"ona\",\"ova\",\"movie\",\"tv\",\"tv\",\"special\",\"tv\",\"ona\",\"tv\",\"ova\",\"special\",\"movie\",\"special\",\"tv\",\"movie\",\"ova\",\"ona\",\"tv\",\"ona\",\"movie\",\"music\",\"ova\",\"ona\",\"movie\",\"special\",\"tv\",\"ova\",\"tv\",\"movie\",\"movie\",\"ona\",\"ona\",\"music\",\"tv\",\"ova\",\"tv\",\"ova\",\"tv\",\"movie\",\"ona\",\"special\",\"tv\",\"music\",\"tv\",\"tv\",\"tv\",\"tv\",\"ona\",\"tv\",\"ova\",\"movie\",\"tv\",\"movie\",\"special\",\"tv\",\"special\",\"movie\",\"tv\",\"tv\",\"tv\",\"tv\",\"tv\",\"movie\",\"tv\",\"ona\",\"ova\",\"tv\",\"movie\",\"tv\",\"special\",\"special\",\"movie\",\"ona\",\"ona\",\"music\",\"music\",\"tv\",\"movie\",\"ova\",\"tv\",\"movie\",\"movie\",\"movie\",\"movie\",\"movie\",\"special\",\"movie\",\"ova\",\"special\",\"special\",\"movie\",\"tv\",\"special\",\"music\",\"tv\",\"ona\",\"ona\",\"movie\",\"special\",\"ova\",\"ona\",\"tv\",\"ova\",\"tv\",\"special\",\"ona\",\"ova\",\"music\",\"special\",\"tv\",\"tv\",\"tv\",\"music\",\"tv\",\"ova\",\"tv\",\"tv\",\"tv\",\"ova\",\"tv\",\"ona\",\"tv\",\"tv\",\"movie\",\"ova\",\"tv\",\"ona\",\"tv\",\"movie\",\"ova\",\"movie\",\"special\",\"tv\",\"movie\",\"music\",\"movie\",\"tv\",\"ova\",\"tv\",\"special\",\"tv\",\"movie\",\"movie\",\"tv\",\"ova\",\"ona\",\"ova\",\"movie\",\"special\",\"ova\",\"music\",\"music\",\"movie\",\"tv\",\"ona\",\"tv\",\"tv\",\"tv\",\"tv\",\"ova\",\"special\",\"ona\",\"ona\",\"ova\",\"ova\",\"ona\",\"special\",\"tv\",\"special\",\"ova\",\"ova\",\"tv\",\"music\",\"music\",\"tv\",\"movie\",\"tv\",\"tv\",\"tv\",\"tv\",\"music\",\"movie\",\"ova\",\"tv\",\"ona\",\"ova\",\"tv\",\"ona\",\"movie\",\"special\",\"ova\",\"ona\",\"ona\",\"music\",\"ova\",\"tv\",\"tv\",\"movie\",\"special\",\"ova\",\"tv\",\"ona\",\"movie\",\"movie\",\"movie\",\"tv\",\"ova\",\"music\",\"ona\",\"tv\",\"ova\",\"movie\",\"movie\",\"ona\",\"tv\",\"movie\",\"ova\",\"tv\",\"ova\",\"special\",\"ova\",\"ova\",\"music\",\"ona\",\"ona\",\"tv\",\"tv\",\"ova\",\"movie\",\"movie\",\"ona\",\"ona\",\"ova\",\"ova\",\"tv\",\"music\",\"tv\",\"movie\",\"tv\",\"ova\",\"ova\",\"special\",\"special\",\"special\",\"tv\",\"special\",\"music\",\"movie\",\"tv\",\"tv\",\"tv\",\"ova\",\"tv\",\"movie\",\"movie\",\"ova\",\"special\",\"tv\",\"music\",\"tv\",\"tv\",\"music\",\"music\",\"movie\",\"tv\",\"movie\",\"tv\",\"music\",\"tv\",\"ona\",\"tv\",\"ova\",\"special\",\"ona\",\"movie\",\"ova\",\"tv\",\"ona\",\"tv\",\"ova\",\"music\",\"tv\",\"movie\",\"tv\",\"tv\",\"tv\",\"special\",\"tv\",\"movie\",\"tv\",\"tv\",\"movie\",\"movie\",\"music\",\"movie\",\"tv\",\"music\",\"tv\",\"tv\",\"tv\",\"special\",\"movie\",\"ona\",\"special\",\"tv\",\"tv\",\"movie\",\"ova\",\"tv\",\"tv\",\"music\",\"music\",\"ona\",\"ona\",\"tv\",\"ona\",\"ona\",\"ona\",\"tv\",\"music\",\"movie\",\"special\",\"tv\",\"tv\",\"tv\",\"tv\",\"movie\",\"movie\",\"movie\",\"ona\",\"tv\",\"tv\",\"music\",\"tv\",\"special\",\"ova\",\"ona\",\"ona\",\"music\",\"tv\",\"movie\",\"tv\",\"tv\",\"movie\",\"ova\",\"ova\",\"special\",\"tv\",\"movie\",\"tv\",\"tv\",\"music\",\"ova\",\"music\",\"ova\",\"ona\",\"music\",\"ona\",\"movie\",\"movie\",\"ova\",\"special\",\"music\",\"ova\",\"movie\",\"ova\",\"ova\",\"ona\",\"ova\",\"tv\",\"music\",\"ova\",\"ona\",\"music\",\"movie\",\"movie\",\"movie\",\"music\",\"ova\",\"ova\",\"ova\",\"tv\",\"music\",\"movie\",\"ova\",\"ona\",\"ova\",\"music\",\"tv\",\"music\",\"movie\",\"music\",\"ova\",\"ona\",\"special\",\"tv\",\"tv\",\"movie\",\"movie\",\"tv\",\"music\",\"movie\",\"ona\",\"ona\",\"movie\",\"tv\",\"movie\",\"movie\",\"ova\",\"ova\",\"movie\",\"music\",\"special\",\"tv\",\"movie\",\"ona\",\"ova\",\"ova\",\"special\",\"tv\",\"tv\",\"music\",\"tv\",\"tv\",\"special\",\"music\",\"ova\",\"movie\",\"movie\",\"tv\",\"tv\",\"ova\",\"music\",\"tv\",\"tv\",\"tv\",\"tv\",\"ova\",\"ona\",\"tv\",\"tv\",\"movie\",\"music\",\"tv\",\"ona\",\"tv\",\"music\",\"tv\",\"tv\",\"tv\",\"ova\",\"tv\",\"tv\",\"ova\",\"music\",\"movie\",\"movie\",\"movie\",\"music\",\"tv\",\"tv\",\"ona\",\"ova\",\"special\",\"ova\",\"tv\",\"special\",\"tv\",\"movie\",\"movie\",\"tv\",\"ova\",\"ona\",\"movie\",\"special\",\"tv\",\"music\",\"tv\",\"tv\",\"tv\",\"ova\",\"tv\",\"ova\",\"ova\",\"music\",\"ova\",\"tv\",\"tv\",\"music\",\"movie\",\"movie\",\"tv\",\"movie\",\"ova\",\"ova\",\"ona\",\"ova\",\"ova\",\"special\",\"tv\",\"music\",\"tv\",\"tv\",\"special\",\"special\",\"special\",\"tv\",\"music\",\"ova\",\"tv\",\"tv\",\"ova\",\"tv\",\"tv\",\"tv\",\"special\",\"special\",\"ova\",\"movie\",\"tv\",\"tv\",\"movie\",\"tv\",\"ova\",\"movie\",\"tv\",\"ova\",\"tv\",\"tv\",\"ova\",\"movie\",\"special\",\"movie\",\"movie\",\"movie\",\"ona\",\"tv\",\"ova\",\"music\",\"movie\",\"tv\",\"ona\",\"movie\",\"tv\",\"movie\",\"tv\",\"music\",\"ova\",\"ova\",\"tv\",\"ona\",\"tv\",\"music\",\"tv\",\"tv\",\"music\",\"ona\",\"ova\",\"special\",\"ona\",\"tv\",\"ova\",\"special\",\"music\",\"tv\",\"special\",\"movie\",\"special\",\"tv\",\"movie\",\"music\",\"ova\",\"ova\",\"music\",\"music\",\"ona\",\"tv\",\"music\",\"ona\",\"movie\",\"special\",\"ona\",\"ova\",\"ona\",\"tv\",\"special\",\"tv\",\"tv\",\"music\",\"special\",\"ova\",\"movie\",\"movie\",\"tv\",\"movie\",\"tv\",\"tv\",\"tv\",\"tv\",\"tv\",\"ova\",\"tv\",\"special\",\"special\",\"music\",\"tv\",\"music\",\"tv\",\"ova\",\"music\",\"ona\",\"tv\",\"tv\",\"tv\",\"ona\",\"tv\",\"tv\",\"music\",\"music\",\"tv\",\"tv\",\"tv\",\"ova\",\"tv\",\"special\",\"tv\",\"tv\",\"ona\",\"movie\",\"tv\",\"ova\",\"ova\",\"ova\",\"tv\",\"special\",\"ona\",\"tv\",\"movie\",\"tv\",\"music\",\"music\",\"movie\",\"movie\",\"tv\",\"ona\",\"movie\",\"ona\",\"tv\",\"ona\",\"tv\",\"tv\",\"music\",\"tv\",\"movie\",\"movie\",\"ona\",\"tv\",\"music\",\"special\",\"tv\",\"tv\",\"ona\",\"ona\",\"tv\",\"ona\",\"ova\",\"ona\",\"ona\",\"tv\",\"ova\",\"tv\",\"music\",\"music\",\"tv\",\"tv\",\"tv\",\"ova\",\"ona\",\"tv\",\"ona\",\"music\",\"movie\",\"ova\",\"ona\",\"ona\",\"movie\",\"tv\",\"tv\",\"tv\",\"tv\",\"movie\",\"movie\",\"tv\",\"special\",\"tv\",\"special\",\"special\",\"tv\",\"tv\",\"ova\",\"tv\",\"movie\",\"tv\",\"ona\",\"music\",\"ona\",\"special\",\"special\",\"movie\",\"ona\",\"tv\",\"tv\",\"special\",\"music\",\"ova\",\"music\",\"ona\",\"ona\",\"tv\",\"movie\",\"tv\",\"music\",\"tv\",\"movie\",\"special\",\"tv\",\"music\",\"ova\",\"music\",\"tv\",\"ova\",\"ova\",\"music\",\"tv\",\"tv\",\"movie\",\"special\",\"ona\",\"movie\",\"ona\",\"tv\",\"tv\",\"ova\",\"ona\",\"special\",\"ova\",\"tv\",\"movie\",\"tv\",\"tv\",\"tv\",\"ona\",\"tv\",\"movie\",\"movie\",\"tv\",\"tv\",\"special\",\"ona\",\"tv\",\"music\",\"tv\",\"special\",\"movie\",\"ona\",\"movie\",\"tv\",\"ova\",\"tv\",\"tv\",\"movie\",\"music\",\"tv\",\"ova\",\"special\",\"tv\",\"movie\",\"movie\",\"tv\",\"tv\",\"movie\",\"tv\",\"ova\",\"special\",\"ova\",\"ova\",\"ova\",\"ova\",\"ova\",\"tv\",\"movie\",\"tv\",\"movie\",\"ona\",\"movie\",\"movie\",\"movie\",\"ona\",\"tv\",\"tv\",\"ova\",\"ova\",\"tv\",\"music\",\"tv\",\"tv\",\"tv\",\"tv\",null,\"tv\",\"movie\",\"ona\",\"movie\",\"movie\",\"tv\",\"special\",\"tv\",\"tv\",\"ova\",\"movie\",\"special\",\"special\",\"ova\",\"ona\",\"tv\",\"movie\",\"ona\",\"music\",\"special\",\"ova\",\"tv\",\"ona\",\"movie\",\"ona\",\"ova\",\"movie\",\"tv\",\"music\",\"tv\",\"ona\",\"tv\",\"ona\",\"ova\",\"tv\",\"tv\",\"tv\",\"tv\",\"tv\",\"special\",\"special\",\"tv\",\"movie\",\"tv\",\"tv\",\"tv\",\"special\",null,\"music\",\"movie\",\"movie\",\"music\",\"special\",\"tv\",\"tv\",\"tv\",\"tv\",\"tv\",\"movie\",\"ova\",\"ova\",\"ona\",\"tv\",\"music\",\"movie\",\"ova\",\"music\",\"ova\",\"music\",\"music\",\"music\",\"tv\",\"special\",\"movie\",\"tv\",\"tv\",\"special\",null,\"tv\",\"movie\",\"ova\",\"tv\",\"ona\",\"ona\",\"ona\",\"tv\",\"movie\",\"ona\",\"tv\",\"ova\",\"ova\",\"ona\",\"ona\",\"special\",\"tv\",\"movie\",\"music\",\"music\",\"ona\",\"tv\",\"tv\",\"movie\",\"music\",\"music\",\"ova\",\"movie\",\"tv\",\"ova\",\"movie\",\"tv\",\"movie\",\"tv\",\"ova\",\"movie\",\"special\",\"tv\",\"ova\",\"tv\",\"movie\",\"tv\",\"special\",\"tv\",\"tv\",\"music\",\"movie\",\"movie\",\"ona\",\"tv\",\"special\",\"music\",\"music\",\"tv\",\"ona\",\"special\",\"ona\",\"ova\",\"tv\",\"special\",\"music\",\"music\",\"tv\",\"ova\",\"ona\",\"movie\",\"tv\",\"music\",\"ova\",\"ova\",\"ova\",\"tv\",\"ona\",\"tv\",\"tv\",\"special\",\"ova\",\"music\",\"movie\",\"tv\",\"ova\",\"music\",\"ova\",\"tv\",\"movie\",\"music\",\"special\",\"music\",\"tv\",\"movie\",\"special\",\"ova\",\"ona\",\"ova\",\"ova\",\"movie\",\"tv\",\"tv\",\"ova\",\"tv\",\"ona\",\"tv\",\"special\",\"tv\",\"movie\",\"music\",\"tv\",\"ova\",\"tv\",\"music\",\"ona\",\"ona\",\"movie\",\"special\",\"movie\",\"movie\",\"ona\",\"special\",\"tv\",\"movie\",\"tv\",\"tv\",\"tv\",\"movie\",\"movie\",\"ova\",\"ona\",\"movie\",\"ona\",\"music\",\"ona\",\"ova\",\"tv\",\"ova\",\"tv\",\"tv\",\"movie\",\"ona\",\"movie\",\"music\",\"tv\",\"ova\",\"special\",\"ova\",\"tv\",\"movie\",\"special\",\"tv\",\"movie\",\"music\",\"ona\",\"tv\",\"movie\",\"tv\",\"ova\",\"tv\",\"movie\",\"movie\",\"ona\",\"movie\",\"ona\",\"special\",\"ova\",\"ona\",\"tv\",\"music\",\"movie\",\"movie\",\"movie\",\"ova\",\"tv\",\"special\",\"ova\",\"music\",\"music\",\"ova\",\"tv\",\"music\",\"tv\",\"music\",\"tv\",\"movie\",\"tv\",\"music\",\"tv\",\"ona\",\"ova\",\"tv\",\"ova\",\"special\",\"movie\",\"tv\",\"tv\",\"tv\",\"movie\",\"tv\",\"special\",\"movie\",\"special\",\"tv\",\"music\",\"ova\",\"ona\",\"music\",\"movie\",\"music\",\"movie\",\"ona\",\"tv\",\"tv\",\"tv\",\"ona\",\"movie\",\"ona\",\"ona\",\"ona\",\"music\",\"tv\",\"tv\",\"music\",\"tv\",\"ona\",\"ona\",\"ona\",\"tv\",\"music\",\"tv\",\"movie\",\"tv\",\"ova\",\"movie\",\"special\",\"special\",\"special\",\"ova\",\"tv\",\"special\",\"tv\",\"special\",\"special\",\"movie\",\"tv\",\"tv\",\"ova\",\"movie\",\"ona\",\"movie\",\"tv\",\"ona\",\"movie\",\"tv\",\"ova\",\"music\",\"movie\",\"ona\",\"ova\",\"tv\",\"ona\",\"ova\",\"music\",\"ova\",\"movie\",\"tv\",\"music\",\"tv\",\"ova\",\"movie\",\"special\",\"special\",\"movie\",\"movie\",\"tv\",\"music\",\"movie\",\"ona\",\"tv\",\"music\",\"movie\",\"movie\",\"tv\",\"tv\",\"ova\",\"movie\",\"movie\",\"movie\",\"ona\",\"tv\",\"ona\",\"special\",\"movie\",\"ona\",\"ova\",\"ova\",\"music\",\"tv\",\"movie\",\"music\",\"tv\",\"ona\",\"ova\",\"ona\",\"movie\",\"ova\",\"movie\",\"ona\",\"tv\",\"tv\",\"tv\",\"movie\",\"ova\",\"ova\",\"movie\",\"movie\",\"tv\",\"ona\",\"movie\",\"ova\",\"movie\",\"ova\",\"ova\",\"tv\",\"tv\",\"special\",\"ova\",\"movie\",\"ova\",\"music\",\"tv\",\"ona\",\"ova\",\"ona\",\"ona\",\"tv\",\"tv\",\"movie\",\"movie\",\"ona\",\"music\",\"music\",\"ova\",\"tv\",\"movie\",\"special\",\"movie\",\"ova\",\"ova\",\"music\",\"movie\",\"ova\",\"ona\",\"tv\",null,\"tv\",\"tv\",\"tv\",\"tv\",\"tv\",\"ona\",\"tv\",\"special\",\"ova\",\"tv\",\"music\",\"movie\",\"special\",\"ona\",\"special\",\"movie\",\"tv\",\"special\",\"music\",\"special\",\"ova\",\"ona\",\"music\",\"special\",\"special\",\"tv\",\"movie\",\"tv\",\"ova\",\"ona\",\"tv\",\"tv\",\"movie\",\"tv\",\"ona\",\"special\",\"movie\",\"ona\",\"ona\",\"tv\",\"tv\",\"movie\",\"music\",\"music\",\"ova\",\"tv\",\"special\",\"tv\",\"tv\",\"tv\",\"ona\",\"music\",\"movie\",\"movie\",\"movie\",\"special\",\"movie\",\"tv\",\"movie\",\"movie\",\"tv\",\"tv\",\"tv\",\"ova\",\"movie\",\"tv\",\"tv\",\"music\",\"ova\",\"ova\",\"tv\",\"ona\",\"ova\",\"ova\",\"tv\",\"tv\",\"tv\",\"ona\",\"ona\",\"movie\",\"tv\",\"movie\",\"ova\",\"tv\",\"special\",\"tv\",\"tv\",\"special\",\"tv\",\"movie\",\"ova\",\"ova\",\"ona\",\"ona\",\"music\",\"special\",\"ova\",\"ona\",\"music\",\"ova\",\"movie\",\"movie\",\"music\",\"music\",\"movie\",\"tv\",\"tv\",\"tv\",\"tv\",\"music\",\"movie\",\"movie\",\"special\",\"tv\",\"ova\",\"tv\",\"ona\",\"ona\",\"movie\",\"special\",\"tv\",\"ova\",\"ova\",\"tv\",\"music\",\"music\",\"music\",\"tv\",\"music\",\"ova\",\"tv\",\"ova\",\"ova\",\"tv\",\"ova\",\"tv\",\"movie\",\"special\",\"ona\",\"ova\",\"movie\",\"music\",\"tv\",\"tv\",\"tv\",\"music\",\"tv\",\"tv\",\"ova\",\"music\",\"movie\",\"music\",\"music\",\"ova\",\"music\",\"movie\",\"ona\",\"ona\",\"movie\",\"ova\",\"music\",\"special\",\"movie\",\"tv\",\"music\",\"tv\",\"tv\",\"tv\",\"ona\",\"tv\",\"ova\",\"ona\",\"tv\",\"tv\",\"movie\",\"tv\",\"movie\",\"tv\",\"ona\",\"tv\",\"ova\",\"movie\",\"tv\",\"ova\",\"tv\",\"music\",\"movie\",\"tv\",\"ona\",\"tv\",\"movie\",\"ova\",\"ova\",\"tv\",\"special\",\"tv\",\"music\",\"ova\",\"tv\",\"movie\",\"movie\",\"ona\",\"ova\",\"ona\",\"music\",\"tv\",\"tv\",\"ona\",\"ova\",\"ova\",\"tv\",\"tv\",\"special\",\"ona\",\"special\",\"movie\",\"tv\",\"tv\",\"ova\",\"movie\",\"ova\",\"music\",\"special\",\"movie\",\"tv\",\"movie\",\"tv\",\"ova\",\"ova\",\"special\",\"ona\",\"tv\",\"special\",\"movie\",\"movie\",\"music\",\"tv\",\"music\",\"tv\",\"special\",\"music\",\"special\",\"tv\",\"ona\",\"tv\",\"movie\",\"tv\",\"tv\",\"special\",\"music\",\"music\",\"tv\",\"ona\",\"ova\",\"ona\",\"special\",\"tv\",\"movie\",\"ona\",\"special\",\"movie\",\"ova\",\"movie\",\"music\",\"music\",\"music\",\"special\",\"ona\",\"ova\",\"ova\",\"tv\",\"music\",\"tv\",\"tv\",\"tv\",\"movie\",\"ona\",\"tv\",\"ona\",\"tv\",\"movie\",\"tv\",\"ova\",\"ona\",\"tv\",\"tv\",\"tv\",\"tv\",\"special\",\"special\",\"ova\",\"ona\",\"music\",\"tv\",\"movie\",\"tv\",\"movie\",\"tv\",\"ova\",\"music\",\"tv\",\"tv\",\"tv\",\"ona\",\"tv\",\"ona\",\"tv\",\"tv\",\"movie\",\"ova\",\"special\",\"tv\",\"tv\",\"ova\",\"movie\",\"tv\",\"ova\",\"tv\",\"ova\",\"movie\",\"special\",\"tv\",\"ova\",\"ona\",\"tv\",\"music\",\"tv\",\"special\",\"ona\",\"ona\",\"tv\",\"movie\",\"ova\",\"ova\",\"ova\",\"ova\",\"tv\",\"tv\",\"music\",\"tv\",\"music\",\"movie\",\"tv\",\"ova\",\"special\",\"ova\",\"tv\",\"special\",\"movie\",\"special\",\"movie\",\"tv\",\"ova\",\"movie\",\"special\",\"ona\",\"tv\",\"movie\",\"ova\",\"movie\",\"tv\",\"music\",\"tv\",\"music\",\"ona\",\"special\",\"special\",\"ova\",\"tv\",\"tv\",\"tv\",\"music\",\"movie\",\"tv\",\"movie\",\"ona\",\"ova\",\"ona\",\"tv\",\"movie\",\"special\",\"ona\",\"tv\",\"tv\",\"tv\",\"ona\",\"music\",\"tv\",\"movie\",\"tv\",\"movie\",\"special\",null,\"tv\",\"movie\",\"ova\",\"ona\",\"ona\",\"ova\",\"ona\",\"ona\",\"tv\",\"movie\",\"music\",\"special\",\"tv\",\"special\",\"special\",\"tv\",\"movie\",\"tv\",\"music\",\"movie\",\"ova\",\"tv\",\"music\",\"ona\",\"tv\",\"ova\",\"movie\",\"ova\",\"ova\",\"tv\",\"tv\",\"music\",\"ova\",\"tv\",\"special\",\"tv\",\"movie\",\"music\",\"ona\",\"ova\",\"tv\",\"music\",\"ova\",\"ova\",\"tv\",\"ova\",\"special\",\"tv\",\"ona\",\"tv\",\"tv\",\"music\",\"movie\",\"tv\",\"special\",\"ova\",\"ona\",\"tv\",\"music\",\"music\",\"music\",\"ona\",\"special\",\"special\",\"tv\",\"music\",\"special\",\"music\",\"ova\",\"tv\",\"music\",\"tv\",\"ova\",\"special\",\"ova\",\"tv\",\"tv\",\"ona\",\"tv\",\"ona\",\"movie\",\"ova\",\"movie\",\"tv\",\"tv\",\"ova\",\"ova\",\"movie\",\"music\",\"music\",\"music\",\"tv\",\"tv\",\"ona\",\"music\",\"ova\",\"tv\",\"music\",\"ova\",\"music\",\"movie\",\"tv\",\"tv\",\"ova\",\"tv\",\"special\",\"tv\",\"ona\",\"tv\",\"tv\",\"tv\",\"ona\",\"tv\",\"ova\",\"music\",\"movie\",\"music\",\"movie\",\"tv\",\"tv\",\"tv\",\"ova\",\"special\",\"movie\",\"movie\",\"tv\",\"tv\",\"tv\",\"ova\",\"special\",\"movie\",\"tv\",\"ova\",\"tv\",\"ova\",\"movie\",\"ova\",\"tv\",\"ona\",\"tv\",\"movie\",\"music\",\"movie\",\"movie\",\"tv\",\"tv\",\"tv\",\"tv\",\"tv\",\"music\",\"tv\",\"music\",\"special\",\"ova\",\"ova\",\"music\",\"movie\",\"tv\",\"ova\",\"tv\",\"special\",\"ova\",\"tv\",\"ona\",\"tv\",\"music\",\"tv\",\"movie\",\"tv\",\"movie\",\"tv\",\"music\",\"special\",\"ova\",\"ova\",\"tv\",\"ova\",\"ona\",\"tv\",\"ova\",\"music\",\"music\",\"movie\",\"movie\",\"music\",\"music\",\"music\",\"tv\",\"tv\",\"ova\",\"tv\",\"music\",\"tv\",\"tv\",\"ova\",\"ona\",\"ova\",\"ova\",\"tv\",\"tv\",\"ova\",\"movie\",\"music\",\"tv\",\"ona\",\"music\",\"tv\",\"ova\",\"movie\",\"ova\",\"tv\",\"ona\",\"ova\",\"ova\",\"special\",\"movie\",\"ova\",\"ova\",\"tv\",\"ona\",\"movie\",\"ona\",\"tv\",\"tv\",\"tv\",\"ova\",\"ova\",\"special\",\"ona\",\"ona\",\"special\",\"tv\",\"movie\",\"ova\",\"special\",\"ova\",\"special\",\"movie\",\"ova\",\"ona\",\"movie\",\"tv\",\"ona\",\"special\",\"tv\",\"movie\",\"music\",\"tv\",\"ova\",\"tv\",\"movie\",\"ova\",\"ona\",\"tv\",\"ona\",\"ova\",\"movie\",\"tv\",\"special\",\"ova\",\"movie\",\"special\",\"tv\",\"tv\",\"music\",\"movie\",\"music\",\"tv\",\"ona\",\"ona\",\"tv\",\"special\",\"music\",\"tv\",\"music\",\"music\",\"special\",\"tv\",\"movie\",\"movie\",\"music\",\"ona\",\"ova\",\"movie\",\"movie\",\"ova\",\"movie\",\"tv\",\"music\",\"ona\",\"movie\",\"movie\",\"tv\",\"movie\",\"ova\",\"music\",\"ona\",\"ona\",\"tv\",\"music\",\"tv\",\"movie\",\"ova\",\"tv\",\"ona\",\"tv\",\"tv\",\"music\",\"special\",\"movie\",\"tv\",\"special\",\"movie\",\"tv\",\"special\",\"ona\",\"special\",\"tv\",\"tv\",\"ova\",\"ova\",\"ova\",\"movie\",\"ova\",\"ova\",\"music\",\"tv\",\"ova\",\"tv\",\"ova\",\"movie\",\"ova\",\"ona\",\"movie\",\"tv\",\"movie\",\"ova\",\"tv\",\"music\",\"tv\",null,\"ova\",\"tv\",\"tv\",\"special\",\"ona\",\"movie\",\"ova\",\"movie\",\"tv\",\"tv\",\"music\",\"ona\",\"special\",\"music\",\"ona\",\"music\",\"ona\",\"tv\",\"ova\",\"ona\",\"tv\",\"movie\",\"tv\",\"music\",\"ova\",\"movie\",\"music\",\"special\",\"ova\",\"ona\",\"movie\",\"special\",\"music\",\"ova\",\"music\",\"ona\",\"ova\",\"music\",\"special\",\"ova\",\"ona\",\"ona\",\"ona\",\"special\",\"movie\",\"ova\",\"ova\",\"ova\",\"tv\",\"tv\",\"ova\",\"tv\",\"tv\",\"movie\",\"ova\",\"ona\",\"movie\",\"tv\",\"ona\",\"special\",\"movie\",\"tv\",\"ona\",\"ona\",\"movie\",\"ona\",\"movie\",\"tv\",\"tv\",\"tv\",\"movie\",\"ova\",\"ova\",\"music\",\"tv\",\"tv\",\"movie\",\"tv\",\"special\",\"tv\",\"music\",\"music\",\"ona\",\"tv\",\"tv\",\"movie\",\"ova\",\"ona\",\"ona\",\"ova\",\"music\",\"ona\",\"tv\",\"ova\",\"tv\",\"ova\",\"tv\",\"tv\",\"tv\",\"tv\",\"ova\",\"movie\",\"ova\",\"ona\",\"tv\",\"ova\",\"ona\",\"movie\",\"tv\",\"ova\",\"ova\",\"tv\",\"movie\",\"ona\",\"tv\",\"music\",\"movie\",\"tv\",\"ona\",\"ova\",\"movie\",\"ova\",\"ona\",\"tv\",\"tv\",\"special\",\"tv\",\"tv\",\"tv\",\"tv\",\"tv\",\"ova\",\"music\",\"ova\",\"ova\",\"music\",\"special\",\"tv\",\"movie\",\"movie\",\"music\",\"tv\",\"special\",\"ova\",\"tv\",\"ova\",\"tv\",\"movie\",\"movie\",\"tv\",\"ova\",\"ona\",\"tv\",\"ona\",\"movie\",\"ova\",\"ona\",\"ova\",\"music\",\"ona\",\"ona\",\"ova\",\"movie\",\"movie\",\"ova\",\"tv\",\"ona\",\"ona\",\"ova\",\"tv\",\"movie\",\"ona\",\"special\",\"ova\",\"movie\",\"movie\",\"music\",\"tv\",\"ova\",\"ona\",\"ova\",\"tv\",\"special\",\"tv\",\"movie\",\"ova\",\"music\",\"ona\",\"music\",\"music\",\"tv\",\"tv\",\"movie\",\"ova\",\"music\",\"movie\",\"tv\",\"tv\",\"tv\",\"special\",\"ova\",\"tv\",\"ona\",\"ova\",\"movie\",\"tv\",\"ona\",\"tv\",\"movie\",\"special\",\"ova\",\"ona\",\"ona\",\"movie\",\"music\",\"movie\",\"special\",\"music\",\"special\",\"ona\",\"music\",\"movie\",\"movie\",\"ova\",\"movie\",\"ona\",\"tv\",\"music\",\"music\",\"movie\",\"ova\",\"ova\",\"special\",\"special\",\"movie\",\"ona\",\"tv\",\"ova\",\"ova\",\"movie\",\"tv\",\"ova\",\"movie\",\"ona\",\"movie\",\"tv\",\"movie\",\"tv\",\"tv\",\"ona\",\"tv\",\"movie\",\"ova\",\"music\",\"music\",\"ona\",\"ona\",\"tv\",\"tv\",\"movie\",\"tv\",\"tv\",\"tv\",\"tv\",\"ova\",\"movie\",\"movie\",\"tv\",\"tv\",\"movie\",\"ova\",\"special\",\"movie\",\"ova\",\"ova\",\"tv\",\"ona\",\"special\",\"movie\",\"movie\",\"tv\",\"movie\",\"music\",\"special\",\"tv\",\"movie\",\"music\",\"ova\",\"special\",\"special\",\"movie\",\"tv\",\"ona\",\"ova\",\"tv\",\"ona\",\"movie\",\"special\",\"ova\",\"ova\",\"tv\",\"special\",\"movie\",\"special\",\"movie\",\"special\",\"ova\",\"ona\",\"ova\",\"movie\",\"ona\",\"tv\",\"tv\",\"ona\",\"ova\",\"special\",\"tv\",\"movie\",\"tv\",\"ona\",\"ova\",\"music\",\"ona\",\"tv\",\"ova\",\"ona\",\"ova\",\"tv\",\"ova\",\"tv\",\"ona\",\"tv\",\"movie\",\"tv\",\"ova\",\"tv\",\"tv\",\"music\",\"ona\",\"movie\",\"tv\",\"special\",\"tv\",\"tv\",\"tv\",\"music\",\"movie\",\"special\",\"movie\",\"special\",\"ova\",\"tv\",\"music\",\"ova\",\"ona\",\"music\",\"ova\",\"ova\",\"ona\",\"ova\",\"tv\",\"tv\",\"music\",\"ova\",\"ova\",\"movie\",\"ova\",\"ona\",\"tv\",\"movie\",\"ova\",\"ova\",\"tv\",\"ona\",\"tv\",\"tv\",\"ova\",\"tv\",\"tv\",\"tv\",\"music\",\"tv\",\"tv\",\"music\",\"tv\",\"tv\",\"tv\",\"movie\",\"music\",\"movie\",\"tv\",\"tv\",\"music\",\"movie\",\"tv\",\"movie\",\"special\",\"ona\",\"ona\",\"movie\",\"movie\",\"movie\",\"tv\",\"ona\",\"music\",\"movie\",\"tv\",\"ona\",\"ona\",\"movie\",\"special\",\"music\",\"tv\",\"ona\",\"ova\",\"tv\",\"music\",\"tv\",\"ona\",\"movie\",\"ona\",\"ova\",\"tv\",\"movie\",\"tv\",\"special\",\"ona\",\"tv\",\"tv\",\"ova\",\"special\",\"tv\",\"ova\",\"tv\",\"music\",\"movie\",\"music\",\"ova\",\"movie\",\"ona\",\"movie\",\"tv\",\"tv\",\"tv\",\"tv\",\"tv\",\"tv\",\"tv\",\"movie\",\"tv\",\"ova\",\"tv\",\"tv\",\"movie\",\"ona\",\"movie\",\"movie\",\"ona\",\"ova\",\"tv\",\"tv\",\"movie\",\"tv\",\"tv\",\"special\",\"music\",\"tv\",\"tv\",\"special\",\"music\",\"ova\",\"tv\",\"movie\",\"movie\",\"music\",\"movie\",\"tv\",\"movie\",\"special\",\"movie\",\"ova\",\"tv\",\"ona\",\"tv\",\"ova\",\"ova\",\"tv\",\"ova\",\"ova\",\"ona\",\"ona\",\"tv\",\"movie\",\"ova\",\"ova\",\"tv\",\"ona\",\"special\",\"tv\",\"ona\",\"ova\",\"special\",\"tv\",\"tv\",\"music\",\"tv\",\"music\",\"movie\",\"tv\",\"movie\",\"ona\",\"tv\",\"tv\",\"tv\",\"music\",\"special\",\"tv\",\"ona\",\"ona\",\"music\",\"tv\",\"movie\",\"tv\",\"movie\",\"tv\",\"movie\",\"tv\",\"movie\",\"tv\",\"tv\",\"movie\",\"music\",\"movie\",\"tv\",\"ova\",\"ona\",\"tv\",\"ova\",\"tv\",\"ona\",\"tv\",\"tv\",\"ona\",\"ona\",\"tv\",\"tv\",\"tv\",\"special\",\"ona\",\"ona\",\"tv\",\"special\",\"ova\",\"tv\",\"tv\",\"music\",\"ova\",\"ona\",\"movie\",\"movie\",\"ona\",\"tv\",\"special\",\"movie\",\"special\",\"special\",\"ona\",\"movie\",\"tv\",\"ona\",\"tv\",\"ona\",\"movie\",\"tv\",\"tv\",\"ova\",\"tv\",\"movie\",\"music\",\"tv\",\"music\",\"movie\",\"ova\",\"movie\",\"movie\",\"music\",\"tv\",\"tv\",\"movie\",\"ona\",\"ona\",\"ona\",\"ona\",\"ova\",\"music\",\"ova\",\"tv\",\"music\",\"ona\",\"tv\",\"music\",\"ona\",\"movie\",\"movie\",\"ova\",\"tv\",\"movie\",\"music\",\"ona\",\"ona\",\"special\",\"ova\",\"tv\",\"tv\",\"tv\",\"tv\",\"movie\",\"special\",\"ona\",\"ona\",\"tv\",\"ova\",\"tv\",\"movie\",\"ova\",\"tv\",\"tv\",\"ova\",\"tv\",\"movie\",\"ova\",\"ona\",\"music\",\"ona\",\"music\",\"tv\",\"ona\",\"special\",\"music\",\"ova\",\"ona\",\"tv\",\"movie\",\"tv\",\"tv\",\"music\",\"movie\",null,\"ova\",\"tv\",\"special\",\"movie\",\"ona\",\"ova\",\"movie\",\"special\",\"tv\",\"music\",\"ova\",\"ona\",\"music\",\"tv\",\"special\",\"tv\",\"tv\",\"tv\",\"ova\",\"special\",\"tv\",\"movie\",\"music\",\"movie\",\"movie\",\"tv\",\"movie\",\"ova\",\"movie\",\"movie\",\"movie\",\"tv\",\"tv\",\"ova\",\"ona\",\"ona\",\"special\",\"music\",\"movie\",\"ova\",\"ova\",\"special\",\"music\",\"ova\",\"tv\",\"ona\",\"tv\",\"music\",\"tv\",\"ova\",\"ova\",\"ova\",\"tv\",\"music\",\"ova\",\"tv\",\"movie\",\"ona\",\"music\",\"movie\",\"tv\",\"special\",\"music\",\"music\",\"tv\",\"movie\",\"tv\",\"tv\",\"tv\",\"music\",\"tv\",\"tv\",\"movie\",\"ova\",\"special\",\"special\",\"tv\",\"ona\",\"tv\",\"music\",\"ona\",\"ova\",\"tv\",\"movie\",\"music\",\"tv\",\"movie\",\"movie\",\"tv\",\"music\",\"tv\",\"tv\",\"tv\",\"movie\",\"tv\",\"tv\",\"ona\",\"ova\",\"ova\",\"movie\",\"special\",\"movie\",\"tv\",\"ova\",\"ova\",\"tv\",\"ova\",\"movie\",\"ova\",\"special\",\"tv\",\"tv\",\"tv\",\"tv\",\"tv\",\"movie\",\"ova\",\"movie\",\"ona\",\"music\",\"music\",\"movie\",\"tv\",\"ova\",\"movie\",\"ona\",\"ova\",\"movie\",\"movie\",\"movie\",\"tv\",\"tv\",\"movie\",\"ona\",\"music\",\"ova\",\"movie\",\"movie\",\"movie\",\"music\",\"movie\",\"ova\",\"tv\",\"music\",\"music\",\"ova\",\"tv\",\"tv\",\"ova\",\"ona\",\"tv\",\"special\",\"special\",\"ona\",\"tv\",\"movie\",\"special\",\"tv\",\"ona\",\"ona\",\"tv\",\"music\",\"movie\",\"tv\",\"ova\",\"music\",\"tv\",\"tv\",\"movie\",\"movie\",\"movie\",\"movie\",\"music\",\"special\",\"ona\",\"movie\",\"tv\",\"ona\",\"ova\",\"tv\",\"ova\",\"movie\",\"ova\",\"ova\",\"tv\",\"music\",\"music\",\"special\",\"ova\",\"tv\",\"movie\",\"movie\",\"tv\",\"tv\",\"tv\",\"tv\",\"ona\",\"tv\",null,\"tv\",\"tv\",\"ova\",\"movie\",\"movie\",\"ova\",\"special\",\"movie\",\"ova\",\"movie\",\"movie\",\"tv\",\"tv\",\"special\",\"ova\",\"tv\",\"tv\",\"ova\",\"movie\",\"ova\",\"ova\",\"music\",\"movie\",\"movie\",\"ona\",\"tv\",\"ona\",\"special\",\"movie\",\"music\",\"tv\",\"tv\",\"movie\",\"ona\",\"movie\",\"ona\",\"tv\",\"tv\",\"movie\",\"tv\",\"special\",\"ova\",\"movie\",\"tv\",\"special\",\"tv\",\"music\",\"ona\",\"ova\",\"movie\",\"movie\",\"music\",\"ova\",\"movie\",null,\"ona\",\"tv\",\"movie\",\"special\",\"tv\",\"movie\",\"ova\",\"special\",\"music\",\"tv\",\"tv\",\"music\",\"special\",\"ona\",\"ona\",\"tv\",\"special\",\"special\",\"music\",\"tv\",\"tv\",\"ona\",\"ova\",\"ona\",\"tv\",\"movie\",\"ova\",\"tv\",\"music\",\"movie\",\"tv\",\"ona\",\"ova\",\"ona\",\"ova\",\"movie\",\"ona\",\"tv\",\"special\",\"ova\",\"movie\",\"ova\",\"tv\",\"tv\",\"tv\",\"ova\",\"tv\",\"tv\",\"ona\",\"ova\",\"special\",\"music\",\"tv\",\"special\",\"ona\",\"tv\",\"ona\",\"music\",\"ova\",\"ona\",\"ova\",\"movie\",\"tv\",\"ona\",\"special\",\"ona\",\"tv\",\"movie\",\"ona\",\"music\",\"movie\",\"music\",\"ova\",\"music\",\"music\",\"special\",\"special\",\"tv\",\"special\",\"tv\",\"ona\",\"tv\",\"tv\",\"movie\",\"movie\",\"ova\",\"tv\",\"ova\",\"movie\",\"tv\",\"movie\",\"music\",\"music\",\"ona\",\"ova\",\"tv\",\"music\",\"tv\",\"movie\",\"ova\",\"tv\",\"ova\",\"movie\",\"special\",\"tv\",\"ona\",\"music\",\"tv\",\"tv\",\"ona\",\"movie\",\"special\",\"special\",\"ona\",\"movie\",\"tv\",\"movie\",null,\"tv\",\"ova\",\"ova\",\"ona\",\"tv\",\"ona\",\"ona\",\"ona\",\"ova\",\"tv\",\"ova\",\"tv\",\"movie\",\"movie\",\"tv\",\"tv\",\"music\",\"tv\",\"movie\",\"ona\",\"music\",\"movie\",\"movie\",\"tv\",\"tv\",\"tv\",\"ova\",\"ona\",\"movie\",\"movie\",\"music\",\"tv\",\"tv\",\"ova\",\"tv\",\"music\",\"ova\",\"movie\",\"movie\",\"tv\",\"tv\",\"ova\",\"ova\",\"movie\",\"ova\",\"ova\",\"ova\",\"ona\",\"movie\",\"ova\",\"special\",\"tv\",\"music\",\"music\",\"tv\",\"tv\",\"ona\",\"ona\",\"tv\",\"movie\",\"special\",\"tv\",\"tv\",\"movie\",\"ova\",\"tv\",\"tv\",\"tv\",\"movie\",\"tv\",\"special\",\"music\",\"ona\",\"music\",null,\"special\",\"special\",\"tv\",\"tv\",\"tv\",\"special\",\"ova\",\"movie\",\"ona\",\"ona\",\"special\",\"tv\",\"movie\",\"movie\",\"tv\",\"movie\",\"movie\",\"movie\",\"tv\",\"special\",\"ova\",\"ova\",\"music\",\"special\",\"ona\",\"ova\",\"ona\",\"movie\",\"movie\",\"ova\",\"tv\",\"movie\",\"movie\",\"ova\",\"tv\",\"music\",\"ova\",\"special\",\"tv\",\"music\",\"tv\",\"tv\",\"movie\",\"ova\",\"movie\",\"ova\",\"ona\",\"ona\",\"tv\",\"movie\",\"tv\",\"music\",\"tv\",\"movie\",\"tv\",\"movie\",\"music\",\"movie\",\"special\",\"special\",\"movie\",\"ova\",\"ona\",\"tv\",\"tv\",\"ova\",\"ova\",\"movie\",\"music\",\"ona\",\"music\",\"music\",\"tv\",\"tv\",\"tv\",\"movie\",\"movie\",\"ona\",\"tv\",\"tv\",\"special\",\"tv\",\"special\",\"tv\",\"music\",\"movie\",\"special\",\"tv\",\"ova\",\"tv\",\"special\",\"ova\",\"tv\",\"movie\",\"ova\",\"music\",\"ona\",\"music\",\"ova\",\"special\",\"music\",\"movie\",\"tv\",\"ona\",\"tv\",\"ova\",\"tv\",\"tv\",\"ova\",\"ova\",\"ona\",\"tv\",\"ova\",\"tv\",\"movie\",\"tv\",\"movie\",\"special\",\"ona\",\"movie\",\"tv\",\"ona\",\"ova\",\"tv\",\"tv\",\"tv\",\"tv\",\"music\",\"tv\",\"ova\",\"special\",\"ova\",\"ova\",\"ova\",\"movie\",\"music\",\"tv\",\"ona\",\"ona\",\"ova\",\"ona\",\"ova\",\"movie\",\"music\",\"tv\",\"special\",\"tv\",\"movie\",\"movie\",\"special\",\"movie\",\"music\",\"ona\",\"ova\",\"ova\",\"tv\",\"movie\",\"music\",\"music\",\"tv\",\"ova\",\"music\",\"ona\",\"tv\",\"special\",\"tv\",\"ona\",\"tv\",\"music\",\"special\",\"movie\",\"movie\",\"tv\",\"tv\",\"tv\",\"tv\",\"movie\",\"ova\",\"movie\",\"music\",\"movie\",\"movie\",\"tv\",\"ova\",\"ona\",\"tv\",\"music\",\"ona\",\"ova\",\"tv\",\"movie\",\"music\",\"ona\",\"ona\",\"tv\",\"music\",\"tv\",\"ona\",\"music\",\"movie\",\"ona\",\"movie\",\"ova\",\"tv\",\"ona\",\"tv\",\"ova\",\"movie\",\"special\",\"movie\",\"tv\",\"tv\",\"special\",\"ova\",\"tv\",\"ova\",\"ova\",\"movie\",\"movie\",\"tv\",\"music\",\"music\",\"tv\",\"movie\",\"ova\",\"movie\",\"special\",\"movie\",\"movie\",\"tv\",\"ona\",\"movie\",\"movie\",\"tv\",\"ova\",\"ona\",\"music\",\"special\",\"ova\",\"ona\",\"music\",\"tv\",\"music\",\"ona\",\"tv\",\"tv\",\"tv\",\"special\",\"movie\",\"tv\",\"tv\",\"tv\",\"music\",\"music\",\"ova\",\"tv\",\"ova\",\"music\",\"special\",\"music\",\"special\",\"music\",\"tv\",\"music\",\"ova\",\"music\",\"ova\",\"music\",\"ona\",\"ova\",\"tv\",\"ona\",\"ona\",\"ona\",\"tv\",\"ova\",\"ona\",\"ova\",\"ona\",\"movie\",\"ova\",\"movie\",\"special\",\"tv\",\"ova\",\"tv\",\"ona\",\"ova\",\"music\",\"special\",\"ova\",\"music\",\"tv\",\"music\",\"movie\",\"ova\",\"tv\",\"tv\",\"tv\",\"special\",\"tv\",\"tv\",\"tv\",\"movie\",\"special\",null,\"tv\",\"special\",\"ova\",\"ona\",\"movie\",\"ova\",\"tv\",\"tv\",\"tv\",\"ona\",\"ova\",\"tv\",\"tv\",\"tv\",\"tv\",\"ova\",\"tv\",\"special\",\"ova\",\"music\",\"movie\",\"tv\",\"tv\",\"tv\",\"movie\",\"movie\",\"special\",\"tv\",\"tv\",\"movie\",\"ova\",\"ova\",\"movie\",\"tv\",\"tv\",\"ova\",\"movie\",\"special\",\"music\",\"ova\",\"special\",\"music\",\"tv\",\"music\",\"ona\",\"ona\",\"ona\",\"ova\",\"movie\",\"ona\",\"tv\",\"tv\",\"movie\",\"movie\",\"ona\",\"music\",\"ova\",\"tv\",\"tv\",\"tv\",\"movie\",\"music\",\"ona\",\"tv\",\"movie\",\"movie\",\"ova\",\"ona\",\"tv\",\"movie\",\"ova\",\"special\",\"movie\",\"music\",\"tv\",\"ona\",\"movie\",\"tv\",\"music\",\"special\",\"music\",\"ova\",\"music\",\"tv\",\"tv\",\"special\",\"tv\",\"ova\",\"movie\",\"tv\",\"movie\",\"movie\",\"tv\",\"tv\",\"movie\",\"ona\",\"ova\",\"ona\",\"tv\",\"movie\",\"ona\",\"special\",\"special\",\"tv\",\"movie\",\"tv\",\"music\",\"tv\",\"ona\",\"ova\",\"ona\",\"tv\",\"tv\",\"tv\",\"ona\",\"special\",\"ova\",\"movie\",\"movie\",\"ona\",\"ona\",\"movie\",\"special\",\"tv\",\"tv\",\"ova\",\"ova\",\"movie\",\"ova\",\"tv\",\"tv\",\"movie\",\"movie\",\"special\",\"tv\",\"music\",\"tv\",\"ova\",\"movie\",\"tv\",\"ona\",\"music\",\"ova\",\"music\",\"special\",\"ova\",\"tv\",\"tv\",\"music\",\"ova\",\"tv\",\"tv\",\"special\",\"ova\",\"tv\",\"ova\",\"ona\",\"ona\",\"ona\",\"tv\",\"ova\",\"movie\",\"tv\",\"tv\",\"movie\",\"ona\",\"ova\",\"tv\",\"tv\",\"special\",\"ona\",\"ona\",\"movie\",\"tv\",\"special\",\"ova\",\"ona\",\"ova\",\"tv\",\"ova\",\"movie\",\"music\",\"special\",\"ova\",\"tv\",\"ova\",\"music\",\"music\",\"ova\",\"music\",\"tv\",\"ona\",\"ova\",\"special\",\"music\",\"special\",\"ova\",\"ova\",\"ona\",\"ova\",\"music\",\"movie\",\"ona\",\"ona\",\"special\",\"music\",\"movie\",\"ona\",\"tv\",\"music\",\"ova\",\"ova\",\"movie\",\"tv\",\"tv\",\"special\",\"movie\",\"tv\",\"tv\",\"movie\",\"movie\",\"ova\",\"music\",\"tv\",\"ova\",\"tv\",\"tv\",\"music\",\"ona\",\"music\",\"tv\",\"music\",\"ova\",\"movie\",\"ona\",\"movie\",\"ova\",\"ona\",\"movie\",\"tv\",\"ova\",\"tv\",\"tv\",\"movie\",\"music\",\"ova\",\"ova\",\"ova\",\"movie\",\"music\",\"tv\",\"music\",\"tv\",\"movie\",\"special\",\"ona\",\"ova\",\"movie\",\"tv\",\"tv\",\"tv\",\"ova\",\"special\",\"music\",\"tv\",\"ona\",\"ona\",\"ona\",\"music\",\"movie\",\"tv\",\"special\",\"movie\",\"tv\",\"movie\",\"special\",\"music\",\"tv\",\"ona\",\"movie\",\"movie\",\"tv\",\"ona\",\"ona\",\"ova\",\"tv\",\"tv\",\"special\",\"music\",\"ona\",\"tv\",\"special\",\"special\",\"ona\",\"special\",\"tv\",\"ona\",\"special\",\"movie\",\"ova\",\"ova\",\"ova\",\"tv\",\"movie\",\"ona\",\"ona\",\"movie\",\"tv\",\"ona\",\"music\",\"music\",\"movie\",\"tv\",\"ona\",\"tv\",\"tv\",\"movie\",\"movie\",\"special\",\"ova\",\"tv\",\"tv\",\"movie\",\"tv\",\"movie\",\"tv\",\"special\",\"movie\",\"movie\",\"movie\",\"ova\",\"special\",\"ona\",\"movie\",\"music\",\"music\",\"ona\",\"tv\",\"special\",\"tv\",\"tv\",\"special\",\"ova\",\"movie\",\"music\",\"movie\",\"ona\",\"ona\",\"ona\",\"tv\",\"tv\",\"tv\",\"special\",\"tv\",\"ona\",\"ona\",\"music\",\"special\",\"music\",\"special\",\"special\",\"ova\",\"ona\",\"ona\",\"tv\",\"tv\",\"ona\",\"ona\",\"tv\",\"ona\",\"special\",\"music\",\"ova\",\"ona\",\"tv\",\"tv\",\"music\",\"music\",\"movie\",\"movie\",\"ona\",\"ona\",\"music\",\"movie\",\"movie\",\"tv\",\"ona\",\"music\",\"movie\",\"ova\",\"ona\",\"special\",\"ova\",\"tv\",\"tv\",\"tv\",\"ova\",\"tv\",\"special\",\"music\",\"ona\",\"tv\",\"ona\",\"movie\",\"ova\",\"tv\",\"special\",\"movie\",\"tv\",\"music\",\"movie\",\"tv\",\"tv\",\"movie\",\"ona\",\"special\",\"movie\",\"ona\",\"tv\",\"ona\",\"movie\",\"special\",\"ova\",\"special\",\"tv\",\"music\",\"ona\",\"tv\",\"movie\",\"ona\",\"tv\",\"tv\",\"ona\",\"tv\",\"tv\",\"movie\",\"movie\",\"ova\",\"tv\",\"tv\",\"tv\",\"ona\",\"special\",\"ona\",\"movie\",\"ona\",\"special\",\"tv\",\"tv\",\"movie\",\"tv\",\"tv\",\"movie\",\"tv\",\"tv\",\"ona\",\"special\",\"tv\",\"tv\",\"ova\",\"ova\",\"music\",\"special\",\"special\",\"tv\",\"special\",\"ona\",\"movie\",\"tv\",\"tv\",\"music\",\"ona\",\"music\",\"special\",\"tv\",\"music\",\"ona\",\"ona\",\"music\",\"movie\",\"music\",\"ona\",\"special\",\"movie\",\"tv\",\"ona\",\"tv\",\"movie\",\"tv\",\"ona\",\"tv\",\"tv\",\"movie\",\"ova\",\"movie\",\"movie\",\"music\",\"movie\",\"music\",\"tv\",\"tv\",\"ona\",\"special\",\"tv\",\"ona\",\"ova\",\"movie\",\"special\",\"movie\",\"tv\",\"movie\",\"music\",\"music\",\"special\",\"special\",\"tv\",\"movie\",\"music\",\"tv\",\"music\",\"movie\",\"tv\",\"ona\",\"tv\",\"tv\",\"special\",\"tv\",\"movie\",\"ona\",\"ova\",\"special\",\"tv\",\"ona\",\"ona\",\"ona\",\"tv\",\"movie\",\"movie\",\"movie\",\"tv\",\"tv\",\"ova\",\"music\",\"music\",\"tv\",\"music\",\"tv\",\"tv\",\"tv\",\"movie\",\"ona\",\"ona\",\"ova\",\"movie\",\"special\",\"special\",\"ova\",\"ona\",\"tv\",\"ona\",\"tv\",\"tv\",\"tv\",\"tv\",\"movie\",\"ova\",\"tv\",\"tv\",\"tv\",\"ova\",\"tv\",\"tv\",\"tv\",\"movie\",\"special\",\"ova\",\"ova\",\"ona\",\"music\",\"tv\",\"ova\",\"tv\",\"special\",\"ona\",\"tv\",\"music\",\"tv\",\"tv\",\"special\",\"ona\",\"music\",\"tv\",\"tv\",\"tv\",\"music\",\"special\",\"tv\",\"movie\",\"ona\",\"ona\",\"ova\",\"music\",\"movie\",\"special\",\"tv\",\"ova\",\"ova\",\"music\",\"tv\",\"movie\",\"movie\",\"ona\",\"ova\",\"tv\",\"special\",\"ova\",\"special\",\"movie\",\"tv\",\"ova\",\"ova\",\"music\",\"ona\",\"ona\",\"ova\",\"tv\",\"tv\",\"movie\",\"tv\",\"movie\",\"tv\",\"movie\",\"tv\",\"ona\",\"tv\",null,\"tv\",\"tv\",\"movie\",\"ona\",\"music\",\"tv\",\"tv\",\"tv\",\"tv\",\"music\",\"tv\",\"tv\",\"tv\",\"ova\",\"ona\",\"tv\",\"tv\",\"tv\",\"movie\",\"tv\",\"ova\",\"tv\",\"music\",\"special\",\"music\",\"ova\",\"ona\",\"ova\",\"tv\",\"tv\",\"music\",\"ova\",\"ova\",\"tv\",\"tv\",\"special\",\"ona\",\"music\",\"ova\",\"ona\",\"movie\",\"movie\",\"ova\",\"tv\",\"ova\",\"movie\",\"tv\",\"ova\",\"ona\",\"music\",\"tv\",\"ona\",\"movie\",\"tv\",\"tv\",\"movie\",\"ova\",\"special\",\"movie\",\"movie\",\"tv\",\"music\",\"tv\",\"ona\",\"music\",\"music\",\"music\",\"music\",\"tv\",\"tv\",\"movie\",\"ona\",\"special\",\"music\",\"ova\",\"tv\",\"ona\",\"tv\",\"ona\",\"music\",\"ova\",\"music\",\"music\",\"tv\",\"tv\",\"music\",\"movie\",\"special\",\"tv\",\"ona\",\"tv\",\"movie\",\"ona\",\"music\",\"movie\",\"ova\",\"tv\",\"tv\",\"movie\",\"ona\",\"movie\",\"ona\",\"music\",\"tv\",\"movie\",\"movie\",\"ova\",\"special\",\"tv\",\"ona\",\"tv\",\"movie\",\"ona\",\"ova\",\"tv\",\"ona\",\"ova\",\"ona\",\"ona\",\"tv\",\"special\",\"ona\",\"tv\",\"music\",\"special\",\"tv\",\"ona\",\"music\",\"ova\",\"music\",\"tv\",\"ova\",\"ova\",\"ona\",\"movie\",\"music\",\"music\",\"special\",\"ova\",\"tv\",\"tv\",\"ona\",\"ona\",\"special\",\"movie\",\"music\",\"ona\",\"music\",\"music\",\"music\",\"tv\",\"ova\",\"ona\",\"music\",\"tv\",\"movie\",\"tv\",\"ova\",\"ona\",\"tv\",\"tv\",\"tv\",\"movie\",\"tv\",\"tv\",\"special\",\"tv\",\"movie\",\"ova\",\"tv\",\"movie\",\"music\",\"tv\",\"music\",\"tv\",\"tv\",\"tv\",\"ova\",\"tv\",\"special\",\"ova\",\"movie\",\"movie\",\"movie\",\"special\",\"ona\",\"special\",\"music\",\"ona\",\"ova\",\"special\",\"tv\",\"ona\",\"tv\",\"music\",\"tv\",\"movie\",\"ova\",\"movie\",\"tv\",\"movie\",\"tv\",\"music\",\"special\",\"ova\",\"movie\",\"ona\",\"tv\",\"ona\",\"ona\",\"tv\",\"music\",\"music\",\"music\",\"tv\",\"ova\",\"ova\",\"movie\",\"ona\",\"music\",\"tv\",\"ova\",\"movie\",\"tv\",\"tv\",\"ona\",\"tv\",\"special\",\"music\",\"ova\",\"movie\",\"movie\",\"ona\",\"special\",\"music\",\"movie\",\"ova\",\"music\",\"ova\",\"tv\",\"music\",\"special\",\"movie\",\"movie\",\"tv\",\"music\",\"tv\",\"tv\",\"tv\",\"music\",\"tv\",\"ona\",\"ova\",\"music\",\"ona\",\"movie\",\"tv\",\"special\",\"ona\",\"special\",\"tv\",\"special\",\"music\",\"tv\",\"ona\",\"ova\",\"ona\",\"movie\",\"music\",\"movie\",\"ona\",\"ova\",\"music\",\"ona\",\"movie\",\"ova\",\"movie\",\"special\",\"music\",\"tv\",\"movie\",\"tv\",\"movie\",\"ona\",\"movie\",\"movie\",\"music\",\"tv\",\"music\",\"music\",\"ova\",\"music\",\"ona\",\"movie\",\"tv\",\"tv\",\"ova\",\"movie\",\"ona\",\"ona\",\"tv\",\"ova\",\"ona\",\"movie\",\"special\",\"music\",\"ova\",\"movie\",\"ona\",\"music\",\"movie\",\"tv\",\"ova\",\"ona\",\"ova\",\"special\",\"ova\",\"tv\",\"tv\",\"ova\",\"ova\",\"movie\",\"movie\",\"tv\",\"movie\",\"music\",\"music\",\"ona\",\"music\",\"tv\",\"ova\",\"music\",\"ona\",\"music\",\"tv\",\"special\",\"tv\",\"ona\",\"tv\",\"tv\",\"tv\",\"tv\",\"tv\",\"ona\",\"tv\",\"special\",\"ova\",\"movie\",\"special\",\"ova\",\"tv\",\"ona\",\"music\",\"movie\",\"special\",\"tv\",\"movie\",\"ova\",\"tv\",\"ona\",\"ova\",\"ova\",\"music\",\"ona\",\"ova\",\"music\",\"ova\",\"ona\",\"tv\",\"music\",\"tv\",\"special\",\"ona\",\"special\",\"tv\",\"tv\",\"movie\",\"ona\",\"ona\",\"special\",\"music\",\"ona\",\"tv\",\"movie\",\"tv\",\"ona\",\"special\",\"ona\",\"tv\",\"tv\",\"ona\",\"tv\",\"tv\",\"movie\",\"special\",\"movie\",\"movie\",\"tv\",\"tv\",\"movie\",\"music\",\"music\",\"ona\",\"tv\",\"tv\",\"movie\",\"movie\",\"special\",\"music\",\"ova\",\"ona\",\"movie\",\"tv\",\"tv\",\"ova\",\"movie\",\"tv\",\"tv\",\"special\",\"tv\",\"ona\",\"ova\",\"ova\",\"tv\",\"special\",\"special\",\"tv\",\"ona\",\"tv\",\"movie\",\"tv\",\"ona\",\"ova\",\"special\",\"ona\",\"ova\",\"movie\",\"tv\",\"tv\",\"ova\",\"ova\",\"music\",\"tv\",\"tv\",\"movie\",\"movie\",\"tv\",\"tv\",\"ona\",\"ona\",\"movie\",\"tv\",\"ona\",\"music\",\"ova\",\"ona\",\"special\",\"music\",\"tv\",\"ona\",\"ona\",\"movie\",\"movie\",\"ova\",\"special\",\"tv\",\"movie\",\"tv\",\"movie\",\"music\",\"special\",\"tv\",\"music\",\"tv\",\"music\",\"tv\",\"movie\",\"special\",\"tv\",\"ova\",\"ona\",\"tv\",\"tv\",\"tv\",\"ona\",\"tv\",\"ova\",\"tv\",\"ova\",\"tv\",\"ona\",\"special\",\"ova\",\"movie\",\"ova\",\"movie\",\"ona\",\"music\",\"movie\",\"ova\",\"tv\",\"tv\",\"tv\",\"tv\",\"tv\",\"tv\",\"music\",\"movie\",\"music\",\"special\",\"tv\",\"tv\",\"movie\",\"ova\",\"special\",\"music\",\"tv\",\"tv\",\"movie\",\"tv\",\"tv\",\"tv\",\"music\",\"music\",\"movie\",\"ova\",\"movie\",\"tv\",\"movie\",\"ona\",\"tv\",\"movie\",\"ona\",\"ova\",\"tv\",\"ova\",\"movie\",\"ona\",\"special\",\"special\",\"tv\",\"movie\",\"movie\",\"special\",\"movie\",\"ova\",\"movie\",\"tv\",\"ova\",\"ova\",\"music\",\"special\",\"tv\",\"tv\",\"ova\",\"tv\",\"tv\",\"tv\",\"tv\",\"ona\",\"tv\",\"special\",\"movie\",\"music\",\"ona\",\"movie\",\"movie\",\"tv\",\"movie\",\"special\",\"tv\",\"tv\",\"ova\",\"music\",\"movie\",\"ona\",\"music\",\"tv\",\"ova\",\"ova\",\"movie\",\"special\",\"ona\",\"ona\",\"ona\",\"ova\",\"ona\",\"music\",\"ona\",\"movie\",\"ona\",\"movie\",\"tv\",\"tv\",\"tv\",\"ona\",\"tv\",\"ova\",\"ova\",\"music\",\"movie\",\"special\",\"tv\",\"tv\",\"tv\",\"movie\",\"tv\",\"ova\",\"music\",\"tv\",\"music\",\"tv\",\"ova\",\"tv\",\"tv\",\"special\",\"tv\",\"tv\",\"movie\",\"music\",\"ona\",\"ova\",\"tv\",\"movie\",\"ona\",\"ova\",\"tv\",\"tv\",\"movie\",\"tv\",\"music\",\"tv\",\"ova\",\"music\",\"special\",\"movie\",\"movie\",\"tv\",\"ova\",\"movie\",\"ona\",\"tv\",\"tv\",\"movie\",\"movie\",\"music\",\"special\",\"music\",\"ova\",\"movie\",\"ona\",\"tv\",\"ova\",\"ova\",\"movie\",\"special\",\"tv\",\"ova\",\"tv\",\"tv\",\"ona\",\"ova\",\"ova\",\"music\",\"ova\",\"movie\",\"movie\",\"ona\",\"movie\",\"ona\",\"ova\",\"tv\",\"tv\",\"tv\",\"music\",\"movie\",\"special\",\"movie\",\"movie\",\"music\",\"tv\",\"tv\",\"music\",\"music\",\"movie\",\"ona\",\"music\",\"tv\",\"movie\",\"special\",\"tv\",\"ona\",\"ova\",\"movie\",\"tv\",\"movie\",\"tv\",\"ova\",\"tv\",\"ova\",\"special\",\"music\",\"movie\",\"ova\",\"movie\",\"ova\",\"music\",\"music\",\"music\",\"movie\",\"movie\",\"special\",\"ona\",\"music\",\"tv\",\"movie\",\"tv\",\"tv\",\"movie\",\"ona\",\"ova\",\"tv\",\"tv\",\"music\",\"special\",\"movie\",\"tv\",\"ova\",\"ova\",\"ova\",\"special\",\"special\",\"ona\",\"music\",\"ova\",\"special\",\"movie\",\"ona\",\"movie\",\"tv\",\"tv\",\"ova\",\"music\",\"tv\",\"special\",\"tv\",\"ova\",\"tv\",\"tv\",\"music\",\"ona\",\"special\",\"tv\",\"movie\",\"tv\",\"ova\",\"ona\",\"ova\",\"tv\",\"ova\",\"ova\",null,\"tv\",\"movie\",\"ona\",\"ona\",\"tv\",\"ona\",\"ona\",\"tv\",\"ova\",\"ona\",\"tv\",\"music\",\"tv\",\"movie\",\"tv\",\"ova\",\"tv\",\"tv\",\"ona\",\"movie\",\"tv\",\"music\",\"ova\",\"special\",\"tv\",\"music\",\"movie\",\"movie\",\"special\",\"movie\",\"ova\",\"ona\",\"tv\",\"movie\",\"movie\",\"tv\",\"special\",\"movie\",\"ona\",\"tv\",\"tv\",\"ona\",\"ova\",\"ona\",\"tv\",\"ona\",\"tv\",\"tv\",\"tv\",\"special\",\"tv\",\"ova\",\"tv\",null,\"special\",\"special\",\"ova\",\"ova\",\"ona\",\"ona\",\"ova\",\"ova\",\"tv\",\"music\",\"ova\",\"special\",\"ona\",\"tv\",\"ova\",\"movie\",\"tv\",\"tv\",\"ona\",\"special\",\"ova\",\"tv\",\"special\",\"tv\",\"ova\",\"ova\",\"movie\",\"tv\",\"ona\",\"music\",\"music\",\"tv\",\"tv\",\"ova\",\"ova\",\"tv\",\"movie\",\"ova\",\"movie\",\"ona\",\"ova\",\"special\",\"movie\",\"ona\",\"special\",\"tv\",\"movie\",\"tv\",\"ova\",\"movie\",\"ona\",\"ona\",\"music\",\"ova\",\"ona\",\"special\",\"music\",\"music\",\"ona\",\"ova\",\"ona\",\"ova\",\"tv\",\"ona\",\"tv\",\"tv\",\"special\",\"tv\",\"tv\",\"music\",\"music\",\"special\",\"special\",\"ova\",\"special\",\"tv\",\"special\",\"movie\",\"ona\",\"movie\",\"music\",\"ova\",\"music\",\"ona\",\"tv\",\"special\",\"ona\",\"tv\",\"ova\",\"ova\",\"movie\",\"tv\",\"music\",\"tv\",\"movie\",\"movie\",\"ova\",\"special\",\"ova\",\"ova\",\"movie\",\"music\",\"music\",\"ona\",\"special\",\"tv\",\"tv\",\"tv\",\"movie\",\"ova\",\"tv\",\"ova\",\"tv\",\"tv\",\"tv\",\"music\",\"music\",\"movie\",\"music\",\"ona\",\"special\",\"tv\",\"music\",\"movie\",\"movie\",\"tv\",\"music\",\"ova\",\"ona\",\"ova\",\"movie\",\"music\",\"ova\",\"ova\",\"tv\",\"tv\",\"ova\",\"ona\",\"ona\",\"music\",\"tv\",\"ona\",\"ona\",\"tv\",\"ona\",\"ona\",\"ova\",\"movie\",\"ova\",\"tv\",\"ona\",\"tv\",\"tv\",\"tv\",\"tv\",\"ona\",\"tv\",\"ona\",\"special\",\"ova\",\"tv\",\"ova\",\"tv\",\"ona\",\"movie\",\"ona\",\"movie\",\"ona\",\"music\",\"tv\",\"ova\",\"ona\",\"tv\",\"tv\",\"music\",\"tv\",\"tv\",\"ona\",\"tv\",\"special\",\"tv\",\"ova\",\"ona\",\"tv\",\"tv\",\"ova\",\"ona\",\"movie\",\"movie\",\"tv\",\"tv\",\"ova\",\"tv\",\"tv\",\"music\",\"special\",\"tv\",\"tv\",\"tv\",\"tv\",\"tv\",\"movie\",\"ona\",\"movie\",\"tv\",\"movie\",\"music\",\"ona\",\"music\",\"tv\",\"tv\",\"ova\",\"ova\",\"ona\",\"ova\",\"tv\",\"ova\",\"tv\",\"music\",\"tv\",\"special\",\"tv\",\"tv\",\"ona\",\"tv\",\"movie\",\"tv\",\"special\",\"music\",\"ova\",\"tv\",\"tv\",\"tv\",\"tv\",\"movie\",\"tv\",\"ova\",\"tv\",\"movie\",\"tv\",\"movie\",\"tv\",\"tv\",\"tv\",\"movie\",\"ona\",\"ova\",\"special\",\"ona\",\"tv\",\"ona\",\"ova\",\"tv\",\"ova\",\"ova\",\"music\",\"tv\",\"ona\",\"music\",\"music\",\"special\",\"tv\",\"ona\",null,\"tv\",\"tv\",\"ona\",\"ova\",\"music\",\"ova\",\"movie\",\"movie\",\"ona\",\"special\",\"tv\",\"ona\",\"tv\",\"movie\",\"ona\",\"special\",\"movie\",\"tv\",\"movie\",\"special\",\"ona\",\"ona\",\"movie\",\"special\",\"tv\",\"ona\",\"tv\",\"ona\",\"music\",\"tv\",\"tv\",\"ona\",\"music\",\"ova\",\"tv\",\"movie\",\"tv\",\"ova\",\"movie\",\"music\",\"music\",\"ova\",\"ova\",\"movie\",\"special\",\"ova\",\"tv\",\"special\",\"music\",\"movie\",\"ona\",\"tv\",\"music\",\"tv\",\"ova\",\"special\",\"tv\",\"tv\",\"ova\",\"music\",\"movie\",\"tv\",\"tv\",\"special\",\"movie\",\"music\",\"tv\",\"tv\",\"ova\",\"ova\",\"ova\",\"ona\",\"ova\",\"tv\",\"movie\",\"movie\",\"ova\",\"movie\",\"movie\",\"music\",\"tv\",\"movie\",\"movie\",\"ona\",\"special\",\"ona\",\"ona\",\"tv\",\"tv\",\"music\",\"music\",\"tv\",\"tv\",\"tv\",null,\"tv\",\"movie\",\"music\",\"movie\",\"ona\",\"special\",\"tv\",\"ona\",\"special\",\"tv\",\"tv\",\"tv\",\"music\",\"tv\",\"tv\",\"music\",\"tv\",\"tv\",\"music\",\"tv\",\"music\",\"ona\",\"special\",\"movie\",\"ova\",\"ova\",\"music\",\"tv\",\"special\",\"ova\",\"tv\",\"special\",\"tv\",\"tv\",\"tv\",\"tv\",\"ova\",\"movie\",\"movie\",\"movie\",\"ona\",\"tv\",\"tv\",\"tv\",\"movie\",\"ona\",\"music\",\"movie\",\"ova\",\"ova\",\"tv\",\"ona\",\"special\",\"tv\",\"movie\",\"tv\",\"music\",\"ona\",\"movie\",\"special\",\"ona\",\"ona\",\"movie\",\"movie\",\"tv\",\"movie\",\"ova\",\"ova\",\"movie\",\"ona\",\"tv\",\"tv\",\"tv\",\"special\",\"ova\",\"movie\",\"ova\",\"ona\",\"tv\",\"ona\",\"tv\",\"ona\",\"ova\",\"music\",\"movie\",\"tv\",\"ona\",\"movie\",\"ona\",\"ova\",\"movie\",\"special\",\"special\",\"tv\",\"special\",\"tv\",\"ona\",\"tv\",\"ona\",\"ona\",\"music\",\"movie\",\"ona\",\"movie\",\"movie\",\"movie\",\"music\",\"tv\",\"ova\",\"ova\",\"special\",\"music\",\"special\",\"special\",\"tv\",\"movie\",\"ona\",\"tv\",\"ova\",\"special\",\"tv\",\"special\",\"movie\",\"ova\",\"ona\",\"music\",\"tv\",\"tv\",\"ova\",\"special\",\"ona\",\"special\",\"tv\",\"movie\",\"tv\",\"ova\",\"ona\",\"movie\",\"movie\",\"ova\",\"movie\",\"ona\",\"movie\",\"ova\",\"ona\",\"movie\",\"movie\",\"tv\",\"ona\",\"special\",\"movie\",\"special\",\"tv\",\"movie\",\"tv\",\"tv\",\"music\",\"movie\",\"tv\",\"music\",\"tv\",\"ona\",\"ona\",\"tv\",\"ova\",\"tv\",\"music\",\"tv\",\"movie\",\"movie\",\"special\",\"special\",\"ova\",\"ova\",\"ova\",\"ona\",\"special\",\"movie\",\"music\",\"movie\",\"special\",\"ova\",\"ona\",\"ova\",\"movie\",\"tv\",\"movie\",\"movie\",\"tv\",\"tv\",\"movie\",\"tv\",\"tv\",\"ova\",\"music\",\"music\",\"movie\",\"movie\",\"ona\",\"movie\",\"ona\",\"tv\",\"special\",\"tv\",\"ova\",\"movie\",\"tv\",\"tv\",\"tv\",\"music\",\"special\",\"movie\",\"tv\",\"music\",\"tv\",\"tv\",\"tv\",\"ona\",\"ova\",\"ova\",\"ova\",\"tv\",\"tv\",\"movie\",\"music\",\"music\",\"tv\",\"tv\",\"tv\",\"tv\",\"tv\",\"music\",\"movie\",\"ova\",\"tv\",\"ona\",\"movie\",\"movie\",\"special\",\"ova\",\"ova\",\"music\",\"tv\",\"special\",\"music\",\"ova\",\"movie\",\"ova\",\"movie\",\"movie\",\"music\",\"tv\",\"special\",\"ova\",\"special\",\"tv\",\"tv\",\"tv\",\"tv\",\"ona\",\"movie\",\"music\",\"tv\",\"ova\",\"movie\",\"tv\",\"tv\",\"tv\",\"tv\",\"ona\",\"music\",\"movie\",\"tv\",\"tv\",\"tv\",\"movie\",\"tv\",\"movie\",\"special\",\"tv\",\"tv\",\"ona\",\"music\",\"movie\",\"movie\",\"ova\",\"ona\",\"music\",\"ova\",\"ona\",\"ova\",\"tv\",\"tv\",\"special\",\"movie\",\"tv\",\"music\",\"ona\",\"ona\",\"tv\",\"movie\",\"ona\",\"movie\",\"tv\",\"tv\",\"tv\",\"special\",\"tv\",\"special\",\"movie\",\"music\",\"ova\",\"ona\",\"movie\",\"ova\",\"movie\",\"ova\",\"ova\",\"tv\",\"tv\",\"ova\",\"movie\",\"ova\",\"tv\",\"music\",\"ova\",\"ona\",\"ona\",\"special\",\"tv\",\"tv\",\"tv\",\"movie\",\"movie\",\"movie\",\"ova\",\"ova\",\"ova\",\"movie\",\"tv\",\"tv\",\"music\",\"tv\",\"special\",\"music\",\"special\",\"special\",\"movie\",\"tv\",\"music\",\"tv\",\"ova\",\"special\",\"ova\",\"ova\",\"ona\",\"ona\",\"tv\",\"movie\",\"ova\",\"ona\",\"ova\",\"movie\",\"ova\",\"movie\",\"tv\",\"ova\",\"special\",\"movie\",\"movie\",\"tv\",\"tv\",\"tv\",\"music\",\"special\",\"tv\",\"music\",\"tv\",\"ova\",\"ona\",\"movie\",\"music\",\"music\",\"tv\",\"music\",\"ova\",\"music\",\"movie\",\"tv\",\"ona\",\"tv\",\"tv\",\"ova\",\"ova\",\"movie\",\"music\",\"ona\",\"special\",\"movie\",\"ona\",\"ova\",\"tv\",\"ona\",\"movie\",\"movie\",\"special\",\"music\",\"ova\",\"movie\",\"tv\",\"ona\",\"movie\",\"special\",\"tv\",\"music\",\"special\",\"tv\",\"movie\",\"ona\",\"special\",\"special\",\"special\",\"music\",\"ona\",\"ova\",\"special\",\"special\",\"special\",\"music\",\"ona\",\"tv\",\"movie\",\"ona\",\"ona\",\"ova\",\"movie\",\"movie\",\"ova\",\"ona\",\"music\",\"ona\",\"tv\",\"music\",\"movie\",\"movie\",\"music\",\"ova\",\"ona\",\"special\",\"ova\",\"ona\",\"movie\",\"tv\",\"ona\",\"tv\",\"movie\",\"ova\",\"ona\",\"music\",\"tv\",\"ova\",\"tv\",\"tv\",\"ona\",\"special\",\"ona\",\"tv\",\"tv\",\"ova\",\"tv\",\"tv\",\"movie\",\"movie\",\"ova\",\"tv\",\"special\",\"movie\",\"tv\",\"tv\",\"tv\",\"special\",\"ova\",\"movie\",\"music\",\"ona\",\"ova\",\"special\",\"tv\",\"special\",\"ona\",\"ova\",\"tv\",\"special\",\"tv\",\"tv\",\"tv\",\"ova\",\"tv\",\"movie\",\"special\",\"ona\",\"movie\",\"ova\",\"movie\",\"music\",\"tv\",\"music\",\"tv\",\"movie\",\"music\",\"tv\",\"tv\",\"tv\",\"tv\",\"tv\",\"ova\",\"tv\",\"ova\",\"ona\",\"music\",\"ova\",\"ona\",\"movie\",\"ona\",\"ona\",\"movie\",\"ova\",\"ona\",\"special\",\"movie\",\"tv\",\"movie\",\"tv\",\"ova\",\"music\",\"tv\",\"movie\",\"tv\",\"tv\",\"tv\",\"ova\",\"ona\",\"special\",\"ova\",\"tv\",\"movie\",\"special\",\"ova\",\"ova\",\"music\",\"music\",\"movie\",\"tv\",\"movie\",\"ona\",\"tv\",\"tv\",\"tv\",\"movie\",\"movie\",\"movie\",\"tv\",\"special\",\"tv\",\"ova\",\"ona\",\"tv\",\"tv\",\"tv\",\"ova\",\"music\",\"ona\",\"ona\",\"ona\",\"tv\",\"movie\",\"movie\",\"ona\",\"ona\",\"ona\",\"special\",\"tv\",\"ova\",\"ova\",\"tv\",\"music\",\"special\",\"movie\",\"tv\",\"special\",\"tv\",\"tv\",\"ova\",\"ova\",\"ova\",\"ona\",\"tv\",\"special\",\"tv\",\"tv\",\"tv\",\"movie\",\"movie\",\"ova\",\"ova\",\"tv\",\"tv\",\"music\",\"music\",\"music\",\"ova\",\"special\",\"tv\",\"tv\",\"tv\",\"ova\",\"movie\",\"movie\",\"ova\",\"special\",\"tv\",\"tv\",\"ona\",\"special\",\"tv\",\"ona\",\"tv\",\"music\",\"music\",\"special\",\"movie\",\"tv\",\"tv\",\"tv\",\"music\",\"tv\",\"tv\",\"movie\",\"tv\",\"music\",\"movie\",\"movie\",\"special\",\"movie\",\"ova\",\"special\",\"special\",\"ona\",\"tv\",\"tv\",\"music\",\"tv\",\"special\",\"movie\",\"tv\",\"tv\",\"tv\",\"ona\",\"movie\",\"special\",\"movie\",\"special\",\"special\",\"tv\",\"special\",\"ova\",\"movie\",\"tv\",\"movie\",\"ova\",\"movie\",\"tv\",\"music\",\"special\",\"special\",\"tv\",\"ova\",\"music\",\"tv\",\"ova\",\"ova\",\"special\",\"ona\",\"tv\",\"tv\",\"movie\",\"ova\",\"tv\",\"special\",\"ona\",\"music\",\"ova\",\"special\",\"ova\",\"tv\",\"music\",\"music\",\"movie\",\"tv\",null,\"special\",\"tv\",\"ona\",\"tv\",\"ona\",\"tv\",\"tv\",\"ova\",\"tv\",\"movie\",\"movie\",\"ona\",\"movie\",\"tv\",\"ova\",\"movie\",\"tv\",\"special\",\"ova\",\"tv\",\"ona\",\"tv\",\"ona\",\"tv\",\"special\",\"ova\",\"tv\",\"tv\",\"music\",\"ova\",\"tv\",\"tv\",\"movie\",\"ona\",\"ona\",\"tv\",\"ona\",\"ova\",\"ova\",\"tv\",\"tv\",\"tv\",\"tv\",\"tv\",\"music\",\"special\",\"tv\",\"ova\",\"tv\",\"tv\",\"tv\",\"movie\",\"movie\",\"tv\",\"tv\",\"ova\",\"tv\",\"movie\",\"movie\",\"tv\",\"tv\",\"music\",\"music\",\"special\",\"tv\",\"movie\",\"tv\",\"music\",\"music\",\"ova\",\"movie\",\"special\",\"special\",\"movie\",null,\"ona\",\"ova\",\"music\",\"music\",\"movie\",\"ova\",\"movie\",\"ona\",\"tv\",\"ova\",\"tv\",\"movie\",\"movie\",\"ona\",\"ova\",\"music\",\"ona\",\"tv\",\"tv\",\"tv\",\"movie\",\"tv\",\"ova\",\"tv\",\"ona\",\"ona\",\"ova\",\"tv\",\"tv\",\"tv\",\"tv\",\"tv\",\"music\",\"tv\",\"ona\",\"tv\",\"tv\",\"movie\",\"ova\",\"tv\",\"movie\",\"tv\",\"movie\",\"tv\",\"special\",\"movie\",\"ona\",\"movie\",\"movie\",\"music\",\"tv\",\"ova\",\"tv\",\"special\",\"movie\",\"ona\",\"tv\",\"ova\",\"tv\",\"special\",\"special\",\"tv\",\"tv\",\"ona\",\"ova\",\"music\",\"movie\",\"ova\",\"tv\",\"special\",\"special\",\"ova\",\"ona\",\"tv\",\"tv\",\"music\",\"ona\",\"tv\",\"music\",\"ona\",\"ona\",\"tv\",\"ova\",\"movie\",\"tv\",\"ona\",\"special\",\"movie\",\"music\",\"ova\",\"movie\",\"tv\",\"music\",\"ova\",\"ona\",\"tv\",\"ona\",\"ona\",\"tv\",\"movie\",\"music\",\"ova\",\"movie\",\"ona\",\"tv\",\"ova\",\"tv\",\"ova\",\"movie\",\"ona\",\"ona\",\"movie\",\"ova\",\"movie\",\"ova\",\"ona\",\"tv\",\"movie\",\"ova\",\"music\",\"tv\",\"tv\",\"special\",\"special\",\"movie\",\"tv\",\"music\",\"movie\",\"movie\",\"tv\",\"ova\",\"movie\",\"music\",\"tv\",\"special\",\"movie\",\"special\",\"ova\",\"ova\",\"music\",\"movie\",\"tv\",\"ona\",\"ova\",\"tv\",\"tv\",\"tv\",\"music\",\"ona\",\"special\",\"tv\",\"tv\",\"ona\",\"special\",\"tv\",\"tv\",\"tv\",\"music\",\"ona\",\"movie\",\"tv\",\"movie\",\"ona\",\"ona\",\"ona\",\"special\",\"ona\",\"tv\",\"tv\",\"special\",\"tv\",\"ona\",\"movie\",\"ona\",\"tv\",\"ova\",\"ona\",\"music\",\"special\",\"music\",\"tv\",\"special\",\"tv\",\"tv\",\"ova\",\"movie\",\"ova\",\"ona\",\"tv\",\"special\",\"movie\",\"tv\",\"tv\",\"tv\",\"tv\",\"ova\",\"movie\",\"tv\",\"tv\",\"tv\",\"tv\",\"music\",\"ona\",\"ova\",\"tv\",\"ona\",\"tv\",\"ona\",\"ova\",\"movie\",\"music\",\"ova\",\"tv\",\"ova\",\"ova\",\"movie\",\"tv\",\"tv\",\"ova\",\"movie\",\"movie\",\"special\",\"ona\",\"ona\",\"special\",\"tv\",\"ova\",\"ona\",\"tv\",\"tv\",\"special\",\"music\",\"music\",\"ova\",\"ova\",\"movie\",\"special\",\"movie\",\"ova\",\"ona\",\"tv\",\"movie\",\"ova\",\"tv\",\"tv\",\"tv\",\"tv\",\"ona\",\"movie\",\"music\",\"movie\",\"tv\",\"movie\",\"music\",\"movie\",\"tv\",\"special\",\"ova\",\"ova\",\"special\",\"special\",\"ova\",\"ona\",\"tv\",\"tv\",\"ona\",\"ona\",\"music\",\"tv\",\"music\",\"movie\",\"ova\",\"special\",\"tv\",\"ona\",\"ona\",\"music\",\"movie\",\"tv\",\"ova\",\"movie\",\"movie\",\"ona\",\"ova\",\"ova\",\"tv\",\"tv\",\"music\",\"tv\",\"movie\",\"special\",\"ova\",\"ova\",\"ova\",\"tv\",\"special\",\"special\",\"tv\",\"tv\",\"tv\",\"tv\",\"tv\",\"ova\",\"movie\",\"ona\",\"music\",\"ona\",\"ona\",\"tv\",\"ova\",\"tv\",\"special\",\"ova\",\"ona\",\"movie\",\"ona\",\"tv\",\"tv\",\"tv\",\"music\",\"ova\",\"ona\",\"special\",\"ona\",\"ona\",\"ona\",\"ona\",\"music\",\"tv\",\"music\",\"ona\",\"special\",\"tv\",\"movie\",\"ona\",\"tv\",\"ova\",\"ona\",\"special\",\"music\",\"movie\",\"tv\",\"special\",\"movie\",\"tv\",\"tv\",\"tv\",\"movie\",\"special\",\"music\",\"movie\",\"tv\",\"tv\",\"ona\",\"tv\",\"tv\",\"tv\",\"movie\",\"ona\",\"tv\",\"movie\",\"tv\",\"ova\",\"movie\",\"music\",\"tv\",\"movie\",\"tv\",\"ova\",\"special\",\"movie\",\"ova\",\"music\",\"movie\",\"ova\",\"tv\",\"movie\",\"music\",\"movie\",\"ova\",\"ova\",\"tv\",\"ona\",\"movie\",\"ova\",\"movie\",\"movie\",\"movie\",\"tv\",\"ona\",\"tv\",\"movie\",\"movie\",\"music\",\"tv\",\"ova\",\"movie\",\"ona\",\"tv\",\"movie\",\"ona\",\"tv\",\"music\",\"music\",\"ova\",\"special\",\"ova\",\"movie\",\"music\",\"ova\",\"tv\",\"ova\",\"special\",\"tv\",\"ova\",\"ova\",\"movie\",\"ova\",\"ona\",\"ona\",\"special\",\"tv\",\"ova\",\"ona\",\"ona\",\"movie\",\"movie\",\"ova\",\"movie\",\"music\",\"tv\",\"tv\",\"tv\",\"music\",\"ova\",\"ova\",\"music\",\"tv\",\"tv\",\"tv\",\"tv\",\"special\",\"ova\",\"tv\",\"ova\",\"music\",\"tv\",\"ona\",\"tv\",\"tv\",\"music\",\"tv\",\"ona\",\"movie\",\"special\",\"ona\",\"music\",\"movie\",\"tv\",\"movie\",\"ova\",\"tv\",\"special\",\"tv\",\"special\",\"ona\",\"special\",\"movie\",\"ova\",\"special\",\"ova\",\"ova\",\"tv\",\"ona\",\"music\",\"ova\",\"tv\",\"ona\",\"ova\",\"tv\",\"ona\",\"ona\",\"special\",\"movie\",\"ova\",\"music\",\"music\",\"ova\",\"music\",\"ona\",\"ova\",\"music\",\"ova\",\"music\",\"tv\",\"ona\",\"tv\",\"ova\",\"ona\",\"movie\",\"special\",\"ona\",\"tv\",\"special\",\"special\",\"movie\",\"tv\",\"special\",\"tv\",\"tv\",\"tv\",\"special\",\"ona\",\"special\",\"ona\",\"special\",\"movie\",\"tv\",\"movie\",\"tv\",\"movie\",\"tv\",\"ona\",\"ona\",\"ona\",\"movie\",\"movie\",\"tv\",\"ova\",\"music\",\"ova\",\"movie\",\"tv\",\"tv\",\"special\",\"music\",\"special\",\"movie\",\"tv\",\"music\",\"movie\",\"music\",\"ova\",\"ova\",\"movie\",\"special\",\"tv\",\"tv\",\"tv\",\"tv\",\"tv\",\"tv\",\"ova\",\"tv\",\"special\",\"movie\",\"music\",\"tv\",\"tv\",\"tv\",\"tv\",\"movie\",\"tv\",\"tv\",\"movie\",\"tv\",\"tv\",\"ova\",\"ova\",\"movie\",\"ona\",\"movie\",\"movie\",\"tv\",\"ona\",\"movie\",\"tv\",\"movie\",\"ova\",\"tv\",\"ona\",\"movie\",\"music\",\"tv\",\"tv\",\"special\",\"music\",\"music\",\"tv\",\"movie\",\"tv\",\"ona\",\"ova\",\"tv\",\"movie\",\"tv\",\"music\",\"ova\",\"movie\",\"ona\",\"tv\",\"movie\",\"tv\",\"special\",\"tv\",\"music\",\"movie\",\"ona\",\"music\",\"ona\",\"movie\",\"special\",\"ova\",\"tv\",\"tv\",\"tv\",\"tv\",\"movie\",\"ova\",\"movie\",\"special\",\"movie\",\"ova\",\"ona\",\"ona\",\"ova\",\"ona\",\"ova\",\"movie\",\"ona\",\"tv\",\"movie\",\"special\",\"tv\",\"music\",\"ona\",\"ova\",\"ova\",\"tv\",\"ona\",\"special\",\"movie\",\"music\",\"tv\",\"tv\",\"ova\",\"special\",\"movie\",\"movie\",\"movie\",\"ova\",\"ona\",\"tv\",\"tv\",\"tv\",\"tv\",\"tv\",\"ova\",\"music\",\"ova\",\"movie\",\"tv\",\"ova\",\"ova\",\"movie\",\"movie\",\"special\",\"tv\",\"music\",\"tv\",\"tv\",\"ova\",\"ova\",\"tv\",\"ona\",\"ova\",\"movie\",\"movie\",\"tv\",\"movie\",\"tv\",\"movie\",\"tv\",\"ona\",\"tv\",\"tv\",\"music\",\"ova\",\"tv\",\"special\",\"music\",\"music\",\"music\",\"movie\",\"tv\",\"tv\",\"music\",\"ona\",\"tv\",\"ova\",\"special\",\"tv\",\"tv\",\"tv\",\"ova\",\"ona\",\"ona\",\"movie\",\"movie\",\"ova\",\"tv\",\"special\",\"tv\",\"ova\",\"music\",\"ova\",\"tv\",\"movie\",\"special\",\"ova\",\"music\",\"movie\",\"ona\",\"tv\",\"ova\",\"special\",\"ova\",\"ova\",\"tv\",\"ova\",\"tv\",\"ova\",\"ona\",\"tv\",\"special\",\"ova\",\"music\",\"ova\",\"ova\",\"tv\",\"music\",\"ova\",\"movie\",\"special\",\"tv\",\"ova\",\"tv\",\"ova\",\"ona\",\"special\",\"ona\",\"ova\",\"ova\",\"tv\",\"music\",\"movie\",\"ova\",\"ova\",\"movie\",\"movie\",\"tv\",\"movie\",\"tv\",null,\"movie\",\"movie\",\"movie\",\"tv\",\"ona\",\"tv\",\"movie\",\"movie\",\"tv\",\"ona\",\"ona\",\"movie\",\"tv\",\"movie\",\"ova\",\"ova\",\"movie\",\"tv\",\"special\",\"movie\",\"ova\",\"special\",\"ona\",\"movie\",\"tv\",\"movie\",\"ova\",\"ova\",\"movie\",\"ova\",\"tv\",\"ova\",\"ona\",\"tv\",\"ova\",\"tv\",\"special\",\"ona\",\"ona\",\"ova\",\"movie\",\"tv\",\"ona\",\"tv\",\"movie\",\"music\",\"movie\",\"movie\",\"tv\",\"ova\",\"ova\",\"movie\",\"movie\",\"ova\",\"special\",\"special\",\"ona\",\"tv\",\"tv\",\"music\",\"tv\",\"music\",\"movie\",\"tv\",\"movie\",\"tv\",\"movie\",\"tv\",\"ova\",\"movie\",\"ova\",\"movie\",\"movie\",\"music\",\"tv\",\"movie\",\"movie\",\"special\",\"ona\",\"ova\",\"music\",\"music\",\"ona\",\"ona\",\"ova\",\"movie\",\"tv\",\"special\",\"ona\",\"movie\",\"tv\",\"tv\",\"special\",\"tv\",\"tv\",\"tv\",\"ona\",\"movie\",\"ova\",\"movie\",\"music\",\"special\",\"tv\",\"ona\",\"ova\",\"ona\",\"ova\",\"special\",\"ona\",\"tv\",\"tv\",\"special\",\"music\",\"tv\",\"ova\",\"special\",\"ova\",\"tv\",\"tv\",\"ona\",\"ona\",\"movie\",\"music\",\"ova\",\"movie\",\"special\",\"tv\",\"ova\",\"tv\",\"tv\",\"music\",\"tv\",\"movie\",\"tv\",\"music\",\"ova\",\"ova\",\"movie\",\"tv\",\"movie\",\"tv\",\"ova\",\"ova\",\"special\",\"special\",\"tv\",\"movie\",\"tv\",\"ona\",\"ona\",\"ova\",\"tv\",\"special\",\"movie\",\"tv\",\"ova\",\"ova\",\"music\",\"tv\",\"special\",\"special\",\"movie\",\"tv\",\"ova\",\"tv\",\"ova\",\"tv\",\"ova\",\"movie\",\"movie\",\"ova\",\"movie\",\"ona\",\"tv\",\"tv\",\"tv\",\"tv\",\"ona\",\"special\",\"tv\",\"movie\",\"music\",\"ona\",\"movie\",\"movie\",\"tv\",\"tv\",\"tv\",\"ova\",\"movie\",\"tv\",\"special\",\"music\",\"ova\",\"tv\",\"tv\",\"tv\",\"music\",\"tv\",\"tv\",\"tv\",\"movie\",\"tv\",\"ova\",\"tv\",\"special\",\"ona\",\"tv\",\"music\",\"ova\",\"ona\",\"special\",\"tv\",\"ova\",\"tv\",\"music\",\"tv\",\"special\",\"special\",\"tv\",\"tv\",\"ova\",\"ona\",\"tv\",\"ona\",\"music\",\"ona\",\"tv\",\"ona\",\"movie\",\"ova\",\"ova\",\"ova\",\"music\",\"tv\",\"music\",\"special\",\"tv\",\"tv\",\"ova\",\"ova\",\"special\",\"tv\",\"special\",\"ova\",\"ona\",\"special\",\"tv\",\"tv\",\"ona\",\"ova\",\"ova\",\"tv\",\"ova\",\"tv\",\"ova\",\"tv\",\"special\",\"special\",\"special\",\"ova\",\"ova\",\"tv\",\"movie\",\"tv\",\"tv\",\"ova\",\"tv\",\"movie\",\"ona\",\"music\",\"movie\",\"ona\",\"music\",\"special\",\"ova\",\"ova\",\"tv\",\"tv\",\"tv\",\"tv\",\"movie\",\"tv\",\"tv\",\"music\",\"special\",\"movie\",\"movie\",\"tv\",\"tv\",\"tv\",\"tv\",\"tv\",\"ona\",\"music\",\"tv\",\"tv\",\"special\",\"music\",\"movie\",\"movie\",\"tv\",\"tv\",\"ova\",\"tv\",\"ova\",\"ova\",\"tv\",\"tv\",\"tv\",\"tv\",\"ova\",\"tv\",\"tv\",\"movie\",\"ova\",\"ova\",\"movie\",\"ova\",\"ona\",\"tv\",\"ova\",\"special\",\"ova\",\"ona\",\"ova\",\"special\",\"tv\",\"tv\",\"special\",\"tv\",\"tv\",\"special\",\"ova\",\"tv\",\"ova\",\"movie\",\"special\",\"tv\",\"movie\",\"special\",\"ova\",\"tv\",\"music\",\"ova\",\"tv\",\"tv\",\"ona\",\"movie\",\"special\",\"tv\",\"movie\",\"special\",\"tv\",\"movie\",\"movie\",\"ova\",\"ona\",\"tv\",\"ona\",\"ova\",\"movie\",\"movie\",\"tv\",\"tv\",\"music\",\"tv\",\"music\",\"movie\",\"tv\",\"special\",\"movie\",\"tv\",\"movie\",\"tv\",\"ova\",\"ona\",\"ona\",\"tv\",\"movie\",\"music\",\"tv\",\"tv\",\"tv\",\"ova\",\"movie\",\"movie\",\"tv\",\"music\",\"movie\",\"ova\",\"special\",\"tv\",\"ova\",\"ova\",\"ona\",\"tv\",\"tv\",\"tv\",\"tv\",\"ova\",\"tv\",\"music\",\"tv\",\"tv\",\"ona\",\"ova\",\"tv\",\"music\",\"ona\",\"ona\",\"movie\",\"ona\",\"movie\",\"tv\",\"special\",\"ova\",\"tv\",\"movie\",\"tv\",\"music\",\"tv\",\"movie\",\"tv\",\"tv\",\"special\",\"special\",\"tv\",\"tv\",\"ova\",\"movie\",\"ova\",\"ona\",\"tv\",\"movie\",\"ova\",\"music\",\"tv\",\"music\",\"ova\",\"tv\",\"ova\",\"movie\",\"ova\",\"ona\",\"movie\",\"ova\",\"ova\",\"tv\",\"tv\",\"tv\",\"music\",\"ona\",\"tv\",\"ona\",\"ova\",\"music\",\"tv\",\"tv\",\"ova\",\"ona\",\"movie\",\"movie\",\"special\",\"ona\",\"movie\",\"movie\",\"music\",\"movie\",\"special\",\"ova\",\"tv\",\"tv\",\"ona\",\"tv\",\"movie\",\"special\",\"ona\",\"tv\",\"tv\",\"ona\",\"special\",\"tv\",\"ova\",\"special\",\"ona\",\"movie\",\"music\",\"tv\",\"tv\",\"movie\",\"tv\",\"movie\",\"music\",\"music\",\"movie\",\"movie\",\"tv\",\"ona\",\"movie\",\"tv\",\"ova\",\"movie\",\"special\",\"special\",\"ova\",\"movie\",\"special\",\"movie\",\"movie\",\"tv\",\"music\",\"tv\",\"ova\",\"special\",\"movie\",\"ova\",\"movie\",\"tv\",\"music\",\"special\",\"ova\",\"movie\",\"music\",\"music\",\"tv\",\"ova\",\"tv\",\"movie\",\"ona\",\"ona\",\"special\",\"movie\",\"tv\",\"movie\",\"movie\",\"ova\",\"movie\",\"special\",\"ona\",\"music\",\"ova\",\"tv\",\"tv\",\"ona\",\"ova\",\"ova\",\"special\",\"ova\",\"movie\",\"movie\",\"music\",\"tv\",\"ova\",\"ova\",\"ova\",\"ona\",\"music\",\"ona\",\"ona\",\"ova\",\"movie\",\"ova\",\"special\",\"tv\",\"ova\",\"ova\",\"tv\",\"tv\",\"tv\",\"tv\",\"music\",\"ona\",\"music\",\"special\",\"tv\",\"ona\",\"tv\",\"tv\",\"tv\",\"tv\",\"tv\",\"tv\",\"movie\",\"music\",\"ova\",\"ova\",\"ona\",\"tv\",\"tv\",\"tv\",\"ona\",\"ona\",\"music\",\"tv\",\"movie\",\"special\",\"tv\",\"tv\",\"tv\",\"tv\",\"ona\",\"movie\",\"tv\",\"tv\",\"ova\",\"tv\",\"movie\",\"ova\",\"movie\",\"movie\",\"music\",\"movie\",\"tv\",\"ona\",\"movie\",\"movie\",\"tv\",\"tv\",\"tv\",\"ona\",\"ova\",\"ova\",\"ona\",\"movie\",\"ona\",\"ona\",\"ova\",\"movie\",\"tv\",\"special\",\"movie\",\"special\",\"music\",\"tv\",\"special\",\"ona\",\"ona\",\"tv\",\"movie\",\"ona\",\"music\",\"special\",\"ova\",\"special\",\"special\",\"tv\",\"music\",\"ona\",\"ona\",\"special\",\"special\",\"music\",\"music\",\"ona\",\"movie\",\"tv\",\"ova\",\"music\",\"ona\",\"movie\",\"ona\",\"music\",\"ova\",\"tv\",\"ona\",\"tv\",\"special\",\"special\",\"special\",\"tv\",\"movie\",\"tv\",\"tv\",\"movie\",\"tv\",\"ona\",\"tv\",\"music\",\"tv\",\"tv\",\"movie\",\"special\",\"tv\",\"tv\",\"movie\",\"movie\",\"tv\",\"tv\",\"ova\",\"movie\",\"tv\",\"ona\",\"music\",\"special\",\"movie\",\"tv\",\"music\",\"ova\",\"music\",\"tv\",\"ova\",\"ova\",\"tv\",\"music\",\"special\",\"ova\",\"tv\",\"ona\",\"tv\",\"tv\",\"movie\",\"ona\",\"ona\",\"tv\",\"special\",\"ona\",\"ova\",\"ona\",\"tv\",\"special\",\"ona\",\"ova\",\"movie\",\"tv\",\"ova\",\"movie\",\"movie\",\"ona\",\"tv\",\"ona\",\"music\",\"special\",\"ova\",\"tv\",\"ova\",\"tv\",\"ova\",\"special\",\"tv\",\"ona\",\"ova\",\"tv\",\"special\",\"tv\",\"tv\",\"ova\",\"ova\",\"tv\",\"movie\",\"movie\",\"ona\",\"music\",\"tv\",\"music\",\"tv\",\"ona\",\"tv\",\"ona\",\"music\",\"tv\",\"special\",\"movie\",\"movie\",\"ova\",\"tv\",\"tv\",\"tv\",\"movie\",\"tv\",\"tv\",\"tv\",\"ona\",\"movie\",\"movie\",\"tv\",\"ova\",\"ona\",\"tv\",\"movie\",\"ona\",\"ova\",\"ova\",\"tv\",\"movie\",\"movie\",\"movie\",\"tv\",\"movie\",\"tv\",\"music\",\"tv\",\"movie\",\"ova\",\"ona\",\"ona\",\"special\",\"tv\",\"tv\",\"ona\",\"tv\",\"special\",\"ona\",\"ona\",\"tv\",\"ona\",\"music\",\"movie\",\"tv\",\"tv\",\"movie\",\"ona\",\"movie\",\"tv\",\"ona\",\"music\",\"ova\",\"ova\",\"music\",\"tv\",\"special\",\"tv\",\"special\",\"ona\",\"tv\",null,\"ova\",\"tv\",\"ona\",\"ona\",\"ona\",\"ova\",\"movie\",\"ova\",\"ona\",\"special\",\"movie\",\"movie\",\"music\",\"ova\",\"ona\",\"special\",\"tv\",\"movie\",\"ova\",\"movie\",\"tv\",\"music\",\"ova\",\"music\",\"tv\",\"movie\",\"tv\",\"special\",\"ova\",\"tv\",\"ova\",\"movie\",\"ova\",\"movie\",\"ona\",\"tv\",\"tv\",\"ona\",\"tv\",\"ona\",\"movie\",\"tv\",\"tv\",\"movie\",\"tv\",\"tv\",\"ona\",\"special\",\"ova\",\"movie\",\"ova\",\"ova\",\"music\",\"tv\",\"tv\",\"ona\",\"movie\",\"special\",\"ona\",\"music\",\"tv\",\"tv\",\"movie\",\"ona\",\"special\",\"movie\",\"special\",\"ona\",\"special\",\"movie\",\"ova\",\"tv\",\"ona\",\"movie\",\"ova\",\"music\",\"tv\",\"ova\",\"tv\",\"movie\",\"special\",\"music\",\"tv\",\"tv\",\"tv\",\"movie\",\"ona\",\"tv\",\"special\",\"ova\",\"ova\",\"ova\",\"movie\",\"movie\",\"movie\",\"movie\",\"tv\",\"tv\",\"music\",\"ona\",\"ona\",\"tv\",\"movie\",\"ova\",\"tv\",\"music\",\"tv\",\"music\",\"ova\",\"movie\",\"special\",\"movie\",\"ona\",\"movie\",\"special\",\"ova\",\"ona\",\"tv\",\"music\",\"movie\",\"movie\",\"tv\",\"special\",\"ova\",\"music\",\"tv\",\"tv\",\"music\",\"special\",\"tv\",\"movie\",\"tv\",\"ova\",\"tv\",\"ona\",\"movie\",\"special\",\"ona\",\"tv\",\"special\",\"tv\",\"movie\",\"ona\",\"ova\",\"tv\",\"special\",\"tv\",\"tv\",\"tv\",\"tv\",\"tv\",\"tv\",\"ona\",\"ona\",\"ona\",\"ova\",\"tv\",\"movie\",\"ova\",\"music\",\"ova\",\"tv\",\"ona\",\"ova\",\"music\",\"ona\",\"tv\",\"tv\",\"ova\",\"tv\",\"special\",\"tv\",\"ona\",\"ona\",\"ova\",\"ova\",\"tv\",\"tv\",\"movie\",\"ona\",\"ova\",\"ona\",\"ona\",\"tv\",\"ona\",\"movie\",\"tv\",\"tv\",\"movie\",\"special\",\"tv\",\"special\",\"ona\",\"tv\",\"tv\",\"tv\",\"tv\",\"ova\",\"movie\",\"tv\",\"ona\",\"special\",\"special\",\"ona\",\"special\",\"movie\",\"movie\",\"movie\",\"ona\",\"special\",\"tv\",\"tv\",\"ona\",\"ova\",\"ova\",\"tv\",\"ova\",\"movie\",\"ona\",\"ona\",\"ona\",\"ona\",\"special\",\"ova\",\"ova\",\"tv\",\"movie\",\"ona\",\"ona\",\"music\",\"tv\",\"movie\",\"tv\",\"special\",\"special\",\"tv\",\"music\",\"tv\",\"music\",\"music\",\"tv\",\"music\",\"ona\",\"tv\",\"movie\",\"ona\",\"movie\",\"movie\",\"tv\",\"ova\",\"tv\",\"movie\",\"special\",\"music\",\"tv\",\"special\",\"tv\",\"tv\",\"movie\",\"tv\",\"ona\",\"special\",\"special\",\"special\",\"ona\",\"tv\",\"tv\",\"movie\",\"music\",\"ova\",\"ova\",\"special\",\"movie\",\"special\",\"tv\",\"movie\",\"music\",\"tv\",\"ova\",\"tv\",\"movie\",\"movie\",\"ova\",\"music\",\"tv\",\"movie\",\"special\",\"tv\",\"movie\",\"tv\",\"movie\",\"movie\",\"ova\",\"ova\",\"music\",\"tv\",\"tv\",\"ova\",\"ova\",\"tv\",\"music\",\"ona\",\"tv\",\"music\",\"ona\",\"movie\",\"tv\",\"special\",\"ova\",\"tv\",\"movie\",\"ona\",\"tv\",\"special\",\"movie\",\"ona\",\"movie\",\"tv\",\"special\",\"special\",\"tv\",\"music\",\"ona\",\"tv\",\"movie\",\"movie\",\"tv\",\"tv\",\"special\",\"tv\",\"tv\",\"movie\",\"special\",\"movie\",\"tv\",\"movie\",\"music\",\"ova\",\"ona\",\"special\",\"ona\",\"ova\",\"ova\",\"special\",\"music\",\"ona\",\"ona\",\"movie\",\"ova\",\"special\",\"ona\",\"ova\",\"tv\",\"movie\",\"tv\",\"tv\",\"movie\",\"tv\",\"movie\",\"music\",\"movie\",\"special\",\"movie\",\"ova\",\"ova\",\"tv\",\"special\",\"ova\",\"tv\",\"music\",\"movie\",\"music\",\"tv\",\"music\",\"tv\",\"tv\",\"movie\",\"tv\",\"ona\",\"ona\",\"tv\",\"movie\",\"tv\",\"music\",\"tv\",\"ova\",\"tv\",\"ova\",\"movie\",\"special\",\"movie\",\"special\",\"movie\",\"ona\",\"ova\",\"movie\",\"movie\",\"ona\",\"music\",\"tv\",\"ova\",\"ona\",\"special\",\"ova\",\"special\",\"special\",\"music\",\"tv\",\"special\",\"special\",\"movie\",\"music\",\"tv\",\"music\",\"movie\",\"special\",\"movie\",\"movie\",\"ova\",\"ova\",\"ona\",\"music\",\"ona\",\"special\",\"ova\",\"movie\",\"special\",\"special\",\"ona\",\"movie\",\"music\",\"music\",\"tv\",\"tv\",\"tv\",\"movie\",\"music\",\"tv\",\"music\",\"tv\",\"tv\",\"tv\",\"ova\",\"ona\",\"ona\",\"ova\",\"tv\",\"ova\",\"movie\",\"movie\",\"special\",\"tv\",\"movie\",\"ova\",\"ova\",\"tv\",\"tv\",\"music\",\"ova\",\"movie\",\"ova\",\"movie\",\"tv\",\"music\",\"tv\",\"movie\",\"tv\",\"tv\",\"ona\",\"movie\",\"music\",\"music\",\"ova\",\"ona\",\"ova\",\"ova\",\"ona\",\"tv\",\"movie\",\"movie\",\"music\",\"ona\",\"movie\",\"tv\",\"ona\",\"movie\",\"ova\",\"tv\",\"ova\",\"movie\",\"special\",\"ova\",\"ona\",\"ona\",\"movie\",\"tv\",\"tv\",\"ona\",\"tv\",\"movie\",\"ona\",\"movie\",\"ova\",\"tv\",\"special\",\"tv\",\"movie\",\"tv\",\"ona\",\"ona\",\"ona\",\"music\",\"tv\",\"ova\",\"movie\",\"tv\",\"movie\",\"special\",\"tv\",\"tv\",\"ova\",\"movie\",\"tv\",\"special\",\"tv\",\"tv\",\"movie\",\"special\",\"special\",\"tv\",\"ova\",\"music\",\"movie\",\"tv\",\"movie\",\"tv\",\"ova\",\"music\",\"tv\",\"tv\",\"music\",\"ova\",\"tv\",\"tv\",\"ova\",\"ona\",\"special\",\"music\",\"ova\",\"ova\",\"music\",\"movie\",\"special\",\"ona\",\"tv\",\"movie\",\"movie\",\"ona\",\"movie\",\"tv\",\"ona\",\"ova\",\"movie\",\"special\",\"movie\",\"special\",\"tv\",\"movie\",\"tv\",\"ona\",\"tv\",\"tv\",\"ova\",\"tv\",\"tv\",\"movie\",\"ova\",\"ova\",\"ona\",\"tv\",\"music\",\"ova\",\"ona\",\"tv\",\"tv\",\"movie\",\"ova\",\"ova\",\"movie\",\"ova\",\"tv\",\"special\",\"ova\",\"special\",null,\"music\",\"special\",\"tv\",\"movie\",\"music\",\"movie\",\"movie\",\"tv\",\"special\",\"tv\",\"ona\",\"movie\",\"movie\",\"movie\",\"tv\",\"ona\",\"ova\",\"ona\",\"ona\",\"tv\",\"special\",\"tv\",\"tv\",\"music\",\"tv\",\"movie\",\"ova\",\"movie\",\"special\",\"tv\",\"music\",\"tv\",\"movie\",\"music\",\"ova\",\"ona\",\"ova\",\"tv\",\"ona\",\"movie\",\"tv\",\"tv\",\"ona\",\"ova\",\"special\",\"ona\",\"music\",\"ona\",\"tv\",\"music\",\"ona\",\"movie\",\"tv\",\"movie\",\"tv\",\"movie\",\"movie\",\"ova\",\"tv\",\"music\",\"special\",\"ona\",\"tv\",\"ona\",\"special\",\"movie\",\"ona\",\"ona\",\"tv\",\"ona\",\"tv\",\"music\",\"music\",\"special\",\"tv\",\"tv\",\"movie\",\"tv\",\"special\",\"ova\",\"ona\",\"music\",\"movie\",\"special\",\"tv\",\"ona\",\"music\",\"music\",\"tv\",\"ova\",\"ona\",\"movie\",\"ona\",\"movie\",\"special\",\"ova\",\"movie\",\"ona\",\"music\",\"music\",\"special\",\"music\",\"special\",\"ona\",\"tv\",\"tv\",\"movie\",\"movie\",\"movie\",\"tv\",\"movie\",\"tv\",\"ona\",\"movie\",\"special\",\"tv\",\"ona\",\"tv\",\"movie\",\"ova\",\"movie\",\"tv\",\"ona\",\"special\",\"ona\",\"special\",\"ona\",\"movie\",\"music\",\"ona\",\"ova\",\"movie\",\"tv\",\"movie\",\"music\",\"ona\",\"ova\",\"music\",\"music\",\"tv\",\"movie\",\"music\",\"ona\",\"tv\",\"tv\",\"movie\",\"tv\",\"ova\",\"special\",\"movie\",\"tv\",\"ova\",\"ova\",\"tv\",\"music\",\"music\",\"tv\",\"movie\",\"music\",\"ona\",\"music\",\"tv\",\"special\",\"tv\",\"special\",\"tv\",\"ova\",\"ona\",\"tv\",\"tv\",\"tv\",\"tv\",\"tv\",\"special\",\"ona\",\"special\",\"tv\",\"ona\",\"tv\",\"tv\",\"tv\",\"tv\",\"tv\",\"movie\",\"ona\",\"tv\",\"tv\",\"movie\",\"ova\",null,\"tv\",\"ova\",\"movie\",\"tv\",\"music\",\"music\",\"ova\",\"tv\",\"tv\",\"special\",\"movie\",\"movie\",\"ona\",\"ona\",\"tv\",\"tv\",\"special\",\"tv\",\"ona\",\"tv\",\"ova\",\"tv\",\"ona\",null,\"movie\",\"ona\",\"ova\",\"tv\",\"special\",\"ova\",\"tv\",\"ona\",\"tv\",\"movie\",\"ova\",\"ona\",\"ona\",\"movie\",\"ova\",\"ova\",\"movie\",\"ova\",\"tv\",\"tv\",\"ona\",\"movie\",\"music\",\"music\",\"music\",\"tv\",\"special\",\"special\",\"tv\",\"ova\",\"tv\",\"ova\",\"movie\",\"movie\",\"music\",\"music\",\"ona\",\"special\",\"movie\",\"special\",\"tv\",\"tv\",\"music\",\"movie\",\"ova\",\"movie\",\"tv\",\"ona\",\"tv\",\"movie\",\"music\",\"tv\",\"tv\",\"movie\",\"movie\",\"ova\",\"movie\",\"ona\",\"special\",\"music\",\"movie\",\"music\",\"movie\",\"ona\",\"special\",\"ova\",\"ova\",\"tv\",\"special\",\"special\",\"ona\",\"special\",\"movie\",\"tv\",\"ova\",\"tv\",\"ona\",\"special\",\"special\",\"ona\",\"movie\",\"ona\",\"tv\",\"tv\",\"tv\",\"movie\",\"ova\",\"special\",\"movie\",\"movie\",\"movie\",\"movie\",\"tv\",\"ona\",\"movie\",\"ova\",\"tv\",\"ona\",\"special\",\"music\",\"ova\",\"ova\",\"tv\",\"movie\",\"ona\",\"tv\",\"ona\",\"ona\",\"tv\",\"music\",\"ova\",\"tv\",\"ova\",\"tv\",\"tv\",\"tv\",\"ona\",\"music\",\"ona\",\"special\",\"tv\",\"special\",\"ona\",\"tv\",\"music\",\"ova\",\"movie\",\"movie\",\"tv\",\"tv\",\"ova\",\"tv\",\"special\",\"tv\",\"tv\",\"music\",\"music\",\"music\",\"movie\",\"tv\",\"tv\",\"music\",\"movie\",\"ova\",\"tv\",\"tv\",\"special\",\"ona\",\"tv\",\"tv\",\"tv\",\"movie\",\"special\",\"ova\",\"ona\",\"tv\",\"special\",\"ona\",\"ova\",\"tv\",\"tv\",\"movie\",\"tv\",\"ova\",\"movie\",\"ova\",\"ova\",\"ova\",\"tv\",\"special\",\"tv\",\"tv\",\"ova\",\"ona\",\"special\",\"ova\",\"ova\",\"special\",\"movie\",\"movie\",\"tv\",\"ova\",\"music\",\"music\",\"tv\",\"ova\",\"music\",\"ona\",\"tv\",\"tv\",\"movie\",\"movie\",\"ova\",\"tv\",\"ova\",\"tv\",\"movie\",\"tv\",\"ona\",\"movie\",\"music\",\"movie\",\"tv\",\"special\",\"tv\",\"movie\",\"tv\",\"movie\",\"movie\",\"tv\",\"ona\",\"music\",\"music\",\"ova\",\"tv\",\"ova\",\"movie\",\"music\",\"tv\",\"special\",\"movie\",\"special\",\"tv\",\"ova\",\"movie\",\"ona\",\"special\",\"movie\",\"ova\",\"music\",\"music\",\"ova\",\"special\",\"ova\",\"tv\",\"movie\",\"ona\",\"special\",\"ona\",\"special\",\"movie\",\"tv\",\"ova\",\"ova\",\"movie\",\"special\",\"special\",\"tv\",\"ona\",\"ona\",\"tv\",\"movie\",\"tv\",\"ona\",\"tv\",\"ova\",\"ona\",\"music\",\"tv\",\"ova\",\"tv\",\"ona\",\"ova\",\"movie\",\"tv\",\"tv\",\"tv\",\"ona\",\"tv\",\"movie\",\"movie\",\"tv\",\"ona\",\"tv\",\"tv\",\"tv\",\"special\",\"ona\",\"movie\",\"ona\",\"music\",\"movie\",\"ova\",\"tv\",\"tv\",\"special\",\"movie\",\"tv\",\"special\",\"music\",\"special\",\"ona\",\"tv\",\"movie\",\"special\",\"tv\",\"tv\",\"music\",\"special\",\"tv\",\"special\",\"movie\",\"ona\",\"music\",\"ona\",\"movie\",\"music\",\"tv\",\"ova\",\"tv\",\"special\",\"tv\",\"ona\",\"movie\",\"movie\",\"special\",\"tv\",\"ona\",\"special\",\"movie\",\"music\",\"tv\",\"ova\",\"ona\",\"music\",\"movie\",\"ona\",\"ova\",\"movie\",\"ona\",\"tv\",\"special\",\"music\",\"special\",\"ona\",\"ona\",\"ona\",\"music\",\"tv\",\"ova\",\"tv\",\"tv\",\"tv\",\"ona\",\"ova\",\"ova\",\"tv\",\"tv\",\"tv\",\"movie\",\"tv\",\"ova\",\"movie\",\"movie\",\"music\",\"movie\",\"ona\",\"ona\",\"movie\",\"music\",\"movie\",\"tv\",\"tv\",\"ona\",\"ova\",\"movie\",\"music\",\"tv\",\"ova\",\"ona\",\"movie\",\"ova\",\"tv\",\"ona\",\"ona\",\"ona\",\"ova\",\"tv\",\"tv\",\"tv\",\"music\",\"tv\",\"ona\",\"tv\",\"ova\",\"ona\",\"music\",\"ova\",\"tv\",\"special\",\"tv\",\"movie\",\"tv\",\"tv\",\"movie\",\"special\",\"music\",\"special\",\"ova\",\"tv\",\"tv\",\"ona\",\"tv\",\"ona\",\"tv\",\"music\",\"movie\",\"movie\",\"tv\",\"music\",\"music\",\"movie\",\"music\",\"ona\",\"tv\",\"tv\",\"ova\",\"tv\",\"music\",\"special\",\"music\",\"movie\",\"music\",\"special\",\"tv\",\"tv\",\"movie\",\"music\",\"tv\",\"tv\",\"ova\",\"music\",\"ona\",\"tv\",\"movie\",\"movie\",\"movie\",\"tv\",\"ova\",\"ova\",\"special\",\"ova\",\"ova\",\"ona\",\"tv\",\"special\",\"music\",\"special\",\"ova\",\"tv\",\"tv\",\"ova\",\"tv\",\"ona\",\"ova\",\"ova\",\"music\",\"ona\",\"movie\",\"movie\",\"special\",\"tv\",\"music\",\"special\",\"movie\",\"movie\",\"ona\",\"movie\",\"tv\",\"music\",\"ona\",\"ova\",\"movie\",\"ova\",\"movie\",\"tv\",\"tv\",\"tv\",\"ova\",\"ova\",\"ova\",\"movie\",\"ona\",\"special\",\"tv\",\"tv\",\"music\",\"ona\",\"movie\",\"movie\",\"ova\",\"tv\",\"music\",\"movie\",\"ova\",\"special\",\"special\",\"special\",\"special\",\"movie\",\"movie\",\"tv\",\"tv\",\"movie\",\"tv\",\"tv\",\"movie\",\"movie\",\"movie\",\"movie\",\"tv\",\"movie\",\"ova\",\"movie\",\"movie\",\"movie\",\"movie\",\"ova\",\"tv\",\"ona\",\"special\",\"music\",\"tv\",\"tv\",\"movie\",\"music\",\"tv\",\"tv\",\"special\",\"music\",\"movie\",\"music\",\"movie\",\"ova\",\"music\",\"ona\",\"ova\",\"ona\",\"tv\",\"ova\",\"movie\",\"ova\",\"movie\",\"music\",\"ona\",\"special\",\"tv\",\"ona\",\"ona\",\"tv\",\"movie\",\"ona\",\"ova\",\"special\",\"special\",\"ona\",\"tv\",\"movie\",\"ova\",\"special\",\"tv\",\"tv\",\"ona\",\"movie\",\"music\",\"ona\",\"movie\",\"special\",\"tv\",\"movie\",\"movie\",\"special\",\"music\",\"music\",\"ona\",\"tv\",\"ova\",\"movie\",\"ona\",\"tv\",\"tv\",\"movie\",\"special\",\"tv\",\"music\",\"special\",\"tv\",\"ova\",\"movie\",\"movie\",\"ova\",\"movie\",\"tv\",\"special\",\"ova\",\"tv\",\"tv\",\"tv\",\"music\",\"movie\",\"music\",\"ova\",\"ova\",\"music\",\"ona\",\"ona\",\"music\",\"tv\",\"music\",\"ona\",\"ona\",\"ova\",\"special\",\"tv\",\"tv\",\"ova\",\"ona\",\"special\",\"special\",\"ova\",\"movie\",\"ona\",\"ona\",\"special\",\"special\",\"tv\",\"movie\",\"tv\",\"ova\",\"movie\",\"tv\",\"music\",\"music\",\"music\",\"ova\",\"ona\",\"special\",\"special\",\"ova\",\"music\",\"ona\",\"movie\",\"music\",\"tv\",\"ova\",\"movie\",\"ova\",\"tv\",\"tv\",\"ova\",\"special\",\"tv\",\"music\",\"special\",\"tv\",\"special\",\"tv\",\"tv\",\"ova\",\"movie\",\"movie\",\"ova\",\"tv\",\"music\",\"ova\",\"tv\",\"tv\",\"movie\",\"music\",\"movie\",\"tv\",\"ona\",\"tv\",\"movie\",\"tv\",\"special\",\"movie\",\"movie\",\"music\",\"tv\",\"tv\",\"ova\",\"ona\",\"tv\",\"movie\",\"special\",\"tv\",\"tv\",\"tv\",\"music\",\"special\",\"movie\",\"tv\",\"tv\",\"special\",\"music\",\"ova\",\"tv\",\"tv\",\"tv\",\"special\",\"ona\",\"movie\",\"ona\",\"movie\",\"ova\",\"ova\",\"special\",\"music\",\"tv\",\"tv\",\"movie\",\"tv\",\"ona\",\"ova\",\"movie\",\"tv\",\"ova\",\"tv\",\"special\",\"ona\",\"ova\",\"tv\",\"ona\",\"special\",\"ona\",\"ona\",\"special\",\"movie\",\"special\",\"ona\",\"tv\",\"movie\",\"ona\",\"music\",\"ova\",\"tv\",\"tv\",\"music\",\"ona\",\"ona\",\"ova\",\"movie\",\"ova\",\"tv\",\"ova\",\"tv\",\"tv\",\"movie\",\"tv\",\"music\",\"tv\",\"movie\",\"special\",\"tv\",\"special\",\"tv\",\"music\",\"tv\",\"tv\",\"ova\",\"music\",\"special\",\"ova\",\"tv\",\"tv\",\"special\",\"movie\",\"tv\",\"tv\",\"movie\",\"music\",\"special\",\"special\",\"ova\",\"tv\",\"movie\",\"special\",\"movie\",\"tv\",\"movie\",\"ona\",\"music\",\"ova\",\"special\",\"music\",\"tv\",\"tv\",\"movie\",\"tv\",\"tv\",\"tv\",\"tv\",\"tv\",\"ona\",\"tv\",\"movie\",\"tv\",\"special\",\"special\",\"ona\",\"movie\",\"tv\",\"tv\",\"music\",\"special\",\"tv\",\"special\",\"tv\",\"tv\",\"ova\",\"special\",\"tv\",\"movie\",\"ova\",\"ova\",\"ona\",\"music\",\"ova\",\"ona\",\"ona\",\"special\",\"ona\",\"ova\",\"music\",\"ova\",\"tv\",\"tv\",\"music\",\"tv\",\"tv\",\"movie\",\"music\",\"ova\",\"ova\",\"tv\",\"tv\",\"ona\",\"music\",\"special\",\"tv\",\"movie\",\"tv\",\"ona\",\"ona\",\"ova\",\"tv\",\"special\",\"ona\",\"music\",\"tv\",\"tv\",\"movie\",\"ova\",\"tv\",\"ova\",\"tv\",\"music\",\"ova\",\"movie\",\"special\",\"special\",\"tv\",\"tv\",\"music\",\"ova\",\"tv\",\"tv\",\"special\",\"ova\",\"tv\",\"ova\",\"ova\",\"music\",\"movie\",\"movie\",\"movie\",\"tv\",\"tv\",\"ona\",\"tv\",\"movie\",\"music\",\"ona\",\"tv\",\"music\",\"special\",\"ona\",\"tv\",\"ova\",\"special\",\"tv\",\"ova\",\"tv\",\"ona\",\"tv\",\"ova\",\"music\",\"tv\",\"ona\",\"ova\",\"tv\",\"ova\",\"music\",\"special\",\"movie\",\"ona\",\"ona\",\"movie\",\"tv\",\"ova\",\"ova\",\"tv\",\"tv\",\"special\",\"ova\",\"ova\",\"music\",\"ova\",\"tv\",\"music\",\"music\",\"ova\",\"special\",\"music\",\"ona\",\"tv\",\"tv\",\"special\",\"movie\",\"tv\",\"movie\",\"movie\",\"ova\",\"ova\",\"tv\",\"special\",\"special\",\"tv\",\"movie\",\"ova\",\"ova\",\"special\",\"ova\",\"special\",\"tv\",\"tv\",\"movie\",\"ona\",\"tv\",\"ona\",\"ona\",\"movie\",\"special\",\"special\",\"special\",\"ona\",\"tv\",\"music\",\"ova\",\"ona\",\"special\",\"special\",\"ona\",\"ona\",\"movie\",\"movie\",\"ova\",\"tv\",\"ova\",\"tv\",\"ova\",\"ova\",\"tv\",\"tv\",\"movie\",\"ova\",\"music\",\"tv\",\"music\",\"movie\",\"movie\",\"movie\",\"ona\",\"tv\",\"special\",\"ona\",\"ona\",\"tv\",\"tv\",\"ova\",\"tv\",\"tv\",\"movie\",\"ona\",\"ona\",\"movie\",\"tv\",\"tv\",\"tv\",\"ova\",\"tv\",\"music\",\"movie\",\"ona\",\"tv\",\"tv\",\"ova\",\"tv\",\"movie\",\"ova\",\"ova\",\"tv\",\"ova\",\"ova\",\"tv\",\"tv\",\"tv\",\"music\",\"special\",\"movie\",\"tv\",\"special\",\"special\",\"ova\",\"ona\",\"ona\",\"music\",\"ona\",\"tv\",\"movie\",\"tv\",\"tv\",\"ova\",\"special\",\"tv\",\"tv\",\"movie\",\"ova\",\"ova\",\"tv\",\"movie\",\"movie\",\"ova\",\"music\",\"tv\",\"tv\",\"special\",\"music\",\"movie\",\"music\",\"movie\",\"ona\",\"tv\",\"movie\",\"special\",\"ona\",\"tv\",\"ova\",\"movie\",\"ona\",\"movie\",\"ova\",\"tv\",\"movie\",\"music\",\"movie\",\"tv\",\"special\",\"movie\",\"movie\",\"special\",\"ova\",\"ova\",\"movie\",\"ova\",\"ova\",\"movie\",\"tv\",\"music\",\"movie\",\"movie\",\"tv\",\"movie\",\"tv\",\"movie\",\"special\",\"music\",\"tv\",\"ona\",\"ona\",\"tv\",\"ona\",\"movie\",\"ova\",\"tv\",\"special\",\"movie\",\"ona\",\"ova\",\"music\",\"music\",\"movie\",\"movie\",\"music\",\"movie\",\"special\",\"special\",\"tv\",\"ona\",\"ova\",\"ova\",\"music\",\"ona\",\"music\",\"ova\",\"tv\",\"tv\",\"tv\",\"ona\",\"movie\",\"music\",\"tv\",\"movie\",\"ova\",\"ona\",\"special\",\"music\",\"music\",\"tv\",\"special\",\"movie\",\"tv\",\"tv\",\"music\",\"tv\",\"special\",\"ona\",\"ova\",\"tv\",\"ova\",\"tv\",\"tv\",\"ova\",\"ova\",\"tv\",\"music\",\"movie\",\"movie\",\"special\",\"movie\",\"ona\",\"tv\",\"tv\",\"ova\",\"tv\",\"movie\",\"ova\",\"special\",\"ova\",\"movie\",\"tv\",\"tv\",\"tv\",\"tv\",\"ova\",\"ona\",\"special\",\"movie\",\"ona\",\"ona\",\"ona\",\"tv\",\"tv\",\"music\",\"music\",\"tv\",\"ona\",\"special\",\"music\",\"ona\",\"ova\",\"movie\",\"movie\",\"tv\",\"ova\",\"ova\",\"movie\",\"movie\",\"tv\",\"tv\",\"tv\",\"music\",\"ova\",\"music\",\"movie\",\"ova\",\"ova\",\"ova\",\"special\",\"tv\",\"ona\",\"tv\",\"tv\",\"tv\",\"ona\",\"special\",\"ova\",\"music\",\"tv\",\"tv\",\"ona\",\"tv\",\"tv\",\"ova\",\"movie\",\"tv\",\"tv\",\"ova\",\"ova\",\"ova\",\"ona\",\"ova\",\"tv\",\"ova\",\"movie\",null,\"movie\",\"ova\",\"special\",\"special\",\"ova\",\"ona\",\"ova\",\"ova\",\"music\",\"music\",\"ova\",\"ona\",\"ova\",\"special\",\"ona\",\"ova\",\"ova\",\"tv\",\"ona\",\"music\",\"movie\",\"movie\",\"special\",\"ova\",\"tv\",\"music\",\"tv\",\"tv\",\"ona\",\"movie\",\"ona\",\"tv\",\"music\",\"tv\",\"ova\",\"tv\",\"music\",\"tv\",\"tv\",\"ona\",\"ona\",\"movie\",\"ova\",\"ova\",\"tv\",\"tv\",\"music\",\"movie\",\"movie\",\"tv\",\"tv\",\"movie\",\"music\",\"tv\",\"movie\",\"tv\",\"tv\",\"ova\",\"music\",\"ova\",\"movie\",\"movie\",\"ova\",\"ova\",\"movie\",\"ona\",\"tv\",\"music\",\"tv\",\"special\",\"ova\",\"tv\",\"tv\",\"tv\",\"music\",\"ova\",\"movie\",\"ova\",\"tv\",\"music\",\"tv\",\"music\",\"ova\",\"ova\",\"ova\",\"music\",\"music\",\"special\",\"tv\",\"special\",\"ona\",\"music\",\"ova\",\"movie\",\"tv\",\"special\",\"ona\",\"tv\",\"movie\",\"ona\",\"music\",\"movie\",\"tv\",\"music\",\"ona\",\"ona\",\"special\",\"movie\",\"movie\",\"movie\",\"music\",\"ova\",\"movie\",\"ona\",\"ova\",\"movie\",\"music\",\"tv\",\"movie\",\"tv\",\"ova\",\"ova\",\"tv\",\"tv\",\"special\",\"movie\",\"music\",\"ova\",\"tv\",\"tv\",\"ona\",\"tv\",\"music\",\"music\",\"tv\",\"ona\",\"music\",\"music\",\"tv\",\"music\",\"movie\",\"tv\",\"ova\",\"tv\",\"tv\",\"tv\",\"ona\",\"ona\",\"tv\",\"tv\",\"tv\",\"tv\",\"music\",\"tv\",\"movie\",\"special\",\"ona\",\"movie\",\"ova\",\"special\",\"special\",\"movie\",\"tv\",\"music\",\"ona\",\"tv\",\"tv\",\"movie\",\"movie\",\"tv\",\"ona\",\"ona\",\"tv\",\"movie\",\"movie\",\"ona\",\"music\",\"movie\",\"ona\",\"tv\",\"tv\",\"tv\",\"movie\",\"ova\",\"tv\",\"movie\",\"ova\",\"ova\",\"tv\",\"tv\",\"tv\",\"music\",\"ona\",\"music\",\"tv\",\"special\",\"music\",\"ona\",\"music\",\"movie\",\"special\",\"tv\",\"music\",\"ona\",\"special\",\"tv\",\"movie\",\"ova\",\"music\",\"tv\",\"tv\",\"movie\",\"ona\",\"ona\",\"special\",\"tv\",\"ona\",\"special\",\"movie\",\"tv\",\"tv\",\"ova\",\"ona\",\"special\",\"ona\",\"movie\",\"ova\",\"tv\",\"music\",\"ona\",\"special\",\"music\",\"movie\",\"ova\",\"music\",\"ona\",\"tv\",\"music\",\"ova\",\"tv\",\"movie\",\"tv\",\"tv\",\"special\",\"tv\",\"music\",\"ova\",\"music\",\"movie\",\"movie\",\"ova\",\"tv\",\"music\",\"music\",\"movie\",\"tv\",\"movie\",\"special\",\"tv\",\"tv\",\"movie\",\"ova\",\"ova\",\"ova\",\"tv\",\"tv\",\"special\",\"movie\",\"tv\",\"special\",\"music\",\"ona\",\"tv\",\"tv\",\"ova\",\"tv\",\"tv\",\"ova\",\"tv\",\"special\",\"tv\",\"ova\",\"ova\",\"ona\",\"music\",\"special\",\"tv\",\"music\",\"ona\",\"special\",\"tv\",\"movie\",\"tv\",\"ona\",\"ova\",\"ona\",\"tv\",\"ona\",\"movie\",\"ova\",\"movie\",\"movie\",\"tv\",\"tv\",\"ova\",\"ona\",\"music\",\"movie\",\"tv\",\"special\",\"tv\",\"music\",\"ova\",\"special\",\"ona\",null,\"music\",\"tv\",\"ova\",\"ova\",\"movie\",\"ova\",\"music\",\"ona\",\"tv\",\"tv\",\"music\",\"ona\",\"movie\",\"movie\",\"ona\",\"tv\",\"special\",\"movie\",\"music\",\"movie\",\"ova\",\"ova\",\"tv\",\"ona\",\"tv\",\"tv\",\"movie\",\"ova\",\"movie\",\"tv\",\"tv\",\"special\",\"ona\",\"ona\",\"tv\",\"tv\",\"ova\",\"movie\",\"movie\",\"ova\",\"ova\",\"movie\",\"music\",\"ova\",\"ona\",\"ova\",\"ona\",\"movie\",\"ona\",\"ova\",\"movie\",\"special\",\"ova\",\"special\",\"ona\",\"movie\",\"ona\",\"movie\",\"tv\",\"tv\",\"tv\",\"tv\",\"ona\",\"ona\",\"music\",\"tv\",\"ona\",\"tv\",\"music\",\"special\",\"ova\",\"music\",\"special\",\"ova\",\"ona\",\"ova\",\"ova\",\"tv\",\"ova\",\"tv\",\"special\",\"ona\",\"movie\",\"ova\",\"ova\",\"special\",\"tv\",\"ona\",\"ova\",\"special\",\"tv\",\"movie\",\"movie\",\"ova\",\"ona\",\"movie\",\"tv\",\"tv\",\"ova\",\"movie\",\"tv\",\"special\",\"tv\",\"movie\",\"movie\",\"ona\",\"tv\",\"tv\",\"music\",\"ona\",\"tv\",\"tv\",\"ona\",\"special\",\"tv\",\"ona\",\"tv\",\"tv\",\"music\",\"music\",\"music\",\"ova\",\"ona\",\"tv\",\"ona\",\"ona\",\"ona\",\"special\",\"tv\",\"ova\",\"movie\",\"movie\",\"tv\",\"movie\",\"special\",\"movie\",\"special\",\"ova\",\"special\",\"ona\",\"ona\",\"special\",\"special\",\"movie\",\"tv\",\"tv\",\"tv\",\"movie\",\"movie\",\"ona\",\"tv\",\"music\",\"tv\",\"tv\",\"ova\",\"tv\",\"tv\",\"music\",\"ova\",\"tv\",\"tv\",\"tv\",\"tv\",\"tv\",\"movie\",\"tv\",\"tv\",\"ova\",\"ova\",\"tv\",\"tv\",\"special\",\"ova\",\"ona\",\"movie\",\"tv\",\"music\",\"music\",\"tv\",\"tv\",\"tv\",\"movie\",\"special\",\"movie\",\"movie\",\"music\",\"movie\",\"movie\",\"ona\",\"ova\",\"music\",\"ona\",\"ona\",\"special\",\"ova\",\"movie\",\"tv\",\"ova\",\"movie\",\"tv\",\"music\",\"ova\",\"ona\",\"ona\",\"special\",\"movie\",\"special\",\"tv\",\"tv\",\"tv\",\"tv\",\"movie\",\"music\",\"special\",\"tv\",\"ova\",\"special\",\"tv\",\"movie\",\"music\",\"tv\",\"tv\",\"ova\",\"special\",\"special\",\"ona\",\"ona\",\"ova\",\"ova\",\"movie\",\"special\",\"tv\",\"tv\",\"ova\",\"movie\",\"tv\",\"tv\",\"tv\",\"ova\",\"ona\",\"ona\",\"ova\",\"tv\",\"special\",\"tv\",\"special\",\"ova\",\"tv\",\"tv\",\"movie\",\"movie\",\"ona\",\"ova\",\"music\",\"tv\",\"tv\",\"ona\",\"special\",\"music\",\"music\",\"ova\",\"movie\",\"tv\",\"tv\",\"ona\",\"ova\",\"movie\",\"ona\",\"special\",\"tv\",\"tv\",\"tv\",\"tv\",\"special\",\"tv\",\"movie\",\"tv\",\"special\",\"ova\",\"ova\",\"tv\",\"tv\",\"movie\",\"movie\",\"tv\",\"tv\",\"movie\",\"music\",\"ova\",\"ova\",\"movie\",\"tv\",\"movie\",\"tv\",\"special\",\"movie\",\"movie\",\"tv\",\"music\",\"movie\",\"movie\",\"special\",\"tv\",\"special\",\"movie\",\"movie\",\"tv\",\"ona\",\"ona\",\"tv\",\"ona\",\"special\",\"tv\",\"tv\",\"ova\",\"movie\",\"ona\",\"special\",\"ova\",\"ova\",\"special\",\"ova\",\"music\",\"movie\",\"ova\",\"tv\",\"ova\",\"movie\",\"ova\",\"music\",\"movie\",\"ona\",\"movie\",\"ona\",\"ova\",\"music\",\"tv\",\"music\",\"tv\",\"ova\",\"movie\",\"tv\",\"tv\",\"ova\",\"tv\",\"tv\",\"ona\",\"music\",\"special\",\"special\",\"movie\",\"movie\",\"music\",\"movie\",\"tv\",\"ova\",\"movie\",\"tv\",\"tv\",\"tv\",\"music\",\"music\",\"tv\",\"special\",\"tv\",\"ova\",\"movie\",\"movie\",\"ova\",\"ova\",\"movie\",\"special\",\"movie\",\"tv\",\"ona\",\"movie\",\"special\",\"ona\",\"ova\",\"movie\",\"tv\",\"ona\",\"tv\",\"tv\",\"music\",\"special\",\"ona\",\"movie\",\"tv\",\"movie\",\"movie\",\"tv\",\"tv\",\"tv\",\"tv\",\"tv\",\"movie\",\"tv\",\"movie\",\"music\",\"tv\",\"tv\",\"tv\",\"tv\",\"tv\",\"ona\",\"ona\",\"tv\",\"special\",\"movie\",\"special\",\"ova\",\"music\",\"music\",\"ona\",\"movie\",\"movie\",\"movie\",\"tv\",\"movie\",\"tv\",\"tv\",\"ova\",\"ova\",\"ona\",\"movie\",\"tv\",\"tv\",\"movie\",\"tv\",\"movie\",\"ona\",\"ona\",\"ona\",\"ova\",\"ova\",\"ova\",\"ona\",\"ona\",\"ona\",\"tv\",\"special\",\"movie\",\"tv\",\"ona\",\"ova\",\"special\",\"tv\",\"special\",\"music\",\"ova\",\"ova\",\"tv\",\"movie\",\"music\",\"ova\",\"tv\",\"tv\",\"music\",\"tv\",\"movie\",\"ona\",\"tv\",\"ona\",\"movie\",\"ona\",\"movie\",\"ova\",\"music\",\"movie\",\"ona\",\"tv\",\"ona\",\"movie\",\"movie\",\"ova\",\"music\",\"music\",\"tv\",\"ova\",\"tv\",\"music\",\"music\",\"ova\",\"movie\",\"ona\",\"tv\",\"tv\",\"tv\",\"ona\",\"ova\",\"ona\",\"ona\",\"ova\",\"movie\",\"tv\",\"special\",\"movie\",\"music\",\"movie\",\"tv\",\"tv\",\"ona\",\"ova\",\"movie\",\"ova\",\"movie\",\"tv\",\"special\",\"ona\",\"special\",\"music\",\"ona\",\"tv\",\"ova\",\"special\",\"tv\",\"movie\",\"movie\",\"ona\",\"tv\",\"music\",\"special\",\"tv\",\"ova\",\"tv\",\"tv\",\"ova\",\"music\",\"special\",\"ova\",\"movie\",\"special\",\"ova\",\"movie\",\"movie\",\"ona\",\"music\",\"tv\",\"movie\",\"music\",\"tv\",\"tv\",\"music\",\"ova\",\"special\",\"music\",\"tv\",\"tv\",\"special\",\"ona\",\"special\",\"tv\",\"ona\",\"special\",\"tv\",\"tv\",\"tv\",\"ova\",\"ova\",\"ova\",\"movie\",\"music\",\"special\",\"music\",\"ova\",\"music\",\"tv\",\"ova\",\"ona\",\"ova\",\"special\",\"tv\",\"movie\",\"tv\",\"movie\",\"music\",\"movie\",\"ona\",\"tv\",\"tv\",\"movie\",\"movie\",\"tv\",\"music\",\"ona\",\"ona\",\"ona\",\"music\",\"music\",\"tv\",\"ona\",\"movie\",\"ova\",\"ona\",\"tv\",\"tv\",\"tv\",\"movie\",\"special\",\"ova\",\"tv\",\"tv\",\"movie\",\"tv\",\"special\",\"movie\",\"tv\",\"movie\",\"ova\",\"tv\",\"tv\",\"movie\",\"music\",\"tv\",\"music\",\"movie\",\"tv\",\"movie\",\"movie\",\"ova\",\"tv\",\"ova\",\"ova\",\"tv\",\"ova\",\"special\",\"tv\",\"ova\",\"ona\",\"tv\",\"music\",\"tv\",\"music\",\"movie\",\"tv\",\"movie\",\"tv\",\"tv\",\"movie\",\"special\",\"music\",\"ona\",\"ona\",\"tv\",\"ona\",\"tv\",\"special\",\"ona\",\"music\",\"ona\",\"ona\",\"tv\",\"ona\",\"music\",\"tv\",\"ova\",\"ona\",\"music\",\"tv\",\"movie\",\"ona\",\"tv\",\"tv\",\"ova\",\"tv\",\"ova\",\"music\",\"tv\",\"music\",\"ona\",\"ova\",\"movie\",\"ova\",\"tv\",\"tv\",\"movie\",\"music\",\"special\",\"ova\",\"movie\",\"music\",\"movie\",\"tv\",\"special\",\"tv\",\"ova\",\"special\",\"movie\",\"ona\",\"movie\",\"ova\",\"ova\",\"ova\",\"tv\",\"special\",\"ova\",\"tv\",\"ova\",\"movie\",\"special\",\"movie\",\"ona\",\"tv\",\"music\",\"tv\",\"tv\",\"tv\",\"movie\",\"tv\",\"tv\",\"tv\",\"movie\",\"special\",\"ova\",\"music\",\"movie\",\"tv\",\"tv\",\"music\",\"tv\",\"music\",\"tv\",\"music\",\"movie\",\"ova\",\"tv\",\"ova\",\"movie\",\"music\",\"tv\",\"movie\",\"tv\",\"movie\",\"ona\",\"music\",\"ova\",\"ova\",\"movie\",\"special\",\"special\",\"ova\",\"tv\",\"movie\",\"ona\",\"tv\",\"ova\",\"ova\",\"special\",\"tv\",\"ona\",\"movie\",\"special\",\"ova\",\"tv\",\"ona\",\"ona\",\"special\",\"ona\",\"ona\",\"music\",\"tv\",\"special\",\"music\",\"ona\",\"special\",\"ona\",\"movie\",\"tv\",\"ova\",\"tv\",\"movie\",\"tv\",\"ova\",\"tv\",\"tv\",\"ova\",\"tv\",\"ova\",\"ova\",\"special\",\"movie\",\"special\",\"ova\",\"ova\",\"movie\",\"ona\",\"tv\",\"ova\",\"ova\",\"ona\",\"music\",\"movie\",\"ova\",\"ona\",\"ona\",\"special\",\"special\",\"music\",\"movie\",\"ona\",\"music\",\"tv\",\"tv\",\"special\",\"special\",\"ova\",\"ona\",\"ona\",\"tv\",\"ova\",\"tv\",\"tv\",\"tv\",\"tv\",\"music\",\"tv\",\"tv\",\"ova\",\"tv\",\"ova\",\"ova\",\"ona\",\"tv\",\"ona\",\"tv\",\"special\",\"ova\",\"tv\",\"movie\",\"tv\",\"movie\",\"ova\",\"ova\",\"ona\",\"tv\",\"music\",\"ona\",\"movie\",\"special\",\"ona\",\"music\",\"music\",\"tv\",\"ona\",\"tv\",\"special\",\"tv\",\"tv\",\"tv\",\"music\",\"tv\",\"tv\",\"ova\",\"tv\",\"ona\",\"music\",\"ona\",\"tv\",\"tv\",\"movie\",\"ona\",\"ona\",\"tv\",\"music\",\"music\",\"tv\",\"tv\",\"ova\",\"ona\",\"ova\",\"ona\",\"tv\",\"special\",\"tv\",\"music\",\"tv\",\"ova\",\"tv\",\"tv\",\"tv\",\"ova\",\"music\",\"ona\",\"movie\",\"movie\",\"tv\",\"movie\",\"special\",\"movie\",\"music\",\"music\",\"ova\",\"special\",\"ova\",\"tv\",\"ova\",\"ova\",\"ona\",\"tv\",\"ona\",\"special\",\"movie\",\"movie\",\"ova\",\"ona\",\"tv\",\"ona\",\"special\",\"movie\",\"tv\",\"ova\",\"tv\",\"tv\",\"movie\",\"tv\",\"movie\",\"ova\",\"music\",\"special\",\"special\",\"ona\",\"tv\",\"ova\",\"ova\",\"ona\",\"music\",\"ona\",\"special\",\"music\",\"tv\",\"movie\",\"tv\",\"movie\",\"ova\",\"ona\",\"tv\",\"ova\",\"movie\",\"ona\",\"ona\",\"ova\",\"tv\",\"music\",\"tv\",\"movie\",\"special\",\"tv\",\"special\",\"movie\",\"tv\",\"movie\",\"ova\",\"ova\",\"music\",\"music\",\"ona\",\"tv\",\"special\",\"movie\",\"special\",\"ona\",\"special\",\"tv\",\"special\",\"ova\",\"ona\",\"ona\",\"ona\",\"movie\",\"tv\",\"tv\",\"tv\",\"tv\",\"movie\",\"music\",\"tv\",\"ona\",\"ova\",\"movie\",\"ona\",\"special\",\"ona\",\"tv\",\"special\",\"ova\",\"music\",\"ova\",\"movie\",\"music\",\"ova\",\"special\",\"tv\",\"tv\",\"ova\",\"tv\",\"ova\",\"music\",\"movie\",\"tv\",\"special\",\"tv\",\"music\",\"special\",\"movie\",\"tv\",\"special\",\"special\",\"ova\",\"special\",\"special\",\"movie\",\"ona\",\"movie\",\"movie\",\"movie\",\"tv\",\"tv\",\"ova\",\"tv\",\"ova\",\"tv\",\"ova\",\"tv\",\"ona\",\"tv\",\"ova\",\"tv\",\"ova\",\"ova\",\"ova\",\"tv\",\"tv\",\"ona\",\"tv\",\"tv\",\"tv\",\"tv\",\"ona\",\"special\",\"tv\",\"movie\",\"ona\",\"ona\",\"tv\",\"music\",\"tv\",\"ova\",\"movie\",\"ova\",\"tv\",\"ona\",\"music\",\"movie\",\"special\",\"ova\",\"movie\",\"ona\",\"special\",\"tv\",\"music\",\"ona\",\"music\",\"ova\",\"tv\",\"tv\",\"tv\",\"tv\",\"ova\",\"movie\",\"movie\",\"tv\",\"ona\",\"tv\",\"ova\",\"tv\",\"ona\",\"music\",\"movie\",\"tv\",\"tv\",\"music\",\"tv\",\"movie\",\"special\",\"tv\",\"movie\",\"special\",\"music\",\"tv\",\"ova\",\"tv\",\"ova\",\"ona\",\"tv\",\"ova\",\"movie\",\"music\",\"movie\",\"ona\",\"movie\",\"tv\",\"tv\",\"tv\",\"ona\",\"tv\",\"movie\",\"movie\",\"movie\",\"ova\",\"tv\",\"movie\",\"tv\",\"tv\",\"movie\",\"movie\",\"ona\",\"movie\",\"ona\",\"movie\",\"music\",\"music\",\"ova\",\"tv\",\"ova\",\"movie\",\"ona\",\"ova\",\"ova\",\"tv\",null,\"ona\",\"music\",\"ona\",\"special\",\"ova\",\"special\",\"tv\",\"movie\",\"tv\",\"ova\",\"tv\",\"movie\",\"ova\",\"music\",\"special\",\"ona\",\"ova\",\"special\",\"tv\",\"tv\",\"music\",\"ova\",\"movie\",\"music\",\"movie\",\"movie\",\"ova\",\"special\",\"movie\",\"music\",\"tv\",\"ova\",\"music\",\"movie\",\"tv\",\"music\",\"tv\",\"ova\",\"tv\",\"special\",\"ova\",\"movie\",\"movie\",\"tv\",\"special\",\"movie\",\"tv\",\"ona\",\"ona\",\"music\",\"movie\",\"ona\",\"movie\",\"tv\",\"ova\",\"ova\",\"ova\",\"ova\",\"ona\",\"ova\",\"tv\",\"tv\",\"ova\",\"special\",\"music\",\"special\",\"music\",\"ova\",\"movie\",\"ova\",\"ova\",\"special\",\"tv\",\"ova\",\"tv\",\"tv\",\"tv\",\"ova\",\"ona\",\"ova\",\"tv\",\"ova\",\"ona\",\"ova\",\"tv\",\"music\",\"ova\",\"movie\",\"special\",\"ova\",\"tv\",\"ova\",\"ova\",\"special\",\"tv\",\"ona\",\"ova\",\"movie\",\"special\",\"special\",\"music\",\"ona\",\"tv\",\"ova\",\"music\",\"movie\",\"ona\",\"special\",\"special\",\"tv\",\"tv\",\"ona\",\"ova\",\"ova\",\"movie\",\"movie\",\"movie\",\"movie\",\"ona\",null,\"music\",\"tv\",\"tv\",\"movie\",\"tv\",\"tv\",\"ova\",\"tv\",\"movie\",\"ona\",\"tv\",\"tv\",\"movie\",\"tv\",\"special\",\"ona\",\"music\",\"movie\",\"ona\",\"tv\",\"ova\",\"tv\",\"tv\",\"special\",\"movie\",\"ova\",\"music\",\"music\",\"tv\",\"tv\",\"tv\",\"ona\",\"movie\",\"music\",\"ona\",\"ova\",\"ova\",\"movie\",\"ona\",\"tv\",\"tv\",\"movie\",\"ova\",\"tv\",\"tv\",\"tv\",\"ona\",\"movie\",\"tv\",\"ona\",\"ova\",\"movie\",\"movie\",\"tv\",null,\"tv\",\"ova\",\"special\",\"music\",\"music\",\"ona\",\"tv\",\"special\",\"ova\",\"ova\",\"special\",\"special\",\"ova\",\"tv\",\"music\",\"tv\",\"movie\",\"music\",\"tv\",\"ona\",\"tv\",\"ona\",\"tv\",\"music\",\"tv\",\"movie\",\"ona\",\"movie\",\"music\",\"movie\",\"tv\",\"tv\",\"tv\",\"music\",\"ona\",\"ona\",\"ova\",\"special\",\"ona\",\"ova\",\"ova\",\"music\",\"music\",\"ova\",\"tv\",\"movie\",\"special\",\"tv\",\"music\",\"ova\",\"ova\",\"movie\",\"tv\",\"ova\",\"tv\",\"tv\",\"tv\",\"ona\",\"tv\",\"special\",\"ova\",\"music\",\"ona\",\"ova\",\"tv\",\"tv\",\"ova\",\"special\",\"tv\",\"tv\",\"tv\",\"music\",\"movie\",\"movie\",\"music\",\"special\",\"tv\",\"special\",\"ova\",\"special\",\"ona\",\"tv\",\"music\",\"ova\",\"movie\",\"tv\",\"movie\",\"special\",\"tv\",\"movie\",\"tv\",\"special\",\"ona\",\"tv\",\"tv\",\"ona\",\"ova\",\"special\",\"tv\",\"ona\",\"ona\",\"music\",\"special\",\"tv\",\"ova\",\"ova\",\"ona\",\"special\",\"ova\",\"tv\",\"special\",\"movie\",\"music\",\"ona\",\"ova\",\"music\",\"special\",\"ova\",\"movie\",\"ova\",\"music\",\"special\",\"tv\",\"tv\",\"tv\",\"ova\",\"music\",\"ona\",\"movie\",\"tv\",\"tv\",\"tv\",\"tv\",\"movie\",\"music\",\"tv\",\"special\",\"tv\",\"special\",\"ona\",\"movie\",\"tv\",\"movie\",\"movie\",\"tv\",\"tv\",\"tv\",\"movie\",\"ova\",\"music\",\"ona\",\"special\",\"ova\",\"tv\",\"music\",\"music\",\"ova\",\"tv\",\"ona\",\"music\",\"ona\",\"ova\",\"tv\",\"ona\",\"ona\",\"movie\",\"movie\",\"music\",\"ona\",\"tv\",\"tv\",\"tv\",\"movie\",\"music\",\"ona\",\"movie\",\"movie\",\"tv\",\"tv\",\"tv\",\"movie\",\"tv\",\"music\",\"ona\",\"ona\",\"movie\",\"tv\",\"tv\",\"tv\",\"ova\",\"ova\",\"tv\",\"special\",\"movie\",\"tv\",\"special\",\"tv\",\"tv\",\"movie\",\"music\",\"ona\",\"tv\",\"special\",\"movie\",\"music\",\"ova\",\"ona\",\"special\",\"ova\",\"ova\",\"movie\",\"tv\",\"movie\",\"ova\",\"tv\",\"ova\",\"tv\",\"music\",\"tv\",\"ova\",\"ova\",\"tv\",\"movie\",\"ova\",\"ona\",\"ona\",\"ona\",\"tv\",\"tv\",\"movie\",\"special\",\"ona\",\"movie\",\"ova\",\"music\",\"tv\",\"music\",\"tv\",\"music\",\"tv\",\"ona\",\"tv\",\"tv\",\"tv\",\"movie\",\"tv\",\"ova\",\"special\",\"movie\",\"special\",\"movie\",\"music\",\"movie\",\"ona\",\"movie\",\"ova\",\"music\",\"tv\",\"movie\",\"music\",\"movie\",\"tv\",\"tv\",\"ova\",\"tv\",\"tv\",\"ova\",\"music\",\"tv\",\"tv\",\"ova\",\"ona\",\"ona\",\"ona\",\"movie\",\"movie\",\"music\",\"tv\",\"movie\",\"special\",\"ova\",\"tv\",\"movie\",\"tv\",\"ona\",\"tv\",\"ona\",\"tv\",\"ova\",\"movie\",\"ova\",\"ova\",\"tv\",\"tv\",\"tv\",\"tv\",\"tv\",\"ova\",\"music\",\"tv\",\"tv\",\"tv\",\"tv\",\"ona\",\"special\",\"special\",\"tv\",\"tv\",\"music\",\"movie\",\"tv\",\"movie\",\"ova\",\"music\",\"tv\",\"tv\",\"ova\",\"movie\",\"tv\",\"tv\",\"ova\",\"tv\",\"tv\",\"special\",\"ona\",\"ona\",\"tv\",\"ova\",\"ona\",\"music\",\"tv\",\"special\",\"music\",\"ona\",\"movie\",\"movie\",\"ona\",\"movie\",\"tv\",\"ova\",\"tv\",\"tv\",\"ona\",\"ona\",\"ova\",\"ova\",\"music\",\"movie\",\"tv\",\"ona\",\"ona\",\"tv\",\"special\",\"ona\",\"tv\",\"movie\",\"ona\",\"movie\",\"movie\",\"ova\",\"ova\",\"tv\",\"ova\",\"tv\",\"movie\",\"movie\",\"special\",\"tv\",\"movie\",\"ona\",\"music\",\"ova\",\"movie\",\"special\",\"ona\",\"special\",\"ova\",\"tv\",\"tv\",\"tv\",\"movie\",\"ova\",\"tv\",\"ona\",\"movie\",\"tv\",\"tv\",\"ova\",\"music\",\"special\",\"ova\",\"special\",\"tv\",\"special\",\"movie\",\"ona\",\"movie\",\"music\",\"music\",\"tv\",\"ova\",\"tv\",\"music\",\"tv\",\"special\",\"movie\",\"tv\",\"movie\",\"tv\",\"ova\",\"ova\",\"ova\",\"ova\",\"tv\",\"ona\",\"movie\",\"music\",\"movie\",\"movie\",\"ona\",\"movie\",\"ona\",\"tv\",\"ova\",\"tv\",\"ova\",\"tv\",\"movie\",\"movie\",\"tv\",\"movie\",\"music\",\"ona\",\"ona\",\"movie\",\"special\",\"ona\",\"movie\",\"movie\",\"movie\",\"tv\",\"music\",\"music\",\"tv\",\"music\",\"ona\",\"tv\",\"special\",\"ona\",\"music\",\"tv\",\"tv\",\"movie\",\"tv\",\"tv\",\"ona\",\"ova\",\"tv\",\"music\",\"movie\",\"music\",\"tv\",\"tv\",\"tv\",\"music\",\"ona\",\"ona\",\"tv\",\"ona\",\"ona\",\"ova\",\"special\",\"tv\",\"ona\",\"tv\",\"tv\",\"music\",\"tv\",\"tv\",\"movie\",\"ova\",\"ona\",\"tv\",\"ova\",\"movie\",\"ova\",\"tv\",\"ova\",\"music\",\"special\",\"music\",\"ona\",\"tv\",\"tv\",\"tv\",\"ova\",\"music\"],\"legendgroup\":\"\",\"name\":\"\",\"showlegend\":true,\"type\":\"pie\",\"textinfo\":\"percent+label\",\"textposition\":\"inside\"}],                        {\"template\":{\"data\":{\"histogram2dcontour\":[{\"type\":\"histogram2dcontour\",\"colorbar\":{\"outlinewidth\":0,\"ticks\":\"\"},\"colorscale\":[[0.0,\"#0d0887\"],[0.1111111111111111,\"#46039f\"],[0.2222222222222222,\"#7201a8\"],[0.3333333333333333,\"#9c179e\"],[0.4444444444444444,\"#bd3786\"],[0.5555555555555556,\"#d8576b\"],[0.6666666666666666,\"#ed7953\"],[0.7777777777777778,\"#fb9f3a\"],[0.8888888888888888,\"#fdca26\"],[1.0,\"#f0f921\"]]}],\"choropleth\":[{\"type\":\"choropleth\",\"colorbar\":{\"outlinewidth\":0,\"ticks\":\"\"}}],\"histogram2d\":[{\"type\":\"histogram2d\",\"colorbar\":{\"outlinewidth\":0,\"ticks\":\"\"},\"colorscale\":[[0.0,\"#0d0887\"],[0.1111111111111111,\"#46039f\"],[0.2222222222222222,\"#7201a8\"],[0.3333333333333333,\"#9c179e\"],[0.4444444444444444,\"#bd3786\"],[0.5555555555555556,\"#d8576b\"],[0.6666666666666666,\"#ed7953\"],[0.7777777777777778,\"#fb9f3a\"],[0.8888888888888888,\"#fdca26\"],[1.0,\"#f0f921\"]]}],\"heatmap\":[{\"type\":\"heatmap\",\"colorbar\":{\"outlinewidth\":0,\"ticks\":\"\"},\"colorscale\":[[0.0,\"#0d0887\"],[0.1111111111111111,\"#46039f\"],[0.2222222222222222,\"#7201a8\"],[0.3333333333333333,\"#9c179e\"],[0.4444444444444444,\"#bd3786\"],[0.5555555555555556,\"#d8576b\"],[0.6666666666666666,\"#ed7953\"],[0.7777777777777778,\"#fb9f3a\"],[0.8888888888888888,\"#fdca26\"],[1.0,\"#f0f921\"]]}],\"heatmapgl\":[{\"type\":\"heatmapgl\",\"colorbar\":{\"outlinewidth\":0,\"ticks\":\"\"},\"colorscale\":[[0.0,\"#0d0887\"],[0.1111111111111111,\"#46039f\"],[0.2222222222222222,\"#7201a8\"],[0.3333333333333333,\"#9c179e\"],[0.4444444444444444,\"#bd3786\"],[0.5555555555555556,\"#d8576b\"],[0.6666666666666666,\"#ed7953\"],[0.7777777777777778,\"#fb9f3a\"],[0.8888888888888888,\"#fdca26\"],[1.0,\"#f0f921\"]]}],\"contourcarpet\":[{\"type\":\"contourcarpet\",\"colorbar\":{\"outlinewidth\":0,\"ticks\":\"\"}}],\"contour\":[{\"type\":\"contour\",\"colorbar\":{\"outlinewidth\":0,\"ticks\":\"\"},\"colorscale\":[[0.0,\"#0d0887\"],[0.1111111111111111,\"#46039f\"],[0.2222222222222222,\"#7201a8\"],[0.3333333333333333,\"#9c179e\"],[0.4444444444444444,\"#bd3786\"],[0.5555555555555556,\"#d8576b\"],[0.6666666666666666,\"#ed7953\"],[0.7777777777777778,\"#fb9f3a\"],[0.8888888888888888,\"#fdca26\"],[1.0,\"#f0f921\"]]}],\"surface\":[{\"type\":\"surface\",\"colorbar\":{\"outlinewidth\":0,\"ticks\":\"\"},\"colorscale\":[[0.0,\"#0d0887\"],[0.1111111111111111,\"#46039f\"],[0.2222222222222222,\"#7201a8\"],[0.3333333333333333,\"#9c179e\"],[0.4444444444444444,\"#bd3786\"],[0.5555555555555556,\"#d8576b\"],[0.6666666666666666,\"#ed7953\"],[0.7777777777777778,\"#fb9f3a\"],[0.8888888888888888,\"#fdca26\"],[1.0,\"#f0f921\"]]}],\"mesh3d\":[{\"type\":\"mesh3d\",\"colorbar\":{\"outlinewidth\":0,\"ticks\":\"\"}}],\"scatter\":[{\"fillpattern\":{\"fillmode\":\"overlay\",\"size\":10,\"solidity\":0.2},\"type\":\"scatter\"}],\"parcoords\":[{\"type\":\"parcoords\",\"line\":{\"colorbar\":{\"outlinewidth\":0,\"ticks\":\"\"}}}],\"scatterpolargl\":[{\"type\":\"scatterpolargl\",\"marker\":{\"colorbar\":{\"outlinewidth\":0,\"ticks\":\"\"}}}],\"bar\":[{\"error_x\":{\"color\":\"#2a3f5f\"},\"error_y\":{\"color\":\"#2a3f5f\"},\"marker\":{\"line\":{\"color\":\"#E5ECF6\",\"width\":0.5},\"pattern\":{\"fillmode\":\"overlay\",\"size\":10,\"solidity\":0.2}},\"type\":\"bar\"}],\"scattergeo\":[{\"type\":\"scattergeo\",\"marker\":{\"colorbar\":{\"outlinewidth\":0,\"ticks\":\"\"}}}],\"scatterpolar\":[{\"type\":\"scatterpolar\",\"marker\":{\"colorbar\":{\"outlinewidth\":0,\"ticks\":\"\"}}}],\"histogram\":[{\"marker\":{\"pattern\":{\"fillmode\":\"overlay\",\"size\":10,\"solidity\":0.2}},\"type\":\"histogram\"}],\"scattergl\":[{\"type\":\"scattergl\",\"marker\":{\"colorbar\":{\"outlinewidth\":0,\"ticks\":\"\"}}}],\"scatter3d\":[{\"type\":\"scatter3d\",\"line\":{\"colorbar\":{\"outlinewidth\":0,\"ticks\":\"\"}},\"marker\":{\"colorbar\":{\"outlinewidth\":0,\"ticks\":\"\"}}}],\"scattermapbox\":[{\"type\":\"scattermapbox\",\"marker\":{\"colorbar\":{\"outlinewidth\":0,\"ticks\":\"\"}}}],\"scatterternary\":[{\"type\":\"scatterternary\",\"marker\":{\"colorbar\":{\"outlinewidth\":0,\"ticks\":\"\"}}}],\"scattercarpet\":[{\"type\":\"scattercarpet\",\"marker\":{\"colorbar\":{\"outlinewidth\":0,\"ticks\":\"\"}}}],\"carpet\":[{\"aaxis\":{\"endlinecolor\":\"#2a3f5f\",\"gridcolor\":\"white\",\"linecolor\":\"white\",\"minorgridcolor\":\"white\",\"startlinecolor\":\"#2a3f5f\"},\"baxis\":{\"endlinecolor\":\"#2a3f5f\",\"gridcolor\":\"white\",\"linecolor\":\"white\",\"minorgridcolor\":\"white\",\"startlinecolor\":\"#2a3f5f\"},\"type\":\"carpet\"}],\"table\":[{\"cells\":{\"fill\":{\"color\":\"#EBF0F8\"},\"line\":{\"color\":\"white\"}},\"header\":{\"fill\":{\"color\":\"#C8D4E3\"},\"line\":{\"color\":\"white\"}},\"type\":\"table\"}],\"barpolar\":[{\"marker\":{\"line\":{\"color\":\"#E5ECF6\",\"width\":0.5},\"pattern\":{\"fillmode\":\"overlay\",\"size\":10,\"solidity\":0.2}},\"type\":\"barpolar\"}],\"pie\":[{\"automargin\":true,\"type\":\"pie\"}]},\"layout\":{\"autotypenumbers\":\"strict\",\"colorway\":[\"#636efa\",\"#EF553B\",\"#00cc96\",\"#ab63fa\",\"#FFA15A\",\"#19d3f3\",\"#FF6692\",\"#B6E880\",\"#FF97FF\",\"#FECB52\"],\"font\":{\"color\":\"#2a3f5f\"},\"hovermode\":\"closest\",\"hoverlabel\":{\"align\":\"left\"},\"paper_bgcolor\":\"white\",\"plot_bgcolor\":\"#E5ECF6\",\"polar\":{\"bgcolor\":\"#E5ECF6\",\"angularaxis\":{\"gridcolor\":\"white\",\"linecolor\":\"white\",\"ticks\":\"\"},\"radialaxis\":{\"gridcolor\":\"white\",\"linecolor\":\"white\",\"ticks\":\"\"}},\"ternary\":{\"bgcolor\":\"#E5ECF6\",\"aaxis\":{\"gridcolor\":\"white\",\"linecolor\":\"white\",\"ticks\":\"\"},\"baxis\":{\"gridcolor\":\"white\",\"linecolor\":\"white\",\"ticks\":\"\"},\"caxis\":{\"gridcolor\":\"white\",\"linecolor\":\"white\",\"ticks\":\"\"}},\"coloraxis\":{\"colorbar\":{\"outlinewidth\":0,\"ticks\":\"\"}},\"colorscale\":{\"sequential\":[[0.0,\"#0d0887\"],[0.1111111111111111,\"#46039f\"],[0.2222222222222222,\"#7201a8\"],[0.3333333333333333,\"#9c179e\"],[0.4444444444444444,\"#bd3786\"],[0.5555555555555556,\"#d8576b\"],[0.6666666666666666,\"#ed7953\"],[0.7777777777777778,\"#fb9f3a\"],[0.8888888888888888,\"#fdca26\"],[1.0,\"#f0f921\"]],\"sequentialminus\":[[0.0,\"#0d0887\"],[0.1111111111111111,\"#46039f\"],[0.2222222222222222,\"#7201a8\"],[0.3333333333333333,\"#9c179e\"],[0.4444444444444444,\"#bd3786\"],[0.5555555555555556,\"#d8576b\"],[0.6666666666666666,\"#ed7953\"],[0.7777777777777778,\"#fb9f3a\"],[0.8888888888888888,\"#fdca26\"],[1.0,\"#f0f921\"]],\"diverging\":[[0,\"#8e0152\"],[0.1,\"#c51b7d\"],[0.2,\"#de77ae\"],[0.3,\"#f1b6da\"],[0.4,\"#fde0ef\"],[0.5,\"#f7f7f7\"],[0.6,\"#e6f5d0\"],[0.7,\"#b8e186\"],[0.8,\"#7fbc41\"],[0.9,\"#4d9221\"],[1,\"#276419\"]]},\"xaxis\":{\"gridcolor\":\"white\",\"linecolor\":\"white\",\"ticks\":\"\",\"title\":{\"standoff\":15},\"zerolinecolor\":\"white\",\"automargin\":true,\"zerolinewidth\":2},\"yaxis\":{\"gridcolor\":\"white\",\"linecolor\":\"white\",\"ticks\":\"\",\"title\":{\"standoff\":15},\"zerolinecolor\":\"white\",\"automargin\":true,\"zerolinewidth\":2},\"scene\":{\"xaxis\":{\"backgroundcolor\":\"#E5ECF6\",\"gridcolor\":\"white\",\"linecolor\":\"white\",\"showbackground\":true,\"ticks\":\"\",\"zerolinecolor\":\"white\",\"gridwidth\":2},\"yaxis\":{\"backgroundcolor\":\"#E5ECF6\",\"gridcolor\":\"white\",\"linecolor\":\"white\",\"showbackground\":true,\"ticks\":\"\",\"zerolinecolor\":\"white\",\"gridwidth\":2},\"zaxis\":{\"backgroundcolor\":\"#E5ECF6\",\"gridcolor\":\"white\",\"linecolor\":\"white\",\"showbackground\":true,\"ticks\":\"\",\"zerolinecolor\":\"white\",\"gridwidth\":2}},\"shapedefaults\":{\"line\":{\"color\":\"#2a3f5f\"}},\"annotationdefaults\":{\"arrowcolor\":\"#2a3f5f\",\"arrowhead\":0,\"arrowwidth\":1},\"geo\":{\"bgcolor\":\"white\",\"landcolor\":\"#E5ECF6\",\"subunitcolor\":\"white\",\"showland\":true,\"showlakes\":true,\"lakecolor\":\"white\"},\"title\":{\"x\":0.05},\"mapbox\":{\"style\":\"light\"}}},\"legend\":{\"tracegroupgap\":0},\"margin\":{\"t\":60}},                        {\"responsive\": true}                    ).then(function(){\n",
              "                            \n",
              "var gd = document.getElementById('c9aeb447-5b26-4766-a800-81067939f510');\n",
              "var x = new MutationObserver(function (mutations, observer) {{\n",
              "        var display = window.getComputedStyle(gd).display;\n",
              "        if (!display || display === 'none') {{\n",
              "            console.log([gd, 'removed!']);\n",
              "            Plotly.purge(gd);\n",
              "            observer.disconnect();\n",
              "        }}\n",
              "}});\n",
              "\n",
              "// Listen for the removal of the full notebook cells\n",
              "var notebookContainer = gd.closest('#notebook-container');\n",
              "if (notebookContainer) {{\n",
              "    x.observe(notebookContainer, {childList: true});\n",
              "}}\n",
              "\n",
              "// Listen for the clearing of the current output cell\n",
              "var outputEl = gd.closest('.output');\n",
              "if (outputEl) {{\n",
              "    x.observe(outputEl, {childList: true});\n",
              "}}\n",
              "\n",
              "                        })                };                            </script>        </div>\n",
              "</body>\n",
              "</html>"
            ]
          },
          "metadata": {}
        }
      ],
      "source": [
        "fig = px.pie(df, 'type')\n",
        "fig.update_traces(textposition='inside', textinfo='percent+label')\n",
        "fig.show()"
      ]
    },
    {
      "cell_type": "markdown",
      "metadata": {
        "id": "DB7Na1STlk_U"
      },
      "source": [
        "Проверка статистики показа аниме по дням недели"
      ]
    },
    {
      "cell_type": "code",
      "execution_count": 16,
      "metadata": {
        "id": "dDDKnVRXlrh7",
        "colab": {
          "base_uri": "https://localhost:8080/",
          "height": 755
        },
        "outputId": "3b9eb0ac-7a05-45dd-c61a-42425b3dc472"
      },
      "outputs": [
        {
          "output_type": "execute_result",
          "data": {
            "text/plain": [
              "<Axes: xlabel='broadcast_day'>"
            ]
          },
          "metadata": {},
          "execution_count": 16
        },
        {
          "output_type": "display_data",
          "data": {
            "text/plain": [
              "<Figure size 1200x800 with 1 Axes>"
            ],
            "image/png": "[encoded data removed]"
          },
          "metadata": {}
        }
      ],
      "source": [
        "plt.figure(figsize=(12,8))\n",
        "df['broadcast_day'].value_counts().reindex(['monday', 'tuesday', 'wednesday', 'thursday', 'friday', 'saturday', 'sunday']).plot()"
      ]
    },
    {
      "cell_type": "markdown",
      "source": [
        "Проверка распределения оценок аниме"
      ],
      "metadata": {
        "id": "TIjVkEm9c5X2"
      }
    },
    {
      "cell_type": "code",
      "source": [
        "plt.figure(figsize=(16, 8))\n",
        "\n",
        "sns.histplot(df, x='score')"
      ],
      "metadata": {
        "id": "0HK4GM0Vc5r3",
        "colab": {
          "base_uri": "https://localhost:8080/",
          "height": 755
        },
        "outputId": "01b3bdbe-8673-456d-f64b-3c5d36b5df59"
      },
      "execution_count": 18,
      "outputs": [
        {
          "output_type": "execute_result",
          "data": {
            "text/plain": [
              "<Axes: xlabel='score', ylabel='Count'>"
            ]
          },
          "metadata": {},
          "execution_count": 18
        },
        {
          "output_type": "display_data",
          "data": {
            "text/plain": [
              "<Figure size 1600x800 with 1 Axes>"
            ],
            "image/png": "[encoded data removed]"
          },
          "metadata": {}
        }
      ]
    },
    {
      "cell_type": "markdown",
      "metadata": {
        "id": "ZjdK9V5wl910"
      },
      "source": [
        "### Обобщение датасета"
      ]
    },
    {
      "cell_type": "markdown",
      "metadata": {
        "id": "PQzcgObzZq0m"
      },
      "source": [
        "Создание обобщенного датасета"
      ]
    },
    {
      "cell_type": "code",
      "execution_count": 19,
      "metadata": {
        "id": "e9G5MrTHqhh2",
        "colab": {
          "base_uri": "https://localhost:8080/"
        },
        "outputId": "430c3815-26c7-449a-b6fb-6afafe5e52f0"
      },
      "outputs": [
        {
          "output_type": "stream",
          "name": "stdout",
          "text": [
            "<class 'pandas.core.frame.DataFrame'>\n",
            "Index: 20000 entries, 10844 to 19496\n",
            "Data columns (total 12 columns):\n",
            " #   Column        Non-Null Count  Dtype  \n",
            "---  ------        --------------  -----  \n",
            " 0   anime_id      20000 non-null  int64  \n",
            " 1   type          19949 non-null  object \n",
            " 2   score         12855 non-null  float64\n",
            " 3   status        20000 non-null  object \n",
            " 4   episodes      19565 non-null  float64\n",
            " 5   source        17151 non-null  object \n",
            " 6   members       20000 non-null  int64  \n",
            " 7   favorites     20000 non-null  int64  \n",
            " 8   rating        19526 non-null  object \n",
            " 9   sfw           20000 non-null  bool   \n",
            " 10  start_year    16261 non-null  float64\n",
            " 11  start_season  16261 non-null  object \n",
            "dtypes: bool(1), float64(3), int64(3), object(5)\n",
            "memory usage: 1.9+ MB\n"
          ]
        }
      ],
      "source": [
        "# новый датасет для проверки корелляции\n",
        "grouped_df = df\n",
        "\n",
        "garbage_columns = [1, 4, 7, 8, 12, 13, 16, 17, 18] + list(range(21,39))\n",
        "\n",
        "grouped_df = grouped_df.drop(df.columns[garbage_columns], axis=1)\n",
        "\n",
        "# выводим получившуюся структуру\n",
        "grouped_df.info()"
      ]
    },
    {
      "cell_type": "markdown",
      "metadata": {
        "id": "Nqk09O4QQB0V"
      },
      "source": [
        "Преобразование категориальных признаков в числовые"
      ]
    },
    {
      "cell_type": "code",
      "execution_count": 20,
      "metadata": {
        "id": "WQhgaMJlQEfD",
        "colab": {
          "base_uri": "https://localhost:8080/"
        },
        "outputId": "ca8092e5-3390-4405-b98c-1edb90b11e78"
      },
      "outputs": [
        {
          "output_type": "stream",
          "name": "stderr",
          "text": [
            "<ipython-input-20-0d78aa1fbd79>:6: SettingWithCopyWarning:\n",
            "\n",
            "\n",
            "A value is trying to be set on a copy of a slice from a DataFrame.\n",
            "Try using .loc[row_indexer,col_indexer] = value instead\n",
            "\n",
            "See the caveats in the documentation: https://pandas.pydata.org/pandas-docs/stable/user_guide/indexing.html#returning-a-view-versus-a-copy\n",
            "\n",
            "<ipython-input-20-0d78aa1fbd79>:6: SettingWithCopyWarning:\n",
            "\n",
            "\n",
            "A value is trying to be set on a copy of a slice from a DataFrame.\n",
            "Try using .loc[row_indexer,col_indexer] = value instead\n",
            "\n",
            "See the caveats in the documentation: https://pandas.pydata.org/pandas-docs/stable/user_guide/indexing.html#returning-a-view-versus-a-copy\n",
            "\n",
            "<ipython-input-20-0d78aa1fbd79>:6: SettingWithCopyWarning:\n",
            "\n",
            "\n",
            "A value is trying to be set on a copy of a slice from a DataFrame.\n",
            "Try using .loc[row_indexer,col_indexer] = value instead\n",
            "\n",
            "See the caveats in the documentation: https://pandas.pydata.org/pandas-docs/stable/user_guide/indexing.html#returning-a-view-versus-a-copy\n",
            "\n",
            "<ipython-input-20-0d78aa1fbd79>:6: SettingWithCopyWarning:\n",
            "\n",
            "\n",
            "A value is trying to be set on a copy of a slice from a DataFrame.\n",
            "Try using .loc[row_indexer,col_indexer] = value instead\n",
            "\n",
            "See the caveats in the documentation: https://pandas.pydata.org/pandas-docs/stable/user_guide/indexing.html#returning-a-view-versus-a-copy\n",
            "\n",
            "<ipython-input-20-0d78aa1fbd79>:6: SettingWithCopyWarning:\n",
            "\n",
            "\n",
            "A value is trying to be set on a copy of a slice from a DataFrame.\n",
            "Try using .loc[row_indexer,col_indexer] = value instead\n",
            "\n",
            "See the caveats in the documentation: https://pandas.pydata.org/pandas-docs/stable/user_guide/indexing.html#returning-a-view-versus-a-copy\n",
            "\n"
          ]
        }
      ],
      "source": [
        "grouped_df = grouped_df.dropna()\n",
        "\n",
        "labelencoder = LabelEncoder()\n",
        "\n",
        "for column in grouped_df.select_dtypes(include=['object']):\n",
        "    grouped_df[column] = labelencoder.fit_transform(grouped_df[column])"
      ]
    },
    {
      "cell_type": "markdown",
      "metadata": {
        "id": "pn_13hY4mGa7"
      },
      "source": [
        "### Проверка на наличие незначащих признаков"
      ]
    },
    {
      "cell_type": "markdown",
      "metadata": {
        "id": "B6dBaL1xaQAc"
      },
      "source": [
        "Проверка корреляции признаков"
      ]
    },
    {
      "cell_type": "code",
      "execution_count": 21,
      "metadata": {
        "id": "f68Se9HwZ9Qz",
        "colab": {
          "base_uri": "https://localhost:8080/",
          "height": 982
        },
        "outputId": "2a74c84c-a806-4689-da37-c138e51f0eaa"
      },
      "outputs": [
        {
          "output_type": "display_data",
          "data": {
            "text/plain": [
              "<Figure size 1200x1000 with 2 Axes>"
            ],
            "image/png": "[encoded data removed]"
          },
          "metadata": {}
        }
      ],
      "source": [
        "# размер графика\n",
        "plt.figure(figsize=(12, 10))\n",
        "\n",
        "# таблица корреляции\n",
        "sns.heatmap(grouped_df.corr(), annot=True, fmt=\".1f\");"
      ]
    },
    {
      "cell_type": "markdown",
      "metadata": {
        "id": "504pWBA4wFbk"
      },
      "source": [
        "## Подготовка данных"
      ]
    },
    {
      "cell_type": "markdown",
      "metadata": {
        "id": "VpcN5jdOIRS-"
      },
      "source": [
        "### Заполнение отсутствующих значений"
      ]
    },
    {
      "cell_type": "markdown",
      "metadata": {
        "id": "GFPS5loMIaub"
      },
      "source": [
        "Проверка на наличие пропусков"
      ]
    },
    {
      "cell_type": "code",
      "execution_count": 22,
      "metadata": {
        "id": "2qFw3E7iIZbP",
        "colab": {
          "base_uri": "https://localhost:8080/"
        },
        "outputId": "4909cc93-7b90-4145-972a-dd1e0faa2e48"
      },
      "outputs": [
        {
          "output_type": "stream",
          "name": "stdout",
          "text": [
            "Пропуски по столбцам:\n",
            "anime_id        0\n",
            "type            0\n",
            "score           0\n",
            "status          0\n",
            "episodes        0\n",
            "source          0\n",
            "members         0\n",
            "favorites       0\n",
            "rating          0\n",
            "sfw             0\n",
            "start_year      0\n",
            "start_season    0\n",
            "dtype: int64\n",
            "\n",
            "Всего пропусков: 0\n"
          ]
        }
      ],
      "source": [
        "# отдельно считаем количество пустых записей в столбцах\n",
        "skips_num = grouped_df.isna().sum()\n",
        "\n",
        "print(f\"Пропуски по столбцам:\\n{skips_num}\\n\")\n",
        "\n",
        "# выводим сумму по столбцам\n",
        "print(f\"Всего пропусков: {skips_num.sum()}\")\n"
      ]
    },
    {
      "cell_type": "markdown",
      "metadata": {
        "id": "JAYPp1XwV8be"
      },
      "source": [
        "### Выбор обучающего и тестового наборов"
      ]
    },
    {
      "cell_type": "markdown",
      "metadata": {
        "id": "VXmI7ztVvSJJ"
      },
      "source": [
        "Разделение данных на те, по которым предсказываем, и на те, которые предсказываем"
      ]
    },
    {
      "cell_type": "code",
      "execution_count": 24,
      "metadata": {
        "id": "WK9YCC8yIBh0",
        "colab": {
          "base_uri": "https://localhost:8080/",
          "height": 206
        },
        "outputId": "e2aecd0e-1fdb-48a3-9861-99066e020b36"
      },
      "outputs": [
        {
          "output_type": "execute_result",
          "data": {
            "text/plain": [
              "       anime_id  type  score  status  episodes  source  members  favorites  \\\n",
              "10844     51045     1   6.45       1       1.0       9      375          4   \n",
              "7390      38425     3   6.32       1       3.0       5    14318         21   \n",
              "10288     52216     2   6.41       1       1.0       3      756          7   \n",
              "9244      50964     1   6.56       1       1.0       9      835          3   \n",
              "14891     36135     5   5.55       1      25.0       9     1866          0   \n",
              "\n",
              "       rating  start_year  start_season  \n",
              "10844       2      2022.0             3  \n",
              "7390        4      2019.0             3  \n",
              "10288       2      2022.0             3  \n",
              "9244        2      2021.0             0  \n",
              "14891       2      2017.0             0  "
            ],
            "text/html": [
              "\n",
              "  <div id=\"df-b8644c81-45c0-4516-8d67-777b6fc755ee\" class=\"colab-df-container\">\n",
              "    <div>\n",
              "<style scoped>\n",
              "    .dataframe tbody tr th:only-of-type {\n",
              "        vertical-align: middle;\n",
              "    }\n",
              "\n",
              "    .dataframe tbody tr th {\n",
              "        vertical-align: top;\n",
              "    }\n",
              "\n",
              "    .dataframe thead th {\n",
              "        text-align: right;\n",
              "    }\n",
              "</style>\n",
              "<table border=\"1\" class=\"dataframe\">\n",
              "  <thead>\n",
              "    <tr style=\"text-align: right;\">\n",
              "      <th></th>\n",
              "      <th>anime_id</th>\n",
              "      <th>type</th>\n",
              "      <th>score</th>\n",
              "      <th>status</th>\n",
              "      <th>episodes</th>\n",
              "      <th>source</th>\n",
              "      <th>members</th>\n",
              "      <th>favorites</th>\n",
              "      <th>rating</th>\n",
              "      <th>start_year</th>\n",
              "      <th>start_season</th>\n",
              "    </tr>\n",
              "  </thead>\n",
              "  <tbody>\n",
              "    <tr>\n",
              "      <th>10844</th>\n",
              "      <td>51045</td>\n",
              "      <td>1</td>\n",
              "      <td>6.45</td>\n",
              "      <td>1</td>\n",
              "      <td>1.0</td>\n",
              "      <td>9</td>\n",
              "      <td>375</td>\n",
              "      <td>4</td>\n",
              "      <td>2</td>\n",
              "      <td>2022.0</td>\n",
              "      <td>3</td>\n",
              "    </tr>\n",
              "    <tr>\n",
              "      <th>7390</th>\n",
              "      <td>38425</td>\n",
              "      <td>3</td>\n",
              "      <td>6.32</td>\n",
              "      <td>1</td>\n",
              "      <td>3.0</td>\n",
              "      <td>5</td>\n",
              "      <td>14318</td>\n",
              "      <td>21</td>\n",
              "      <td>4</td>\n",
              "      <td>2019.0</td>\n",
              "      <td>3</td>\n",
              "    </tr>\n",
              "    <tr>\n",
              "      <th>10288</th>\n",
              "      <td>52216</td>\n",
              "      <td>2</td>\n",
              "      <td>6.41</td>\n",
              "      <td>1</td>\n",
              "      <td>1.0</td>\n",
              "      <td>3</td>\n",
              "      <td>756</td>\n",
              "      <td>7</td>\n",
              "      <td>2</td>\n",
              "      <td>2022.0</td>\n",
              "      <td>3</td>\n",
              "    </tr>\n",
              "    <tr>\n",
              "      <th>9244</th>\n",
              "      <td>50964</td>\n",
              "      <td>1</td>\n",
              "      <td>6.56</td>\n",
              "      <td>1</td>\n",
              "      <td>1.0</td>\n",
              "      <td>9</td>\n",
              "      <td>835</td>\n",
              "      <td>3</td>\n",
              "      <td>2</td>\n",
              "      <td>2021.0</td>\n",
              "      <td>0</td>\n",
              "    </tr>\n",
              "    <tr>\n",
              "      <th>14891</th>\n",
              "      <td>36135</td>\n",
              "      <td>5</td>\n",
              "      <td>5.55</td>\n",
              "      <td>1</td>\n",
              "      <td>25.0</td>\n",
              "      <td>9</td>\n",
              "      <td>1866</td>\n",
              "      <td>0</td>\n",
              "      <td>2</td>\n",
              "      <td>2017.0</td>\n",
              "      <td>0</td>\n",
              "    </tr>\n",
              "  </tbody>\n",
              "</table>\n",
              "</div>\n",
              "    <div class=\"colab-df-buttons\">\n",
              "\n",
              "  <div class=\"colab-df-container\">\n",
              "    <button class=\"colab-df-convert\" onclick=\"convertToInteractive('df-b8644c81-45c0-4516-8d67-777b6fc755ee')\"\n",
              "            title=\"Convert this dataframe to an interactive table.\"\n",
              "            style=\"display:none;\">\n",
              "\n",
              "  <svg xmlns=\"http://www.w3.org/2000/svg\" height=\"24px\" viewBox=\"0 -960 960 960\">\n",
              "    <path d=\"M120-120v-720h720v720H120Zm60-500h600v-160H180v160Zm220 220h160v-160H400v160Zm0 220h160v-160H400v160ZM180-400h160v-160H180v160Zm440 0h160v-160H620v160ZM180-180h160v-160H180v160Zm440 0h160v-160H620v160Z\"/>\n",
              "  </svg>\n",
              "    </button>\n",
              "\n",
              "  <style>\n",
              "    .colab-df-container {\n",
              "      display:flex;\n",
              "      gap: 12px;\n",
              "    }\n",
              "\n",
              "    .colab-df-convert {\n",
              "      background-color: #E8F0FE;\n",
              "      border: none;\n",
              "      border-radius: 50%;\n",
              "      cursor: pointer;\n",
              "      display: none;\n",
              "      fill: #1967D2;\n",
              "      height: 32px;\n",
              "      padding: 0 0 0 0;\n",
              "      width: 32px;\n",
              "    }\n",
              "\n",
              "    .colab-df-convert:hover {\n",
              "      background-color: #E2EBFA;\n",
              "      box-shadow: 0px 1px 2px rgba(60, 64, 67, 0.3), 0px 1px 3px 1px rgba(60, 64, 67, 0.15);\n",
              "      fill: #174EA6;\n",
              "    }\n",
              "\n",
              "    .colab-df-buttons div {\n",
              "      margin-bottom: 4px;\n",
              "    }\n",
              "\n",
              "    [theme=dark] .colab-df-convert {\n",
              "      background-color: #3B4455;\n",
              "      fill: #D2E3FC;\n",
              "    }\n",
              "\n",
              "    [theme=dark] .colab-df-convert:hover {\n",
              "      background-color: #434B5C;\n",
              "      box-shadow: 0px 1px 3px 1px rgba(0, 0, 0, 0.15);\n",
              "      filter: drop-shadow(0px 1px 2px rgba(0, 0, 0, 0.3));\n",
              "      fill: #FFFFFF;\n",
              "    }\n",
              "  </style>\n",
              "\n",
              "    <script>\n",
              "      const buttonEl =\n",
              "        document.querySelector('#df-b8644c81-45c0-4516-8d67-777b6fc755ee button.colab-df-convert');\n",
              "      buttonEl.style.display =\n",
              "        google.colab.kernel.accessAllowed ? 'block' : 'none';\n",
              "\n",
              "      async function convertToInteractive(key) {\n",
              "        const element = document.querySelector('#df-b8644c81-45c0-4516-8d67-777b6fc755ee');\n",
              "        const dataTable =\n",
              "          await google.colab.kernel.invokeFunction('convertToInteractive',\n",
              "                                                    [key], {});\n",
              "        if (!dataTable) return;\n",
              "\n",
              "        const docLinkHtml = 'Like what you see? Visit the ' +\n",
              "          '<a target=\"_blank\" href=https://colab.research.google.com/notebooks/data_table.ipynb>data table notebook</a>'\n",
              "          + ' to learn more about interactive tables.';\n",
              "        element.innerHTML = '';\n",
              "        dataTable['output_type'] = 'display_data';\n",
              "        await google.colab.output.renderOutput(dataTable, element);\n",
              "        const docLink = document.createElement('div');\n",
              "        docLink.innerHTML = docLinkHtml;\n",
              "        element.appendChild(docLink);\n",
              "      }\n",
              "    </script>\n",
              "  </div>\n",
              "\n",
              "\n",
              "<div id=\"df-2b21d44d-2877-435e-967b-d49c13b56f6c\">\n",
              "  <button class=\"colab-df-quickchart\" onclick=\"quickchart('df-2b21d44d-2877-435e-967b-d49c13b56f6c')\"\n",
              "            title=\"Suggest charts\"\n",
              "            style=\"display:none;\">\n",
              "\n",
              "<svg xmlns=\"http://www.w3.org/2000/svg\" height=\"24px\"viewBox=\"0 0 24 24\"\n",
              "     width=\"24px\">\n",
              "    <g>\n",
              "        <path d=\"M19 3H5c-1.1 0-2 .9-2 2v14c0 1.1.9 2 2 2h14c1.1 0 2-.9 2-2V5c0-1.1-.9-2-2-2zM9 17H7v-7h2v7zm4 0h-2V7h2v10zm4 0h-2v-4h2v4z\"/>\n",
              "    </g>\n",
              "</svg>\n",
              "  </button>\n",
              "\n",
              "<style>\n",
              "  .colab-df-quickchart {\n",
              "      --bg-color: #E8F0FE;\n",
              "      --fill-color: #1967D2;\n",
              "      --hover-bg-color: #E2EBFA;\n",
              "      --hover-fill-color: #174EA6;\n",
              "      --disabled-fill-color: #AAA;\n",
              "      --disabled-bg-color: #DDD;\n",
              "  }\n",
              "\n",
              "  [theme=dark] .colab-df-quickchart {\n",
              "      --bg-color: #3B4455;\n",
              "      --fill-color: #D2E3FC;\n",
              "      --hover-bg-color: #434B5C;\n",
              "      --hover-fill-color: #FFFFFF;\n",
              "      --disabled-bg-color: #3B4455;\n",
              "      --disabled-fill-color: #666;\n",
              "  }\n",
              "\n",
              "  .colab-df-quickchart {\n",
              "    background-color: var(--bg-color);\n",
              "    border: none;\n",
              "    border-radius: 50%;\n",
              "    cursor: pointer;\n",
              "    display: none;\n",
              "    fill: var(--fill-color);\n",
              "    height: 32px;\n",
              "    padding: 0;\n",
              "    width: 32px;\n",
              "  }\n",
              "\n",
              "  .colab-df-quickchart:hover {\n",
              "    background-color: var(--hover-bg-color);\n",
              "    box-shadow: 0 1px 2px rgba(60, 64, 67, 0.3), 0 1px 3px 1px rgba(60, 64, 67, 0.15);\n",
              "    fill: var(--button-hover-fill-color);\n",
              "  }\n",
              "\n",
              "  .colab-df-quickchart-complete:disabled,\n",
              "  .colab-df-quickchart-complete:disabled:hover {\n",
              "    background-color: var(--disabled-bg-color);\n",
              "    fill: var(--disabled-fill-color);\n",
              "    box-shadow: none;\n",
              "  }\n",
              "\n",
              "  .colab-df-spinner {\n",
              "    border: 2px solid var(--fill-color);\n",
              "    border-color: transparent;\n",
              "    border-bottom-color: var(--fill-color);\n",
              "    animation:\n",
              "      spin 1s steps(1) infinite;\n",
              "  }\n",
              "\n",
              "  @keyframes spin {\n",
              "    0% {\n",
              "      border-color: transparent;\n",
              "      border-bottom-color: var(--fill-color);\n",
              "      border-left-color: var(--fill-color);\n",
              "    }\n",
              "    20% {\n",
              "      border-color: transparent;\n",
              "      border-left-color: var(--fill-color);\n",
              "      border-top-color: var(--fill-color);\n",
              "    }\n",
              "    30% {\n",
              "      border-color: transparent;\n",
              "      border-left-color: var(--fill-color);\n",
              "      border-top-color: var(--fill-color);\n",
              "      border-right-color: var(--fill-color);\n",
              "    }\n",
              "    40% {\n",
              "      border-color: transparent;\n",
              "      border-right-color: var(--fill-color);\n",
              "      border-top-color: var(--fill-color);\n",
              "    }\n",
              "    60% {\n",
              "      border-color: transparent;\n",
              "      border-right-color: var(--fill-color);\n",
              "    }\n",
              "    80% {\n",
              "      border-color: transparent;\n",
              "      border-right-color: var(--fill-color);\n",
              "      border-bottom-color: var(--fill-color);\n",
              "    }\n",
              "    90% {\n",
              "      border-color: transparent;\n",
              "      border-bottom-color: var(--fill-color);\n",
              "    }\n",
              "  }\n",
              "</style>\n",
              "\n",
              "  <script>\n",
              "    async function quickchart(key) {\n",
              "      const quickchartButtonEl =\n",
              "        document.querySelector('#' + key + ' button');\n",
              "      quickchartButtonEl.disabled = true;  // To prevent multiple clicks.\n",
              "      quickchartButtonEl.classList.add('colab-df-spinner');\n",
              "      try {\n",
              "        const charts = await google.colab.kernel.invokeFunction(\n",
              "            'suggestCharts', [key], {});\n",
              "      } catch (error) {\n",
              "        console.error('Error during call to suggestCharts:', error);\n",
              "      }\n",
              "      quickchartButtonEl.classList.remove('colab-df-spinner');\n",
              "      quickchartButtonEl.classList.add('colab-df-quickchart-complete');\n",
              "    }\n",
              "    (() => {\n",
              "      let quickchartButtonEl =\n",
              "        document.querySelector('#df-2b21d44d-2877-435e-967b-d49c13b56f6c button');\n",
              "      quickchartButtonEl.style.display =\n",
              "        google.colab.kernel.accessAllowed ? 'block' : 'none';\n",
              "    })();\n",
              "  </script>\n",
              "</div>\n",
              "    </div>\n",
              "  </div>\n"
            ],
            "application/vnd.google.colaboratory.intrinsic+json": {
              "type": "dataframe",
              "variable_name": "X_df",
              "summary": "{\n  \"name\": \"X_df\",\n  \"rows\": 10893,\n  \"fields\": [\n    {\n      \"column\": \"anime_id\",\n      \"properties\": {\n        \"dtype\": \"number\",\n        \"std\": 17527,\n        \"min\": 5,\n        \"max\": 56111,\n        \"num_unique_values\": 10893,\n        \"samples\": [\n          39597,\n          32866,\n          47972\n        ],\n        \"semantic_type\": \"\",\n        \"description\": \"\"\n      }\n    },\n    {\n      \"column\": \"type\",\n      \"properties\": {\n        \"dtype\": \"number\",\n        \"std\": 1,\n        \"min\": 0,\n        \"max\": 5,\n        \"num_unique_values\": 6,\n        \"samples\": [\n          1,\n          3,\n          4\n        ],\n        \"semantic_type\": \"\",\n        \"description\": \"\"\n      }\n    },\n    {\n      \"column\": \"score\",\n      \"properties\": {\n        \"dtype\": \"number\",\n        \"std\": 0.884380507160326,\n        \"min\": 1.85,\n        \"max\": 9.1,\n        \"num_unique_values\": 523,\n        \"samples\": [\n          4.35,\n          4.68,\n          5.44\n        ],\n        \"semantic_type\": \"\",\n        \"description\": \"\"\n      }\n    },\n    {\n      \"column\": \"status\",\n      \"properties\": {\n        \"dtype\": \"number\",\n        \"std\": 0,\n        \"min\": 0,\n        \"max\": 1,\n        \"num_unique_values\": 2,\n        \"samples\": [\n          0,\n          1\n        ],\n        \"semantic_type\": \"\",\n        \"description\": \"\"\n      }\n    },\n    {\n      \"column\": \"episodes\",\n      \"properties\": {\n        \"dtype\": \"number\",\n        \"std\": 43.67428072067735,\n        \"min\": 1.0,\n        \"max\": 3057.0,\n        \"num_unique_values\": 165,\n        \"samples\": [\n          127.0,\n          53.0\n        ],\n        \"semantic_type\": \"\",\n        \"description\": \"\"\n      }\n    },\n    {\n      \"column\": \"source\",\n      \"properties\": {\n        \"dtype\": \"number\",\n        \"std\": 3,\n        \"min\": 0,\n        \"max\": 15,\n        \"num_unique_values\": 16,\n        \"samples\": [\n          9,\n          5\n        ],\n        \"semantic_type\": \"\",\n        \"description\": \"\"\n      }\n    },\n    {\n      \"column\": \"members\",\n      \"properties\": {\n        \"dtype\": \"number\",\n        \"std\": 213963,\n        \"min\": 180,\n        \"max\": 3779820,\n        \"num_unique_values\": 8477,\n        \"samples\": [\n          174579,\n          3505\n        ],\n        \"semantic_type\": \"\",\n        \"description\": \"\"\n      }\n    },\n    {\n      \"column\": \"favorites\",\n      \"properties\": {\n        \"dtype\": \"number\",\n        \"std\": 5982,\n        \"min\": 0,\n        \"max\": 219036,\n        \"num_unique_values\": 1548,\n        \"samples\": [\n          229,\n          817\n        ],\n        \"semantic_type\": \"\",\n        \"description\": \"\"\n      }\n    },\n    {\n      \"column\": \"rating\",\n      \"properties\": {\n        \"dtype\": \"number\",\n        \"std\": 1,\n        \"min\": 0,\n        \"max\": 5,\n        \"num_unique_values\": 6,\n        \"samples\": [\n          2,\n          4\n        ],\n        \"semantic_type\": \"\",\n        \"description\": \"\"\n      }\n    },\n    {\n      \"column\": \"start_year\",\n      \"properties\": {\n        \"dtype\": \"number\",\n        \"std\": 12.614091276684436,\n        \"min\": 1917.0,\n        \"max\": 2023.0,\n        \"num_unique_values\": 92,\n        \"samples\": [\n          1988.0,\n          1970.0\n        ],\n        \"semantic_type\": \"\",\n        \"description\": \"\"\n      }\n    },\n    {\n      \"column\": \"start_season\",\n      \"properties\": {\n        \"dtype\": \"number\",\n        \"std\": 1,\n        \"min\": 0,\n        \"max\": 3,\n        \"num_unique_values\": 4,\n        \"samples\": [\n          0,\n          2\n        ],\n        \"semantic_type\": \"\",\n        \"description\": \"\"\n      }\n    }\n  ]\n}"
            }
          },
          "metadata": {},
          "execution_count": 24
        }
      ],
      "source": [
        "# выбираем целевой признак\n",
        "y_df = grouped_df.sfw\n",
        "# выбираем остальные признаки\n",
        "X_df = grouped_df.drop(['sfw'], axis=1)\n",
        "\n",
        "\n",
        "# выводим на всякий случай\n",
        "X_df.head()"
      ]
    },
    {
      "cell_type": "markdown",
      "metadata": {
        "id": "7XpXOgZQvoY8"
      },
      "source": [
        "Выделяем обучающую и тестовую выборки"
      ]
    },
    {
      "cell_type": "code",
      "execution_count": 25,
      "metadata": {
        "id": "ozkQQxO5wqqr"
      },
      "outputs": [],
      "source": [
        "# разделяем выборку\n",
        "X_train, X_test, y_train, y_test = train_test_split(\n",
        "    X_df, y_df, test_size = 0.8, random_state=SEED)"
      ]
    },
    {
      "cell_type": "markdown",
      "metadata": {
        "id": "1_2rQq_LIGJW"
      },
      "source": [
        "### Масштабирование признаков"
      ]
    },
    {
      "cell_type": "markdown",
      "source": [
        "Выбираем тип масштабирования"
      ],
      "metadata": {
        "id": "dD_K-iX3bMIQ"
      }
    },
    {
      "cell_type": "code",
      "execution_count": 26,
      "metadata": {
        "id": "-vl9YRlTIluH",
        "colab": {
          "base_uri": "https://localhost:8080/"
        },
        "outputId": "73bf3489-5756-4c6d-903c-a90261075915"
      },
      "outputs": [
        {
          "output_type": "execute_result",
          "data": {
            "text/plain": [
              "array([[-1.22047247,  0.59254227, -0.34855723, ..., -0.04058646,\n",
              "        -0.52970743, -0.38590251],\n",
              "       [-1.03069387,  1.17074884,  0.58456608, ...,  0.65545541,\n",
              "        -3.03396263, -0.38590251],\n",
              "       [-1.08792239,  0.0143357 , -0.49470907, ..., -0.04058646,\n",
              "        -1.5162322 , -1.27437573],\n",
              "       ...,\n",
              "       [ 0.9057738 , -1.14207744,  1.03426406, ..., -1.43267021,\n",
              "         0.60859039, -1.27437573],\n",
              "       [ 0.50023974,  0.0143357 ,  0.71947547, ...,  0.65545541,\n",
              "         0.53270387, -0.38590251],\n",
              "       [-1.25047632,  0.0143357 , -0.70831561, ...,  1.35149729,\n",
              "        -1.36445916,  0.50257071]])"
            ]
          },
          "metadata": {},
          "execution_count": 26
        }
      ],
      "source": [
        "# выбираем тип scaler'а\n",
        "scaler = StandardScaler()\n",
        "\n",
        "# скалируем\n",
        "X_train = scaler.fit_transform(X_train)\n",
        "X_test = scaler.transform(X_test)\n",
        "\n",
        "# проверяем\n",
        "X_train"
      ]
    },
    {
      "cell_type": "markdown",
      "metadata": {
        "id": "mVkJaOtcopB4"
      },
      "source": [
        "# **ЛР1**"
      ]
    },
    {
      "cell_type": "markdown",
      "metadata": {
        "id": "6gvAgk-I2UwP"
      },
      "source": [
        "## Описание"
      ]
    },
    {
      "cell_type": "markdown",
      "metadata": {
        "id": "27iBPDNuoi-N"
      },
      "source": [
        "Задание 1. Найти набор данных (датасет) для классификации удовлетворяющий следующим условиям: более 10 000 строк, более 20 столбцов, разные типы в столбцах, обязательно наличие целевого признака (таргета).\n",
        "<br>\n",
        "Задание 2 . Провести классификацию найденного датасета, методом к- ближайших соседей. В формате *Markdown* писать пояснения. Объяснить почему были выбраны именно такие гиперпараметры, была ли перекрестная проверка, и т.д.\n",
        "<br><br>\n",
        "P.S. Все решения выполнять в формате *Jupyter Notebook* и выкладывать на свои гитхабы.\n"
      ]
    },
    {
      "cell_type": "markdown",
      "metadata": {
        "id": "YhJhOQeT2pY7"
      },
      "source": [
        "## Решение"
      ]
    },
    {
      "cell_type": "markdown",
      "source": [
        "### Выбор датасета"
      ],
      "metadata": {
        "id": "_33XtAmRV2TY"
      }
    },
    {
      "cell_type": "markdown",
      "metadata": {
        "id": "85kLq7GQsywh"
      },
      "source": [
        "На основании приведенных в описании 1 лаборатоной работы критериев, был выбран датасет по аниме. Целью работы является выявление видеоматериала, безопасного для просмотра в школе или на работе на основании заранее заданных параметров. Целевой показатель при этом может принимать 2 значения: Аниме безопасно для просмотра (True) и небезопасно (False). Ссылка на используемый датасет приведена далее: https://www.kaggle.com/datasets/andreuvallhernndez/myanimelist/data"
      ]
    },
    {
      "cell_type": "markdown",
      "source": [
        "### Подключение модулей"
      ],
      "metadata": {
        "id": "cblywRWzj9A6"
      }
    },
    {
      "cell_type": "code",
      "execution_count": 27,
      "metadata": {
        "id": "X88O_yfb02TM"
      },
      "outputs": [],
      "source": [
        "# стандартный модуль KNN\n",
        "from sklearn.neighbors import KNeighborsClassifier"
      ]
    },
    {
      "cell_type": "markdown",
      "metadata": {
        "id": "js0XDWiddnVH"
      },
      "source": [
        "### **sklearn.neighbors.KNeighborsClassifier**\n",
        "\n",
        "---\n",
        "\n"
      ]
    },
    {
      "cell_type": "markdown",
      "source": [
        "#### По-умолчанию"
      ],
      "metadata": {
        "id": "Rjdi9myVllNu"
      }
    },
    {
      "cell_type": "markdown",
      "metadata": {
        "id": "XKizlDiwdsxg"
      },
      "source": [
        "Проверка модели с гиперпараметрами по-умолчанию"
      ]
    },
    {
      "cell_type": "code",
      "execution_count": 28,
      "metadata": {
        "colab": {
          "base_uri": "https://localhost:8080/",
          "height": 111
        },
        "id": "7oaVodA5xhJ1",
        "outputId": "b737d749-55fe-47ce-d5fb-015a1b3ca699"
      },
      "outputs": [
        {
          "output_type": "stream",
          "name": "stdout",
          "text": [
            "CPU times: user 9.46 ms, sys: 10 µs, total: 9.47 ms\n",
            "Wall time: 13.7 ms\n"
          ]
        },
        {
          "output_type": "execute_result",
          "data": {
            "text/plain": [
              "KNeighborsClassifier()"
            ],
            "text/html": [
              "<style>#sk-container-id-1 {color: black;background-color: white;}#sk-container-id-1 pre{padding: 0;}#sk-container-id-1 div.sk-toggleable {background-color: white;}#sk-container-id-1 label.sk-toggleable__label {cursor: pointer;display: block;width: 100%;margin-bottom: 0;padding: 0.3em;box-sizing: border-box;text-align: center;}#sk-container-id-1 label.sk-toggleable__label-arrow:before {content: \"▸\";float: left;margin-right: 0.25em;color: #696969;}#sk-container-id-1 label.sk-toggleable__label-arrow:hover:before {color: black;}#sk-container-id-1 div.sk-estimator:hover label.sk-toggleable__label-arrow:before {color: black;}#sk-container-id-1 div.sk-toggleable__content {max-height: 0;max-width: 0;overflow: hidden;text-align: left;background-color: #f0f8ff;}#sk-container-id-1 div.sk-toggleable__content pre {margin: 0.2em;color: black;border-radius: 0.25em;background-color: #f0f8ff;}#sk-container-id-1 input.sk-toggleable__control:checked~div.sk-toggleable__content {max-height: 200px;max-width: 100%;overflow: auto;}#sk-container-id-1 input.sk-toggleable__control:checked~label.sk-toggleable__label-arrow:before {content: \"▾\";}#sk-container-id-1 div.sk-estimator input.sk-toggleable__control:checked~label.sk-toggleable__label {background-color: #d4ebff;}#sk-container-id-1 div.sk-label input.sk-toggleable__control:checked~label.sk-toggleable__label {background-color: #d4ebff;}#sk-container-id-1 input.sk-hidden--visually {border: 0;clip: rect(1px 1px 1px 1px);clip: rect(1px, 1px, 1px, 1px);height: 1px;margin: -1px;overflow: hidden;padding: 0;position: absolute;width: 1px;}#sk-container-id-1 div.sk-estimator {font-family: monospace;background-color: #f0f8ff;border: 1px dotted black;border-radius: 0.25em;box-sizing: border-box;margin-bottom: 0.5em;}#sk-container-id-1 div.sk-estimator:hover {background-color: #d4ebff;}#sk-container-id-1 div.sk-parallel-item::after {content: \"\";width: 100%;border-bottom: 1px solid gray;flex-grow: 1;}#sk-container-id-1 div.sk-label:hover label.sk-toggleable__label {background-color: #d4ebff;}#sk-container-id-1 div.sk-serial::before {content: \"\";position: absolute;border-left: 1px solid gray;box-sizing: border-box;top: 0;bottom: 0;left: 50%;z-index: 0;}#sk-container-id-1 div.sk-serial {display: flex;flex-direction: column;align-items: center;background-color: white;padding-right: 0.2em;padding-left: 0.2em;position: relative;}#sk-container-id-1 div.sk-item {position: relative;z-index: 1;}#sk-container-id-1 div.sk-parallel {display: flex;align-items: stretch;justify-content: center;background-color: white;position: relative;}#sk-container-id-1 div.sk-item::before, #sk-container-id-1 div.sk-parallel-item::before {content: \"\";position: absolute;border-left: 1px solid gray;box-sizing: border-box;top: 0;bottom: 0;left: 50%;z-index: -1;}#sk-container-id-1 div.sk-parallel-item {display: flex;flex-direction: column;z-index: 1;position: relative;background-color: white;}#sk-container-id-1 div.sk-parallel-item:first-child::after {align-self: flex-end;width: 50%;}#sk-container-id-1 div.sk-parallel-item:last-child::after {align-self: flex-start;width: 50%;}#sk-container-id-1 div.sk-parallel-item:only-child::after {width: 0;}#sk-container-id-1 div.sk-dashed-wrapped {border: 1px dashed gray;margin: 0 0.4em 0.5em 0.4em;box-sizing: border-box;padding-bottom: 0.4em;background-color: white;}#sk-container-id-1 div.sk-label label {font-family: monospace;font-weight: bold;display: inline-block;line-height: 1.2em;}#sk-container-id-1 div.sk-label-container {text-align: center;}#sk-container-id-1 div.sk-container {/* jupyter's `normalize.less` sets `[hidden] { display: none; }` but bootstrap.min.css set `[hidden] { display: none !important; }` so we also need the `!important` here to be able to override the default hidden behavior on the sphinx rendered scikit-learn.org. See: https://github.com/scikit-learn/scikit-learn/issues/21755 */display: inline-block !important;position: relative;}#sk-container-id-1 div.sk-text-repr-fallback {display: none;}</style><div id=\"sk-container-id-1\" class=\"sk-top-container\"><div class=\"sk-text-repr-fallback\"><pre>KNeighborsClassifier()</pre><b>In a Jupyter environment, please rerun this cell to show the HTML representation or trust the notebook. <br />On GitHub, the HTML representation is unable to render, please try loading this page with nbviewer.org.</b></div><div class=\"sk-container\" hidden><div class=\"sk-item\"><div class=\"sk-estimator sk-toggleable\"><input class=\"sk-toggleable__control sk-hidden--visually\" id=\"sk-estimator-id-1\" type=\"checkbox\" checked><label for=\"sk-estimator-id-1\" class=\"sk-toggleable__label sk-toggleable__label-arrow\">KNeighborsClassifier</label><div class=\"sk-toggleable__content\"><pre>KNeighborsClassifier()</pre></div></div></div></div></div>"
            ]
          },
          "metadata": {},
          "execution_count": 28
        }
      ],
      "source": [
        "%%time\n",
        "\n",
        "# создаем модель\n",
        "knn = KNeighborsClassifier()\n",
        "\n",
        "# подаем на вход модели обучающие данные\n",
        "knn.fit(X_train, y_train)"
      ]
    },
    {
      "cell_type": "markdown",
      "metadata": {
        "id": "NEJCoVJnY6AY"
      },
      "source": [
        "Вывод результатов"
      ]
    },
    {
      "cell_type": "code",
      "execution_count": 29,
      "metadata": {
        "id": "4BMXAtHhY5aX",
        "colab": {
          "base_uri": "https://localhost:8080/"
        },
        "outputId": "fa20fd4d-826c-426e-e11c-a423cce916ec"
      },
      "outputs": [
        {
          "output_type": "stream",
          "name": "stdout",
          "text": [
            "Сравнение метрик: \n",
            "              precision    recall  f1-score   support\n",
            "\n",
            "       False       0.86      0.96      0.91       857\n",
            "        True       1.00      0.98      0.99      7858\n",
            "\n",
            "    accuracy                           0.98      8715\n",
            "   macro avg       0.93      0.97      0.95      8715\n",
            "weighted avg       0.98      0.98      0.98      8715\n",
            "\n",
            "\n",
            "Матрица ошибок: \n",
            "[[ 819   38]\n",
            " [ 128 7730]]\n",
            "\n"
          ]
        }
      ],
      "source": [
        "# предсказываем результат на тестовой выборке\n",
        "knn_pred = knn.predict(X_test)\n",
        "\n",
        "# оцениваем модель\n",
        "print(f'Сравнение метрик: \\n{classification_report(y_test, knn_pred)}\\n')\n",
        "print(f'Матрица ошибок: \\n{confusion_matrix(y_test, knn_pred)}\\n')"
      ]
    },
    {
      "cell_type": "markdown",
      "source": [
        "#### С кросс-валидацией"
      ],
      "metadata": {
        "id": "A1-BAQ0DlqIg"
      }
    },
    {
      "cell_type": "markdown",
      "source": [
        "Проведение процедуры кросс-валидации"
      ],
      "metadata": {
        "id": "vlyZ1RCUEyiD"
      }
    },
    {
      "cell_type": "code",
      "execution_count": 30,
      "metadata": {
        "colab": {
          "base_uri": "https://localhost:8080/",
          "height": 153
        },
        "id": "sVPA824rd5EC",
        "outputId": "126fd8a3-8168-4e1f-90db-b7eb1505d894"
      },
      "outputs": [
        {
          "output_type": "stream",
          "name": "stdout",
          "text": [
            "CPU times: user 217 ms, sys: 85.2 ms, total: 302 ms\n",
            "Wall time: 4.71 s\n"
          ]
        },
        {
          "output_type": "execute_result",
          "data": {
            "text/plain": [
              "RandomizedSearchCV(estimator=KNeighborsClassifier(), n_jobs=-1,\n",
              "                   param_distributions={'algorithm': ['ball_tree', 'kd_tree',\n",
              "                                                      'brute'],\n",
              "                                        'leaf_size': [10, 20, 30, 40],\n",
              "                                        'metric': ['euclidean', 'manhattan',\n",
              "                                                   'minkowski', 'chebyshev',\n",
              "                                                   'hamming', 'canberra',\n",
              "                                                   'braycurtis'],\n",
              "                                        'n_neighbors': [3, 5, 7, 9, 11, 13, 15],\n",
              "                                        'weights': ['uniform', 'distance']},\n",
              "                   scoring='f1')"
            ],
            "text/html": [
              "<style>#sk-container-id-2 {color: black;background-color: white;}#sk-container-id-2 pre{padding: 0;}#sk-container-id-2 div.sk-toggleable {background-color: white;}#sk-container-id-2 label.sk-toggleable__label {cursor: pointer;display: block;width: 100%;margin-bottom: 0;padding: 0.3em;box-sizing: border-box;text-align: center;}#sk-container-id-2 label.sk-toggleable__label-arrow:before {content: \"▸\";float: left;margin-right: 0.25em;color: #696969;}#sk-container-id-2 label.sk-toggleable__label-arrow:hover:before {color: black;}#sk-container-id-2 div.sk-estimator:hover label.sk-toggleable__label-arrow:before {color: black;}#sk-container-id-2 div.sk-toggleable__content {max-height: 0;max-width: 0;overflow: hidden;text-align: left;background-color: #f0f8ff;}#sk-container-id-2 div.sk-toggleable__content pre {margin: 0.2em;color: black;border-radius: 0.25em;background-color: #f0f8ff;}#sk-container-id-2 input.sk-toggleable__control:checked~div.sk-toggleable__content {max-height: 200px;max-width: 100%;overflow: auto;}#sk-container-id-2 input.sk-toggleable__control:checked~label.sk-toggleable__label-arrow:before {content: \"▾\";}#sk-container-id-2 div.sk-estimator input.sk-toggleable__control:checked~label.sk-toggleable__label {background-color: #d4ebff;}#sk-container-id-2 div.sk-label input.sk-toggleable__control:checked~label.sk-toggleable__label {background-color: #d4ebff;}#sk-container-id-2 input.sk-hidden--visually {border: 0;clip: rect(1px 1px 1px 1px);clip: rect(1px, 1px, 1px, 1px);height: 1px;margin: -1px;overflow: hidden;padding: 0;position: absolute;width: 1px;}#sk-container-id-2 div.sk-estimator {font-family: monospace;background-color: #f0f8ff;border: 1px dotted black;border-radius: 0.25em;box-sizing: border-box;margin-bottom: 0.5em;}#sk-container-id-2 div.sk-estimator:hover {background-color: #d4ebff;}#sk-container-id-2 div.sk-parallel-item::after {content: \"\";width: 100%;border-bottom: 1px solid gray;flex-grow: 1;}#sk-container-id-2 div.sk-label:hover label.sk-toggleable__label {background-color: #d4ebff;}#sk-container-id-2 div.sk-serial::before {content: \"\";position: absolute;border-left: 1px solid gray;box-sizing: border-box;top: 0;bottom: 0;left: 50%;z-index: 0;}#sk-container-id-2 div.sk-serial {display: flex;flex-direction: column;align-items: center;background-color: white;padding-right: 0.2em;padding-left: 0.2em;position: relative;}#sk-container-id-2 div.sk-item {position: relative;z-index: 1;}#sk-container-id-2 div.sk-parallel {display: flex;align-items: stretch;justify-content: center;background-color: white;position: relative;}#sk-container-id-2 div.sk-item::before, #sk-container-id-2 div.sk-parallel-item::before {content: \"\";position: absolute;border-left: 1px solid gray;box-sizing: border-box;top: 0;bottom: 0;left: 50%;z-index: -1;}#sk-container-id-2 div.sk-parallel-item {display: flex;flex-direction: column;z-index: 1;position: relative;background-color: white;}#sk-container-id-2 div.sk-parallel-item:first-child::after {align-self: flex-end;width: 50%;}#sk-container-id-2 div.sk-parallel-item:last-child::after {align-self: flex-start;width: 50%;}#sk-container-id-2 div.sk-parallel-item:only-child::after {width: 0;}#sk-container-id-2 div.sk-dashed-wrapped {border: 1px dashed gray;margin: 0 0.4em 0.5em 0.4em;box-sizing: border-box;padding-bottom: 0.4em;background-color: white;}#sk-container-id-2 div.sk-label label {font-family: monospace;font-weight: bold;display: inline-block;line-height: 1.2em;}#sk-container-id-2 div.sk-label-container {text-align: center;}#sk-container-id-2 div.sk-container {/* jupyter's `normalize.less` sets `[hidden] { display: none; }` but bootstrap.min.css set `[hidden] { display: none !important; }` so we also need the `!important` here to be able to override the default hidden behavior on the sphinx rendered scikit-learn.org. See: https://github.com/scikit-learn/scikit-learn/issues/21755 */display: inline-block !important;position: relative;}#sk-container-id-2 div.sk-text-repr-fallback {display: none;}</style><div id=\"sk-container-id-2\" class=\"sk-top-container\"><div class=\"sk-text-repr-fallback\"><pre>RandomizedSearchCV(estimator=KNeighborsClassifier(), n_jobs=-1,\n",
              "                   param_distributions={&#x27;algorithm&#x27;: [&#x27;ball_tree&#x27;, &#x27;kd_tree&#x27;,\n",
              "                                                      &#x27;brute&#x27;],\n",
              "                                        &#x27;leaf_size&#x27;: [10, 20, 30, 40],\n",
              "                                        &#x27;metric&#x27;: [&#x27;euclidean&#x27;, &#x27;manhattan&#x27;,\n",
              "                                                   &#x27;minkowski&#x27;, &#x27;chebyshev&#x27;,\n",
              "                                                   &#x27;hamming&#x27;, &#x27;canberra&#x27;,\n",
              "                                                   &#x27;braycurtis&#x27;],\n",
              "                                        &#x27;n_neighbors&#x27;: [3, 5, 7, 9, 11, 13, 15],\n",
              "                                        &#x27;weights&#x27;: [&#x27;uniform&#x27;, &#x27;distance&#x27;]},\n",
              "                   scoring=&#x27;f1&#x27;)</pre><b>In a Jupyter environment, please rerun this cell to show the HTML representation or trust the notebook. <br />On GitHub, the HTML representation is unable to render, please try loading this page with nbviewer.org.</b></div><div class=\"sk-container\" hidden><div class=\"sk-item sk-dashed-wrapped\"><div class=\"sk-label-container\"><div class=\"sk-label sk-toggleable\"><input class=\"sk-toggleable__control sk-hidden--visually\" id=\"sk-estimator-id-2\" type=\"checkbox\" ><label for=\"sk-estimator-id-2\" class=\"sk-toggleable__label sk-toggleable__label-arrow\">RandomizedSearchCV</label><div class=\"sk-toggleable__content\"><pre>RandomizedSearchCV(estimator=KNeighborsClassifier(), n_jobs=-1,\n",
              "                   param_distributions={&#x27;algorithm&#x27;: [&#x27;ball_tree&#x27;, &#x27;kd_tree&#x27;,\n",
              "                                                      &#x27;brute&#x27;],\n",
              "                                        &#x27;leaf_size&#x27;: [10, 20, 30, 40],\n",
              "                                        &#x27;metric&#x27;: [&#x27;euclidean&#x27;, &#x27;manhattan&#x27;,\n",
              "                                                   &#x27;minkowski&#x27;, &#x27;chebyshev&#x27;,\n",
              "                                                   &#x27;hamming&#x27;, &#x27;canberra&#x27;,\n",
              "                                                   &#x27;braycurtis&#x27;],\n",
              "                                        &#x27;n_neighbors&#x27;: [3, 5, 7, 9, 11, 13, 15],\n",
              "                                        &#x27;weights&#x27;: [&#x27;uniform&#x27;, &#x27;distance&#x27;]},\n",
              "                   scoring=&#x27;f1&#x27;)</pre></div></div></div><div class=\"sk-parallel\"><div class=\"sk-parallel-item\"><div class=\"sk-item\"><div class=\"sk-label-container\"><div class=\"sk-label sk-toggleable\"><input class=\"sk-toggleable__control sk-hidden--visually\" id=\"sk-estimator-id-3\" type=\"checkbox\" ><label for=\"sk-estimator-id-3\" class=\"sk-toggleable__label sk-toggleable__label-arrow\">estimator: KNeighborsClassifier</label><div class=\"sk-toggleable__content\"><pre>KNeighborsClassifier()</pre></div></div></div><div class=\"sk-serial\"><div class=\"sk-item\"><div class=\"sk-estimator sk-toggleable\"><input class=\"sk-toggleable__control sk-hidden--visually\" id=\"sk-estimator-id-4\" type=\"checkbox\" ><label for=\"sk-estimator-id-4\" class=\"sk-toggleable__label sk-toggleable__label-arrow\">KNeighborsClassifier</label><div class=\"sk-toggleable__content\"><pre>KNeighborsClassifier()</pre></div></div></div></div></div></div></div></div></div></div>"
            ]
          },
          "metadata": {},
          "execution_count": 30
        }
      ],
      "source": [
        "%%time\n",
        "\n",
        "# задаем диапазон параметров\n",
        "# количество соседей\n",
        "k_range = [3, 5, 7, 9, 11, 13, 15]\n",
        "# сравним три стандартных алгоритма knn в sklearn\n",
        "algorithms = ['ball_tree', 'kd_tree', 'brute']\n",
        "# метрики расстояния в пространстве признаков\n",
        "metrics = [\n",
        "    'euclidean',\n",
        "    'manhattan',\n",
        "    'minkowski',\n",
        "    'chebyshev',\n",
        "    'hamming',\n",
        "    'canberra',\n",
        "    'braycurtis'\n",
        "]\n",
        "\n",
        "parameters = {\n",
        "    'n_neighbors': k_range, # число учитываемых соседей\n",
        "    'algorithm': algorithms, # алгоритмы поиска соседей\n",
        "    'weights': ['uniform', 'distance'], # веса соседей\n",
        "    'leaf_size': [10, 20, 30, 40], # размер листа, используемый в BallTree или KDTree\n",
        "    'metric': metrics, # метрики расстояния\n",
        "}\n",
        "\n",
        "# подбираем лучшие параметры\n",
        "grid_knn = RandomizedSearchCV(\n",
        "    KNeighborsClassifier(),\n",
        "    parameters,\n",
        "    scoring='f1',\n",
        "    n_jobs = -1\n",
        ")\n",
        "\n",
        "# обучаем модель\n",
        "grid_knn.fit(X_train, y_train)"
      ]
    },
    {
      "cell_type": "markdown",
      "metadata": {
        "id": "KaKjOoqWkuQy"
      },
      "source": [
        "Вывод результата кросс-валидации"
      ]
    },
    {
      "cell_type": "code",
      "execution_count": 31,
      "metadata": {
        "colab": {
          "base_uri": "https://localhost:8080/"
        },
        "id": "Uypc_rwqiLv-",
        "outputId": "f0a360b1-04d5-44be-81d7-bd5519fa2f71"
      },
      "outputs": [
        {
          "output_type": "stream",
          "name": "stdout",
          "text": [
            "Лучшие параметры:\n",
            "{'weights': 'distance', 'n_neighbors': 11, 'metric': 'manhattan', 'leaf_size': 10, 'algorithm': 'kd_tree'}\n",
            "\n",
            "Показатель f1 для лучшей модели составил: 99.64%\n",
            "\n",
            "Сравнение метрик: \n",
            "              precision    recall  f1-score   support\n",
            "\n",
            "       False       0.91      0.96      0.94       857\n",
            "        True       1.00      0.99      0.99      7858\n",
            "\n",
            "    accuracy                           0.99      8715\n",
            "   macro avg       0.95      0.98      0.96      8715\n",
            "weighted avg       0.99      0.99      0.99      8715\n",
            "\n",
            "\n",
            "Матрица ошибок: \n",
            "[[ 826   31]\n",
            " [  82 7776]]\n",
            "\n"
          ]
        }
      ],
      "source": [
        "# результаты кросс-валидации\n",
        "print(f'Лучшие параметры:\\n{grid_knn.best_params_}\\n')\n",
        "print(\"Показатель f1 для лучшей модели составил: {:.2f}%\".\n",
        "      format(grid_knn.best_score_ * 100) + '\\n')\n",
        "\n",
        "# предсказываем результат на тестовой выборке\n",
        "grid_knn_pred = grid_knn.predict(X_test)\n",
        "\n",
        "# оцениваем модель\n",
        "print(f'Сравнение метрик: \\n{classification_report(y_test, grid_knn_pred)}\\n')\n",
        "print(f'Матрица ошибок: \\n{confusion_matrix(y_test, grid_knn_pred)}\\n')"
      ]
    },
    {
      "cell_type": "markdown",
      "metadata": {
        "id": "NvpSY43Cox6p"
      },
      "source": [
        "# **ЛР2**"
      ]
    },
    {
      "cell_type": "markdown",
      "metadata": {
        "id": "q-05ORaK2YcJ"
      },
      "source": [
        "## Описание"
      ]
    },
    {
      "cell_type": "markdown",
      "metadata": {
        "id": "rsRsPcCcpCf-"
      },
      "source": [
        "Задание 1 . Провести классификацию найденного датасета, методом машины опорных векторов. В формате *Markdown* писать пояснения. Объяснить почему были выбраны именно такие гиперпараметры, была ли перекрестная проверка, и т.д.\n",
        "<br><br>\n",
        "P.S. Все решения выполнять в формате *Jupyter Notebook* и выкладывать на свои гитхабы."
      ]
    },
    {
      "cell_type": "markdown",
      "metadata": {
        "id": "Pn3lMGCA2pKD"
      },
      "source": [
        "## Решение"
      ]
    },
    {
      "cell_type": "markdown",
      "metadata": {
        "id": "rH3wXa3bZZ8M"
      },
      "source": [
        "### Подключение модулей"
      ]
    },
    {
      "cell_type": "markdown",
      "source": [
        "Метод машины опорных векторов"
      ],
      "metadata": {
        "id": "50FbLYq559Cj"
      }
    },
    {
      "cell_type": "code",
      "execution_count": 32,
      "metadata": {
        "id": "m-yz3T5N0xqd"
      },
      "outputs": [],
      "source": [
        "# общий модуль для бинарной и многоклассовой классификации\n",
        "from sklearn.svm import SVC\n",
        "\n",
        "# специализированный модуль для классификации с линейным ядром\n",
        "from sklearn.svm import LinearSVC\n",
        "\n",
        "# модуль для обучения регуляризованных линейных моделей по стохастическому\n",
        "# градиентному спуску. По-умолчанию обучает линейный SVM\n",
        "from sklearn.linear_model import SGDClassifier"
      ]
    },
    {
      "cell_type": "markdown",
      "source": [
        "### **sklearn.linear_model.SGDClassifier**\n",
        "\n",
        "---\n",
        "\n"
      ],
      "metadata": {
        "id": "GFU-VWeCBOIP"
      }
    },
    {
      "cell_type": "markdown",
      "source": [
        "#### По-умолчанию"
      ],
      "metadata": {
        "id": "A-rpo2gFlwmi"
      }
    },
    {
      "cell_type": "markdown",
      "source": [
        "Создание и обучение модели"
      ],
      "metadata": {
        "id": "O1GKKpLkJNO3"
      }
    },
    {
      "cell_type": "code",
      "execution_count": 33,
      "metadata": {
        "colab": {
          "base_uri": "https://localhost:8080/",
          "height": 111
        },
        "id": "3QGmL8O5wxGB",
        "outputId": "70838c89-d669-4ce0-a036-569c19ee711e"
      },
      "outputs": [
        {
          "output_type": "stream",
          "name": "stdout",
          "text": [
            "CPU times: user 7.47 ms, sys: 0 ns, total: 7.47 ms\n",
            "Wall time: 7.65 ms\n"
          ]
        },
        {
          "output_type": "execute_result",
          "data": {
            "text/plain": [
              "SGDClassifier()"
            ],
            "text/html": [
              "<style>#sk-container-id-3 {color: black;background-color: white;}#sk-container-id-3 pre{padding: 0;}#sk-container-id-3 div.sk-toggleable {background-color: white;}#sk-container-id-3 label.sk-toggleable__label {cursor: pointer;display: block;width: 100%;margin-bottom: 0;padding: 0.3em;box-sizing: border-box;text-align: center;}#sk-container-id-3 label.sk-toggleable__label-arrow:before {content: \"▸\";float: left;margin-right: 0.25em;color: #696969;}#sk-container-id-3 label.sk-toggleable__label-arrow:hover:before {color: black;}#sk-container-id-3 div.sk-estimator:hover label.sk-toggleable__label-arrow:before {color: black;}#sk-container-id-3 div.sk-toggleable__content {max-height: 0;max-width: 0;overflow: hidden;text-align: left;background-color: #f0f8ff;}#sk-container-id-3 div.sk-toggleable__content pre {margin: 0.2em;color: black;border-radius: 0.25em;background-color: #f0f8ff;}#sk-container-id-3 input.sk-toggleable__control:checked~div.sk-toggleable__content {max-height: 200px;max-width: 100%;overflow: auto;}#sk-container-id-3 input.sk-toggleable__control:checked~label.sk-toggleable__label-arrow:before {content: \"▾\";}#sk-container-id-3 div.sk-estimator input.sk-toggleable__control:checked~label.sk-toggleable__label {background-color: #d4ebff;}#sk-container-id-3 div.sk-label input.sk-toggleable__control:checked~label.sk-toggleable__label {background-color: #d4ebff;}#sk-container-id-3 input.sk-hidden--visually {border: 0;clip: rect(1px 1px 1px 1px);clip: rect(1px, 1px, 1px, 1px);height: 1px;margin: -1px;overflow: hidden;padding: 0;position: absolute;width: 1px;}#sk-container-id-3 div.sk-estimator {font-family: monospace;background-color: #f0f8ff;border: 1px dotted black;border-radius: 0.25em;box-sizing: border-box;margin-bottom: 0.5em;}#sk-container-id-3 div.sk-estimator:hover {background-color: #d4ebff;}#sk-container-id-3 div.sk-parallel-item::after {content: \"\";width: 100%;border-bottom: 1px solid gray;flex-grow: 1;}#sk-container-id-3 div.sk-label:hover label.sk-toggleable__label {background-color: #d4ebff;}#sk-container-id-3 div.sk-serial::before {content: \"\";position: absolute;border-left: 1px solid gray;box-sizing: border-box;top: 0;bottom: 0;left: 50%;z-index: 0;}#sk-container-id-3 div.sk-serial {display: flex;flex-direction: column;align-items: center;background-color: white;padding-right: 0.2em;padding-left: 0.2em;position: relative;}#sk-container-id-3 div.sk-item {position: relative;z-index: 1;}#sk-container-id-3 div.sk-parallel {display: flex;align-items: stretch;justify-content: center;background-color: white;position: relative;}#sk-container-id-3 div.sk-item::before, #sk-container-id-3 div.sk-parallel-item::before {content: \"\";position: absolute;border-left: 1px solid gray;box-sizing: border-box;top: 0;bottom: 0;left: 50%;z-index: -1;}#sk-container-id-3 div.sk-parallel-item {display: flex;flex-direction: column;z-index: 1;position: relative;background-color: white;}#sk-container-id-3 div.sk-parallel-item:first-child::after {align-self: flex-end;width: 50%;}#sk-container-id-3 div.sk-parallel-item:last-child::after {align-self: flex-start;width: 50%;}#sk-container-id-3 div.sk-parallel-item:only-child::after {width: 0;}#sk-container-id-3 div.sk-dashed-wrapped {border: 1px dashed gray;margin: 0 0.4em 0.5em 0.4em;box-sizing: border-box;padding-bottom: 0.4em;background-color: white;}#sk-container-id-3 div.sk-label label {font-family: monospace;font-weight: bold;display: inline-block;line-height: 1.2em;}#sk-container-id-3 div.sk-label-container {text-align: center;}#sk-container-id-3 div.sk-container {/* jupyter's `normalize.less` sets `[hidden] { display: none; }` but bootstrap.min.css set `[hidden] { display: none !important; }` so we also need the `!important` here to be able to override the default hidden behavior on the sphinx rendered scikit-learn.org. See: https://github.com/scikit-learn/scikit-learn/issues/21755 */display: inline-block !important;position: relative;}#sk-container-id-3 div.sk-text-repr-fallback {display: none;}</style><div id=\"sk-container-id-3\" class=\"sk-top-container\"><div class=\"sk-text-repr-fallback\"><pre>SGDClassifier()</pre><b>In a Jupyter environment, please rerun this cell to show the HTML representation or trust the notebook. <br />On GitHub, the HTML representation is unable to render, please try loading this page with nbviewer.org.</b></div><div class=\"sk-container\" hidden><div class=\"sk-item\"><div class=\"sk-estimator sk-toggleable\"><input class=\"sk-toggleable__control sk-hidden--visually\" id=\"sk-estimator-id-5\" type=\"checkbox\" checked><label for=\"sk-estimator-id-5\" class=\"sk-toggleable__label sk-toggleable__label-arrow\">SGDClassifier</label><div class=\"sk-toggleable__content\"><pre>SGDClassifier()</pre></div></div></div></div></div>"
            ]
          },
          "metadata": {},
          "execution_count": 33
        }
      ],
      "source": [
        "%%time\n",
        "\n",
        "# создаем модель\n",
        "svm_sgdc = SGDClassifier()\n",
        "\n",
        "# подаем на вход модели обучающие данные\n",
        "svm_sgdc.fit(X_train, y_train)"
      ]
    },
    {
      "cell_type": "markdown",
      "metadata": {
        "id": "Xds0F9zSZWMi"
      },
      "source": [
        "Вывод результата"
      ]
    },
    {
      "cell_type": "code",
      "execution_count": 34,
      "metadata": {
        "id": "fAro37bWZYrl",
        "colab": {
          "base_uri": "https://localhost:8080/"
        },
        "outputId": "86fb1cc3-2b2a-4109-93b6-70f24ecdea5a"
      },
      "outputs": [
        {
          "output_type": "stream",
          "name": "stdout",
          "text": [
            "Сравнение метрик: \n",
            "              precision    recall  f1-score   support\n",
            "\n",
            "       False       0.98      0.96      0.97       857\n",
            "        True       1.00      1.00      1.00      7858\n",
            "\n",
            "    accuracy                           0.99      8715\n",
            "   macro avg       0.99      0.98      0.98      8715\n",
            "weighted avg       0.99      0.99      0.99      8715\n",
            "\n",
            "\n",
            "Матрица ошибок: \n",
            "[[ 823   34]\n",
            " [  13 7845]]\n",
            "\n"
          ]
        }
      ],
      "source": [
        "# предсказываем результат на тестовой выборке\n",
        "svm_sgdc_pred = svm_sgdc.predict(X_test)\n",
        "\n",
        "# оцениваем модель\n",
        "print(f'Сравнение метрик: \\n{classification_report(y_test, svm_sgdc_pred)}\\n')\n",
        "print(f'Матрица ошибок: \\n{confusion_matrix(y_test, svm_sgdc_pred)}\\n')"
      ]
    },
    {
      "cell_type": "markdown",
      "source": [
        "#### С кросс-валидацией"
      ],
      "metadata": {
        "id": "JnCVgz33m-al"
      }
    },
    {
      "cell_type": "markdown",
      "source": [
        "Проведение процедуры кросс-валидации"
      ],
      "metadata": {
        "id": "7mNgy4YBLCcP"
      }
    },
    {
      "cell_type": "code",
      "execution_count": 35,
      "metadata": {
        "id": "HJ7Ha1r7LCcV",
        "colab": {
          "base_uri": "https://localhost:8080/",
          "height": 643
        },
        "outputId": "ce24be32-5c57-44ea-e33a-8e70b57a4d42"
      },
      "outputs": [
        {
          "output_type": "stream",
          "name": "stdout",
          "text": [
            "CPU times: user 152 ms, sys: 5.78 ms, total: 158 ms\n",
            "Wall time: 884 ms\n"
          ]
        },
        {
          "output_type": "stream",
          "name": "stderr",
          "text": [
            "/usr/local/lib/python3.10/dist-packages/sklearn/model_selection/_validation.py:378: FitFailedWarning:\n",
            "\n",
            "\n",
            "20 fits failed out of a total of 50.\n",
            "The score on these train-test partitions for these parameters will be set to nan.\n",
            "If these failures are not expected, you can try to debug them by setting error_score='raise'.\n",
            "\n",
            "Below are more details about the failures:\n",
            "--------------------------------------------------------------------------------\n",
            "20 fits failed with the following error:\n",
            "Traceback (most recent call last):\n",
            "  File \"/usr/local/lib/python3.10/dist-packages/sklearn/model_selection/_validation.py\", line 686, in _fit_and_score\n",
            "    estimator.fit(X_train, y_train, **fit_params)\n",
            "  File \"/usr/local/lib/python3.10/dist-packages/sklearn/linear_model/_stochastic_gradient.py\", line 891, in fit\n",
            "    self._validate_params()\n",
            "  File \"/usr/local/lib/python3.10/dist-packages/sklearn/base.py\", line 600, in _validate_params\n",
            "    validate_parameter_constraints(\n",
            "  File \"/usr/local/lib/python3.10/dist-packages/sklearn/utils/_param_validation.py\", line 97, in validate_parameter_constraints\n",
            "    raise InvalidParameterError(\n",
            "sklearn.utils._param_validation.InvalidParameterError: The 'penalty' parameter of SGDClassifier must be a str among {'l2', 'elasticnet', 'l1'} or None. Got 'none' instead.\n",
            "\n",
            "\n",
            "/usr/local/lib/python3.10/dist-packages/sklearn/model_selection/_search.py:952: UserWarning:\n",
            "\n",
            "One or more of the test scores are non-finite: [0.99821461        nan 0.94578903 0.5497077         nan        nan\n",
            " 0.78529547 0.9961594         nan 0.47536401]\n",
            "\n"
          ]
        },
        {
          "output_type": "execute_result",
          "data": {
            "text/plain": [
              "RandomizedSearchCV(estimator=SGDClassifier(), n_jobs=-1,\n",
              "                   param_distributions={'alpha': [0.001, 0.01, 0.1, 1],\n",
              "                                        'average': [True, False],\n",
              "                                        'eta0': [0.01, 0.1, 0.2, 0.5],\n",
              "                                        'fit_intercept': [True, False],\n",
              "                                        'l1_ratio': [0.0, 0.25, 0.5, 0.75, 1.0],\n",
              "                                        'learning_rate': ['constant', 'optimal',\n",
              "                                                          'invscaling',\n",
              "                                                          'adaptive'],\n",
              "                                        'loss': ['hinge', 'log_loss',\n",
              "                                                 'modified_huber',\n",
              "                                                 'squared_hinge',\n",
              "                                                 'perceptron'],\n",
              "                                        'penalty': ['none', 'l2', 'l1',\n",
              "                                                    'elasticnet'],\n",
              "                                        'tol': [0.001, 0.0001, 1e-05]},\n",
              "                   scoring='f1')"
            ],
            "text/html": [
              "<style>#sk-container-id-4 {color: black;background-color: white;}#sk-container-id-4 pre{padding: 0;}#sk-container-id-4 div.sk-toggleable {background-color: white;}#sk-container-id-4 label.sk-toggleable__label {cursor: pointer;display: block;width: 100%;margin-bottom: 0;padding: 0.3em;box-sizing: border-box;text-align: center;}#sk-container-id-4 label.sk-toggleable__label-arrow:before {content: \"▸\";float: left;margin-right: 0.25em;color: #696969;}#sk-container-id-4 label.sk-toggleable__label-arrow:hover:before {color: black;}#sk-container-id-4 div.sk-estimator:hover label.sk-toggleable__label-arrow:before {color: black;}#sk-container-id-4 div.sk-toggleable__content {max-height: 0;max-width: 0;overflow: hidden;text-align: left;background-color: #f0f8ff;}#sk-container-id-4 div.sk-toggleable__content pre {margin: 0.2em;color: black;border-radius: 0.25em;background-color: #f0f8ff;}#sk-container-id-4 input.sk-toggleable__control:checked~div.sk-toggleable__content {max-height: 200px;max-width: 100%;overflow: auto;}#sk-container-id-4 input.sk-toggleable__control:checked~label.sk-toggleable__label-arrow:before {content: \"▾\";}#sk-container-id-4 div.sk-estimator input.sk-toggleable__control:checked~label.sk-toggleable__label {background-color: #d4ebff;}#sk-container-id-4 div.sk-label input.sk-toggleable__control:checked~label.sk-toggleable__label {background-color: #d4ebff;}#sk-container-id-4 input.sk-hidden--visually {border: 0;clip: rect(1px 1px 1px 1px);clip: rect(1px, 1px, 1px, 1px);height: 1px;margin: -1px;overflow: hidden;padding: 0;position: absolute;width: 1px;}#sk-container-id-4 div.sk-estimator {font-family: monospace;background-color: #f0f8ff;border: 1px dotted black;border-radius: 0.25em;box-sizing: border-box;margin-bottom: 0.5em;}#sk-container-id-4 div.sk-estimator:hover {background-color: #d4ebff;}#sk-container-id-4 div.sk-parallel-item::after {content: \"\";width: 100%;border-bottom: 1px solid gray;flex-grow: 1;}#sk-container-id-4 div.sk-label:hover label.sk-toggleable__label {background-color: #d4ebff;}#sk-container-id-4 div.sk-serial::before {content: \"\";position: absolute;border-left: 1px solid gray;box-sizing: border-box;top: 0;bottom: 0;left: 50%;z-index: 0;}#sk-container-id-4 div.sk-serial {display: flex;flex-direction: column;align-items: center;background-color: white;padding-right: 0.2em;padding-left: 0.2em;position: relative;}#sk-container-id-4 div.sk-item {position: relative;z-index: 1;}#sk-container-id-4 div.sk-parallel {display: flex;align-items: stretch;justify-content: center;background-color: white;position: relative;}#sk-container-id-4 div.sk-item::before, #sk-container-id-4 div.sk-parallel-item::before {content: \"\";position: absolute;border-left: 1px solid gray;box-sizing: border-box;top: 0;bottom: 0;left: 50%;z-index: -1;}#sk-container-id-4 div.sk-parallel-item {display: flex;flex-direction: column;z-index: 1;position: relative;background-color: white;}#sk-container-id-4 div.sk-parallel-item:first-child::after {align-self: flex-end;width: 50%;}#sk-container-id-4 div.sk-parallel-item:last-child::after {align-self: flex-start;width: 50%;}#sk-container-id-4 div.sk-parallel-item:only-child::after {width: 0;}#sk-container-id-4 div.sk-dashed-wrapped {border: 1px dashed gray;margin: 0 0.4em 0.5em 0.4em;box-sizing: border-box;padding-bottom: 0.4em;background-color: white;}#sk-container-id-4 div.sk-label label {font-family: monospace;font-weight: bold;display: inline-block;line-height: 1.2em;}#sk-container-id-4 div.sk-label-container {text-align: center;}#sk-container-id-4 div.sk-container {/* jupyter's `normalize.less` sets `[hidden] { display: none; }` but bootstrap.min.css set `[hidden] { display: none !important; }` so we also need the `!important` here to be able to override the default hidden behavior on the sphinx rendered scikit-learn.org. See: https://github.com/scikit-learn/scikit-learn/issues/21755 */display: inline-block !important;position: relative;}#sk-container-id-4 div.sk-text-repr-fallback {display: none;}</style><div id=\"sk-container-id-4\" class=\"sk-top-container\"><div class=\"sk-text-repr-fallback\"><pre>RandomizedSearchCV(estimator=SGDClassifier(), n_jobs=-1,\n",
              "                   param_distributions={&#x27;alpha&#x27;: [0.001, 0.01, 0.1, 1],\n",
              "                                        &#x27;average&#x27;: [True, False],\n",
              "                                        &#x27;eta0&#x27;: [0.01, 0.1, 0.2, 0.5],\n",
              "                                        &#x27;fit_intercept&#x27;: [True, False],\n",
              "                                        &#x27;l1_ratio&#x27;: [0.0, 0.25, 0.5, 0.75, 1.0],\n",
              "                                        &#x27;learning_rate&#x27;: [&#x27;constant&#x27;, &#x27;optimal&#x27;,\n",
              "                                                          &#x27;invscaling&#x27;,\n",
              "                                                          &#x27;adaptive&#x27;],\n",
              "                                        &#x27;loss&#x27;: [&#x27;hinge&#x27;, &#x27;log_loss&#x27;,\n",
              "                                                 &#x27;modified_huber&#x27;,\n",
              "                                                 &#x27;squared_hinge&#x27;,\n",
              "                                                 &#x27;perceptron&#x27;],\n",
              "                                        &#x27;penalty&#x27;: [&#x27;none&#x27;, &#x27;l2&#x27;, &#x27;l1&#x27;,\n",
              "                                                    &#x27;elasticnet&#x27;],\n",
              "                                        &#x27;tol&#x27;: [0.001, 0.0001, 1e-05]},\n",
              "                   scoring=&#x27;f1&#x27;)</pre><b>In a Jupyter environment, please rerun this cell to show the HTML representation or trust the notebook. <br />On GitHub, the HTML representation is unable to render, please try loading this page with nbviewer.org.</b></div><div class=\"sk-container\" hidden><div class=\"sk-item sk-dashed-wrapped\"><div class=\"sk-label-container\"><div class=\"sk-label sk-toggleable\"><input class=\"sk-toggleable__control sk-hidden--visually\" id=\"sk-estimator-id-6\" type=\"checkbox\" ><label for=\"sk-estimator-id-6\" class=\"sk-toggleable__label sk-toggleable__label-arrow\">RandomizedSearchCV</label><div class=\"sk-toggleable__content\"><pre>RandomizedSearchCV(estimator=SGDClassifier(), n_jobs=-1,\n",
              "                   param_distributions={&#x27;alpha&#x27;: [0.001, 0.01, 0.1, 1],\n",
              "                                        &#x27;average&#x27;: [True, False],\n",
              "                                        &#x27;eta0&#x27;: [0.01, 0.1, 0.2, 0.5],\n",
              "                                        &#x27;fit_intercept&#x27;: [True, False],\n",
              "                                        &#x27;l1_ratio&#x27;: [0.0, 0.25, 0.5, 0.75, 1.0],\n",
              "                                        &#x27;learning_rate&#x27;: [&#x27;constant&#x27;, &#x27;optimal&#x27;,\n",
              "                                                          &#x27;invscaling&#x27;,\n",
              "                                                          &#x27;adaptive&#x27;],\n",
              "                                        &#x27;loss&#x27;: [&#x27;hinge&#x27;, &#x27;log_loss&#x27;,\n",
              "                                                 &#x27;modified_huber&#x27;,\n",
              "                                                 &#x27;squared_hinge&#x27;,\n",
              "                                                 &#x27;perceptron&#x27;],\n",
              "                                        &#x27;penalty&#x27;: [&#x27;none&#x27;, &#x27;l2&#x27;, &#x27;l1&#x27;,\n",
              "                                                    &#x27;elasticnet&#x27;],\n",
              "                                        &#x27;tol&#x27;: [0.001, 0.0001, 1e-05]},\n",
              "                   scoring=&#x27;f1&#x27;)</pre></div></div></div><div class=\"sk-parallel\"><div class=\"sk-parallel-item\"><div class=\"sk-item\"><div class=\"sk-label-container\"><div class=\"sk-label sk-toggleable\"><input class=\"sk-toggleable__control sk-hidden--visually\" id=\"sk-estimator-id-7\" type=\"checkbox\" ><label for=\"sk-estimator-id-7\" class=\"sk-toggleable__label sk-toggleable__label-arrow\">estimator: SGDClassifier</label><div class=\"sk-toggleable__content\"><pre>SGDClassifier()</pre></div></div></div><div class=\"sk-serial\"><div class=\"sk-item\"><div class=\"sk-estimator sk-toggleable\"><input class=\"sk-toggleable__control sk-hidden--visually\" id=\"sk-estimator-id-8\" type=\"checkbox\" ><label for=\"sk-estimator-id-8\" class=\"sk-toggleable__label sk-toggleable__label-arrow\">SGDClassifier</label><div class=\"sk-toggleable__content\"><pre>SGDClassifier()</pre></div></div></div></div></div></div></div></div></div></div>"
            ]
          },
          "metadata": {},
          "execution_count": 35
        }
      ],
      "source": [
        "%%time\n",
        "\n",
        "# задаем параметры\n",
        "parameters = {\n",
        "    'penalty': ['none', 'l2', 'l1', 'elasticnet'], # тип регуляризации\n",
        "    'alpha': [0.001, 0.01, 0.1, 1], # коэффициент регуляризации\n",
        "    'learning_rate': ['constant', 'optimal', 'invscaling', 'adaptive'], # стратегия изменения скорости обучения\n",
        "    'eta0': [0.01, 0.1, 0.2, 0.5], # начальная скорость обучения\n",
        "    'fit_intercept': [True, False], # следует ли добавлять константный член в линейную модель\n",
        "    'tol': [1e-3, 1e-4, 1e-5], # пороговое значение для оптимизации\n",
        "    'loss': ['hinge', 'log_loss', 'modified_huber', 'squared_hinge', 'perceptron'], # функция потерь\n",
        "    'l1_ratio': [0.0, 0.25, 0.5, 0.75, 1.0], # коэффициент для смешивания L1 и L2 регуляризации\n",
        "    'average': [True, False] # следует ли усреднять веса классов\n",
        "}\n",
        "\n",
        "# подбираем лучшие параметры\n",
        "grid_svm_sgdc = RandomizedSearchCV(\n",
        "    SGDClassifier(),\n",
        "    parameters,\n",
        "    scoring='f1',\n",
        "    n_jobs = -1\n",
        ")\n",
        "# обучаем модель\n",
        "grid_svm_sgdc.fit(X_train, y_train)"
      ]
    },
    {
      "cell_type": "markdown",
      "metadata": {
        "id": "o9Zq6c_yLCcW"
      },
      "source": [
        "Вывод результата кросс-валидации"
      ]
    },
    {
      "cell_type": "code",
      "execution_count": 36,
      "metadata": {
        "id": "C3KiIfvALCcW",
        "colab": {
          "base_uri": "https://localhost:8080/"
        },
        "outputId": "b6908c95-9527-4b6c-e994-37612160fe68"
      },
      "outputs": [
        {
          "output_type": "stream",
          "name": "stdout",
          "text": [
            "Лучшие параметры:\n",
            "{'tol': 1e-05, 'penalty': 'l2', 'loss': 'modified_huber', 'learning_rate': 'optimal', 'l1_ratio': 1.0, 'fit_intercept': True, 'eta0': 0.1, 'average': False, 'alpha': 0.01}\n",
            "\n",
            "Показатель f1 для лучшей модели составил: 99.82%\n",
            "\n",
            "Сравнение метрик: \n",
            "              precision    recall  f1-score   support\n",
            "\n",
            "       False       1.00      0.96      0.98       857\n",
            "        True       1.00      1.00      1.00      7858\n",
            "\n",
            "    accuracy                           1.00      8715\n",
            "   macro avg       1.00      0.98      0.99      8715\n",
            "weighted avg       1.00      1.00      1.00      8715\n",
            "\n",
            "\n",
            "Матрица ошибок: \n",
            "[[ 822   35]\n",
            " [   1 7857]]\n",
            "\n"
          ]
        }
      ],
      "source": [
        "# результаты кросс-валидации\n",
        "print(f'Лучшие параметры:\\n{grid_svm_sgdc.best_params_}\\n')\n",
        "print(\"Показатель f1 для лучшей модели составил: {:.2f}%\".\n",
        "      format(grid_svm_sgdc.best_score_ * 100) + '\\n')\n",
        "\n",
        "# предсказываем результат на тестовой выборке\n",
        "grid_svm_sgdc_pred = grid_svm_sgdc.predict(X_test)\n",
        "\n",
        "# оцениваем модель\n",
        "print(f'Сравнение метрик: \\n{classification_report(y_test, grid_svm_sgdc_pred)}\\n')\n",
        "print(f'Матрица ошибок: \\n{confusion_matrix(y_test, grid_svm_sgdc_pred)}\\n')"
      ]
    },
    {
      "cell_type": "markdown",
      "source": [
        "### **sklearn.svm.SVC**\n",
        "\n",
        "---"
      ],
      "metadata": {
        "id": "b70eorafBgXj"
      }
    },
    {
      "cell_type": "markdown",
      "source": [
        "#### По-умолчанию"
      ],
      "metadata": {
        "id": "tophVw6il2Is"
      }
    },
    {
      "cell_type": "markdown",
      "source": [
        "Создание и обучение модели"
      ],
      "metadata": {
        "id": "nYZKtYe7JRQi"
      }
    },
    {
      "cell_type": "code",
      "execution_count": 37,
      "metadata": {
        "colab": {
          "base_uri": "https://localhost:8080/",
          "height": 111
        },
        "id": "Sfbju14RyRer",
        "outputId": "75e2aa29-98b2-44c5-d9ae-4779c8449525"
      },
      "outputs": [
        {
          "output_type": "stream",
          "name": "stdout",
          "text": [
            "CPU times: user 38.7 ms, sys: 0 ns, total: 38.7 ms\n",
            "Wall time: 133 ms\n"
          ]
        },
        {
          "output_type": "execute_result",
          "data": {
            "text/plain": [
              "SVC()"
            ],
            "text/html": [
              "<style>#sk-container-id-5 {color: black;background-color: white;}#sk-container-id-5 pre{padding: 0;}#sk-container-id-5 div.sk-toggleable {background-color: white;}#sk-container-id-5 label.sk-toggleable__label {cursor: pointer;display: block;width: 100%;margin-bottom: 0;padding: 0.3em;box-sizing: border-box;text-align: center;}#sk-container-id-5 label.sk-toggleable__label-arrow:before {content: \"▸\";float: left;margin-right: 0.25em;color: #696969;}#sk-container-id-5 label.sk-toggleable__label-arrow:hover:before {color: black;}#sk-container-id-5 div.sk-estimator:hover label.sk-toggleable__label-arrow:before {color: black;}#sk-container-id-5 div.sk-toggleable__content {max-height: 0;max-width: 0;overflow: hidden;text-align: left;background-color: #f0f8ff;}#sk-container-id-5 div.sk-toggleable__content pre {margin: 0.2em;color: black;border-radius: 0.25em;background-color: #f0f8ff;}#sk-container-id-5 input.sk-toggleable__control:checked~div.sk-toggleable__content {max-height: 200px;max-width: 100%;overflow: auto;}#sk-container-id-5 input.sk-toggleable__control:checked~label.sk-toggleable__label-arrow:before {content: \"▾\";}#sk-container-id-5 div.sk-estimator input.sk-toggleable__control:checked~label.sk-toggleable__label {background-color: #d4ebff;}#sk-container-id-5 div.sk-label input.sk-toggleable__control:checked~label.sk-toggleable__label {background-color: #d4ebff;}#sk-container-id-5 input.sk-hidden--visually {border: 0;clip: rect(1px 1px 1px 1px);clip: rect(1px, 1px, 1px, 1px);height: 1px;margin: -1px;overflow: hidden;padding: 0;position: absolute;width: 1px;}#sk-container-id-5 div.sk-estimator {font-family: monospace;background-color: #f0f8ff;border: 1px dotted black;border-radius: 0.25em;box-sizing: border-box;margin-bottom: 0.5em;}#sk-container-id-5 div.sk-estimator:hover {background-color: #d4ebff;}#sk-container-id-5 div.sk-parallel-item::after {content: \"\";width: 100%;border-bottom: 1px solid gray;flex-grow: 1;}#sk-container-id-5 div.sk-label:hover label.sk-toggleable__label {background-color: #d4ebff;}#sk-container-id-5 div.sk-serial::before {content: \"\";position: absolute;border-left: 1px solid gray;box-sizing: border-box;top: 0;bottom: 0;left: 50%;z-index: 0;}#sk-container-id-5 div.sk-serial {display: flex;flex-direction: column;align-items: center;background-color: white;padding-right: 0.2em;padding-left: 0.2em;position: relative;}#sk-container-id-5 div.sk-item {position: relative;z-index: 1;}#sk-container-id-5 div.sk-parallel {display: flex;align-items: stretch;justify-content: center;background-color: white;position: relative;}#sk-container-id-5 div.sk-item::before, #sk-container-id-5 div.sk-parallel-item::before {content: \"\";position: absolute;border-left: 1px solid gray;box-sizing: border-box;top: 0;bottom: 0;left: 50%;z-index: -1;}#sk-container-id-5 div.sk-parallel-item {display: flex;flex-direction: column;z-index: 1;position: relative;background-color: white;}#sk-container-id-5 div.sk-parallel-item:first-child::after {align-self: flex-end;width: 50%;}#sk-container-id-5 div.sk-parallel-item:last-child::after {align-self: flex-start;width: 50%;}#sk-container-id-5 div.sk-parallel-item:only-child::after {width: 0;}#sk-container-id-5 div.sk-dashed-wrapped {border: 1px dashed gray;margin: 0 0.4em 0.5em 0.4em;box-sizing: border-box;padding-bottom: 0.4em;background-color: white;}#sk-container-id-5 div.sk-label label {font-family: monospace;font-weight: bold;display: inline-block;line-height: 1.2em;}#sk-container-id-5 div.sk-label-container {text-align: center;}#sk-container-id-5 div.sk-container {/* jupyter's `normalize.less` sets `[hidden] { display: none; }` but bootstrap.min.css set `[hidden] { display: none !important; }` so we also need the `!important` here to be able to override the default hidden behavior on the sphinx rendered scikit-learn.org. See: https://github.com/scikit-learn/scikit-learn/issues/21755 */display: inline-block !important;position: relative;}#sk-container-id-5 div.sk-text-repr-fallback {display: none;}</style><div id=\"sk-container-id-5\" class=\"sk-top-container\"><div class=\"sk-text-repr-fallback\"><pre>SVC()</pre><b>In a Jupyter environment, please rerun this cell to show the HTML representation or trust the notebook. <br />On GitHub, the HTML representation is unable to render, please try loading this page with nbviewer.org.</b></div><div class=\"sk-container\" hidden><div class=\"sk-item\"><div class=\"sk-estimator sk-toggleable\"><input class=\"sk-toggleable__control sk-hidden--visually\" id=\"sk-estimator-id-9\" type=\"checkbox\" checked><label for=\"sk-estimator-id-9\" class=\"sk-toggleable__label sk-toggleable__label-arrow\">SVC</label><div class=\"sk-toggleable__content\"><pre>SVC()</pre></div></div></div></div></div>"
            ]
          },
          "metadata": {},
          "execution_count": 37
        }
      ],
      "source": [
        "%%time\n",
        "\n",
        "# создаем модель\n",
        "svm_svc = SVC()\n",
        "\n",
        "# подаем на вход модели обучающие данные\n",
        "svm_svc.fit(X_train, y_train)"
      ]
    },
    {
      "cell_type": "markdown",
      "source": [
        "Вывод результата"
      ],
      "metadata": {
        "id": "KAxdv5iYJTyJ"
      }
    },
    {
      "cell_type": "code",
      "source": [
        "# предсказываем результат на тестовой выборке\n",
        "svm_svc_pred = svm_svc.predict(X_test)\n",
        "\n",
        "# оцениваем модель\n",
        "print(f'Сравнение метрик: \\n{classification_report(y_test, svm_svc_pred)}\\n')\n",
        "print(f'Матрица ошибок: \\n{confusion_matrix(y_test, svm_svc_pred)}\\n')"
      ],
      "metadata": {
        "id": "pZKp8CEUHLsW",
        "outputId": "12cdb1a0-2121-4c1a-8704-93466e433a7d",
        "colab": {
          "base_uri": "https://localhost:8080/"
        }
      },
      "execution_count": 38,
      "outputs": [
        {
          "output_type": "stream",
          "name": "stdout",
          "text": [
            "Сравнение метрик: \n",
            "              precision    recall  f1-score   support\n",
            "\n",
            "       False       1.00      0.96      0.98       857\n",
            "        True       1.00      1.00      1.00      7858\n",
            "\n",
            "    accuracy                           1.00      8715\n",
            "   macro avg       1.00      0.98      0.99      8715\n",
            "weighted avg       1.00      1.00      1.00      8715\n",
            "\n",
            "\n",
            "Матрица ошибок: \n",
            "[[ 822   35]\n",
            " [   1 7857]]\n",
            "\n"
          ]
        }
      ]
    },
    {
      "cell_type": "markdown",
      "source": [
        "#### С кросс-валидацией"
      ],
      "metadata": {
        "id": "SbCAbF3knAJN"
      }
    },
    {
      "cell_type": "markdown",
      "source": [
        "Проведение процедуры кросс-валидации"
      ],
      "metadata": {
        "id": "8LPWvXcHnsJG"
      }
    },
    {
      "cell_type": "code",
      "execution_count": 39,
      "metadata": {
        "colab": {
          "base_uri": "https://localhost:8080/",
          "height": 153
        },
        "outputId": "1c4f613c-35bd-4491-85c3-2c05e9d6720b",
        "id": "u5ZC51iknsJL"
      },
      "outputs": [
        {
          "output_type": "stream",
          "name": "stdout",
          "text": [
            "CPU times: user 140 ms, sys: 8.54 ms, total: 149 ms\n",
            "Wall time: 1.94 s\n"
          ]
        },
        {
          "output_type": "execute_result",
          "data": {
            "text/plain": [
              "RandomizedSearchCV(estimator=SVC(), n_jobs=-1,\n",
              "                   param_distributions={'C': [0.1, 1], 'degree': [3, 4],\n",
              "                                        'kernel': ['poly', 'rbf', 'sigmoid']},\n",
              "                   scoring='f1')"
            ],
            "text/html": [
              "<style>#sk-container-id-6 {color: black;background-color: white;}#sk-container-id-6 pre{padding: 0;}#sk-container-id-6 div.sk-toggleable {background-color: white;}#sk-container-id-6 label.sk-toggleable__label {cursor: pointer;display: block;width: 100%;margin-bottom: 0;padding: 0.3em;box-sizing: border-box;text-align: center;}#sk-container-id-6 label.sk-toggleable__label-arrow:before {content: \"▸\";float: left;margin-right: 0.25em;color: #696969;}#sk-container-id-6 label.sk-toggleable__label-arrow:hover:before {color: black;}#sk-container-id-6 div.sk-estimator:hover label.sk-toggleable__label-arrow:before {color: black;}#sk-container-id-6 div.sk-toggleable__content {max-height: 0;max-width: 0;overflow: hidden;text-align: left;background-color: #f0f8ff;}#sk-container-id-6 div.sk-toggleable__content pre {margin: 0.2em;color: black;border-radius: 0.25em;background-color: #f0f8ff;}#sk-container-id-6 input.sk-toggleable__control:checked~div.sk-toggleable__content {max-height: 200px;max-width: 100%;overflow: auto;}#sk-container-id-6 input.sk-toggleable__control:checked~label.sk-toggleable__label-arrow:before {content: \"▾\";}#sk-container-id-6 div.sk-estimator input.sk-toggleable__control:checked~label.sk-toggleable__label {background-color: #d4ebff;}#sk-container-id-6 div.sk-label input.sk-toggleable__control:checked~label.sk-toggleable__label {background-color: #d4ebff;}#sk-container-id-6 input.sk-hidden--visually {border: 0;clip: rect(1px 1px 1px 1px);clip: rect(1px, 1px, 1px, 1px);height: 1px;margin: -1px;overflow: hidden;padding: 0;position: absolute;width: 1px;}#sk-container-id-6 div.sk-estimator {font-family: monospace;background-color: #f0f8ff;border: 1px dotted black;border-radius: 0.25em;box-sizing: border-box;margin-bottom: 0.5em;}#sk-container-id-6 div.sk-estimator:hover {background-color: #d4ebff;}#sk-container-id-6 div.sk-parallel-item::after {content: \"\";width: 100%;border-bottom: 1px solid gray;flex-grow: 1;}#sk-container-id-6 div.sk-label:hover label.sk-toggleable__label {background-color: #d4ebff;}#sk-container-id-6 div.sk-serial::before {content: \"\";position: absolute;border-left: 1px solid gray;box-sizing: border-box;top: 0;bottom: 0;left: 50%;z-index: 0;}#sk-container-id-6 div.sk-serial {display: flex;flex-direction: column;align-items: center;background-color: white;padding-right: 0.2em;padding-left: 0.2em;position: relative;}#sk-container-id-6 div.sk-item {position: relative;z-index: 1;}#sk-container-id-6 div.sk-parallel {display: flex;align-items: stretch;justify-content: center;background-color: white;position: relative;}#sk-container-id-6 div.sk-item::before, #sk-container-id-6 div.sk-parallel-item::before {content: \"\";position: absolute;border-left: 1px solid gray;box-sizing: border-box;top: 0;bottom: 0;left: 50%;z-index: -1;}#sk-container-id-6 div.sk-parallel-item {display: flex;flex-direction: column;z-index: 1;position: relative;background-color: white;}#sk-container-id-6 div.sk-parallel-item:first-child::after {align-self: flex-end;width: 50%;}#sk-container-id-6 div.sk-parallel-item:last-child::after {align-self: flex-start;width: 50%;}#sk-container-id-6 div.sk-parallel-item:only-child::after {width: 0;}#sk-container-id-6 div.sk-dashed-wrapped {border: 1px dashed gray;margin: 0 0.4em 0.5em 0.4em;box-sizing: border-box;padding-bottom: 0.4em;background-color: white;}#sk-container-id-6 div.sk-label label {font-family: monospace;font-weight: bold;display: inline-block;line-height: 1.2em;}#sk-container-id-6 div.sk-label-container {text-align: center;}#sk-container-id-6 div.sk-container {/* jupyter's `normalize.less` sets `[hidden] { display: none; }` but bootstrap.min.css set `[hidden] { display: none !important; }` so we also need the `!important` here to be able to override the default hidden behavior on the sphinx rendered scikit-learn.org. See: https://github.com/scikit-learn/scikit-learn/issues/21755 */display: inline-block !important;position: relative;}#sk-container-id-6 div.sk-text-repr-fallback {display: none;}</style><div id=\"sk-container-id-6\" class=\"sk-top-container\"><div class=\"sk-text-repr-fallback\"><pre>RandomizedSearchCV(estimator=SVC(), n_jobs=-1,\n",
              "                   param_distributions={&#x27;C&#x27;: [0.1, 1], &#x27;degree&#x27;: [3, 4],\n",
              "                                        &#x27;kernel&#x27;: [&#x27;poly&#x27;, &#x27;rbf&#x27;, &#x27;sigmoid&#x27;]},\n",
              "                   scoring=&#x27;f1&#x27;)</pre><b>In a Jupyter environment, please rerun this cell to show the HTML representation or trust the notebook. <br />On GitHub, the HTML representation is unable to render, please try loading this page with nbviewer.org.</b></div><div class=\"sk-container\" hidden><div class=\"sk-item sk-dashed-wrapped\"><div class=\"sk-label-container\"><div class=\"sk-label sk-toggleable\"><input class=\"sk-toggleable__control sk-hidden--visually\" id=\"sk-estimator-id-10\" type=\"checkbox\" ><label for=\"sk-estimator-id-10\" class=\"sk-toggleable__label sk-toggleable__label-arrow\">RandomizedSearchCV</label><div class=\"sk-toggleable__content\"><pre>RandomizedSearchCV(estimator=SVC(), n_jobs=-1,\n",
              "                   param_distributions={&#x27;C&#x27;: [0.1, 1], &#x27;degree&#x27;: [3, 4],\n",
              "                                        &#x27;kernel&#x27;: [&#x27;poly&#x27;, &#x27;rbf&#x27;, &#x27;sigmoid&#x27;]},\n",
              "                   scoring=&#x27;f1&#x27;)</pre></div></div></div><div class=\"sk-parallel\"><div class=\"sk-parallel-item\"><div class=\"sk-item\"><div class=\"sk-label-container\"><div class=\"sk-label sk-toggleable\"><input class=\"sk-toggleable__control sk-hidden--visually\" id=\"sk-estimator-id-11\" type=\"checkbox\" ><label for=\"sk-estimator-id-11\" class=\"sk-toggleable__label sk-toggleable__label-arrow\">estimator: SVC</label><div class=\"sk-toggleable__content\"><pre>SVC()</pre></div></div></div><div class=\"sk-serial\"><div class=\"sk-item\"><div class=\"sk-estimator sk-toggleable\"><input class=\"sk-toggleable__control sk-hidden--visually\" id=\"sk-estimator-id-12\" type=\"checkbox\" ><label for=\"sk-estimator-id-12\" class=\"sk-toggleable__label sk-toggleable__label-arrow\">SVC</label><div class=\"sk-toggleable__content\"><pre>SVC()</pre></div></div></div></div></div></div></div></div></div></div>"
            ]
          },
          "metadata": {},
          "execution_count": 39
        }
      ],
      "source": [
        "%%time\n",
        "\n",
        "# задаем гиперпараметры\n",
        "parameters = {\n",
        "    'C': [0.1, 1], # коэффициент регуляризации\n",
        "    'kernel': ['poly', 'rbf', 'sigmoid'], # тип ядра\n",
        "    'degree': [3, 4] # степень для 'poly' ядра\n",
        "    #'gamma': ['scale', 'auto'], # коэффициент ядра для 'rbf', 'poly' и 'sigmoid'\n",
        "    #'coef0': [0.0, 0.5, 1.0], # смещение для 'poly' и 'sigmoid'\n",
        "    #'tol': [1e-3, 1e-4], # пороговое значение для оптимизации\n",
        "    #'class_weight': [None, 'balanced'], # веса классов\n",
        "}\n",
        "\n",
        "# подбираем лучшие параметры\n",
        "grid_svm_svc = RandomizedSearchCV(\n",
        "    SVC(),\n",
        "    parameters,\n",
        "    scoring='f1',\n",
        "    n_jobs = -1\n",
        ")\n",
        "\n",
        "# обучаем модель\n",
        "grid_svm_svc.fit(X_train, y_train)"
      ]
    },
    {
      "cell_type": "markdown",
      "metadata": {
        "id": "21RcYx3OnsJM"
      },
      "source": [
        "Вывод результата кросс-валидации"
      ]
    },
    {
      "cell_type": "code",
      "execution_count": 40,
      "metadata": {
        "colab": {
          "base_uri": "https://localhost:8080/"
        },
        "outputId": "dbaf86c3-76a9-4738-d663-4e23ba5a5a79",
        "id": "tDvePzhBnsJN"
      },
      "outputs": [
        {
          "output_type": "stream",
          "name": "stdout",
          "text": [
            "Лучшие параметры:\n",
            "{'kernel': 'rbf', 'degree': 4, 'C': 1}\n",
            "\n",
            "Показатель f1 для лучшей модели составил: 99.82%\n",
            "\n",
            "Сравнение метрик: \n",
            "              precision    recall  f1-score   support\n",
            "\n",
            "       False       1.00      0.96      0.98       857\n",
            "        True       1.00      1.00      1.00      7858\n",
            "\n",
            "    accuracy                           1.00      8715\n",
            "   macro avg       1.00      0.98      0.99      8715\n",
            "weighted avg       1.00      1.00      1.00      8715\n",
            "\n",
            "\n",
            "Матрица ошибок: \n",
            "[[ 822   35]\n",
            " [   1 7857]]\n",
            "\n"
          ]
        }
      ],
      "source": [
        "# результаты кросс-валидации\n",
        "print(f'Лучшие параметры:\\n{grid_svm_svc.best_params_}\\n')\n",
        "print(\"Показатель f1 для лучшей модели составил: {:.2f}%\".\n",
        "      format(grid_svm_svc.best_score_ * 100) + '\\n')\n",
        "\n",
        "# предсказываем результат на тестовой выборке\n",
        "grid_svm_svc_pred = grid_svm_svc.predict(X_test)\n",
        "\n",
        "# оцениваем модель\n",
        "print(f'Сравнение метрик: \\n{classification_report(y_test, grid_svm_svc_pred)}\\n')\n",
        "print(f'Матрица ошибок: \\n{confusion_matrix(y_test, grid_svm_svc_pred)}\\n')"
      ]
    },
    {
      "cell_type": "markdown",
      "source": [
        "### **sklearn.svm.LinearSVC**\n",
        "\n",
        "---"
      ],
      "metadata": {
        "id": "_kr47ZvaCKcX"
      }
    },
    {
      "cell_type": "markdown",
      "source": [
        "#### По-умолчанию"
      ],
      "metadata": {
        "id": "s4AAJ9Csl3sk"
      }
    },
    {
      "cell_type": "markdown",
      "source": [
        "Создание и обучение модели"
      ],
      "metadata": {
        "id": "26RbKRMuJWxm"
      }
    },
    {
      "cell_type": "code",
      "execution_count": 41,
      "metadata": {
        "colab": {
          "base_uri": "https://localhost:8080/",
          "height": 111
        },
        "outputId": "e840c6a5-5d21-4bd4-d21c-9131fe98ce08",
        "id": "re4md1iEJWxp"
      },
      "outputs": [
        {
          "output_type": "stream",
          "name": "stdout",
          "text": [
            "CPU times: user 14.4 ms, sys: 1.02 ms, total: 15.5 ms\n",
            "Wall time: 19.6 ms\n"
          ]
        },
        {
          "output_type": "execute_result",
          "data": {
            "text/plain": [
              "LinearSVC()"
            ],
            "text/html": [
              "<style>#sk-container-id-7 {color: black;background-color: white;}#sk-container-id-7 pre{padding: 0;}#sk-container-id-7 div.sk-toggleable {background-color: white;}#sk-container-id-7 label.sk-toggleable__label {cursor: pointer;display: block;width: 100%;margin-bottom: 0;padding: 0.3em;box-sizing: border-box;text-align: center;}#sk-container-id-7 label.sk-toggleable__label-arrow:before {content: \"▸\";float: left;margin-right: 0.25em;color: #696969;}#sk-container-id-7 label.sk-toggleable__label-arrow:hover:before {color: black;}#sk-container-id-7 div.sk-estimator:hover label.sk-toggleable__label-arrow:before {color: black;}#sk-container-id-7 div.sk-toggleable__content {max-height: 0;max-width: 0;overflow: hidden;text-align: left;background-color: #f0f8ff;}#sk-container-id-7 div.sk-toggleable__content pre {margin: 0.2em;color: black;border-radius: 0.25em;background-color: #f0f8ff;}#sk-container-id-7 input.sk-toggleable__control:checked~div.sk-toggleable__content {max-height: 200px;max-width: 100%;overflow: auto;}#sk-container-id-7 input.sk-toggleable__control:checked~label.sk-toggleable__label-arrow:before {content: \"▾\";}#sk-container-id-7 div.sk-estimator input.sk-toggleable__control:checked~label.sk-toggleable__label {background-color: #d4ebff;}#sk-container-id-7 div.sk-label input.sk-toggleable__control:checked~label.sk-toggleable__label {background-color: #d4ebff;}#sk-container-id-7 input.sk-hidden--visually {border: 0;clip: rect(1px 1px 1px 1px);clip: rect(1px, 1px, 1px, 1px);height: 1px;margin: -1px;overflow: hidden;padding: 0;position: absolute;width: 1px;}#sk-container-id-7 div.sk-estimator {font-family: monospace;background-color: #f0f8ff;border: 1px dotted black;border-radius: 0.25em;box-sizing: border-box;margin-bottom: 0.5em;}#sk-container-id-7 div.sk-estimator:hover {background-color: #d4ebff;}#sk-container-id-7 div.sk-parallel-item::after {content: \"\";width: 100%;border-bottom: 1px solid gray;flex-grow: 1;}#sk-container-id-7 div.sk-label:hover label.sk-toggleable__label {background-color: #d4ebff;}#sk-container-id-7 div.sk-serial::before {content: \"\";position: absolute;border-left: 1px solid gray;box-sizing: border-box;top: 0;bottom: 0;left: 50%;z-index: 0;}#sk-container-id-7 div.sk-serial {display: flex;flex-direction: column;align-items: center;background-color: white;padding-right: 0.2em;padding-left: 0.2em;position: relative;}#sk-container-id-7 div.sk-item {position: relative;z-index: 1;}#sk-container-id-7 div.sk-parallel {display: flex;align-items: stretch;justify-content: center;background-color: white;position: relative;}#sk-container-id-7 div.sk-item::before, #sk-container-id-7 div.sk-parallel-item::before {content: \"\";position: absolute;border-left: 1px solid gray;box-sizing: border-box;top: 0;bottom: 0;left: 50%;z-index: -1;}#sk-container-id-7 div.sk-parallel-item {display: flex;flex-direction: column;z-index: 1;position: relative;background-color: white;}#sk-container-id-7 div.sk-parallel-item:first-child::after {align-self: flex-end;width: 50%;}#sk-container-id-7 div.sk-parallel-item:last-child::after {align-self: flex-start;width: 50%;}#sk-container-id-7 div.sk-parallel-item:only-child::after {width: 0;}#sk-container-id-7 div.sk-dashed-wrapped {border: 1px dashed gray;margin: 0 0.4em 0.5em 0.4em;box-sizing: border-box;padding-bottom: 0.4em;background-color: white;}#sk-container-id-7 div.sk-label label {font-family: monospace;font-weight: bold;display: inline-block;line-height: 1.2em;}#sk-container-id-7 div.sk-label-container {text-align: center;}#sk-container-id-7 div.sk-container {/* jupyter's `normalize.less` sets `[hidden] { display: none; }` but bootstrap.min.css set `[hidden] { display: none !important; }` so we also need the `!important` here to be able to override the default hidden behavior on the sphinx rendered scikit-learn.org. See: https://github.com/scikit-learn/scikit-learn/issues/21755 */display: inline-block !important;position: relative;}#sk-container-id-7 div.sk-text-repr-fallback {display: none;}</style><div id=\"sk-container-id-7\" class=\"sk-top-container\"><div class=\"sk-text-repr-fallback\"><pre>LinearSVC()</pre><b>In a Jupyter environment, please rerun this cell to show the HTML representation or trust the notebook. <br />On GitHub, the HTML representation is unable to render, please try loading this page with nbviewer.org.</b></div><div class=\"sk-container\" hidden><div class=\"sk-item\"><div class=\"sk-estimator sk-toggleable\"><input class=\"sk-toggleable__control sk-hidden--visually\" id=\"sk-estimator-id-13\" type=\"checkbox\" checked><label for=\"sk-estimator-id-13\" class=\"sk-toggleable__label sk-toggleable__label-arrow\">LinearSVC</label><div class=\"sk-toggleable__content\"><pre>LinearSVC()</pre></div></div></div></div></div>"
            ]
          },
          "metadata": {},
          "execution_count": 41
        }
      ],
      "source": [
        "%%time\n",
        "\n",
        "# создаем модель\n",
        "svm_lsvc = LinearSVC()\n",
        "\n",
        "# подаем на вход модели обучающие данные\n",
        "svm_lsvc.fit(X_train, y_train)"
      ]
    },
    {
      "cell_type": "markdown",
      "source": [
        "Вывод результата"
      ],
      "metadata": {
        "id": "O9CQazIaJWxq"
      }
    },
    {
      "cell_type": "code",
      "source": [
        "# предсказываем результат на тестовой выборке\n",
        "svm_lsvc_pred = svm_lsvc.predict(X_test)\n",
        "\n",
        "# оцениваем модель\n",
        "print(f'Сравнение метрик: \\n{classification_report(y_test, svm_lsvc_pred)}\\n')\n",
        "print(f'Матрица ошибок: \\n{confusion_matrix(y_test, svm_lsvc_pred)}\\n')"
      ],
      "metadata": {
        "outputId": "9129d9cd-b3e9-4e05-ba78-3c26986f8657",
        "colab": {
          "base_uri": "https://localhost:8080/"
        },
        "id": "DArxGD0ZJWxr"
      },
      "execution_count": 42,
      "outputs": [
        {
          "output_type": "stream",
          "name": "stdout",
          "text": [
            "Сравнение метрик: \n",
            "              precision    recall  f1-score   support\n",
            "\n",
            "       False       1.00      0.96      0.98       857\n",
            "        True       1.00      1.00      1.00      7858\n",
            "\n",
            "    accuracy                           1.00      8715\n",
            "   macro avg       1.00      0.98      0.99      8715\n",
            "weighted avg       1.00      1.00      1.00      8715\n",
            "\n",
            "\n",
            "Матрица ошибок: \n",
            "[[ 826   31]\n",
            " [   2 7856]]\n",
            "\n"
          ]
        }
      ]
    },
    {
      "cell_type": "markdown",
      "source": [
        "#### С кросс-валидацией"
      ],
      "metadata": {
        "id": "blE6hOeinBkh"
      }
    },
    {
      "cell_type": "markdown",
      "source": [
        "Проведение процедуры кросс-валидации"
      ],
      "metadata": {
        "id": "DfFzcTU-nu6s"
      }
    },
    {
      "cell_type": "code",
      "execution_count": 43,
      "metadata": {
        "colab": {
          "base_uri": "https://localhost:8080/",
          "height": 226
        },
        "id": "ajoKa753nu6t",
        "outputId": "ab13f277-a5ad-4050-b73d-e25afab91128"
      },
      "outputs": [
        {
          "output_type": "stream",
          "name": "stdout",
          "text": [
            "CPU times: user 114 ms, sys: 7.41 ms, total: 121 ms\n",
            "Wall time: 910 ms\n"
          ]
        },
        {
          "output_type": "stream",
          "name": "stderr",
          "text": [
            "/usr/local/lib/python3.10/dist-packages/sklearn/svm/_base.py:1244: ConvergenceWarning:\n",
            "\n",
            "Liblinear failed to converge, increase the number of iterations.\n",
            "\n"
          ]
        },
        {
          "output_type": "execute_result",
          "data": {
            "text/plain": [
              "RandomizedSearchCV(estimator=LinearSVC(), n_jobs=-1,\n",
              "                   param_distributions={'C': [10],\n",
              "                                        'intercept_scaling': [1, 10, 100],\n",
              "                                        'loss': ['hinge', 'squared_hinge'],\n",
              "                                        'tol': [0.0001, 0.001]},\n",
              "                   scoring='f1')"
            ],
            "text/html": [
              "<style>#sk-container-id-8 {color: black;background-color: white;}#sk-container-id-8 pre{padding: 0;}#sk-container-id-8 div.sk-toggleable {background-color: white;}#sk-container-id-8 label.sk-toggleable__label {cursor: pointer;display: block;width: 100%;margin-bottom: 0;padding: 0.3em;box-sizing: border-box;text-align: center;}#sk-container-id-8 label.sk-toggleable__label-arrow:before {content: \"▸\";float: left;margin-right: 0.25em;color: #696969;}#sk-container-id-8 label.sk-toggleable__label-arrow:hover:before {color: black;}#sk-container-id-8 div.sk-estimator:hover label.sk-toggleable__label-arrow:before {color: black;}#sk-container-id-8 div.sk-toggleable__content {max-height: 0;max-width: 0;overflow: hidden;text-align: left;background-color: #f0f8ff;}#sk-container-id-8 div.sk-toggleable__content pre {margin: 0.2em;color: black;border-radius: 0.25em;background-color: #f0f8ff;}#sk-container-id-8 input.sk-toggleable__control:checked~div.sk-toggleable__content {max-height: 200px;max-width: 100%;overflow: auto;}#sk-container-id-8 input.sk-toggleable__control:checked~label.sk-toggleable__label-arrow:before {content: \"▾\";}#sk-container-id-8 div.sk-estimator input.sk-toggleable__control:checked~label.sk-toggleable__label {background-color: #d4ebff;}#sk-container-id-8 div.sk-label input.sk-toggleable__control:checked~label.sk-toggleable__label {background-color: #d4ebff;}#sk-container-id-8 input.sk-hidden--visually {border: 0;clip: rect(1px 1px 1px 1px);clip: rect(1px, 1px, 1px, 1px);height: 1px;margin: -1px;overflow: hidden;padding: 0;position: absolute;width: 1px;}#sk-container-id-8 div.sk-estimator {font-family: monospace;background-color: #f0f8ff;border: 1px dotted black;border-radius: 0.25em;box-sizing: border-box;margin-bottom: 0.5em;}#sk-container-id-8 div.sk-estimator:hover {background-color: #d4ebff;}#sk-container-id-8 div.sk-parallel-item::after {content: \"\";width: 100%;border-bottom: 1px solid gray;flex-grow: 1;}#sk-container-id-8 div.sk-label:hover label.sk-toggleable__label {background-color: #d4ebff;}#sk-container-id-8 div.sk-serial::before {content: \"\";position: absolute;border-left: 1px solid gray;box-sizing: border-box;top: 0;bottom: 0;left: 50%;z-index: 0;}#sk-container-id-8 div.sk-serial {display: flex;flex-direction: column;align-items: center;background-color: white;padding-right: 0.2em;padding-left: 0.2em;position: relative;}#sk-container-id-8 div.sk-item {position: relative;z-index: 1;}#sk-container-id-8 div.sk-parallel {display: flex;align-items: stretch;justify-content: center;background-color: white;position: relative;}#sk-container-id-8 div.sk-item::before, #sk-container-id-8 div.sk-parallel-item::before {content: \"\";position: absolute;border-left: 1px solid gray;box-sizing: border-box;top: 0;bottom: 0;left: 50%;z-index: -1;}#sk-container-id-8 div.sk-parallel-item {display: flex;flex-direction: column;z-index: 1;position: relative;background-color: white;}#sk-container-id-8 div.sk-parallel-item:first-child::after {align-self: flex-end;width: 50%;}#sk-container-id-8 div.sk-parallel-item:last-child::after {align-self: flex-start;width: 50%;}#sk-container-id-8 div.sk-parallel-item:only-child::after {width: 0;}#sk-container-id-8 div.sk-dashed-wrapped {border: 1px dashed gray;margin: 0 0.4em 0.5em 0.4em;box-sizing: border-box;padding-bottom: 0.4em;background-color: white;}#sk-container-id-8 div.sk-label label {font-family: monospace;font-weight: bold;display: inline-block;line-height: 1.2em;}#sk-container-id-8 div.sk-label-container {text-align: center;}#sk-container-id-8 div.sk-container {/* jupyter's `normalize.less` sets `[hidden] { display: none; }` but bootstrap.min.css set `[hidden] { display: none !important; }` so we also need the `!important` here to be able to override the default hidden behavior on the sphinx rendered scikit-learn.org. See: https://github.com/scikit-learn/scikit-learn/issues/21755 */display: inline-block !important;position: relative;}#sk-container-id-8 div.sk-text-repr-fallback {display: none;}</style><div id=\"sk-container-id-8\" class=\"sk-top-container\"><div class=\"sk-text-repr-fallback\"><pre>RandomizedSearchCV(estimator=LinearSVC(), n_jobs=-1,\n",
              "                   param_distributions={&#x27;C&#x27;: [10],\n",
              "                                        &#x27;intercept_scaling&#x27;: [1, 10, 100],\n",
              "                                        &#x27;loss&#x27;: [&#x27;hinge&#x27;, &#x27;squared_hinge&#x27;],\n",
              "                                        &#x27;tol&#x27;: [0.0001, 0.001]},\n",
              "                   scoring=&#x27;f1&#x27;)</pre><b>In a Jupyter environment, please rerun this cell to show the HTML representation or trust the notebook. <br />On GitHub, the HTML representation is unable to render, please try loading this page with nbviewer.org.</b></div><div class=\"sk-container\" hidden><div class=\"sk-item sk-dashed-wrapped\"><div class=\"sk-label-container\"><div class=\"sk-label sk-toggleable\"><input class=\"sk-toggleable__control sk-hidden--visually\" id=\"sk-estimator-id-14\" type=\"checkbox\" ><label for=\"sk-estimator-id-14\" class=\"sk-toggleable__label sk-toggleable__label-arrow\">RandomizedSearchCV</label><div class=\"sk-toggleable__content\"><pre>RandomizedSearchCV(estimator=LinearSVC(), n_jobs=-1,\n",
              "                   param_distributions={&#x27;C&#x27;: [10],\n",
              "                                        &#x27;intercept_scaling&#x27;: [1, 10, 100],\n",
              "                                        &#x27;loss&#x27;: [&#x27;hinge&#x27;, &#x27;squared_hinge&#x27;],\n",
              "                                        &#x27;tol&#x27;: [0.0001, 0.001]},\n",
              "                   scoring=&#x27;f1&#x27;)</pre></div></div></div><div class=\"sk-parallel\"><div class=\"sk-parallel-item\"><div class=\"sk-item\"><div class=\"sk-label-container\"><div class=\"sk-label sk-toggleable\"><input class=\"sk-toggleable__control sk-hidden--visually\" id=\"sk-estimator-id-15\" type=\"checkbox\" ><label for=\"sk-estimator-id-15\" class=\"sk-toggleable__label sk-toggleable__label-arrow\">estimator: LinearSVC</label><div class=\"sk-toggleable__content\"><pre>LinearSVC()</pre></div></div></div><div class=\"sk-serial\"><div class=\"sk-item\"><div class=\"sk-estimator sk-toggleable\"><input class=\"sk-toggleable__control sk-hidden--visually\" id=\"sk-estimator-id-16\" type=\"checkbox\" ><label for=\"sk-estimator-id-16\" class=\"sk-toggleable__label sk-toggleable__label-arrow\">LinearSVC</label><div class=\"sk-toggleable__content\"><pre>LinearSVC()</pre></div></div></div></div></div></div></div></div></div></div>"
            ]
          },
          "metadata": {},
          "execution_count": 43
        }
      ],
      "source": [
        "%%time\n",
        "\n",
        "# задаем диапазон параметров\n",
        "parameters = {\n",
        "    #'penalty': ['l1', 'l2'], # тип регуляризации, l2 по-умолчанию\n",
        "                             # l1 приводит к разреженным _coef\n",
        "    'loss': ['hinge', 'squared_hinge'], # функция потерь\n",
        "                                        # проверяем обе\n",
        "    #'dual': [True, False], # следует ли использовать двойственную форму задачи, True по-умолчанию\n",
        "                            # поскольку n_samples > n_features, берем двойственную\n",
        "    'tol': [1e-4, 1e-3], # пороговое значение для оптимизации, 1e-3 по-умолчанию\n",
        "    'C': [10], # коэффициент регуляризации\n",
        "               # проверяем методом научного тыка\n",
        "    #'fit_intercept': [True, False], # следует ли добавлять константный член (центрирование)\n",
        "                                     # True по-умолчанию\n",
        "    'intercept_scaling': [1, 10, 100], # масштабирование константного члена\n",
        "    #'class_weight': [None, 'balanced'] # веса классов\n",
        "}\n",
        "\n",
        "# подбираем лучшие параметры\n",
        "grid_svm_lsvc = RandomizedSearchCV(LinearSVC(), parameters, scoring='f1', n_jobs=-1)\n",
        "# обучаем модель\n",
        "grid_svm_lsvc.fit(X_train, y_train)"
      ]
    },
    {
      "cell_type": "markdown",
      "metadata": {
        "id": "jVyZ4pwmnu6t"
      },
      "source": [
        "Вывод результата кросс-валидации"
      ]
    },
    {
      "cell_type": "code",
      "execution_count": 44,
      "metadata": {
        "colab": {
          "base_uri": "https://localhost:8080/"
        },
        "id": "8ZYXBAJ-nu6t",
        "outputId": "7f00e75a-f426-46f3-e14e-91ab8fa94987"
      },
      "outputs": [
        {
          "output_type": "stream",
          "name": "stdout",
          "text": [
            "Лучшие параметры:\n",
            "{'tol': 0.001, 'loss': 'hinge', 'intercept_scaling': 10, 'C': 10}\n",
            "\n",
            "Показатель f1 для лучшей модели составил: 99.82%\n",
            "\n",
            "Сравнение метрик: \n",
            "              precision    recall  f1-score   support\n",
            "\n",
            "       False       1.00      0.96      0.98       857\n",
            "        True       1.00      1.00      1.00      7858\n",
            "\n",
            "    accuracy                           1.00      8715\n",
            "   macro avg       1.00      0.98      0.99      8715\n",
            "weighted avg       1.00      1.00      1.00      8715\n",
            "\n",
            "\n",
            "Матрица ошибок: \n",
            "[[ 826   31]\n",
            " [   1 7857]]\n",
            "\n"
          ]
        }
      ],
      "source": [
        "# результаты кросс-валидации\n",
        "print(f'Лучшие параметры:\\n{grid_svm_lsvc.best_params_}\\n')\n",
        "print(\"Показатель f1 для лучшей модели составил: {:.2f}%\".\n",
        "      format(grid_svm_lsvc.best_score_ * 100) + '\\n')\n",
        "\n",
        "# предсказываем результат на тестовой выборке\n",
        "grid_svm_lsvc_pred = grid_svm_lsvc.predict(X_test)\n",
        "\n",
        "# оцениваем модель\n",
        "print(f'Сравнение метрик: \\n{classification_report(y_test, grid_svm_lsvc_pred)}\\n')\n",
        "print(f'Матрица ошибок: \\n{confusion_matrix(y_test, grid_svm_lsvc_pred)}\\n')"
      ]
    },
    {
      "cell_type": "markdown",
      "metadata": {
        "id": "sNr0Nbk2o0-T"
      },
      "source": [
        "# **ЛР3**"
      ]
    },
    {
      "cell_type": "markdown",
      "metadata": {
        "id": "fa1c_kZd2aAP"
      },
      "source": [
        "## Описание"
      ]
    },
    {
      "cell_type": "markdown",
      "metadata": {
        "id": "SsAU32UapPqg"
      },
      "source": [
        "Задание 1 . Провести классификацию найденного датасета, методами линеной и логистической регрессий . В формате *Markdown* написать пояснения. Объяснить почему были выбраны именно такие гиперпараметры, была ли перекрестная проверка, и т.д.\n",
        "<br><br>\n",
        "P.S. Все решения выполнять в формате *Jupyter Notebook* и выкладывать на свои гитхабы."
      ]
    },
    {
      "cell_type": "markdown",
      "metadata": {
        "id": "Heo7zXvq2o9r"
      },
      "source": [
        "## Решение"
      ]
    },
    {
      "cell_type": "markdown",
      "metadata": {
        "id": "CIVzIgFmnMOt"
      },
      "source": [
        "### Подключение модулей"
      ]
    },
    {
      "cell_type": "markdown",
      "metadata": {
        "id": "rwuNBC9yFjSm"
      },
      "source": [
        "Методы линейной регрессии"
      ]
    },
    {
      "cell_type": "code",
      "source": [
        "# стандартная модель\n",
        "from sklearn.linear_model import LinearRegression\n",
        "\n",
        "# для комбинированных L1- и L2-регуляризаций\n",
        "from sklearn.linear_model import ElasticNet\n",
        "\n",
        "# для L1-регуляризации\n",
        "from sklearn.linear_model import Lasso\n",
        "\n",
        "# для L2-регуляризации\n",
        "from sklearn.linear_model import Ridge\n",
        "\n",
        "# для стохастического градиентного спуска\n",
        "from sklearn.linear_model import SGDRegressor"
      ],
      "metadata": {
        "id": "E55V-zzWFMsj"
      },
      "execution_count": 45,
      "outputs": []
    },
    {
      "cell_type": "markdown",
      "metadata": {
        "id": "-2S8uUn0FnSj"
      },
      "source": [
        "Методы логистической регрессии"
      ]
    },
    {
      "cell_type": "code",
      "execution_count": 46,
      "metadata": {
        "id": "mfI2OjMh0uOW"
      },
      "outputs": [],
      "source": [
        "# стандартная модель, поддерживающая бинарную, One-vs-Rest и мультиномиальную\n",
        "# логистическую регрессию с опциональной регуляризацией L1, L2 или Elastic-Net\n",
        "from sklearn.linear_model import LogisticRegression"
      ]
    },
    {
      "cell_type": "markdown",
      "source": [
        "### **sklearn.linear_model.LinearRegression**\n",
        "\n",
        "---\n",
        "\n"
      ],
      "metadata": {
        "id": "pY7Bne2DwCRj"
      }
    },
    {
      "cell_type": "markdown",
      "source": [
        "#### Проверка обычной регрессии"
      ],
      "metadata": {
        "id": "Cl1GT6q6nJ_1"
      }
    },
    {
      "cell_type": "markdown",
      "source": [
        "Создание и обучение модели"
      ],
      "metadata": {
        "id": "eWKsPyvvZ8QH"
      }
    },
    {
      "cell_type": "code",
      "execution_count": 47,
      "metadata": {
        "colab": {
          "base_uri": "https://localhost:8080/",
          "height": 111
        },
        "outputId": "bbba0cd2-de07-4ea8-9786-aef078ad98f8",
        "id": "Ty3dtR4XZ8Qm"
      },
      "outputs": [
        {
          "output_type": "stream",
          "name": "stdout",
          "text": [
            "CPU times: user 5.32 ms, sys: 5.09 ms, total: 10.4 ms\n",
            "Wall time: 39.1 ms\n"
          ]
        },
        {
          "output_type": "execute_result",
          "data": {
            "text/plain": [
              "LinearRegression()"
            ],
            "text/html": [
              "<style>#sk-container-id-9 {color: black;background-color: white;}#sk-container-id-9 pre{padding: 0;}#sk-container-id-9 div.sk-toggleable {background-color: white;}#sk-container-id-9 label.sk-toggleable__label {cursor: pointer;display: block;width: 100%;margin-bottom: 0;padding: 0.3em;box-sizing: border-box;text-align: center;}#sk-container-id-9 label.sk-toggleable__label-arrow:before {content: \"▸\";float: left;margin-right: 0.25em;color: #696969;}#sk-container-id-9 label.sk-toggleable__label-arrow:hover:before {color: black;}#sk-container-id-9 div.sk-estimator:hover label.sk-toggleable__label-arrow:before {color: black;}#sk-container-id-9 div.sk-toggleable__content {max-height: 0;max-width: 0;overflow: hidden;text-align: left;background-color: #f0f8ff;}#sk-container-id-9 div.sk-toggleable__content pre {margin: 0.2em;color: black;border-radius: 0.25em;background-color: #f0f8ff;}#sk-container-id-9 input.sk-toggleable__control:checked~div.sk-toggleable__content {max-height: 200px;max-width: 100%;overflow: auto;}#sk-container-id-9 input.sk-toggleable__control:checked~label.sk-toggleable__label-arrow:before {content: \"▾\";}#sk-container-id-9 div.sk-estimator input.sk-toggleable__control:checked~label.sk-toggleable__label {background-color: #d4ebff;}#sk-container-id-9 div.sk-label input.sk-toggleable__control:checked~label.sk-toggleable__label {background-color: #d4ebff;}#sk-container-id-9 input.sk-hidden--visually {border: 0;clip: rect(1px 1px 1px 1px);clip: rect(1px, 1px, 1px, 1px);height: 1px;margin: -1px;overflow: hidden;padding: 0;position: absolute;width: 1px;}#sk-container-id-9 div.sk-estimator {font-family: monospace;background-color: #f0f8ff;border: 1px dotted black;border-radius: 0.25em;box-sizing: border-box;margin-bottom: 0.5em;}#sk-container-id-9 div.sk-estimator:hover {background-color: #d4ebff;}#sk-container-id-9 div.sk-parallel-item::after {content: \"\";width: 100%;border-bottom: 1px solid gray;flex-grow: 1;}#sk-container-id-9 div.sk-label:hover label.sk-toggleable__label {background-color: #d4ebff;}#sk-container-id-9 div.sk-serial::before {content: \"\";position: absolute;border-left: 1px solid gray;box-sizing: border-box;top: 0;bottom: 0;left: 50%;z-index: 0;}#sk-container-id-9 div.sk-serial {display: flex;flex-direction: column;align-items: center;background-color: white;padding-right: 0.2em;padding-left: 0.2em;position: relative;}#sk-container-id-9 div.sk-item {position: relative;z-index: 1;}#sk-container-id-9 div.sk-parallel {display: flex;align-items: stretch;justify-content: center;background-color: white;position: relative;}#sk-container-id-9 div.sk-item::before, #sk-container-id-9 div.sk-parallel-item::before {content: \"\";position: absolute;border-left: 1px solid gray;box-sizing: border-box;top: 0;bottom: 0;left: 50%;z-index: -1;}#sk-container-id-9 div.sk-parallel-item {display: flex;flex-direction: column;z-index: 1;position: relative;background-color: white;}#sk-container-id-9 div.sk-parallel-item:first-child::after {align-self: flex-end;width: 50%;}#sk-container-id-9 div.sk-parallel-item:last-child::after {align-self: flex-start;width: 50%;}#sk-container-id-9 div.sk-parallel-item:only-child::after {width: 0;}#sk-container-id-9 div.sk-dashed-wrapped {border: 1px dashed gray;margin: 0 0.4em 0.5em 0.4em;box-sizing: border-box;padding-bottom: 0.4em;background-color: white;}#sk-container-id-9 div.sk-label label {font-family: monospace;font-weight: bold;display: inline-block;line-height: 1.2em;}#sk-container-id-9 div.sk-label-container {text-align: center;}#sk-container-id-9 div.sk-container {/* jupyter's `normalize.less` sets `[hidden] { display: none; }` but bootstrap.min.css set `[hidden] { display: none !important; }` so we also need the `!important` here to be able to override the default hidden behavior on the sphinx rendered scikit-learn.org. See: https://github.com/scikit-learn/scikit-learn/issues/21755 */display: inline-block !important;position: relative;}#sk-container-id-9 div.sk-text-repr-fallback {display: none;}</style><div id=\"sk-container-id-9\" class=\"sk-top-container\"><div class=\"sk-text-repr-fallback\"><pre>LinearRegression()</pre><b>In a Jupyter environment, please rerun this cell to show the HTML representation or trust the notebook. <br />On GitHub, the HTML representation is unable to render, please try loading this page with nbviewer.org.</b></div><div class=\"sk-container\" hidden><div class=\"sk-item\"><div class=\"sk-estimator sk-toggleable\"><input class=\"sk-toggleable__control sk-hidden--visually\" id=\"sk-estimator-id-17\" type=\"checkbox\" checked><label for=\"sk-estimator-id-17\" class=\"sk-toggleable__label sk-toggleable__label-arrow\">LinearRegression</label><div class=\"sk-toggleable__content\"><pre>LinearRegression()</pre></div></div></div></div></div>"
            ]
          },
          "metadata": {},
          "execution_count": 47
        }
      ],
      "source": [
        "%%time\n",
        "\n",
        "# создаем модель\n",
        "regression_linear = LinearRegression()\n",
        "\n",
        "# подаем на вход модели обучающие данные\n",
        "regression_linear.fit(X_train, y_train)"
      ]
    },
    {
      "cell_type": "markdown",
      "source": [
        "Вывод результата"
      ],
      "metadata": {
        "id": "1e8HO8NaZ8Qn"
      }
    },
    {
      "cell_type": "code",
      "source": [
        "# предсказываем результат на тестовой выборке\n",
        "regression_linear_pred = regression_linear.predict(X_test)\n",
        "\n",
        "# заводим переменные\n",
        "mae = mean_absolute_error(y_test, regression_linear_pred)\n",
        "mse = mean_squared_error(y_test, regression_linear_pred)\n",
        "\n",
        "# оцениваем модель\n",
        "print(f'MAE: {mae:.5f}')\n",
        "print(f'MSE: {mse:.5f}')\n",
        "print(f'RMSE: {np.sqrt(mse):.5f}')"
      ],
      "metadata": {
        "outputId": "8519d3a7-be2b-46d8-ebca-a6984c820540",
        "colab": {
          "base_uri": "https://localhost:8080/"
        },
        "id": "e-VuRAc-Z8Qn"
      },
      "execution_count": 48,
      "outputs": [
        {
          "output_type": "stream",
          "name": "stdout",
          "text": [
            "MAE: 0.16357\n",
            "MSE: 0.04375\n",
            "RMSE: 0.20917\n"
          ]
        }
      ]
    },
    {
      "cell_type": "markdown",
      "source": [
        "### **sklearn.linear_model.LogisticRegression**\n",
        "\n",
        "---\n",
        "\n"
      ],
      "metadata": {
        "id": "lpTmY6DWwK1b"
      }
    },
    {
      "cell_type": "markdown",
      "source": [
        "#### По-умолчанию"
      ],
      "metadata": {
        "id": "mflpYphorMkl"
      }
    },
    {
      "cell_type": "markdown",
      "source": [
        "Создание и обучение модели"
      ],
      "metadata": {
        "id": "-WIbg15MrMkm"
      }
    },
    {
      "cell_type": "code",
      "execution_count": 49,
      "metadata": {
        "colab": {
          "base_uri": "https://localhost:8080/",
          "height": 111
        },
        "outputId": "59f4a499-6e40-494e-e992-cf3ca52c2cea",
        "id": "X6_lZIf-rMkm"
      },
      "outputs": [
        {
          "output_type": "stream",
          "name": "stdout",
          "text": [
            "CPU times: user 21.8 ms, sys: 24.3 ms, total: 46.1 ms\n",
            "Wall time: 33.6 ms\n"
          ]
        },
        {
          "output_type": "execute_result",
          "data": {
            "text/plain": [
              "LogisticRegression()"
            ],
            "text/html": [
              "<style>#sk-container-id-10 {color: black;background-color: white;}#sk-container-id-10 pre{padding: 0;}#sk-container-id-10 div.sk-toggleable {background-color: white;}#sk-container-id-10 label.sk-toggleable__label {cursor: pointer;display: block;width: 100%;margin-bottom: 0;padding: 0.3em;box-sizing: border-box;text-align: center;}#sk-container-id-10 label.sk-toggleable__label-arrow:before {content: \"▸\";float: left;margin-right: 0.25em;color: #696969;}#sk-container-id-10 label.sk-toggleable__label-arrow:hover:before {color: black;}#sk-container-id-10 div.sk-estimator:hover label.sk-toggleable__label-arrow:before {color: black;}#sk-container-id-10 div.sk-toggleable__content {max-height: 0;max-width: 0;overflow: hidden;text-align: left;background-color: #f0f8ff;}#sk-container-id-10 div.sk-toggleable__content pre {margin: 0.2em;color: black;border-radius: 0.25em;background-color: #f0f8ff;}#sk-container-id-10 input.sk-toggleable__control:checked~div.sk-toggleable__content {max-height: 200px;max-width: 100%;overflow: auto;}#sk-container-id-10 input.sk-toggleable__control:checked~label.sk-toggleable__label-arrow:before {content: \"▾\";}#sk-container-id-10 div.sk-estimator input.sk-toggleable__control:checked~label.sk-toggleable__label {background-color: #d4ebff;}#sk-container-id-10 div.sk-label input.sk-toggleable__control:checked~label.sk-toggleable__label {background-color: #d4ebff;}#sk-container-id-10 input.sk-hidden--visually {border: 0;clip: rect(1px 1px 1px 1px);clip: rect(1px, 1px, 1px, 1px);height: 1px;margin: -1px;overflow: hidden;padding: 0;position: absolute;width: 1px;}#sk-container-id-10 div.sk-estimator {font-family: monospace;background-color: #f0f8ff;border: 1px dotted black;border-radius: 0.25em;box-sizing: border-box;margin-bottom: 0.5em;}#sk-container-id-10 div.sk-estimator:hover {background-color: #d4ebff;}#sk-container-id-10 div.sk-parallel-item::after {content: \"\";width: 100%;border-bottom: 1px solid gray;flex-grow: 1;}#sk-container-id-10 div.sk-label:hover label.sk-toggleable__label {background-color: #d4ebff;}#sk-container-id-10 div.sk-serial::before {content: \"\";position: absolute;border-left: 1px solid gray;box-sizing: border-box;top: 0;bottom: 0;left: 50%;z-index: 0;}#sk-container-id-10 div.sk-serial {display: flex;flex-direction: column;align-items: center;background-color: white;padding-right: 0.2em;padding-left: 0.2em;position: relative;}#sk-container-id-10 div.sk-item {position: relative;z-index: 1;}#sk-container-id-10 div.sk-parallel {display: flex;align-items: stretch;justify-content: center;background-color: white;position: relative;}#sk-container-id-10 div.sk-item::before, #sk-container-id-10 div.sk-parallel-item::before {content: \"\";position: absolute;border-left: 1px solid gray;box-sizing: border-box;top: 0;bottom: 0;left: 50%;z-index: -1;}#sk-container-id-10 div.sk-parallel-item {display: flex;flex-direction: column;z-index: 1;position: relative;background-color: white;}#sk-container-id-10 div.sk-parallel-item:first-child::after {align-self: flex-end;width: 50%;}#sk-container-id-10 div.sk-parallel-item:last-child::after {align-self: flex-start;width: 50%;}#sk-container-id-10 div.sk-parallel-item:only-child::after {width: 0;}#sk-container-id-10 div.sk-dashed-wrapped {border: 1px dashed gray;margin: 0 0.4em 0.5em 0.4em;box-sizing: border-box;padding-bottom: 0.4em;background-color: white;}#sk-container-id-10 div.sk-label label {font-family: monospace;font-weight: bold;display: inline-block;line-height: 1.2em;}#sk-container-id-10 div.sk-label-container {text-align: center;}#sk-container-id-10 div.sk-container {/* jupyter's `normalize.less` sets `[hidden] { display: none; }` but bootstrap.min.css set `[hidden] { display: none !important; }` so we also need the `!important` here to be able to override the default hidden behavior on the sphinx rendered scikit-learn.org. See: https://github.com/scikit-learn/scikit-learn/issues/21755 */display: inline-block !important;position: relative;}#sk-container-id-10 div.sk-text-repr-fallback {display: none;}</style><div id=\"sk-container-id-10\" class=\"sk-top-container\"><div class=\"sk-text-repr-fallback\"><pre>LogisticRegression()</pre><b>In a Jupyter environment, please rerun this cell to show the HTML representation or trust the notebook. <br />On GitHub, the HTML representation is unable to render, please try loading this page with nbviewer.org.</b></div><div class=\"sk-container\" hidden><div class=\"sk-item\"><div class=\"sk-estimator sk-toggleable\"><input class=\"sk-toggleable__control sk-hidden--visually\" id=\"sk-estimator-id-18\" type=\"checkbox\" checked><label for=\"sk-estimator-id-18\" class=\"sk-toggleable__label sk-toggleable__label-arrow\">LogisticRegression</label><div class=\"sk-toggleable__content\"><pre>LogisticRegression()</pre></div></div></div></div></div>"
            ]
          },
          "metadata": {},
          "execution_count": 49
        }
      ],
      "source": [
        "%%time\n",
        "\n",
        "# создаем модель\n",
        "regression_logistic = LogisticRegression()\n",
        "\n",
        "# подаем на вход модели обучающие данные\n",
        "regression_logistic.fit(X_train, y_train)"
      ]
    },
    {
      "cell_type": "markdown",
      "source": [
        "Вывод результата"
      ],
      "metadata": {
        "id": "MRV4PT34rMkn"
      }
    },
    {
      "cell_type": "code",
      "source": [
        "# предсказываем результат на тестовой выборке\n",
        "regression_logistic_pred = regression_logistic.predict(X_test)\n",
        "\n",
        "# оцениваем модель\n",
        "print(f'Сравнение метрик: \\n{classification_report(y_test, regression_logistic_pred)}\\n')\n",
        "print(f'Матрица ошибок: \\n{confusion_matrix(y_test, regression_logistic_pred)}\\n')"
      ],
      "metadata": {
        "outputId": "4301c2b2-a5dc-4417-f1e2-b35b51964aa2",
        "colab": {
          "base_uri": "https://localhost:8080/"
        },
        "id": "pF8Z2_bjrMko"
      },
      "execution_count": 50,
      "outputs": [
        {
          "output_type": "stream",
          "name": "stdout",
          "text": [
            "Сравнение метрик: \n",
            "              precision    recall  f1-score   support\n",
            "\n",
            "       False       1.00      0.96      0.98       857\n",
            "        True       1.00      1.00      1.00      7858\n",
            "\n",
            "    accuracy                           1.00      8715\n",
            "   macro avg       1.00      0.98      0.99      8715\n",
            "weighted avg       1.00      1.00      1.00      8715\n",
            "\n",
            "\n",
            "Матрица ошибок: \n",
            "[[ 825   32]\n",
            " [   1 7857]]\n",
            "\n"
          ]
        }
      ]
    },
    {
      "cell_type": "markdown",
      "source": [
        "#### С кросс-валидацией"
      ],
      "metadata": {
        "id": "0adaOXGOrMko"
      }
    },
    {
      "cell_type": "markdown",
      "source": [
        "Проведение процедуры кросс-валидации"
      ],
      "metadata": {
        "id": "2jyiXkRCrMko"
      }
    },
    {
      "cell_type": "code",
      "execution_count": 51,
      "metadata": {
        "colab": {
          "base_uri": "https://localhost:8080/",
          "height": 1000
        },
        "outputId": "111a7846-d62d-4e25-a1c2-f1766d88f22c",
        "id": "S726ZjjbrMko"
      },
      "outputs": [
        {
          "output_type": "stream",
          "name": "stdout",
          "text": [
            "CPU times: user 127 ms, sys: 7.97 ms, total: 135 ms\n",
            "Wall time: 1.46 s\n"
          ]
        },
        {
          "output_type": "stream",
          "name": "stderr",
          "text": [
            "/usr/local/lib/python3.10/dist-packages/sklearn/model_selection/_validation.py:378: FitFailedWarning:\n",
            "\n",
            "\n",
            "15 fits failed out of a total of 50.\n",
            "The score on these train-test partitions for these parameters will be set to nan.\n",
            "If these failures are not expected, you can try to debug them by setting error_score='raise'.\n",
            "\n",
            "Below are more details about the failures:\n",
            "--------------------------------------------------------------------------------\n",
            "5 fits failed with the following error:\n",
            "Traceback (most recent call last):\n",
            "  File \"/usr/local/lib/python3.10/dist-packages/sklearn/model_selection/_validation.py\", line 686, in _fit_and_score\n",
            "    estimator.fit(X_train, y_train, **fit_params)\n",
            "  File \"/usr/local/lib/python3.10/dist-packages/sklearn/linear_model/_logistic.py\", line 1162, in fit\n",
            "    solver = _check_solver(self.solver, self.penalty, self.dual)\n",
            "  File \"/usr/local/lib/python3.10/dist-packages/sklearn/linear_model/_logistic.py\", line 54, in _check_solver\n",
            "    raise ValueError(\n",
            "ValueError: Solver sag supports only 'l2' or 'none' penalties, got l1 penalty.\n",
            "\n",
            "--------------------------------------------------------------------------------\n",
            "5 fits failed with the following error:\n",
            "Traceback (most recent call last):\n",
            "  File \"/usr/local/lib/python3.10/dist-packages/sklearn/model_selection/_validation.py\", line 686, in _fit_and_score\n",
            "    estimator.fit(X_train, y_train, **fit_params)\n",
            "  File \"/usr/local/lib/python3.10/dist-packages/sklearn/linear_model/_logistic.py\", line 1162, in fit\n",
            "    solver = _check_solver(self.solver, self.penalty, self.dual)\n",
            "  File \"/usr/local/lib/python3.10/dist-packages/sklearn/linear_model/_logistic.py\", line 54, in _check_solver\n",
            "    raise ValueError(\n",
            "ValueError: Solver lbfgs supports only 'l2' or 'none' penalties, got l1 penalty.\n",
            "\n",
            "--------------------------------------------------------------------------------\n",
            "5 fits failed with the following error:\n",
            "Traceback (most recent call last):\n",
            "  File \"/usr/local/lib/python3.10/dist-packages/sklearn/model_selection/_validation.py\", line 686, in _fit_and_score\n",
            "    estimator.fit(X_train, y_train, **fit_params)\n",
            "  File \"/usr/local/lib/python3.10/dist-packages/sklearn/linear_model/_logistic.py\", line 1162, in fit\n",
            "    solver = _check_solver(self.solver, self.penalty, self.dual)\n",
            "  File \"/usr/local/lib/python3.10/dist-packages/sklearn/linear_model/_logistic.py\", line 54, in _check_solver\n",
            "    raise ValueError(\n",
            "ValueError: Solver newton-cg supports only 'l2' or 'none' penalties, got l1 penalty.\n",
            "\n",
            "\n",
            "/usr/local/lib/python3.10/dist-packages/sklearn/model_selection/_search.py:952: UserWarning:\n",
            "\n",
            "One or more of the test scores are non-finite: [0.99821461        nan 0.98599851        nan 0.99615744 0.97847424\n",
            "        nan 0.99821461 0.97847424 0.99641484]\n",
            "\n"
          ]
        },
        {
          "output_type": "execute_result",
          "data": {
            "text/plain": [
              "RandomizedSearchCV(estimator=LogisticRegression(), n_jobs=-1,\n",
              "                   param_distributions={'C': [0.001, 0.01, 0.1, 1, 10],\n",
              "                                        'penalty': ['l1', 'l2'],\n",
              "                                        'solver': ['newton-cg', 'lbfgs',\n",
              "                                                   'liblinear', 'sag',\n",
              "                                                   'saga']},\n",
              "                   scoring='f1')"
            ],
            "text/html": [
              "<style>#sk-container-id-11 {color: black;background-color: white;}#sk-container-id-11 pre{padding: 0;}#sk-container-id-11 div.sk-toggleable {background-color: white;}#sk-container-id-11 label.sk-toggleable__label {cursor: pointer;display: block;width: 100%;margin-bottom: 0;padding: 0.3em;box-sizing: border-box;text-align: center;}#sk-container-id-11 label.sk-toggleable__label-arrow:before {content: \"▸\";float: left;margin-right: 0.25em;color: #696969;}#sk-container-id-11 label.sk-toggleable__label-arrow:hover:before {color: black;}#sk-container-id-11 div.sk-estimator:hover label.sk-toggleable__label-arrow:before {color: black;}#sk-container-id-11 div.sk-toggleable__content {max-height: 0;max-width: 0;overflow: hidden;text-align: left;background-color: #f0f8ff;}#sk-container-id-11 div.sk-toggleable__content pre {margin: 0.2em;color: black;border-radius: 0.25em;background-color: #f0f8ff;}#sk-container-id-11 input.sk-toggleable__control:checked~div.sk-toggleable__content {max-height: 200px;max-width: 100%;overflow: auto;}#sk-container-id-11 input.sk-toggleable__control:checked~label.sk-toggleable__label-arrow:before {content: \"▾\";}#sk-container-id-11 div.sk-estimator input.sk-toggleable__control:checked~label.sk-toggleable__label {background-color: #d4ebff;}#sk-container-id-11 div.sk-label input.sk-toggleable__control:checked~label.sk-toggleable__label {background-color: #d4ebff;}#sk-container-id-11 input.sk-hidden--visually {border: 0;clip: rect(1px 1px 1px 1px);clip: rect(1px, 1px, 1px, 1px);height: 1px;margin: -1px;overflow: hidden;padding: 0;position: absolute;width: 1px;}#sk-container-id-11 div.sk-estimator {font-family: monospace;background-color: #f0f8ff;border: 1px dotted black;border-radius: 0.25em;box-sizing: border-box;margin-bottom: 0.5em;}#sk-container-id-11 div.sk-estimator:hover {background-color: #d4ebff;}#sk-container-id-11 div.sk-parallel-item::after {content: \"\";width: 100%;border-bottom: 1px solid gray;flex-grow: 1;}#sk-container-id-11 div.sk-label:hover label.sk-toggleable__label {background-color: #d4ebff;}#sk-container-id-11 div.sk-serial::before {content: \"\";position: absolute;border-left: 1px solid gray;box-sizing: border-box;top: 0;bottom: 0;left: 50%;z-index: 0;}#sk-container-id-11 div.sk-serial {display: flex;flex-direction: column;align-items: center;background-color: white;padding-right: 0.2em;padding-left: 0.2em;position: relative;}#sk-container-id-11 div.sk-item {position: relative;z-index: 1;}#sk-container-id-11 div.sk-parallel {display: flex;align-items: stretch;justify-content: center;background-color: white;position: relative;}#sk-container-id-11 div.sk-item::before, #sk-container-id-11 div.sk-parallel-item::before {content: \"\";position: absolute;border-left: 1px solid gray;box-sizing: border-box;top: 0;bottom: 0;left: 50%;z-index: -1;}#sk-container-id-11 div.sk-parallel-item {display: flex;flex-direction: column;z-index: 1;position: relative;background-color: white;}#sk-container-id-11 div.sk-parallel-item:first-child::after {align-self: flex-end;width: 50%;}#sk-container-id-11 div.sk-parallel-item:last-child::after {align-self: flex-start;width: 50%;}#sk-container-id-11 div.sk-parallel-item:only-child::after {width: 0;}#sk-container-id-11 div.sk-dashed-wrapped {border: 1px dashed gray;margin: 0 0.4em 0.5em 0.4em;box-sizing: border-box;padding-bottom: 0.4em;background-color: white;}#sk-container-id-11 div.sk-label label {font-family: monospace;font-weight: bold;display: inline-block;line-height: 1.2em;}#sk-container-id-11 div.sk-label-container {text-align: center;}#sk-container-id-11 div.sk-container {/* jupyter's `normalize.less` sets `[hidden] { display: none; }` but bootstrap.min.css set `[hidden] { display: none !important; }` so we also need the `!important` here to be able to override the default hidden behavior on the sphinx rendered scikit-learn.org. See: https://github.com/scikit-learn/scikit-learn/issues/21755 */display: inline-block !important;position: relative;}#sk-container-id-11 div.sk-text-repr-fallback {display: none;}</style><div id=\"sk-container-id-11\" class=\"sk-top-container\"><div class=\"sk-text-repr-fallback\"><pre>RandomizedSearchCV(estimator=LogisticRegression(), n_jobs=-1,\n",
              "                   param_distributions={&#x27;C&#x27;: [0.001, 0.01, 0.1, 1, 10],\n",
              "                                        &#x27;penalty&#x27;: [&#x27;l1&#x27;, &#x27;l2&#x27;],\n",
              "                                        &#x27;solver&#x27;: [&#x27;newton-cg&#x27;, &#x27;lbfgs&#x27;,\n",
              "                                                   &#x27;liblinear&#x27;, &#x27;sag&#x27;,\n",
              "                                                   &#x27;saga&#x27;]},\n",
              "                   scoring=&#x27;f1&#x27;)</pre><b>In a Jupyter environment, please rerun this cell to show the HTML representation or trust the notebook. <br />On GitHub, the HTML representation is unable to render, please try loading this page with nbviewer.org.</b></div><div class=\"sk-container\" hidden><div class=\"sk-item sk-dashed-wrapped\"><div class=\"sk-label-container\"><div class=\"sk-label sk-toggleable\"><input class=\"sk-toggleable__control sk-hidden--visually\" id=\"sk-estimator-id-19\" type=\"checkbox\" ><label for=\"sk-estimator-id-19\" class=\"sk-toggleable__label sk-toggleable__label-arrow\">RandomizedSearchCV</label><div class=\"sk-toggleable__content\"><pre>RandomizedSearchCV(estimator=LogisticRegression(), n_jobs=-1,\n",
              "                   param_distributions={&#x27;C&#x27;: [0.001, 0.01, 0.1, 1, 10],\n",
              "                                        &#x27;penalty&#x27;: [&#x27;l1&#x27;, &#x27;l2&#x27;],\n",
              "                                        &#x27;solver&#x27;: [&#x27;newton-cg&#x27;, &#x27;lbfgs&#x27;,\n",
              "                                                   &#x27;liblinear&#x27;, &#x27;sag&#x27;,\n",
              "                                                   &#x27;saga&#x27;]},\n",
              "                   scoring=&#x27;f1&#x27;)</pre></div></div></div><div class=\"sk-parallel\"><div class=\"sk-parallel-item\"><div class=\"sk-item\"><div class=\"sk-label-container\"><div class=\"sk-label sk-toggleable\"><input class=\"sk-toggleable__control sk-hidden--visually\" id=\"sk-estimator-id-20\" type=\"checkbox\" ><label for=\"sk-estimator-id-20\" class=\"sk-toggleable__label sk-toggleable__label-arrow\">estimator: LogisticRegression</label><div class=\"sk-toggleable__content\"><pre>LogisticRegression()</pre></div></div></div><div class=\"sk-serial\"><div class=\"sk-item\"><div class=\"sk-estimator sk-toggleable\"><input class=\"sk-toggleable__control sk-hidden--visually\" id=\"sk-estimator-id-21\" type=\"checkbox\" ><label for=\"sk-estimator-id-21\" class=\"sk-toggleable__label sk-toggleable__label-arrow\">LogisticRegression</label><div class=\"sk-toggleable__content\"><pre>LogisticRegression()</pre></div></div></div></div></div></div></div></div></div></div>"
            ]
          },
          "metadata": {},
          "execution_count": 51
        }
      ],
      "source": [
        "%%time\n",
        "\n",
        "# задаем диапазон параметров\n",
        "parameters = {\n",
        "    'penalty': ['l1', 'l2'], # тип регуляризации\n",
        "    'C': [0.001, 0.01, 0.1, 1, 10], # инверсное значение коэффициента регуляризации\n",
        "    #'fit_intercept': [True, False], # следует ли добавлять константный член в линейную модель\n",
        "    'solver': ['newton-cg', 'lbfgs', 'liblinear', 'sag', 'saga'], # алгоритм оптимизации\n",
        "    #'tol': [1e-4, 1e-3], # пороговое значение для оптимизации\n",
        "    #'class_weight': [None, 'balanced'] # веса классов\n",
        "}\n",
        "\n",
        "# подбираем лучшие параметры\n",
        "grid_regression_logistic = RandomizedSearchCV(\n",
        "    LogisticRegression(),\n",
        "    parameters,\n",
        "    scoring='f1',\n",
        "    n_jobs = -1\n",
        ")\n",
        "# обучаем модель\n",
        "grid_regression_logistic.fit(X_train, y_train)"
      ]
    },
    {
      "cell_type": "markdown",
      "metadata": {
        "id": "xkbl4O4LrMko"
      },
      "source": [
        "Вывод результата кросс-валидации"
      ]
    },
    {
      "cell_type": "code",
      "execution_count": 52,
      "metadata": {
        "colab": {
          "base_uri": "https://localhost:8080/"
        },
        "outputId": "9d74351d-6e4f-45bb-9dc0-b6cd7102d4e0",
        "id": "8bHxAxXLrMko"
      },
      "outputs": [
        {
          "output_type": "stream",
          "name": "stdout",
          "text": [
            "Лучшие параметры:\n",
            "{'solver': 'liblinear', 'penalty': 'l2', 'C': 10}\n",
            "\n",
            "Показатель f1 для лучшей модели составил: 99.82%\n",
            "\n",
            "Сравнение метрик: \n",
            "              precision    recall  f1-score   support\n",
            "\n",
            "       False       1.00      0.96      0.98       857\n",
            "        True       1.00      1.00      1.00      7858\n",
            "\n",
            "    accuracy                           1.00      8715\n",
            "   macro avg       1.00      0.98      0.99      8715\n",
            "weighted avg       1.00      1.00      1.00      8715\n",
            "\n",
            "\n",
            "Матрица ошибок: \n",
            "[[ 825   32]\n",
            " [   1 7857]]\n",
            "\n"
          ]
        }
      ],
      "source": [
        "# результаты кросс-валидации\n",
        "print(f'Лучшие параметры:\\n{grid_regression_logistic.best_params_}\\n')\n",
        "print(\"Показатель f1 для лучшей модели составил: {:.2f}%\".\n",
        "      format(grid_regression_logistic.best_score_ * 100) + '\\n')\n",
        "\n",
        "# предсказываем результат на тестовой выборке\n",
        "grid_regression_logistic_pred = grid_regression_logistic.predict(X_test)\n",
        "\n",
        "# оцениваем модель\n",
        "print(f'Сравнение метрик: \\n{classification_report(y_test, grid_regression_logistic_pred)}\\n')\n",
        "print(f'Матрица ошибок: \\n{confusion_matrix(y_test, grid_regression_logistic_pred)}\\n')"
      ]
    },
    {
      "cell_type": "markdown",
      "metadata": {
        "id": "0ZdMiXd8o1Hz"
      },
      "source": [
        "# **ЛР4**\n"
      ]
    },
    {
      "cell_type": "markdown",
      "metadata": {
        "id": "ewsyBqGJ2bpo"
      },
      "source": [
        "## Описание"
      ]
    },
    {
      "cell_type": "markdown",
      "metadata": {
        "id": "btuWK_7RpWOq"
      },
      "source": [
        "Задание 1 . Провести классификацию найденного датасета, методами наивного Байеса  . В формате *Markdown* написать пояснения. Объяснить почему были выбраны именно такие гиперпараметры, была ли перекрестная проверка, и т.д.\n",
        "<br><br>\n",
        "P.S. Все решения выполнять в формате *Jupyter Notebook* и выкладывать на свои гитхабы."
      ]
    },
    {
      "cell_type": "markdown",
      "metadata": {
        "id": "Q7_1EN-U2oul"
      },
      "source": [
        "## Решение"
      ]
    },
    {
      "cell_type": "markdown",
      "metadata": {
        "id": "9-90bjBdFrHc"
      },
      "source": [
        "### Подключение модулей"
      ]
    },
    {
      "cell_type": "code",
      "execution_count": 53,
      "metadata": {
        "id": "VTMdgYJr0jZo"
      },
      "outputs": [],
      "source": [
        "# гауссовский наивный байесовский алгоритм для классификации\n",
        "# когда вероятность появления признаков Гауссова\n",
        "from sklearn.naive_bayes import GaussianNB\n",
        "\n",
        "# для классификации текстовых документов, где признаки представляют собой частоты слов\n",
        "from sklearn.naive_bayes import MultinomialNB\n",
        "\n",
        "# для работы с бинарными признаками\n",
        "from sklearn.naive_bayes import ComplementNB\n",
        "\n",
        "# обобщение наивного байесовского классификатора, учитывающее\n",
        "# дополнительные сведения о распределении признаков\n",
        "from sklearn.naive_bayes import BernoulliNB\n",
        "\n",
        "# для работы с категориальными признаками\n",
        "from sklearn.naive_bayes import CategoricalNB"
      ]
    },
    {
      "cell_type": "markdown",
      "source": [
        "### **sklearn.naive_bayes.GaussianNB**\n",
        "\n",
        "---\n",
        "\n"
      ],
      "metadata": {
        "id": "C6HBKi9Gwc7v"
      }
    },
    {
      "cell_type": "markdown",
      "source": [
        "#### Обычная байесовская модель"
      ],
      "metadata": {
        "id": "QInY6lj4Hij8"
      }
    },
    {
      "cell_type": "markdown",
      "source": [
        "Создание и обучение модели"
      ],
      "metadata": {
        "id": "a6HYGSfxqoPf"
      }
    },
    {
      "cell_type": "code",
      "execution_count": 54,
      "metadata": {
        "colab": {
          "base_uri": "https://localhost:8080/",
          "height": 111
        },
        "outputId": "8d9d9b28-1e80-4f52-fc62-cfbc9a28c2e9",
        "id": "WOGo5Uz1qoPj"
      },
      "outputs": [
        {
          "output_type": "stream",
          "name": "stdout",
          "text": [
            "CPU times: user 3.12 ms, sys: 1 µs, total: 3.12 ms\n",
            "Wall time: 3.15 ms\n"
          ]
        },
        {
          "output_type": "execute_result",
          "data": {
            "text/plain": [
              "GaussianNB()"
            ],
            "text/html": [
              "<style>#sk-container-id-12 {color: black;background-color: white;}#sk-container-id-12 pre{padding: 0;}#sk-container-id-12 div.sk-toggleable {background-color: white;}#sk-container-id-12 label.sk-toggleable__label {cursor: pointer;display: block;width: 100%;margin-bottom: 0;padding: 0.3em;box-sizing: border-box;text-align: center;}#sk-container-id-12 label.sk-toggleable__label-arrow:before {content: \"▸\";float: left;margin-right: 0.25em;color: #696969;}#sk-container-id-12 label.sk-toggleable__label-arrow:hover:before {color: black;}#sk-container-id-12 div.sk-estimator:hover label.sk-toggleable__label-arrow:before {color: black;}#sk-container-id-12 div.sk-toggleable__content {max-height: 0;max-width: 0;overflow: hidden;text-align: left;background-color: #f0f8ff;}#sk-container-id-12 div.sk-toggleable__content pre {margin: 0.2em;color: black;border-radius: 0.25em;background-color: #f0f8ff;}#sk-container-id-12 input.sk-toggleable__control:checked~div.sk-toggleable__content {max-height: 200px;max-width: 100%;overflow: auto;}#sk-container-id-12 input.sk-toggleable__control:checked~label.sk-toggleable__label-arrow:before {content: \"▾\";}#sk-container-id-12 div.sk-estimator input.sk-toggleable__control:checked~label.sk-toggleable__label {background-color: #d4ebff;}#sk-container-id-12 div.sk-label input.sk-toggleable__control:checked~label.sk-toggleable__label {background-color: #d4ebff;}#sk-container-id-12 input.sk-hidden--visually {border: 0;clip: rect(1px 1px 1px 1px);clip: rect(1px, 1px, 1px, 1px);height: 1px;margin: -1px;overflow: hidden;padding: 0;position: absolute;width: 1px;}#sk-container-id-12 div.sk-estimator {font-family: monospace;background-color: #f0f8ff;border: 1px dotted black;border-radius: 0.25em;box-sizing: border-box;margin-bottom: 0.5em;}#sk-container-id-12 div.sk-estimator:hover {background-color: #d4ebff;}#sk-container-id-12 div.sk-parallel-item::after {content: \"\";width: 100%;border-bottom: 1px solid gray;flex-grow: 1;}#sk-container-id-12 div.sk-label:hover label.sk-toggleable__label {background-color: #d4ebff;}#sk-container-id-12 div.sk-serial::before {content: \"\";position: absolute;border-left: 1px solid gray;box-sizing: border-box;top: 0;bottom: 0;left: 50%;z-index: 0;}#sk-container-id-12 div.sk-serial {display: flex;flex-direction: column;align-items: center;background-color: white;padding-right: 0.2em;padding-left: 0.2em;position: relative;}#sk-container-id-12 div.sk-item {position: relative;z-index: 1;}#sk-container-id-12 div.sk-parallel {display: flex;align-items: stretch;justify-content: center;background-color: white;position: relative;}#sk-container-id-12 div.sk-item::before, #sk-container-id-12 div.sk-parallel-item::before {content: \"\";position: absolute;border-left: 1px solid gray;box-sizing: border-box;top: 0;bottom: 0;left: 50%;z-index: -1;}#sk-container-id-12 div.sk-parallel-item {display: flex;flex-direction: column;z-index: 1;position: relative;background-color: white;}#sk-container-id-12 div.sk-parallel-item:first-child::after {align-self: flex-end;width: 50%;}#sk-container-id-12 div.sk-parallel-item:last-child::after {align-self: flex-start;width: 50%;}#sk-container-id-12 div.sk-parallel-item:only-child::after {width: 0;}#sk-container-id-12 div.sk-dashed-wrapped {border: 1px dashed gray;margin: 0 0.4em 0.5em 0.4em;box-sizing: border-box;padding-bottom: 0.4em;background-color: white;}#sk-container-id-12 div.sk-label label {font-family: monospace;font-weight: bold;display: inline-block;line-height: 1.2em;}#sk-container-id-12 div.sk-label-container {text-align: center;}#sk-container-id-12 div.sk-container {/* jupyter's `normalize.less` sets `[hidden] { display: none; }` but bootstrap.min.css set `[hidden] { display: none !important; }` so we also need the `!important` here to be able to override the default hidden behavior on the sphinx rendered scikit-learn.org. See: https://github.com/scikit-learn/scikit-learn/issues/21755 */display: inline-block !important;position: relative;}#sk-container-id-12 div.sk-text-repr-fallback {display: none;}</style><div id=\"sk-container-id-12\" class=\"sk-top-container\"><div class=\"sk-text-repr-fallback\"><pre>GaussianNB()</pre><b>In a Jupyter environment, please rerun this cell to show the HTML representation or trust the notebook. <br />On GitHub, the HTML representation is unable to render, please try loading this page with nbviewer.org.</b></div><div class=\"sk-container\" hidden><div class=\"sk-item\"><div class=\"sk-estimator sk-toggleable\"><input class=\"sk-toggleable__control sk-hidden--visually\" id=\"sk-estimator-id-22\" type=\"checkbox\" checked><label for=\"sk-estimator-id-22\" class=\"sk-toggleable__label sk-toggleable__label-arrow\">GaussianNB</label><div class=\"sk-toggleable__content\"><pre>GaussianNB()</pre></div></div></div></div></div>"
            ]
          },
          "metadata": {},
          "execution_count": 54
        }
      ],
      "source": [
        "%%time\n",
        "\n",
        "# вероятности классов - единственный параметр GaussianNB\n",
        "# priors по-умолчанию None (вычисляются на основе входных данных)\n",
        "\"\"\"parameters = {'priors': [None]}\"\"\"\n",
        "\n",
        "# создаем модель\n",
        "nb_gaussian = GaussianNB()\n",
        "\n",
        "# подаем на вход модели обучающие данные\n",
        "nb_gaussian.fit(X_train, y_train)"
      ]
    },
    {
      "cell_type": "markdown",
      "source": [
        "Вывод результата"
      ],
      "metadata": {
        "id": "4yhXRq_VqoPk"
      }
    },
    {
      "cell_type": "code",
      "source": [
        "# предсказываем результат на тестовой выборке\n",
        "nb_gaussian_pred = nb_gaussian.predict(X_test)\n",
        "\n",
        "# оцениваем модель\n",
        "print(f'Сравнение метрик: \\n{classification_report(y_test, nb_gaussian_pred)}\\n')\n",
        "print(f'Матрица ошибок: \\n{confusion_matrix(y_test, nb_gaussian_pred)}\\n')"
      ],
      "metadata": {
        "outputId": "74a6855f-e8cb-4687-a033-db7d1560d14f",
        "colab": {
          "base_uri": "https://localhost:8080/"
        },
        "id": "BmPiabdVqoPk"
      },
      "execution_count": 55,
      "outputs": [
        {
          "output_type": "stream",
          "name": "stdout",
          "text": [
            "Сравнение метрик: \n",
            "              precision    recall  f1-score   support\n",
            "\n",
            "       False       0.76      0.96      0.85       857\n",
            "        True       1.00      0.97      0.98      7858\n",
            "\n",
            "    accuracy                           0.97      8715\n",
            "   macro avg       0.88      0.96      0.92      8715\n",
            "weighted avg       0.97      0.97      0.97      8715\n",
            "\n",
            "\n",
            "Матрица ошибок: \n",
            "[[ 825   32]\n",
            " [ 257 7601]]\n",
            "\n"
          ]
        }
      ]
    },
    {
      "cell_type": "markdown",
      "source": [
        "### **sklearn.naive_bayes.BernoulliNB**\n",
        "\n",
        "---\n",
        "\n"
      ],
      "metadata": {
        "id": "fAjw-Z_hseTp"
      }
    },
    {
      "cell_type": "markdown",
      "source": [
        "#### По-умолчанию"
      ],
      "metadata": {
        "id": "CR059iItseTw"
      }
    },
    {
      "cell_type": "markdown",
      "source": [
        "Создание и обучение модели"
      ],
      "metadata": {
        "id": "KxoEFYaRseTw"
      }
    },
    {
      "cell_type": "code",
      "execution_count": 56,
      "metadata": {
        "colab": {
          "base_uri": "https://localhost:8080/",
          "height": 111
        },
        "outputId": "281e5cae-3983-4e54-87f7-4f7750380a7f",
        "id": "CO-1C-1OseTw"
      },
      "outputs": [
        {
          "output_type": "stream",
          "name": "stdout",
          "text": [
            "CPU times: user 5.99 ms, sys: 0 ns, total: 5.99 ms\n",
            "Wall time: 5.97 ms\n"
          ]
        },
        {
          "output_type": "execute_result",
          "data": {
            "text/plain": [
              "BernoulliNB()"
            ],
            "text/html": [
              "<style>#sk-container-id-13 {color: black;background-color: white;}#sk-container-id-13 pre{padding: 0;}#sk-container-id-13 div.sk-toggleable {background-color: white;}#sk-container-id-13 label.sk-toggleable__label {cursor: pointer;display: block;width: 100%;margin-bottom: 0;padding: 0.3em;box-sizing: border-box;text-align: center;}#sk-container-id-13 label.sk-toggleable__label-arrow:before {content: \"▸\";float: left;margin-right: 0.25em;color: #696969;}#sk-container-id-13 label.sk-toggleable__label-arrow:hover:before {color: black;}#sk-container-id-13 div.sk-estimator:hover label.sk-toggleable__label-arrow:before {color: black;}#sk-container-id-13 div.sk-toggleable__content {max-height: 0;max-width: 0;overflow: hidden;text-align: left;background-color: #f0f8ff;}#sk-container-id-13 div.sk-toggleable__content pre {margin: 0.2em;color: black;border-radius: 0.25em;background-color: #f0f8ff;}#sk-container-id-13 input.sk-toggleable__control:checked~div.sk-toggleable__content {max-height: 200px;max-width: 100%;overflow: auto;}#sk-container-id-13 input.sk-toggleable__control:checked~label.sk-toggleable__label-arrow:before {content: \"▾\";}#sk-container-id-13 div.sk-estimator input.sk-toggleable__control:checked~label.sk-toggleable__label {background-color: #d4ebff;}#sk-container-id-13 div.sk-label input.sk-toggleable__control:checked~label.sk-toggleable__label {background-color: #d4ebff;}#sk-container-id-13 input.sk-hidden--visually {border: 0;clip: rect(1px 1px 1px 1px);clip: rect(1px, 1px, 1px, 1px);height: 1px;margin: -1px;overflow: hidden;padding: 0;position: absolute;width: 1px;}#sk-container-id-13 div.sk-estimator {font-family: monospace;background-color: #f0f8ff;border: 1px dotted black;border-radius: 0.25em;box-sizing: border-box;margin-bottom: 0.5em;}#sk-container-id-13 div.sk-estimator:hover {background-color: #d4ebff;}#sk-container-id-13 div.sk-parallel-item::after {content: \"\";width: 100%;border-bottom: 1px solid gray;flex-grow: 1;}#sk-container-id-13 div.sk-label:hover label.sk-toggleable__label {background-color: #d4ebff;}#sk-container-id-13 div.sk-serial::before {content: \"\";position: absolute;border-left: 1px solid gray;box-sizing: border-box;top: 0;bottom: 0;left: 50%;z-index: 0;}#sk-container-id-13 div.sk-serial {display: flex;flex-direction: column;align-items: center;background-color: white;padding-right: 0.2em;padding-left: 0.2em;position: relative;}#sk-container-id-13 div.sk-item {position: relative;z-index: 1;}#sk-container-id-13 div.sk-parallel {display: flex;align-items: stretch;justify-content: center;background-color: white;position: relative;}#sk-container-id-13 div.sk-item::before, #sk-container-id-13 div.sk-parallel-item::before {content: \"\";position: absolute;border-left: 1px solid gray;box-sizing: border-box;top: 0;bottom: 0;left: 50%;z-index: -1;}#sk-container-id-13 div.sk-parallel-item {display: flex;flex-direction: column;z-index: 1;position: relative;background-color: white;}#sk-container-id-13 div.sk-parallel-item:first-child::after {align-self: flex-end;width: 50%;}#sk-container-id-13 div.sk-parallel-item:last-child::after {align-self: flex-start;width: 50%;}#sk-container-id-13 div.sk-parallel-item:only-child::after {width: 0;}#sk-container-id-13 div.sk-dashed-wrapped {border: 1px dashed gray;margin: 0 0.4em 0.5em 0.4em;box-sizing: border-box;padding-bottom: 0.4em;background-color: white;}#sk-container-id-13 div.sk-label label {font-family: monospace;font-weight: bold;display: inline-block;line-height: 1.2em;}#sk-container-id-13 div.sk-label-container {text-align: center;}#sk-container-id-13 div.sk-container {/* jupyter's `normalize.less` sets `[hidden] { display: none; }` but bootstrap.min.css set `[hidden] { display: none !important; }` so we also need the `!important` here to be able to override the default hidden behavior on the sphinx rendered scikit-learn.org. See: https://github.com/scikit-learn/scikit-learn/issues/21755 */display: inline-block !important;position: relative;}#sk-container-id-13 div.sk-text-repr-fallback {display: none;}</style><div id=\"sk-container-id-13\" class=\"sk-top-container\"><div class=\"sk-text-repr-fallback\"><pre>BernoulliNB()</pre><b>In a Jupyter environment, please rerun this cell to show the HTML representation or trust the notebook. <br />On GitHub, the HTML representation is unable to render, please try loading this page with nbviewer.org.</b></div><div class=\"sk-container\" hidden><div class=\"sk-item\"><div class=\"sk-estimator sk-toggleable\"><input class=\"sk-toggleable__control sk-hidden--visually\" id=\"sk-estimator-id-23\" type=\"checkbox\" checked><label for=\"sk-estimator-id-23\" class=\"sk-toggleable__label sk-toggleable__label-arrow\">BernoulliNB</label><div class=\"sk-toggleable__content\"><pre>BernoulliNB()</pre></div></div></div></div></div>"
            ]
          },
          "metadata": {},
          "execution_count": 56
        }
      ],
      "source": [
        "%%time\n",
        "\n",
        "# создаем модель\n",
        "nb_bernoulli = BernoulliNB()\n",
        "\n",
        "# подаем на вход модели обучающие данные\n",
        "nb_bernoulli.fit(X_train, y_train)"
      ]
    },
    {
      "cell_type": "markdown",
      "source": [
        "Вывод результата"
      ],
      "metadata": {
        "id": "vkfd52_vseTx"
      }
    },
    {
      "cell_type": "code",
      "source": [
        "# предсказываем результат на тестовой выборке\n",
        "nb_bernoulli_pred = nb_bernoulli.predict(X_test)\n",
        "\n",
        "# оцениваем модель\n",
        "print(f'Сравнение метрик: \\n{classification_report(y_test, nb_bernoulli_pred)}\\n')\n",
        "print(f'Матрица ошибок: \\n{confusion_matrix(y_test, nb_bernoulli_pred)}\\n')"
      ],
      "metadata": {
        "outputId": "12e1037f-a20f-4f0f-a8bc-446d0fb9c7cf",
        "colab": {
          "base_uri": "https://localhost:8080/"
        },
        "id": "-jnSTZc-seTy"
      },
      "execution_count": 57,
      "outputs": [
        {
          "output_type": "stream",
          "name": "stdout",
          "text": [
            "Сравнение метрик: \n",
            "              precision    recall  f1-score   support\n",
            "\n",
            "       False       0.63      0.87      0.73       857\n",
            "        True       0.99      0.94      0.96      7858\n",
            "\n",
            "    accuracy                           0.94      8715\n",
            "   macro avg       0.81      0.91      0.85      8715\n",
            "weighted avg       0.95      0.94      0.94      8715\n",
            "\n",
            "\n",
            "Матрица ошибок: \n",
            "[[ 745  112]\n",
            " [ 444 7414]]\n",
            "\n"
          ]
        }
      ]
    },
    {
      "cell_type": "markdown",
      "source": [
        "#### С кросс-валидацией"
      ],
      "metadata": {
        "id": "4iqCzxk9yV3d"
      }
    },
    {
      "cell_type": "markdown",
      "source": [
        "Проведение процедуры кросс-валидации"
      ],
      "metadata": {
        "id": "42CLY-ZiwFYR"
      }
    },
    {
      "cell_type": "code",
      "execution_count": 58,
      "metadata": {
        "colab": {
          "base_uri": "https://localhost:8080/",
          "height": 226
        },
        "outputId": "e7841f93-f34f-486f-b756-dba2795bf261",
        "id": "5Qd6buQYwFYV"
      },
      "outputs": [
        {
          "output_type": "stream",
          "name": "stdout",
          "text": [
            "CPU times: user 826 ms, sys: 53.4 ms, total: 879 ms\n",
            "Wall time: 9.11 s\n"
          ]
        },
        {
          "output_type": "stream",
          "name": "stderr",
          "text": [
            "/usr/local/lib/python3.10/dist-packages/sklearn/naive_bayes.py:635: UserWarning:\n",
            "\n",
            "alpha too small will result in numeric errors, setting alpha = 1.0e-10. Use `force_alpha=True` to keep alpha unchanged.\n",
            "\n"
          ]
        },
        {
          "output_type": "execute_result",
          "data": {
            "text/plain": [
              "GridSearchCV(estimator=BernoulliNB(), n_jobs=-1,\n",
              "             param_grid={'alpha': [0, 0.001, 0.01, 0.1, 1.0, 10.0],\n",
              "                         'binarize': [None, 0.0, 0.1, 0.2, 0.3, 0.4, 0.5, 0.6,\n",
              "                                      0.7, 0.8, 0.9, 1.0],\n",
              "                         'fit_prior': [True, False],\n",
              "                         'force_alpha': [True, False]},\n",
              "             scoring='f1')"
            ],
            "text/html": [
              "<style>#sk-container-id-14 {color: black;background-color: white;}#sk-container-id-14 pre{padding: 0;}#sk-container-id-14 div.sk-toggleable {background-color: white;}#sk-container-id-14 label.sk-toggleable__label {cursor: pointer;display: block;width: 100%;margin-bottom: 0;padding: 0.3em;box-sizing: border-box;text-align: center;}#sk-container-id-14 label.sk-toggleable__label-arrow:before {content: \"▸\";float: left;margin-right: 0.25em;color: #696969;}#sk-container-id-14 label.sk-toggleable__label-arrow:hover:before {color: black;}#sk-container-id-14 div.sk-estimator:hover label.sk-toggleable__label-arrow:before {color: black;}#sk-container-id-14 div.sk-toggleable__content {max-height: 0;max-width: 0;overflow: hidden;text-align: left;background-color: #f0f8ff;}#sk-container-id-14 div.sk-toggleable__content pre {margin: 0.2em;color: black;border-radius: 0.25em;background-color: #f0f8ff;}#sk-container-id-14 input.sk-toggleable__control:checked~div.sk-toggleable__content {max-height: 200px;max-width: 100%;overflow: auto;}#sk-container-id-14 input.sk-toggleable__control:checked~label.sk-toggleable__label-arrow:before {content: \"▾\";}#sk-container-id-14 div.sk-estimator input.sk-toggleable__control:checked~label.sk-toggleable__label {background-color: #d4ebff;}#sk-container-id-14 div.sk-label input.sk-toggleable__control:checked~label.sk-toggleable__label {background-color: #d4ebff;}#sk-container-id-14 input.sk-hidden--visually {border: 0;clip: rect(1px 1px 1px 1px);clip: rect(1px, 1px, 1px, 1px);height: 1px;margin: -1px;overflow: hidden;padding: 0;position: absolute;width: 1px;}#sk-container-id-14 div.sk-estimator {font-family: monospace;background-color: #f0f8ff;border: 1px dotted black;border-radius: 0.25em;box-sizing: border-box;margin-bottom: 0.5em;}#sk-container-id-14 div.sk-estimator:hover {background-color: #d4ebff;}#sk-container-id-14 div.sk-parallel-item::after {content: \"\";width: 100%;border-bottom: 1px solid gray;flex-grow: 1;}#sk-container-id-14 div.sk-label:hover label.sk-toggleable__label {background-color: #d4ebff;}#sk-container-id-14 div.sk-serial::before {content: \"\";position: absolute;border-left: 1px solid gray;box-sizing: border-box;top: 0;bottom: 0;left: 50%;z-index: 0;}#sk-container-id-14 div.sk-serial {display: flex;flex-direction: column;align-items: center;background-color: white;padding-right: 0.2em;padding-left: 0.2em;position: relative;}#sk-container-id-14 div.sk-item {position: relative;z-index: 1;}#sk-container-id-14 div.sk-parallel {display: flex;align-items: stretch;justify-content: center;background-color: white;position: relative;}#sk-container-id-14 div.sk-item::before, #sk-container-id-14 div.sk-parallel-item::before {content: \"\";position: absolute;border-left: 1px solid gray;box-sizing: border-box;top: 0;bottom: 0;left: 50%;z-index: -1;}#sk-container-id-14 div.sk-parallel-item {display: flex;flex-direction: column;z-index: 1;position: relative;background-color: white;}#sk-container-id-14 div.sk-parallel-item:first-child::after {align-self: flex-end;width: 50%;}#sk-container-id-14 div.sk-parallel-item:last-child::after {align-self: flex-start;width: 50%;}#sk-container-id-14 div.sk-parallel-item:only-child::after {width: 0;}#sk-container-id-14 div.sk-dashed-wrapped {border: 1px dashed gray;margin: 0 0.4em 0.5em 0.4em;box-sizing: border-box;padding-bottom: 0.4em;background-color: white;}#sk-container-id-14 div.sk-label label {font-family: monospace;font-weight: bold;display: inline-block;line-height: 1.2em;}#sk-container-id-14 div.sk-label-container {text-align: center;}#sk-container-id-14 div.sk-container {/* jupyter's `normalize.less` sets `[hidden] { display: none; }` but bootstrap.min.css set `[hidden] { display: none !important; }` so we also need the `!important` here to be able to override the default hidden behavior on the sphinx rendered scikit-learn.org. See: https://github.com/scikit-learn/scikit-learn/issues/21755 */display: inline-block !important;position: relative;}#sk-container-id-14 div.sk-text-repr-fallback {display: none;}</style><div id=\"sk-container-id-14\" class=\"sk-top-container\"><div class=\"sk-text-repr-fallback\"><pre>GridSearchCV(estimator=BernoulliNB(), n_jobs=-1,\n",
              "             param_grid={&#x27;alpha&#x27;: [0, 0.001, 0.01, 0.1, 1.0, 10.0],\n",
              "                         &#x27;binarize&#x27;: [None, 0.0, 0.1, 0.2, 0.3, 0.4, 0.5, 0.6,\n",
              "                                      0.7, 0.8, 0.9, 1.0],\n",
              "                         &#x27;fit_prior&#x27;: [True, False],\n",
              "                         &#x27;force_alpha&#x27;: [True, False]},\n",
              "             scoring=&#x27;f1&#x27;)</pre><b>In a Jupyter environment, please rerun this cell to show the HTML representation or trust the notebook. <br />On GitHub, the HTML representation is unable to render, please try loading this page with nbviewer.org.</b></div><div class=\"sk-container\" hidden><div class=\"sk-item sk-dashed-wrapped\"><div class=\"sk-label-container\"><div class=\"sk-label sk-toggleable\"><input class=\"sk-toggleable__control sk-hidden--visually\" id=\"sk-estimator-id-24\" type=\"checkbox\" ><label for=\"sk-estimator-id-24\" class=\"sk-toggleable__label sk-toggleable__label-arrow\">GridSearchCV</label><div class=\"sk-toggleable__content\"><pre>GridSearchCV(estimator=BernoulliNB(), n_jobs=-1,\n",
              "             param_grid={&#x27;alpha&#x27;: [0, 0.001, 0.01, 0.1, 1.0, 10.0],\n",
              "                         &#x27;binarize&#x27;: [None, 0.0, 0.1, 0.2, 0.3, 0.4, 0.5, 0.6,\n",
              "                                      0.7, 0.8, 0.9, 1.0],\n",
              "                         &#x27;fit_prior&#x27;: [True, False],\n",
              "                         &#x27;force_alpha&#x27;: [True, False]},\n",
              "             scoring=&#x27;f1&#x27;)</pre></div></div></div><div class=\"sk-parallel\"><div class=\"sk-parallel-item\"><div class=\"sk-item\"><div class=\"sk-label-container\"><div class=\"sk-label sk-toggleable\"><input class=\"sk-toggleable__control sk-hidden--visually\" id=\"sk-estimator-id-25\" type=\"checkbox\" ><label for=\"sk-estimator-id-25\" class=\"sk-toggleable__label sk-toggleable__label-arrow\">estimator: BernoulliNB</label><div class=\"sk-toggleable__content\"><pre>BernoulliNB()</pre></div></div></div><div class=\"sk-serial\"><div class=\"sk-item\"><div class=\"sk-estimator sk-toggleable\"><input class=\"sk-toggleable__control sk-hidden--visually\" id=\"sk-estimator-id-26\" type=\"checkbox\" ><label for=\"sk-estimator-id-26\" class=\"sk-toggleable__label sk-toggleable__label-arrow\">BernoulliNB</label><div class=\"sk-toggleable__content\"><pre>BernoulliNB()</pre></div></div></div></div></div></div></div></div></div></div>"
            ]
          },
          "metadata": {},
          "execution_count": 58
        }
      ],
      "source": [
        "%%time\n",
        "\n",
        "# задаем диапазон параметров\n",
        "parameters = {\n",
        "    'alpha': [0, 0.001, 0.01, 0.1, 1.0, 10.0], # аддитивное (Лапласа-Лидстоуна) сглаживание\n",
        "    'force_alpha': [True, False], # применять ли alpha, или ставить в 1e-10\n",
        "    'binarize': [None, 0.0, 0.1, 0.2, 0.3, 0.4, 0.5, 0.6, 0.7, 0.8, 0.9, 1.0], # пороговое значение\n",
        "                                                                               # для бинаризации признаков\n",
        "    'fit_prior': [True, False], # следует ли использовать приоритеты классов, вычисленные из данных\n",
        "    #'class_prior': [None] #  вероятности классов, используемые в качестве приоритетов\n",
        "}\n",
        "\n",
        "\n",
        "# подбираем лучшие параметры\n",
        "grid_nb_bernoulli = GridSearchCV(\n",
        "    BernoulliNB(),\n",
        "    parameters,\n",
        "    scoring='f1',\n",
        "    n_jobs = -1\n",
        ")\n",
        "# обучаем модель\n",
        "grid_nb_bernoulli.fit(X_train, y_train)"
      ]
    },
    {
      "cell_type": "markdown",
      "metadata": {
        "id": "p5uSSiRgwFYW"
      },
      "source": [
        "Вывод результата кросс-валидации"
      ]
    },
    {
      "cell_type": "code",
      "execution_count": 59,
      "metadata": {
        "colab": {
          "base_uri": "https://localhost:8080/"
        },
        "outputId": "d27c2529-0497-4db8-b7fd-d1d7fd9264cb",
        "id": "VdumN0LpwFYW"
      },
      "outputs": [
        {
          "output_type": "stream",
          "name": "stdout",
          "text": [
            "Лучшие параметры:\n",
            "{'alpha': 0, 'binarize': 0.8, 'fit_prior': True, 'force_alpha': False}\n",
            "\n",
            "Показатель f1 для лучшей модели составил: 97.87%\n",
            "\n",
            "Сравнение метрик: \n",
            "              precision    recall  f1-score   support\n",
            "\n",
            "       False       0.69      0.90      0.78       857\n",
            "        True       0.99      0.96      0.97      7858\n",
            "\n",
            "    accuracy                           0.95      8715\n",
            "   macro avg       0.84      0.93      0.88      8715\n",
            "weighted avg       0.96      0.95      0.95      8715\n",
            "\n",
            "\n",
            "Матрица ошибок: \n",
            "[[ 769   88]\n",
            " [ 340 7518]]\n",
            "\n"
          ]
        }
      ],
      "source": [
        "# результаты кросс-валидации\n",
        "print(f'Лучшие параметры:\\n{grid_nb_bernoulli.best_params_}\\n')\n",
        "print(\"Показатель f1 для лучшей модели составил: {:.2f}%\".\n",
        "      format(grid_nb_bernoulli.best_score_ * 100) + '\\n')\n",
        "\n",
        "# предсказываем результат на тестовой выборке\n",
        "grid_nb_bernoulli_pred = grid_nb_bernoulli.predict(X_test)\n",
        "\n",
        "# оцениваем модель\n",
        "print(f'Сравнение метрик: \\n{classification_report(y_test, grid_nb_bernoulli_pred)}\\n')\n",
        "print(f'Матрица ошибок: \\n{confusion_matrix(y_test, grid_nb_bernoulli_pred)}\\n')"
      ]
    },
    {
      "cell_type": "markdown",
      "metadata": {
        "id": "W0n2hOxdo1Wr"
      },
      "source": [
        "# **ЛР5**"
      ]
    },
    {
      "cell_type": "markdown",
      "metadata": {
        "id": "0eCOW9Hw2c3S"
      },
      "source": [
        "## Описание"
      ]
    },
    {
      "cell_type": "markdown",
      "metadata": {
        "id": "_tuYZjQ1pbzx"
      },
      "source": [
        "Задание 1 . Провести классификацию найденного датасета, методами решающего дерева и случайного леса . В формате *Markdown* написать пояснения. Объяснить почему были выбраны именно такие гиперпараметры, была ли перекрестная проверка, и т.д.\n",
        "<br><br>\n",
        "P.S. Все решения выполнять в формате *Jupyter Notebook* и выкладывать на свои гитхабы."
      ]
    },
    {
      "cell_type": "markdown",
      "metadata": {
        "id": "HrxhrJf42oWj"
      },
      "source": [
        "## Решение"
      ]
    },
    {
      "cell_type": "markdown",
      "metadata": {
        "id": "YfBddPXinJR-"
      },
      "source": [
        "### Подключение модулей"
      ]
    },
    {
      "cell_type": "code",
      "execution_count": 60,
      "metadata": {
        "id": "lpFJFFNf0a4E"
      },
      "outputs": [],
      "source": [
        "# базовый классификатор, используемый внутри RandomForestClassifier и BaggingClassifier\n",
        "from sklearn.tree import DecisionTreeClassifier\n",
        "\n",
        "# классификатор на ансамбле случайных деревьев\n",
        "from sklearn.ensemble import RandomForestClassifier\n",
        "\n",
        "# классификатор использует метод Bagging\n",
        "from sklearn.ensemble import BaggingClassifier\n",
        "\n",
        "# классификатор использующий метод градиентного бустинга\n",
        "from sklearn.ensemble import GradientBoostingClassifier"
      ]
    },
    {
      "cell_type": "markdown",
      "source": [
        "### **sklearn.tree.DecisionTreeClassifier**\n",
        "\n",
        "---\n",
        "\n"
      ],
      "metadata": {
        "id": "9D6RzsTZ2yFi"
      }
    },
    {
      "cell_type": "markdown",
      "source": [
        "#### По-умолчанию"
      ],
      "metadata": {
        "id": "UsqK9XXV3CM8"
      }
    },
    {
      "cell_type": "markdown",
      "source": [
        "Создание и обучение модели"
      ],
      "metadata": {
        "id": "sEVQHctI3CM9"
      }
    },
    {
      "cell_type": "code",
      "execution_count": 61,
      "metadata": {
        "colab": {
          "base_uri": "https://localhost:8080/",
          "height": 111
        },
        "outputId": "53a52bdf-bfe2-4c98-c829-f1849f1600d2",
        "id": "oJjT71rb3CM9"
      },
      "outputs": [
        {
          "output_type": "stream",
          "name": "stdout",
          "text": [
            "CPU times: user 7.85 ms, sys: 0 ns, total: 7.85 ms\n",
            "Wall time: 7.75 ms\n"
          ]
        },
        {
          "output_type": "execute_result",
          "data": {
            "text/plain": [
              "DecisionTreeClassifier()"
            ],
            "text/html": [
              "<style>#sk-container-id-15 {color: black;background-color: white;}#sk-container-id-15 pre{padding: 0;}#sk-container-id-15 div.sk-toggleable {background-color: white;}#sk-container-id-15 label.sk-toggleable__label {cursor: pointer;display: block;width: 100%;margin-bottom: 0;padding: 0.3em;box-sizing: border-box;text-align: center;}#sk-container-id-15 label.sk-toggleable__label-arrow:before {content: \"▸\";float: left;margin-right: 0.25em;color: #696969;}#sk-container-id-15 label.sk-toggleable__label-arrow:hover:before {color: black;}#sk-container-id-15 div.sk-estimator:hover label.sk-toggleable__label-arrow:before {color: black;}#sk-container-id-15 div.sk-toggleable__content {max-height: 0;max-width: 0;overflow: hidden;text-align: left;background-color: #f0f8ff;}#sk-container-id-15 div.sk-toggleable__content pre {margin: 0.2em;color: black;border-radius: 0.25em;background-color: #f0f8ff;}#sk-container-id-15 input.sk-toggleable__control:checked~div.sk-toggleable__content {max-height: 200px;max-width: 100%;overflow: auto;}#sk-container-id-15 input.sk-toggleable__control:checked~label.sk-toggleable__label-arrow:before {content: \"▾\";}#sk-container-id-15 div.sk-estimator input.sk-toggleable__control:checked~label.sk-toggleable__label {background-color: #d4ebff;}#sk-container-id-15 div.sk-label input.sk-toggleable__control:checked~label.sk-toggleable__label {background-color: #d4ebff;}#sk-container-id-15 input.sk-hidden--visually {border: 0;clip: rect(1px 1px 1px 1px);clip: rect(1px, 1px, 1px, 1px);height: 1px;margin: -1px;overflow: hidden;padding: 0;position: absolute;width: 1px;}#sk-container-id-15 div.sk-estimator {font-family: monospace;background-color: #f0f8ff;border: 1px dotted black;border-radius: 0.25em;box-sizing: border-box;margin-bottom: 0.5em;}#sk-container-id-15 div.sk-estimator:hover {background-color: #d4ebff;}#sk-container-id-15 div.sk-parallel-item::after {content: \"\";width: 100%;border-bottom: 1px solid gray;flex-grow: 1;}#sk-container-id-15 div.sk-label:hover label.sk-toggleable__label {background-color: #d4ebff;}#sk-container-id-15 div.sk-serial::before {content: \"\";position: absolute;border-left: 1px solid gray;box-sizing: border-box;top: 0;bottom: 0;left: 50%;z-index: 0;}#sk-container-id-15 div.sk-serial {display: flex;flex-direction: column;align-items: center;background-color: white;padding-right: 0.2em;padding-left: 0.2em;position: relative;}#sk-container-id-15 div.sk-item {position: relative;z-index: 1;}#sk-container-id-15 div.sk-parallel {display: flex;align-items: stretch;justify-content: center;background-color: white;position: relative;}#sk-container-id-15 div.sk-item::before, #sk-container-id-15 div.sk-parallel-item::before {content: \"\";position: absolute;border-left: 1px solid gray;box-sizing: border-box;top: 0;bottom: 0;left: 50%;z-index: -1;}#sk-container-id-15 div.sk-parallel-item {display: flex;flex-direction: column;z-index: 1;position: relative;background-color: white;}#sk-container-id-15 div.sk-parallel-item:first-child::after {align-self: flex-end;width: 50%;}#sk-container-id-15 div.sk-parallel-item:last-child::after {align-self: flex-start;width: 50%;}#sk-container-id-15 div.sk-parallel-item:only-child::after {width: 0;}#sk-container-id-15 div.sk-dashed-wrapped {border: 1px dashed gray;margin: 0 0.4em 0.5em 0.4em;box-sizing: border-box;padding-bottom: 0.4em;background-color: white;}#sk-container-id-15 div.sk-label label {font-family: monospace;font-weight: bold;display: inline-block;line-height: 1.2em;}#sk-container-id-15 div.sk-label-container {text-align: center;}#sk-container-id-15 div.sk-container {/* jupyter's `normalize.less` sets `[hidden] { display: none; }` but bootstrap.min.css set `[hidden] { display: none !important; }` so we also need the `!important` here to be able to override the default hidden behavior on the sphinx rendered scikit-learn.org. See: https://github.com/scikit-learn/scikit-learn/issues/21755 */display: inline-block !important;position: relative;}#sk-container-id-15 div.sk-text-repr-fallback {display: none;}</style><div id=\"sk-container-id-15\" class=\"sk-top-container\"><div class=\"sk-text-repr-fallback\"><pre>DecisionTreeClassifier()</pre><b>In a Jupyter environment, please rerun this cell to show the HTML representation or trust the notebook. <br />On GitHub, the HTML representation is unable to render, please try loading this page with nbviewer.org.</b></div><div class=\"sk-container\" hidden><div class=\"sk-item\"><div class=\"sk-estimator sk-toggleable\"><input class=\"sk-toggleable__control sk-hidden--visually\" id=\"sk-estimator-id-27\" type=\"checkbox\" checked><label for=\"sk-estimator-id-27\" class=\"sk-toggleable__label sk-toggleable__label-arrow\">DecisionTreeClassifier</label><div class=\"sk-toggleable__content\"><pre>DecisionTreeClassifier()</pre></div></div></div></div></div>"
            ]
          },
          "metadata": {},
          "execution_count": 61
        }
      ],
      "source": [
        "%%time\n",
        "\n",
        "# создаем модель\n",
        "ensemble_tree = DecisionTreeClassifier()\n",
        "\n",
        "# подаем на вход модели обучающие данные\n",
        "ensemble_tree.fit(X_train, y_train)"
      ]
    },
    {
      "cell_type": "markdown",
      "source": [
        "Вывод результата"
      ],
      "metadata": {
        "id": "DOdrvhRo3CM-"
      }
    },
    {
      "cell_type": "code",
      "source": [
        "# предсказываем результат на тестовой выборке\n",
        "ensemble_tree_pred = ensemble_tree.predict(X_test)\n",
        "\n",
        "# оцениваем модель\n",
        "print(f'Сравнение метрик: \\n{classification_report(y_test, ensemble_tree_pred)}\\n')\n",
        "print(f'Матрица ошибок: \\n{confusion_matrix(y_test, ensemble_tree_pred)}\\n')"
      ],
      "metadata": {
        "outputId": "41c03064-c30b-44f8-bff9-d74f9f6a283f",
        "colab": {
          "base_uri": "https://localhost:8080/"
        },
        "id": "pAOMkeLz3CM-"
      },
      "execution_count": 62,
      "outputs": [
        {
          "output_type": "stream",
          "name": "stdout",
          "text": [
            "Сравнение метрик: \n",
            "              precision    recall  f1-score   support\n",
            "\n",
            "       False       0.95      0.97      0.96       857\n",
            "        True       1.00      0.99      1.00      7858\n",
            "\n",
            "    accuracy                           0.99      8715\n",
            "   macro avg       0.97      0.98      0.98      8715\n",
            "weighted avg       0.99      0.99      0.99      8715\n",
            "\n",
            "\n",
            "Матрица ошибок: \n",
            "[[ 830   27]\n",
            " [  45 7813]]\n",
            "\n"
          ]
        }
      ]
    },
    {
      "cell_type": "markdown",
      "source": [
        "#### С кросс-валидацией"
      ],
      "metadata": {
        "id": "mMmC8z403sy7"
      }
    },
    {
      "cell_type": "markdown",
      "source": [
        "Проведение процедуры кросс-валидации"
      ],
      "metadata": {
        "id": "cqCRq6_f3szA"
      }
    },
    {
      "cell_type": "code",
      "execution_count": 63,
      "metadata": {
        "colab": {
          "base_uri": "https://localhost:8080/",
          "height": 681
        },
        "outputId": "31b33e26-2014-4c8f-eb32-8c5c9158a2d0",
        "id": "vwKvHcUo3szB"
      },
      "outputs": [
        {
          "output_type": "stream",
          "name": "stdout",
          "text": [
            "CPU times: user 4.24 s, sys: 179 ms, total: 4.42 s\n",
            "Wall time: 37.3 s\n"
          ]
        },
        {
          "output_type": "stream",
          "name": "stderr",
          "text": [
            "/usr/local/lib/python3.10/dist-packages/sklearn/model_selection/_validation.py:378: FitFailedWarning:\n",
            "\n",
            "\n",
            "2880 fits failed out of a total of 8640.\n",
            "The score on these train-test partitions for these parameters will be set to nan.\n",
            "If these failures are not expected, you can try to debug them by setting error_score='raise'.\n",
            "\n",
            "Below are more details about the failures:\n",
            "--------------------------------------------------------------------------------\n",
            "2880 fits failed with the following error:\n",
            "Traceback (most recent call last):\n",
            "  File \"/usr/local/lib/python3.10/dist-packages/sklearn/model_selection/_validation.py\", line 686, in _fit_and_score\n",
            "    estimator.fit(X_train, y_train, **fit_params)\n",
            "  File \"/usr/local/lib/python3.10/dist-packages/sklearn/tree/_classes.py\", line 889, in fit\n",
            "    super().fit(\n",
            "  File \"/usr/local/lib/python3.10/dist-packages/sklearn/tree/_classes.py\", line 177, in fit\n",
            "    self._validate_params()\n",
            "  File \"/usr/local/lib/python3.10/dist-packages/sklearn/base.py\", line 600, in _validate_params\n",
            "    validate_parameter_constraints(\n",
            "  File \"/usr/local/lib/python3.10/dist-packages/sklearn/utils/_param_validation.py\", line 97, in validate_parameter_constraints\n",
            "    raise InvalidParameterError(\n",
            "sklearn.utils._param_validation.InvalidParameterError: The 'class_weight' parameter of DecisionTreeClassifier must be an instance of 'dict', an instance of 'list', a str among {'balanced'} or None. Got 'balanced_subsample' instead.\n",
            "\n",
            "\n",
            "/usr/local/lib/python3.10/dist-packages/sklearn/model_selection/_search.py:952: UserWarning:\n",
            "\n",
            "One or more of the test scores are non-finite: [0.99667616 0.99615871 0.9936149  ...        nan        nan        nan]\n",
            "\n"
          ]
        },
        {
          "output_type": "execute_result",
          "data": {
            "text/plain": [
              "GridSearchCV(estimator=DecisionTreeClassifier(), n_jobs=-1,\n",
              "             param_grid={'ccp_alpha': [0.0, 0.1, 0.2, 0.3, 0.4, 0.5],\n",
              "                         'class_weight': [None, 'balanced',\n",
              "                                          'balanced_subsample'],\n",
              "                         'criterion': ['gini', 'entropy'],\n",
              "                         'max_depth': [None, 10, 20, 30, 40, 50],\n",
              "                         'max_features': [None, 'auto', 'sqrt', 'log2'],\n",
              "                         'splitter': ['best', 'random']},\n",
              "             scoring='f1')"
            ],
            "text/html": [
              "<style>#sk-container-id-16 {color: black;background-color: white;}#sk-container-id-16 pre{padding: 0;}#sk-container-id-16 div.sk-toggleable {background-color: white;}#sk-container-id-16 label.sk-toggleable__label {cursor: pointer;display: block;width: 100%;margin-bottom: 0;padding: 0.3em;box-sizing: border-box;text-align: center;}#sk-container-id-16 label.sk-toggleable__label-arrow:before {content: \"▸\";float: left;margin-right: 0.25em;color: #696969;}#sk-container-id-16 label.sk-toggleable__label-arrow:hover:before {color: black;}#sk-container-id-16 div.sk-estimator:hover label.sk-toggleable__label-arrow:before {color: black;}#sk-container-id-16 div.sk-toggleable__content {max-height: 0;max-width: 0;overflow: hidden;text-align: left;background-color: #f0f8ff;}#sk-container-id-16 div.sk-toggleable__content pre {margin: 0.2em;color: black;border-radius: 0.25em;background-color: #f0f8ff;}#sk-container-id-16 input.sk-toggleable__control:checked~div.sk-toggleable__content {max-height: 200px;max-width: 100%;overflow: auto;}#sk-container-id-16 input.sk-toggleable__control:checked~label.sk-toggleable__label-arrow:before {content: \"▾\";}#sk-container-id-16 div.sk-estimator input.sk-toggleable__control:checked~label.sk-toggleable__label {background-color: #d4ebff;}#sk-container-id-16 div.sk-label input.sk-toggleable__control:checked~label.sk-toggleable__label {background-color: #d4ebff;}#sk-container-id-16 input.sk-hidden--visually {border: 0;clip: rect(1px 1px 1px 1px);clip: rect(1px, 1px, 1px, 1px);height: 1px;margin: -1px;overflow: hidden;padding: 0;position: absolute;width: 1px;}#sk-container-id-16 div.sk-estimator {font-family: monospace;background-color: #f0f8ff;border: 1px dotted black;border-radius: 0.25em;box-sizing: border-box;margin-bottom: 0.5em;}#sk-container-id-16 div.sk-estimator:hover {background-color: #d4ebff;}#sk-container-id-16 div.sk-parallel-item::after {content: \"\";width: 100%;border-bottom: 1px solid gray;flex-grow: 1;}#sk-container-id-16 div.sk-label:hover label.sk-toggleable__label {background-color: #d4ebff;}#sk-container-id-16 div.sk-serial::before {content: \"\";position: absolute;border-left: 1px solid gray;box-sizing: border-box;top: 0;bottom: 0;left: 50%;z-index: 0;}#sk-container-id-16 div.sk-serial {display: flex;flex-direction: column;align-items: center;background-color: white;padding-right: 0.2em;padding-left: 0.2em;position: relative;}#sk-container-id-16 div.sk-item {position: relative;z-index: 1;}#sk-container-id-16 div.sk-parallel {display: flex;align-items: stretch;justify-content: center;background-color: white;position: relative;}#sk-container-id-16 div.sk-item::before, #sk-container-id-16 div.sk-parallel-item::before {content: \"\";position: absolute;border-left: 1px solid gray;box-sizing: border-box;top: 0;bottom: 0;left: 50%;z-index: -1;}#sk-container-id-16 div.sk-parallel-item {display: flex;flex-direction: column;z-index: 1;position: relative;background-color: white;}#sk-container-id-16 div.sk-parallel-item:first-child::after {align-self: flex-end;width: 50%;}#sk-container-id-16 div.sk-parallel-item:last-child::after {align-self: flex-start;width: 50%;}#sk-container-id-16 div.sk-parallel-item:only-child::after {width: 0;}#sk-container-id-16 div.sk-dashed-wrapped {border: 1px dashed gray;margin: 0 0.4em 0.5em 0.4em;box-sizing: border-box;padding-bottom: 0.4em;background-color: white;}#sk-container-id-16 div.sk-label label {font-family: monospace;font-weight: bold;display: inline-block;line-height: 1.2em;}#sk-container-id-16 div.sk-label-container {text-align: center;}#sk-container-id-16 div.sk-container {/* jupyter's `normalize.less` sets `[hidden] { display: none; }` but bootstrap.min.css set `[hidden] { display: none !important; }` so we also need the `!important` here to be able to override the default hidden behavior on the sphinx rendered scikit-learn.org. See: https://github.com/scikit-learn/scikit-learn/issues/21755 */display: inline-block !important;position: relative;}#sk-container-id-16 div.sk-text-repr-fallback {display: none;}</style><div id=\"sk-container-id-16\" class=\"sk-top-container\"><div class=\"sk-text-repr-fallback\"><pre>GridSearchCV(estimator=DecisionTreeClassifier(), n_jobs=-1,\n",
              "             param_grid={&#x27;ccp_alpha&#x27;: [0.0, 0.1, 0.2, 0.3, 0.4, 0.5],\n",
              "                         &#x27;class_weight&#x27;: [None, &#x27;balanced&#x27;,\n",
              "                                          &#x27;balanced_subsample&#x27;],\n",
              "                         &#x27;criterion&#x27;: [&#x27;gini&#x27;, &#x27;entropy&#x27;],\n",
              "                         &#x27;max_depth&#x27;: [None, 10, 20, 30, 40, 50],\n",
              "                         &#x27;max_features&#x27;: [None, &#x27;auto&#x27;, &#x27;sqrt&#x27;, &#x27;log2&#x27;],\n",
              "                         &#x27;splitter&#x27;: [&#x27;best&#x27;, &#x27;random&#x27;]},\n",
              "             scoring=&#x27;f1&#x27;)</pre><b>In a Jupyter environment, please rerun this cell to show the HTML representation or trust the notebook. <br />On GitHub, the HTML representation is unable to render, please try loading this page with nbviewer.org.</b></div><div class=\"sk-container\" hidden><div class=\"sk-item sk-dashed-wrapped\"><div class=\"sk-label-container\"><div class=\"sk-label sk-toggleable\"><input class=\"sk-toggleable__control sk-hidden--visually\" id=\"sk-estimator-id-28\" type=\"checkbox\" ><label for=\"sk-estimator-id-28\" class=\"sk-toggleable__label sk-toggleable__label-arrow\">GridSearchCV</label><div class=\"sk-toggleable__content\"><pre>GridSearchCV(estimator=DecisionTreeClassifier(), n_jobs=-1,\n",
              "             param_grid={&#x27;ccp_alpha&#x27;: [0.0, 0.1, 0.2, 0.3, 0.4, 0.5],\n",
              "                         &#x27;class_weight&#x27;: [None, &#x27;balanced&#x27;,\n",
              "                                          &#x27;balanced_subsample&#x27;],\n",
              "                         &#x27;criterion&#x27;: [&#x27;gini&#x27;, &#x27;entropy&#x27;],\n",
              "                         &#x27;max_depth&#x27;: [None, 10, 20, 30, 40, 50],\n",
              "                         &#x27;max_features&#x27;: [None, &#x27;auto&#x27;, &#x27;sqrt&#x27;, &#x27;log2&#x27;],\n",
              "                         &#x27;splitter&#x27;: [&#x27;best&#x27;, &#x27;random&#x27;]},\n",
              "             scoring=&#x27;f1&#x27;)</pre></div></div></div><div class=\"sk-parallel\"><div class=\"sk-parallel-item\"><div class=\"sk-item\"><div class=\"sk-label-container\"><div class=\"sk-label sk-toggleable\"><input class=\"sk-toggleable__control sk-hidden--visually\" id=\"sk-estimator-id-29\" type=\"checkbox\" ><label for=\"sk-estimator-id-29\" class=\"sk-toggleable__label sk-toggleable__label-arrow\">estimator: DecisionTreeClassifier</label><div class=\"sk-toggleable__content\"><pre>DecisionTreeClassifier()</pre></div></div></div><div class=\"sk-serial\"><div class=\"sk-item\"><div class=\"sk-estimator sk-toggleable\"><input class=\"sk-toggleable__control sk-hidden--visually\" id=\"sk-estimator-id-30\" type=\"checkbox\" ><label for=\"sk-estimator-id-30\" class=\"sk-toggleable__label sk-toggleable__label-arrow\">DecisionTreeClassifier</label><div class=\"sk-toggleable__content\"><pre>DecisionTreeClassifier()</pre></div></div></div></div></div></div></div></div></div></div>"
            ]
          },
          "metadata": {},
          "execution_count": 63
        }
      ],
      "source": [
        "%%time\n",
        "\n",
        "# задаем диапазон параметров\n",
        "parameters = {\n",
        "    'criterion': ['gini', 'entropy'], # функция для измерения качества разделения\n",
        "    'splitter': ['best', 'random'], # стратегия выбора признака для разделения\n",
        "    'max_depth': [None, 10, 20, 30, 40, 50], # максимальная глубина дерева\n",
        "    #'min_samples_split': [2, 5, 10, 20], # минимальное количество образцов для разделения узла\n",
        "    #'min_samples_leaf': [1, 2, 5, 10], # минимальное количество образцов для листа\n",
        "    #'min_weight_fraction_leaf': [0.0, 0.1, 0.2, 0.3, 0.4, 0.5], # минимальная доля веса образцов в листе\n",
        "    'max_features': [None, 'auto', 'sqrt', 'log2'], # количество признаков при поиске лучшего разделения\n",
        "    #'max_leaf_nodes': [None, 10, 20, 30, 40, 50], # максимальное количество листьев\n",
        "    #'min_impurity_decrease': [0.0, 0.1, 0.2, 0.3, 0.4, 0.5], # минимальное уменьшение неопределенности для разделения\n",
        "    'class_weight': [None, 'balanced', 'balanced_subsample'], # веса классов\n",
        "    'ccp_alpha': [0.0, 0.1, 0.2, 0.3, 0.4, 0.5] # параметр для контроля сжатия дерева\n",
        "}\n",
        "\n",
        "# подбираем лучшие параметры\n",
        "grid_ensemble_tree = GridSearchCV(\n",
        "    DecisionTreeClassifier(),\n",
        "    parameters,\n",
        "    scoring='f1',\n",
        "    n_jobs = -1\n",
        ")\n",
        "# обучаем модель\n",
        "grid_ensemble_tree.fit(X_train, y_train)"
      ]
    },
    {
      "cell_type": "markdown",
      "metadata": {
        "id": "jfwAvgEU3szC"
      },
      "source": [
        "Вывод результата кросс-валидации"
      ]
    },
    {
      "cell_type": "code",
      "execution_count": 64,
      "metadata": {
        "colab": {
          "base_uri": "https://localhost:8080/"
        },
        "outputId": "4950e455-380d-4055-b7a4-f29ba0bdd59a",
        "id": "HckR7raD3szC"
      },
      "outputs": [
        {
          "output_type": "stream",
          "name": "stdout",
          "text": [
            "Лучшие параметры:\n",
            "{'ccp_alpha': 0.0, 'class_weight': 'balanced', 'criterion': 'entropy', 'max_depth': 30, 'max_features': None, 'splitter': 'random'}\n",
            "\n",
            "Показатель f1 для лучшей модели составил: 99.87%\n",
            "\n",
            "Сравнение метрик: \n",
            "              precision    recall  f1-score   support\n",
            "\n",
            "       False       0.97      0.97      0.97       857\n",
            "        True       1.00      1.00      1.00      7858\n",
            "\n",
            "    accuracy                           0.99      8715\n",
            "   macro avg       0.98      0.98      0.98      8715\n",
            "weighted avg       0.99      0.99      0.99      8715\n",
            "\n",
            "\n",
            "Матрица ошибок: \n",
            "[[ 829   28]\n",
            " [  28 7830]]\n",
            "\n"
          ]
        }
      ],
      "source": [
        "# результаты кросс-валидации\n",
        "print(f'Лучшие параметры:\\n{grid_ensemble_tree.best_params_}\\n')\n",
        "print(\"Показатель f1 для лучшей модели составил: {:.2f}%\".\n",
        "      format(grid_ensemble_tree.best_score_ * 100) + '\\n')\n",
        "\n",
        "# предсказываем результат на тестовой выборке\n",
        "grid_ensemble_tree_pred = grid_ensemble_tree.predict(X_test)\n",
        "\n",
        "# оцениваем модель\n",
        "print(f'Сравнение метрик: \\n{classification_report(y_test, grid_ensemble_tree_pred)}\\n')\n",
        "print(f'Матрица ошибок: \\n{confusion_matrix(y_test, grid_ensemble_tree_pred)}\\n')"
      ]
    },
    {
      "cell_type": "markdown",
      "source": [
        "### **sklearn.ensemble.RandomForestClassifier**\n",
        "\n",
        "---\n",
        "\n"
      ],
      "metadata": {
        "id": "XkZcVeb724Wy"
      }
    },
    {
      "cell_type": "markdown",
      "source": [
        "#### По-умолчанию"
      ],
      "metadata": {
        "id": "aQ3kl1YF3DkF"
      }
    },
    {
      "cell_type": "markdown",
      "source": [
        "Создание и обучение модели"
      ],
      "metadata": {
        "id": "zI1Ncnbw3DkG"
      }
    },
    {
      "cell_type": "code",
      "execution_count": 65,
      "metadata": {
        "colab": {
          "base_uri": "https://localhost:8080/",
          "height": 111
        },
        "outputId": "79c34a67-da49-4bc2-c9e7-b4ba5a44e022",
        "id": "SFuG82O43DkG"
      },
      "outputs": [
        {
          "output_type": "stream",
          "name": "stdout",
          "text": [
            "CPU times: user 296 ms, sys: 3.21 ms, total: 299 ms\n",
            "Wall time: 298 ms\n"
          ]
        },
        {
          "output_type": "execute_result",
          "data": {
            "text/plain": [
              "RandomForestClassifier()"
            ],
            "text/html": [
              "<style>#sk-container-id-17 {color: black;background-color: white;}#sk-container-id-17 pre{padding: 0;}#sk-container-id-17 div.sk-toggleable {background-color: white;}#sk-container-id-17 label.sk-toggleable__label {cursor: pointer;display: block;width: 100%;margin-bottom: 0;padding: 0.3em;box-sizing: border-box;text-align: center;}#sk-container-id-17 label.sk-toggleable__label-arrow:before {content: \"▸\";float: left;margin-right: 0.25em;color: #696969;}#sk-container-id-17 label.sk-toggleable__label-arrow:hover:before {color: black;}#sk-container-id-17 div.sk-estimator:hover label.sk-toggleable__label-arrow:before {color: black;}#sk-container-id-17 div.sk-toggleable__content {max-height: 0;max-width: 0;overflow: hidden;text-align: left;background-color: #f0f8ff;}#sk-container-id-17 div.sk-toggleable__content pre {margin: 0.2em;color: black;border-radius: 0.25em;background-color: #f0f8ff;}#sk-container-id-17 input.sk-toggleable__control:checked~div.sk-toggleable__content {max-height: 200px;max-width: 100%;overflow: auto;}#sk-container-id-17 input.sk-toggleable__control:checked~label.sk-toggleable__label-arrow:before {content: \"▾\";}#sk-container-id-17 div.sk-estimator input.sk-toggleable__control:checked~label.sk-toggleable__label {background-color: #d4ebff;}#sk-container-id-17 div.sk-label input.sk-toggleable__control:checked~label.sk-toggleable__label {background-color: #d4ebff;}#sk-container-id-17 input.sk-hidden--visually {border: 0;clip: rect(1px 1px 1px 1px);clip: rect(1px, 1px, 1px, 1px);height: 1px;margin: -1px;overflow: hidden;padding: 0;position: absolute;width: 1px;}#sk-container-id-17 div.sk-estimator {font-family: monospace;background-color: #f0f8ff;border: 1px dotted black;border-radius: 0.25em;box-sizing: border-box;margin-bottom: 0.5em;}#sk-container-id-17 div.sk-estimator:hover {background-color: #d4ebff;}#sk-container-id-17 div.sk-parallel-item::after {content: \"\";width: 100%;border-bottom: 1px solid gray;flex-grow: 1;}#sk-container-id-17 div.sk-label:hover label.sk-toggleable__label {background-color: #d4ebff;}#sk-container-id-17 div.sk-serial::before {content: \"\";position: absolute;border-left: 1px solid gray;box-sizing: border-box;top: 0;bottom: 0;left: 50%;z-index: 0;}#sk-container-id-17 div.sk-serial {display: flex;flex-direction: column;align-items: center;background-color: white;padding-right: 0.2em;padding-left: 0.2em;position: relative;}#sk-container-id-17 div.sk-item {position: relative;z-index: 1;}#sk-container-id-17 div.sk-parallel {display: flex;align-items: stretch;justify-content: center;background-color: white;position: relative;}#sk-container-id-17 div.sk-item::before, #sk-container-id-17 div.sk-parallel-item::before {content: \"\";position: absolute;border-left: 1px solid gray;box-sizing: border-box;top: 0;bottom: 0;left: 50%;z-index: -1;}#sk-container-id-17 div.sk-parallel-item {display: flex;flex-direction: column;z-index: 1;position: relative;background-color: white;}#sk-container-id-17 div.sk-parallel-item:first-child::after {align-self: flex-end;width: 50%;}#sk-container-id-17 div.sk-parallel-item:last-child::after {align-self: flex-start;width: 50%;}#sk-container-id-17 div.sk-parallel-item:only-child::after {width: 0;}#sk-container-id-17 div.sk-dashed-wrapped {border: 1px dashed gray;margin: 0 0.4em 0.5em 0.4em;box-sizing: border-box;padding-bottom: 0.4em;background-color: white;}#sk-container-id-17 div.sk-label label {font-family: monospace;font-weight: bold;display: inline-block;line-height: 1.2em;}#sk-container-id-17 div.sk-label-container {text-align: center;}#sk-container-id-17 div.sk-container {/* jupyter's `normalize.less` sets `[hidden] { display: none; }` but bootstrap.min.css set `[hidden] { display: none !important; }` so we also need the `!important` here to be able to override the default hidden behavior on the sphinx rendered scikit-learn.org. See: https://github.com/scikit-learn/scikit-learn/issues/21755 */display: inline-block !important;position: relative;}#sk-container-id-17 div.sk-text-repr-fallback {display: none;}</style><div id=\"sk-container-id-17\" class=\"sk-top-container\"><div class=\"sk-text-repr-fallback\"><pre>RandomForestClassifier()</pre><b>In a Jupyter environment, please rerun this cell to show the HTML representation or trust the notebook. <br />On GitHub, the HTML representation is unable to render, please try loading this page with nbviewer.org.</b></div><div class=\"sk-container\" hidden><div class=\"sk-item\"><div class=\"sk-estimator sk-toggleable\"><input class=\"sk-toggleable__control sk-hidden--visually\" id=\"sk-estimator-id-31\" type=\"checkbox\" checked><label for=\"sk-estimator-id-31\" class=\"sk-toggleable__label sk-toggleable__label-arrow\">RandomForestClassifier</label><div class=\"sk-toggleable__content\"><pre>RandomForestClassifier()</pre></div></div></div></div></div>"
            ]
          },
          "metadata": {},
          "execution_count": 65
        }
      ],
      "source": [
        "%%time\n",
        "\n",
        "# создаем модель\n",
        "ensemble_randforest = RandomForestClassifier()\n",
        "\n",
        "# подаем на вход модели обучающие данные\n",
        "ensemble_randforest.fit(X_train, y_train)"
      ]
    },
    {
      "cell_type": "markdown",
      "source": [
        "Вывод результата"
      ],
      "metadata": {
        "id": "z9gskmpa3DkG"
      }
    },
    {
      "cell_type": "code",
      "source": [
        "# предсказываем результат на тестовой выборке\n",
        "ensemble_randforest_pred = ensemble_randforest.predict(X_test)\n",
        "\n",
        "# оцениваем модель\n",
        "print(f'Сравнение метрик: \\n{classification_report(y_test, ensemble_randforest_pred)}\\n')\n",
        "print(f'Матрица ошибок: \\n{confusion_matrix(y_test, ensemble_randforest_pred)}\\n')"
      ],
      "metadata": {
        "outputId": "98a8c440-37dc-4314-ed54-28ce5a494a66",
        "colab": {
          "base_uri": "https://localhost:8080/"
        },
        "id": "Pyn3PiXN3DkG"
      },
      "execution_count": 66,
      "outputs": [
        {
          "output_type": "stream",
          "name": "stdout",
          "text": [
            "Сравнение метрик: \n",
            "              precision    recall  f1-score   support\n",
            "\n",
            "       False       1.00      0.96      0.98       857\n",
            "        True       1.00      1.00      1.00      7858\n",
            "\n",
            "    accuracy                           1.00      8715\n",
            "   macro avg       1.00      0.98      0.99      8715\n",
            "weighted avg       1.00      1.00      1.00      8715\n",
            "\n",
            "\n",
            "Матрица ошибок: \n",
            "[[ 826   31]\n",
            " [   1 7857]]\n",
            "\n"
          ]
        }
      ]
    },
    {
      "cell_type": "markdown",
      "source": [
        "#### С кросс-валидацией"
      ],
      "metadata": {
        "id": "YSvbpq9O8ntL"
      }
    },
    {
      "cell_type": "markdown",
      "source": [
        "Проведение процедуры кросс-валидации"
      ],
      "metadata": {
        "id": "H9vqp7EH8ntO"
      }
    },
    {
      "cell_type": "code",
      "execution_count": 67,
      "metadata": {
        "colab": {
          "base_uri": "https://localhost:8080/",
          "height": 153
        },
        "outputId": "8185b67c-8711-4255-a5b2-05199a26e71c",
        "id": "_sGm3YWG8ntO"
      },
      "outputs": [
        {
          "output_type": "stream",
          "name": "stdout",
          "text": [
            "CPU times: user 841 ms, sys: 59.9 ms, total: 901 ms\n",
            "Wall time: 28.8 s\n"
          ]
        },
        {
          "output_type": "execute_result",
          "data": {
            "text/plain": [
              "RandomizedSearchCV(estimator=RandomForestClassifier(), n_jobs=-1,\n",
              "                   param_distributions={'ccp_alpha': [0.0, 0.1, 0.2, 0.3, 0.4,\n",
              "                                                      0.5],\n",
              "                                        'criterion': ['gini', 'entropy'],\n",
              "                                        'max_depth': [None, 50, 100],\n",
              "                                        'max_features': ['auto', 'sqrt',\n",
              "                                                         'log2'],\n",
              "                                        'n_estimators': [100, 200],\n",
              "                                        'oob_score': [True, False]})"
            ],
            "text/html": [
              "<style>#sk-container-id-18 {color: black;background-color: white;}#sk-container-id-18 pre{padding: 0;}#sk-container-id-18 div.sk-toggleable {background-color: white;}#sk-container-id-18 label.sk-toggleable__label {cursor: pointer;display: block;width: 100%;margin-bottom: 0;padding: 0.3em;box-sizing: border-box;text-align: center;}#sk-container-id-18 label.sk-toggleable__label-arrow:before {content: \"▸\";float: left;margin-right: 0.25em;color: #696969;}#sk-container-id-18 label.sk-toggleable__label-arrow:hover:before {color: black;}#sk-container-id-18 div.sk-estimator:hover label.sk-toggleable__label-arrow:before {color: black;}#sk-container-id-18 div.sk-toggleable__content {max-height: 0;max-width: 0;overflow: hidden;text-align: left;background-color: #f0f8ff;}#sk-container-id-18 div.sk-toggleable__content pre {margin: 0.2em;color: black;border-radius: 0.25em;background-color: #f0f8ff;}#sk-container-id-18 input.sk-toggleable__control:checked~div.sk-toggleable__content {max-height: 200px;max-width: 100%;overflow: auto;}#sk-container-id-18 input.sk-toggleable__control:checked~label.sk-toggleable__label-arrow:before {content: \"▾\";}#sk-container-id-18 div.sk-estimator input.sk-toggleable__control:checked~label.sk-toggleable__label {background-color: #d4ebff;}#sk-container-id-18 div.sk-label input.sk-toggleable__control:checked~label.sk-toggleable__label {background-color: #d4ebff;}#sk-container-id-18 input.sk-hidden--visually {border: 0;clip: rect(1px 1px 1px 1px);clip: rect(1px, 1px, 1px, 1px);height: 1px;margin: -1px;overflow: hidden;padding: 0;position: absolute;width: 1px;}#sk-container-id-18 div.sk-estimator {font-family: monospace;background-color: #f0f8ff;border: 1px dotted black;border-radius: 0.25em;box-sizing: border-box;margin-bottom: 0.5em;}#sk-container-id-18 div.sk-estimator:hover {background-color: #d4ebff;}#sk-container-id-18 div.sk-parallel-item::after {content: \"\";width: 100%;border-bottom: 1px solid gray;flex-grow: 1;}#sk-container-id-18 div.sk-label:hover label.sk-toggleable__label {background-color: #d4ebff;}#sk-container-id-18 div.sk-serial::before {content: \"\";position: absolute;border-left: 1px solid gray;box-sizing: border-box;top: 0;bottom: 0;left: 50%;z-index: 0;}#sk-container-id-18 div.sk-serial {display: flex;flex-direction: column;align-items: center;background-color: white;padding-right: 0.2em;padding-left: 0.2em;position: relative;}#sk-container-id-18 div.sk-item {position: relative;z-index: 1;}#sk-container-id-18 div.sk-parallel {display: flex;align-items: stretch;justify-content: center;background-color: white;position: relative;}#sk-container-id-18 div.sk-item::before, #sk-container-id-18 div.sk-parallel-item::before {content: \"\";position: absolute;border-left: 1px solid gray;box-sizing: border-box;top: 0;bottom: 0;left: 50%;z-index: -1;}#sk-container-id-18 div.sk-parallel-item {display: flex;flex-direction: column;z-index: 1;position: relative;background-color: white;}#sk-container-id-18 div.sk-parallel-item:first-child::after {align-self: flex-end;width: 50%;}#sk-container-id-18 div.sk-parallel-item:last-child::after {align-self: flex-start;width: 50%;}#sk-container-id-18 div.sk-parallel-item:only-child::after {width: 0;}#sk-container-id-18 div.sk-dashed-wrapped {border: 1px dashed gray;margin: 0 0.4em 0.5em 0.4em;box-sizing: border-box;padding-bottom: 0.4em;background-color: white;}#sk-container-id-18 div.sk-label label {font-family: monospace;font-weight: bold;display: inline-block;line-height: 1.2em;}#sk-container-id-18 div.sk-label-container {text-align: center;}#sk-container-id-18 div.sk-container {/* jupyter's `normalize.less` sets `[hidden] { display: none; }` but bootstrap.min.css set `[hidden] { display: none !important; }` so we also need the `!important` here to be able to override the default hidden behavior on the sphinx rendered scikit-learn.org. See: https://github.com/scikit-learn/scikit-learn/issues/21755 */display: inline-block !important;position: relative;}#sk-container-id-18 div.sk-text-repr-fallback {display: none;}</style><div id=\"sk-container-id-18\" class=\"sk-top-container\"><div class=\"sk-text-repr-fallback\"><pre>RandomizedSearchCV(estimator=RandomForestClassifier(), n_jobs=-1,\n",
              "                   param_distributions={&#x27;ccp_alpha&#x27;: [0.0, 0.1, 0.2, 0.3, 0.4,\n",
              "                                                      0.5],\n",
              "                                        &#x27;criterion&#x27;: [&#x27;gini&#x27;, &#x27;entropy&#x27;],\n",
              "                                        &#x27;max_depth&#x27;: [None, 50, 100],\n",
              "                                        &#x27;max_features&#x27;: [&#x27;auto&#x27;, &#x27;sqrt&#x27;,\n",
              "                                                         &#x27;log2&#x27;],\n",
              "                                        &#x27;n_estimators&#x27;: [100, 200],\n",
              "                                        &#x27;oob_score&#x27;: [True, False]})</pre><b>In a Jupyter environment, please rerun this cell to show the HTML representation or trust the notebook. <br />On GitHub, the HTML representation is unable to render, please try loading this page with nbviewer.org.</b></div><div class=\"sk-container\" hidden><div class=\"sk-item sk-dashed-wrapped\"><div class=\"sk-label-container\"><div class=\"sk-label sk-toggleable\"><input class=\"sk-toggleable__control sk-hidden--visually\" id=\"sk-estimator-id-32\" type=\"checkbox\" ><label for=\"sk-estimator-id-32\" class=\"sk-toggleable__label sk-toggleable__label-arrow\">RandomizedSearchCV</label><div class=\"sk-toggleable__content\"><pre>RandomizedSearchCV(estimator=RandomForestClassifier(), n_jobs=-1,\n",
              "                   param_distributions={&#x27;ccp_alpha&#x27;: [0.0, 0.1, 0.2, 0.3, 0.4,\n",
              "                                                      0.5],\n",
              "                                        &#x27;criterion&#x27;: [&#x27;gini&#x27;, &#x27;entropy&#x27;],\n",
              "                                        &#x27;max_depth&#x27;: [None, 50, 100],\n",
              "                                        &#x27;max_features&#x27;: [&#x27;auto&#x27;, &#x27;sqrt&#x27;,\n",
              "                                                         &#x27;log2&#x27;],\n",
              "                                        &#x27;n_estimators&#x27;: [100, 200],\n",
              "                                        &#x27;oob_score&#x27;: [True, False]})</pre></div></div></div><div class=\"sk-parallel\"><div class=\"sk-parallel-item\"><div class=\"sk-item\"><div class=\"sk-label-container\"><div class=\"sk-label sk-toggleable\"><input class=\"sk-toggleable__control sk-hidden--visually\" id=\"sk-estimator-id-33\" type=\"checkbox\" ><label for=\"sk-estimator-id-33\" class=\"sk-toggleable__label sk-toggleable__label-arrow\">estimator: RandomForestClassifier</label><div class=\"sk-toggleable__content\"><pre>RandomForestClassifier()</pre></div></div></div><div class=\"sk-serial\"><div class=\"sk-item\"><div class=\"sk-estimator sk-toggleable\"><input class=\"sk-toggleable__control sk-hidden--visually\" id=\"sk-estimator-id-34\" type=\"checkbox\" ><label for=\"sk-estimator-id-34\" class=\"sk-toggleable__label sk-toggleable__label-arrow\">RandomForestClassifier</label><div class=\"sk-toggleable__content\"><pre>RandomForestClassifier()</pre></div></div></div></div></div></div></div></div></div></div>"
            ]
          },
          "metadata": {},
          "execution_count": 67
        }
      ],
      "source": [
        "%%time\n",
        "\n",
        "# задаем диапазон параметров\n",
        "parameters = {\n",
        "    'n_estimators': [100, 200], # количество деревьев в лесу\n",
        "    'criterion': ['gini', 'entropy'], # функция для измерения качества разделения\n",
        "    'max_depth': [None, 50, 100], # максимальная глубина дерева\n",
        "    #'min_samples_split': [2, 5, 10], # минимальное количество образцов для разделения узла\n",
        "    #'min_samples_leaf': [1, 2, 4], # минимальное количество образцов для листа\n",
        "    #'min_weight_fraction_leaf': [0.0, 0.1], # минимальная доля веса образцов в листе\n",
        "    'max_features': ['auto', 'sqrt', 'log2'], # количество признаков при поиске лучшего разделения\n",
        "    #'max_leaf_nodes': [None, 10, 20, 30, 40, 50], # максимальное количество листьев\n",
        "    #'min_impurity_decrease': [0.0, 0.1, 0.2, 0.3, 0.4, 0.5], # минимальное уменьшение неопределенности для разделения\n",
        "    #'bootstrap': [True, False], # следует ли использовать bootstrap-выборку при построении деревьев\n",
        "    'oob_score': [True, False], # следует ли использовать out-of-bag (OOB) оценку для оценки качества модели\n",
        "    #'class_weight': [None, 'balanced', 'balanced_subsample'], # веса классов\n",
        "    'ccp_alpha': [0.0, 0.1, 0.2, 0.3, 0.4, 0.5], # параметр контроля сжатия дерева\n",
        "    #'max_samples': [None] # максимальное количество образцов для обучения каждого дерева\n",
        "}\n",
        "\n",
        "# подбираем лучшие параметры\n",
        "grid_ensemble_randforest = RandomizedSearchCV(\n",
        "    RandomForestClassifier(),\n",
        "    parameters,\n",
        "    n_jobs = -1\n",
        ")\n",
        "# обучаем модель\n",
        "grid_ensemble_randforest.fit(X_train, y_train)"
      ]
    },
    {
      "cell_type": "markdown",
      "metadata": {
        "id": "eJuCsedA8ntP"
      },
      "source": [
        "Вывод результата кросс-валидации"
      ]
    },
    {
      "cell_type": "code",
      "execution_count": 68,
      "metadata": {
        "colab": {
          "base_uri": "https://localhost:8080/"
        },
        "outputId": "726266fd-1f2e-46e9-9fc5-bff2938261d2",
        "id": "Yu5OnrZs8ntP"
      },
      "outputs": [
        {
          "output_type": "stream",
          "name": "stdout",
          "text": [
            "Лучшие параметры:\n",
            "{'oob_score': True, 'n_estimators': 100, 'max_features': 'log2', 'max_depth': None, 'criterion': 'entropy', 'ccp_alpha': 0.0}\n",
            "\n",
            "Показатель f1 для лучшей модели составил: 99.68%\n",
            "\n",
            "Сравнение метрик: \n",
            "              precision    recall  f1-score   support\n",
            "\n",
            "       False       1.00      0.96      0.98       857\n",
            "        True       1.00      1.00      1.00      7858\n",
            "\n",
            "    accuracy                           1.00      8715\n",
            "   macro avg       1.00      0.98      0.99      8715\n",
            "weighted avg       1.00      1.00      1.00      8715\n",
            "\n",
            "\n",
            "Матрица ошибок: \n",
            "[[ 827   30]\n",
            " [   1 7857]]\n",
            "\n"
          ]
        }
      ],
      "source": [
        "# результаты кросс-валидации\n",
        "print(f'Лучшие параметры:\\n{grid_ensemble_randforest.best_params_}\\n')\n",
        "print(\"Показатель f1 для лучшей модели составил: {:.2f}%\".\n",
        "      format(grid_ensemble_randforest.best_score_ * 100) + '\\n')\n",
        "\n",
        "# предсказываем результат на тестовой выборке\n",
        "grid_ensemble_randforest_pred = grid_ensemble_randforest.predict(X_test)\n",
        "\n",
        "# оцениваем модель\n",
        "print(f'Сравнение метрик: \\n{classification_report(y_test, grid_ensemble_randforest_pred)}\\n')\n",
        "print(f'Матрица ошибок: \\n{confusion_matrix(y_test, grid_ensemble_randforest_pred)}\\n')"
      ]
    },
    {
      "cell_type": "markdown",
      "source": [
        "### **sklearn.ensemble.BaggingClassifier**\n",
        "\n",
        "---\n",
        "\n"
      ],
      "metadata": {
        "id": "VyrTm1ZR28Gi"
      }
    },
    {
      "cell_type": "markdown",
      "source": [
        "#### По-умолчанию"
      ],
      "metadata": {
        "id": "Tp8ClCa48kMc"
      }
    },
    {
      "cell_type": "markdown",
      "source": [
        "Создание и обучение модели"
      ],
      "metadata": {
        "id": "T7y_f6yj776r"
      }
    },
    {
      "cell_type": "code",
      "execution_count": 69,
      "metadata": {
        "colab": {
          "base_uri": "https://localhost:8080/",
          "height": 111
        },
        "outputId": "b1b4c65d-179f-4930-92c1-1e2234380767",
        "id": "a6D4lrBB776v"
      },
      "outputs": [
        {
          "output_type": "stream",
          "name": "stdout",
          "text": [
            "CPU times: user 48.6 ms, sys: 2.7 ms, total: 51.3 ms\n",
            "Wall time: 53.7 ms\n"
          ]
        },
        {
          "output_type": "execute_result",
          "data": {
            "text/plain": [
              "BaggingClassifier()"
            ],
            "text/html": [
              "<style>#sk-container-id-19 {color: black;background-color: white;}#sk-container-id-19 pre{padding: 0;}#sk-container-id-19 div.sk-toggleable {background-color: white;}#sk-container-id-19 label.sk-toggleable__label {cursor: pointer;display: block;width: 100%;margin-bottom: 0;padding: 0.3em;box-sizing: border-box;text-align: center;}#sk-container-id-19 label.sk-toggleable__label-arrow:before {content: \"▸\";float: left;margin-right: 0.25em;color: #696969;}#sk-container-id-19 label.sk-toggleable__label-arrow:hover:before {color: black;}#sk-container-id-19 div.sk-estimator:hover label.sk-toggleable__label-arrow:before {color: black;}#sk-container-id-19 div.sk-toggleable__content {max-height: 0;max-width: 0;overflow: hidden;text-align: left;background-color: #f0f8ff;}#sk-container-id-19 div.sk-toggleable__content pre {margin: 0.2em;color: black;border-radius: 0.25em;background-color: #f0f8ff;}#sk-container-id-19 input.sk-toggleable__control:checked~div.sk-toggleable__content {max-height: 200px;max-width: 100%;overflow: auto;}#sk-container-id-19 input.sk-toggleable__control:checked~label.sk-toggleable__label-arrow:before {content: \"▾\";}#sk-container-id-19 div.sk-estimator input.sk-toggleable__control:checked~label.sk-toggleable__label {background-color: #d4ebff;}#sk-container-id-19 div.sk-label input.sk-toggleable__control:checked~label.sk-toggleable__label {background-color: #d4ebff;}#sk-container-id-19 input.sk-hidden--visually {border: 0;clip: rect(1px 1px 1px 1px);clip: rect(1px, 1px, 1px, 1px);height: 1px;margin: -1px;overflow: hidden;padding: 0;position: absolute;width: 1px;}#sk-container-id-19 div.sk-estimator {font-family: monospace;background-color: #f0f8ff;border: 1px dotted black;border-radius: 0.25em;box-sizing: border-box;margin-bottom: 0.5em;}#sk-container-id-19 div.sk-estimator:hover {background-color: #d4ebff;}#sk-container-id-19 div.sk-parallel-item::after {content: \"\";width: 100%;border-bottom: 1px solid gray;flex-grow: 1;}#sk-container-id-19 div.sk-label:hover label.sk-toggleable__label {background-color: #d4ebff;}#sk-container-id-19 div.sk-serial::before {content: \"\";position: absolute;border-left: 1px solid gray;box-sizing: border-box;top: 0;bottom: 0;left: 50%;z-index: 0;}#sk-container-id-19 div.sk-serial {display: flex;flex-direction: column;align-items: center;background-color: white;padding-right: 0.2em;padding-left: 0.2em;position: relative;}#sk-container-id-19 div.sk-item {position: relative;z-index: 1;}#sk-container-id-19 div.sk-parallel {display: flex;align-items: stretch;justify-content: center;background-color: white;position: relative;}#sk-container-id-19 div.sk-item::before, #sk-container-id-19 div.sk-parallel-item::before {content: \"\";position: absolute;border-left: 1px solid gray;box-sizing: border-box;top: 0;bottom: 0;left: 50%;z-index: -1;}#sk-container-id-19 div.sk-parallel-item {display: flex;flex-direction: column;z-index: 1;position: relative;background-color: white;}#sk-container-id-19 div.sk-parallel-item:first-child::after {align-self: flex-end;width: 50%;}#sk-container-id-19 div.sk-parallel-item:last-child::after {align-self: flex-start;width: 50%;}#sk-container-id-19 div.sk-parallel-item:only-child::after {width: 0;}#sk-container-id-19 div.sk-dashed-wrapped {border: 1px dashed gray;margin: 0 0.4em 0.5em 0.4em;box-sizing: border-box;padding-bottom: 0.4em;background-color: white;}#sk-container-id-19 div.sk-label label {font-family: monospace;font-weight: bold;display: inline-block;line-height: 1.2em;}#sk-container-id-19 div.sk-label-container {text-align: center;}#sk-container-id-19 div.sk-container {/* jupyter's `normalize.less` sets `[hidden] { display: none; }` but bootstrap.min.css set `[hidden] { display: none !important; }` so we also need the `!important` here to be able to override the default hidden behavior on the sphinx rendered scikit-learn.org. See: https://github.com/scikit-learn/scikit-learn/issues/21755 */display: inline-block !important;position: relative;}#sk-container-id-19 div.sk-text-repr-fallback {display: none;}</style><div id=\"sk-container-id-19\" class=\"sk-top-container\"><div class=\"sk-text-repr-fallback\"><pre>BaggingClassifier()</pre><b>In a Jupyter environment, please rerun this cell to show the HTML representation or trust the notebook. <br />On GitHub, the HTML representation is unable to render, please try loading this page with nbviewer.org.</b></div><div class=\"sk-container\" hidden><div class=\"sk-item\"><div class=\"sk-estimator sk-toggleable\"><input class=\"sk-toggleable__control sk-hidden--visually\" id=\"sk-estimator-id-35\" type=\"checkbox\" checked><label for=\"sk-estimator-id-35\" class=\"sk-toggleable__label sk-toggleable__label-arrow\">BaggingClassifier</label><div class=\"sk-toggleable__content\"><pre>BaggingClassifier()</pre></div></div></div></div></div>"
            ]
          },
          "metadata": {},
          "execution_count": 69
        }
      ],
      "source": [
        "%%time\n",
        "\n",
        "# создаем модель\n",
        "ensemble_bagging = BaggingClassifier()\n",
        "\n",
        "# подаем на вход модели обучающие данные\n",
        "ensemble_bagging.fit(X_train, y_train)"
      ]
    },
    {
      "cell_type": "markdown",
      "source": [
        "Вывод результата"
      ],
      "metadata": {
        "id": "TqDyShrv776w"
      }
    },
    {
      "cell_type": "code",
      "source": [
        "# предсказываем результат на тестовой выборке\n",
        "ensemble_bagging_pred = ensemble_bagging.predict(X_test)\n",
        "\n",
        "# оцениваем модель\n",
        "print(f'Сравнение метрик: \\n{classification_report(y_test, ensemble_bagging_pred)}\\n')\n",
        "print(f'Матрица ошибок: \\n{confusion_matrix(y_test, ensemble_bagging_pred)}\\n')"
      ],
      "metadata": {
        "outputId": "9ff02df4-c952-4c17-e15f-ba57a7ae782d",
        "colab": {
          "base_uri": "https://localhost:8080/"
        },
        "id": "33sCJLSI776w"
      },
      "execution_count": 70,
      "outputs": [
        {
          "output_type": "stream",
          "name": "stdout",
          "text": [
            "Сравнение метрик: \n",
            "              precision    recall  f1-score   support\n",
            "\n",
            "       False       0.99      0.97      0.98       857\n",
            "        True       1.00      1.00      1.00      7858\n",
            "\n",
            "    accuracy                           1.00      8715\n",
            "   macro avg       0.99      0.98      0.99      8715\n",
            "weighted avg       1.00      1.00      1.00      8715\n",
            "\n",
            "\n",
            "Матрица ошибок: \n",
            "[[ 829   28]\n",
            " [  10 7848]]\n",
            "\n"
          ]
        }
      ]
    },
    {
      "cell_type": "markdown",
      "source": [
        "#### С кросс-валидацией"
      ],
      "metadata": {
        "id": "OC2BiA0UDaFO"
      }
    },
    {
      "cell_type": "markdown",
      "source": [
        "Проведение процедуры кросс-валидации"
      ],
      "metadata": {
        "id": "Cb4VjYBcDaFU"
      }
    },
    {
      "cell_type": "code",
      "execution_count": 71,
      "metadata": {
        "colab": {
          "base_uri": "https://localhost:8080/",
          "height": 226
        },
        "outputId": "e8f919ba-14f6-4ec7-fd02-0f9df81b74a6",
        "id": "z6LsoCH2DaFU"
      },
      "outputs": [
        {
          "output_type": "stream",
          "name": "stdout",
          "text": [
            "CPU times: user 246 ms, sys: 27.2 ms, total: 273 ms\n",
            "Wall time: 7.71 s\n"
          ]
        },
        {
          "output_type": "stream",
          "name": "stderr",
          "text": [
            "/usr/local/lib/python3.10/dist-packages/sklearn/ensemble/_forest.py:583: UserWarning:\n",
            "\n",
            "Some inputs do not have OOB scores. This probably means too few trees were used to compute any reliable OOB estimates.\n",
            "\n"
          ]
        },
        {
          "output_type": "execute_result",
          "data": {
            "text/plain": [
              "RandomizedSearchCV(estimator=RandomForestClassifier(), n_jobs=-1,\n",
              "                   param_distributions={'max_features': [0.5, 0.75, 1.0],\n",
              "                                        'max_samples': [0.5, 0.75, 1.0],\n",
              "                                        'n_estimators': [10, 50, 100, 200],\n",
              "                                        'oob_score': [True, False]},\n",
              "                   scoring='f1')"
            ],
            "text/html": [
              "<style>#sk-container-id-20 {color: black;background-color: white;}#sk-container-id-20 pre{padding: 0;}#sk-container-id-20 div.sk-toggleable {background-color: white;}#sk-container-id-20 label.sk-toggleable__label {cursor: pointer;display: block;width: 100%;margin-bottom: 0;padding: 0.3em;box-sizing: border-box;text-align: center;}#sk-container-id-20 label.sk-toggleable__label-arrow:before {content: \"▸\";float: left;margin-right: 0.25em;color: #696969;}#sk-container-id-20 label.sk-toggleable__label-arrow:hover:before {color: black;}#sk-container-id-20 div.sk-estimator:hover label.sk-toggleable__label-arrow:before {color: black;}#sk-container-id-20 div.sk-toggleable__content {max-height: 0;max-width: 0;overflow: hidden;text-align: left;background-color: #f0f8ff;}#sk-container-id-20 div.sk-toggleable__content pre {margin: 0.2em;color: black;border-radius: 0.25em;background-color: #f0f8ff;}#sk-container-id-20 input.sk-toggleable__control:checked~div.sk-toggleable__content {max-height: 200px;max-width: 100%;overflow: auto;}#sk-container-id-20 input.sk-toggleable__control:checked~label.sk-toggleable__label-arrow:before {content: \"▾\";}#sk-container-id-20 div.sk-estimator input.sk-toggleable__control:checked~label.sk-toggleable__label {background-color: #d4ebff;}#sk-container-id-20 div.sk-label input.sk-toggleable__control:checked~label.sk-toggleable__label {background-color: #d4ebff;}#sk-container-id-20 input.sk-hidden--visually {border: 0;clip: rect(1px 1px 1px 1px);clip: rect(1px, 1px, 1px, 1px);height: 1px;margin: -1px;overflow: hidden;padding: 0;position: absolute;width: 1px;}#sk-container-id-20 div.sk-estimator {font-family: monospace;background-color: #f0f8ff;border: 1px dotted black;border-radius: 0.25em;box-sizing: border-box;margin-bottom: 0.5em;}#sk-container-id-20 div.sk-estimator:hover {background-color: #d4ebff;}#sk-container-id-20 div.sk-parallel-item::after {content: \"\";width: 100%;border-bottom: 1px solid gray;flex-grow: 1;}#sk-container-id-20 div.sk-label:hover label.sk-toggleable__label {background-color: #d4ebff;}#sk-container-id-20 div.sk-serial::before {content: \"\";position: absolute;border-left: 1px solid gray;box-sizing: border-box;top: 0;bottom: 0;left: 50%;z-index: 0;}#sk-container-id-20 div.sk-serial {display: flex;flex-direction: column;align-items: center;background-color: white;padding-right: 0.2em;padding-left: 0.2em;position: relative;}#sk-container-id-20 div.sk-item {position: relative;z-index: 1;}#sk-container-id-20 div.sk-parallel {display: flex;align-items: stretch;justify-content: center;background-color: white;position: relative;}#sk-container-id-20 div.sk-item::before, #sk-container-id-20 div.sk-parallel-item::before {content: \"\";position: absolute;border-left: 1px solid gray;box-sizing: border-box;top: 0;bottom: 0;left: 50%;z-index: -1;}#sk-container-id-20 div.sk-parallel-item {display: flex;flex-direction: column;z-index: 1;position: relative;background-color: white;}#sk-container-id-20 div.sk-parallel-item:first-child::after {align-self: flex-end;width: 50%;}#sk-container-id-20 div.sk-parallel-item:last-child::after {align-self: flex-start;width: 50%;}#sk-container-id-20 div.sk-parallel-item:only-child::after {width: 0;}#sk-container-id-20 div.sk-dashed-wrapped {border: 1px dashed gray;margin: 0 0.4em 0.5em 0.4em;box-sizing: border-box;padding-bottom: 0.4em;background-color: white;}#sk-container-id-20 div.sk-label label {font-family: monospace;font-weight: bold;display: inline-block;line-height: 1.2em;}#sk-container-id-20 div.sk-label-container {text-align: center;}#sk-container-id-20 div.sk-container {/* jupyter's `normalize.less` sets `[hidden] { display: none; }` but bootstrap.min.css set `[hidden] { display: none !important; }` so we also need the `!important` here to be able to override the default hidden behavior on the sphinx rendered scikit-learn.org. See: https://github.com/scikit-learn/scikit-learn/issues/21755 */display: inline-block !important;position: relative;}#sk-container-id-20 div.sk-text-repr-fallback {display: none;}</style><div id=\"sk-container-id-20\" class=\"sk-top-container\"><div class=\"sk-text-repr-fallback\"><pre>RandomizedSearchCV(estimator=RandomForestClassifier(), n_jobs=-1,\n",
              "                   param_distributions={&#x27;max_features&#x27;: [0.5, 0.75, 1.0],\n",
              "                                        &#x27;max_samples&#x27;: [0.5, 0.75, 1.0],\n",
              "                                        &#x27;n_estimators&#x27;: [10, 50, 100, 200],\n",
              "                                        &#x27;oob_score&#x27;: [True, False]},\n",
              "                   scoring=&#x27;f1&#x27;)</pre><b>In a Jupyter environment, please rerun this cell to show the HTML representation or trust the notebook. <br />On GitHub, the HTML representation is unable to render, please try loading this page with nbviewer.org.</b></div><div class=\"sk-container\" hidden><div class=\"sk-item sk-dashed-wrapped\"><div class=\"sk-label-container\"><div class=\"sk-label sk-toggleable\"><input class=\"sk-toggleable__control sk-hidden--visually\" id=\"sk-estimator-id-36\" type=\"checkbox\" ><label for=\"sk-estimator-id-36\" class=\"sk-toggleable__label sk-toggleable__label-arrow\">RandomizedSearchCV</label><div class=\"sk-toggleable__content\"><pre>RandomizedSearchCV(estimator=RandomForestClassifier(), n_jobs=-1,\n",
              "                   param_distributions={&#x27;max_features&#x27;: [0.5, 0.75, 1.0],\n",
              "                                        &#x27;max_samples&#x27;: [0.5, 0.75, 1.0],\n",
              "                                        &#x27;n_estimators&#x27;: [10, 50, 100, 200],\n",
              "                                        &#x27;oob_score&#x27;: [True, False]},\n",
              "                   scoring=&#x27;f1&#x27;)</pre></div></div></div><div class=\"sk-parallel\"><div class=\"sk-parallel-item\"><div class=\"sk-item\"><div class=\"sk-label-container\"><div class=\"sk-label sk-toggleable\"><input class=\"sk-toggleable__control sk-hidden--visually\" id=\"sk-estimator-id-37\" type=\"checkbox\" ><label for=\"sk-estimator-id-37\" class=\"sk-toggleable__label sk-toggleable__label-arrow\">estimator: RandomForestClassifier</label><div class=\"sk-toggleable__content\"><pre>RandomForestClassifier()</pre></div></div></div><div class=\"sk-serial\"><div class=\"sk-item\"><div class=\"sk-estimator sk-toggleable\"><input class=\"sk-toggleable__control sk-hidden--visually\" id=\"sk-estimator-id-38\" type=\"checkbox\" ><label for=\"sk-estimator-id-38\" class=\"sk-toggleable__label sk-toggleable__label-arrow\">RandomForestClassifier</label><div class=\"sk-toggleable__content\"><pre>RandomForestClassifier()</pre></div></div></div></div></div></div></div></div></div></div>"
            ]
          },
          "metadata": {},
          "execution_count": 71
        }
      ],
      "source": [
        "%%time\n",
        "\n",
        "# задаем диапазон параметров\n",
        "parameters = {\n",
        "    # 'base_estimator': [None, 'DecisionTreeClassifier', 'RandomForestClassifier'], # базовый оценщик\n",
        "    'n_estimators': [10, 50, 100, 200], # количество базовых оценщиков в ансамбле\n",
        "    'max_samples': [0.5, 0.75, 1.0], # доля общего количества образцов,\n",
        "                                     # используемая при обучении каждого базового оценщика\n",
        "    'max_features': [0.5, 0.75, 1.0], # доля общего количества признаков,\n",
        "                                      # используемая при обучении каждого базового оценщика\n",
        "    #'bootstrap': [True, False], #  следует ли использовать bootstrap-выборку при построении базовых оценщиков\n",
        "    #'bootstrap_features': [True, False], # следует ли использовать bootstrap-выборку признаков\n",
        "                                         # при обучении каждого базового оценщика\n",
        "    'oob_score': [True, False] # следует ли использовать out-of-bag (OOB) оценку для оценки качества модели\n",
        "}\n",
        "\n",
        "# подбираем лучшие параметры\n",
        "grid_ensemble_randforest = RandomizedSearchCV(\n",
        "    RandomForestClassifier(),\n",
        "    parameters,\n",
        "    scoring='f1',\n",
        "    n_jobs = -1\n",
        ")\n",
        "# обучаем модель\n",
        "grid_ensemble_randforest.fit(X_train, y_train)"
      ]
    },
    {
      "cell_type": "markdown",
      "metadata": {
        "id": "zXInXunnDaFV"
      },
      "source": [
        "Вывод результата кросс-валидации"
      ]
    },
    {
      "cell_type": "code",
      "execution_count": 72,
      "metadata": {
        "colab": {
          "base_uri": "https://localhost:8080/"
        },
        "outputId": "5dfe7f1c-74f4-4b7a-a077-04827d2b56e4",
        "id": "fM6cE3j_DaFV"
      },
      "outputs": [
        {
          "output_type": "stream",
          "name": "stdout",
          "text": [
            "Лучшие параметры:\n",
            "{'oob_score': True, 'n_estimators': 10, 'max_samples': 0.75, 'max_features': 1.0}\n",
            "\n",
            "Показатель f1 для лучшей модели составил: 99.82%\n",
            "\n",
            "Сравнение метрик: \n",
            "              precision    recall  f1-score   support\n",
            "\n",
            "       False       0.99      0.97      0.98       857\n",
            "        True       1.00      1.00      1.00      7858\n",
            "\n",
            "    accuracy                           1.00      8715\n",
            "   macro avg       1.00      0.98      0.99      8715\n",
            "weighted avg       1.00      1.00      1.00      8715\n",
            "\n",
            "\n",
            "Матрица ошибок: \n",
            "[[ 828   29]\n",
            " [   5 7853]]\n",
            "\n"
          ]
        }
      ],
      "source": [
        "# результаты кросс-валидации\n",
        "print(f'Лучшие параметры:\\n{grid_ensemble_randforest.best_params_}\\n')\n",
        "print(\"Показатель f1 для лучшей модели составил: {:.2f}%\".\n",
        "      format(grid_ensemble_randforest.best_score_ * 100) + '\\n')\n",
        "\n",
        "# предсказываем результат на тестовой выборке\n",
        "grid_ensemble_randforest_pred = grid_ensemble_randforest.predict(X_test)\n",
        "\n",
        "# оцениваем модель\n",
        "print(f'Сравнение метрик: \\n{classification_report(y_test, grid_ensemble_randforest_pred)}\\n')\n",
        "print(f'Матрица ошибок: \\n{confusion_matrix(y_test, grid_ensemble_randforest_pred)}\\n')"
      ]
    },
    {
      "cell_type": "markdown",
      "source": [
        "### **sklearn.ensemble.GradientBoostingClassifier**\n",
        "\n",
        "---\n",
        "\n"
      ],
      "metadata": {
        "id": "_CmoB4_c28Ma"
      }
    },
    {
      "cell_type": "markdown",
      "source": [
        "#### По-умолчанию"
      ],
      "metadata": {
        "id": "0wSBun_V8kpz"
      }
    },
    {
      "cell_type": "markdown",
      "source": [
        "Создание и обучение модели"
      ],
      "metadata": {
        "id": "7ix2CFAf78Ta"
      }
    },
    {
      "cell_type": "code",
      "execution_count": 73,
      "metadata": {
        "colab": {
          "base_uri": "https://localhost:8080/",
          "height": 111
        },
        "outputId": "e95640d4-f68d-469a-d9a3-fa4861948e1d",
        "id": "DTmwTSgf78Tb"
      },
      "outputs": [
        {
          "output_type": "stream",
          "name": "stdout",
          "text": [
            "CPU times: user 497 ms, sys: 0 ns, total: 497 ms\n",
            "Wall time: 501 ms\n"
          ]
        },
        {
          "output_type": "execute_result",
          "data": {
            "text/plain": [
              "GradientBoostingClassifier()"
            ],
            "text/html": [
              "<style>#sk-container-id-21 {color: black;background-color: white;}#sk-container-id-21 pre{padding: 0;}#sk-container-id-21 div.sk-toggleable {background-color: white;}#sk-container-id-21 label.sk-toggleable__label {cursor: pointer;display: block;width: 100%;margin-bottom: 0;padding: 0.3em;box-sizing: border-box;text-align: center;}#sk-container-id-21 label.sk-toggleable__label-arrow:before {content: \"▸\";float: left;margin-right: 0.25em;color: #696969;}#sk-container-id-21 label.sk-toggleable__label-arrow:hover:before {color: black;}#sk-container-id-21 div.sk-estimator:hover label.sk-toggleable__label-arrow:before {color: black;}#sk-container-id-21 div.sk-toggleable__content {max-height: 0;max-width: 0;overflow: hidden;text-align: left;background-color: #f0f8ff;}#sk-container-id-21 div.sk-toggleable__content pre {margin: 0.2em;color: black;border-radius: 0.25em;background-color: #f0f8ff;}#sk-container-id-21 input.sk-toggleable__control:checked~div.sk-toggleable__content {max-height: 200px;max-width: 100%;overflow: auto;}#sk-container-id-21 input.sk-toggleable__control:checked~label.sk-toggleable__label-arrow:before {content: \"▾\";}#sk-container-id-21 div.sk-estimator input.sk-toggleable__control:checked~label.sk-toggleable__label {background-color: #d4ebff;}#sk-container-id-21 div.sk-label input.sk-toggleable__control:checked~label.sk-toggleable__label {background-color: #d4ebff;}#sk-container-id-21 input.sk-hidden--visually {border: 0;clip: rect(1px 1px 1px 1px);clip: rect(1px, 1px, 1px, 1px);height: 1px;margin: -1px;overflow: hidden;padding: 0;position: absolute;width: 1px;}#sk-container-id-21 div.sk-estimator {font-family: monospace;background-color: #f0f8ff;border: 1px dotted black;border-radius: 0.25em;box-sizing: border-box;margin-bottom: 0.5em;}#sk-container-id-21 div.sk-estimator:hover {background-color: #d4ebff;}#sk-container-id-21 div.sk-parallel-item::after {content: \"\";width: 100%;border-bottom: 1px solid gray;flex-grow: 1;}#sk-container-id-21 div.sk-label:hover label.sk-toggleable__label {background-color: #d4ebff;}#sk-container-id-21 div.sk-serial::before {content: \"\";position: absolute;border-left: 1px solid gray;box-sizing: border-box;top: 0;bottom: 0;left: 50%;z-index: 0;}#sk-container-id-21 div.sk-serial {display: flex;flex-direction: column;align-items: center;background-color: white;padding-right: 0.2em;padding-left: 0.2em;position: relative;}#sk-container-id-21 div.sk-item {position: relative;z-index: 1;}#sk-container-id-21 div.sk-parallel {display: flex;align-items: stretch;justify-content: center;background-color: white;position: relative;}#sk-container-id-21 div.sk-item::before, #sk-container-id-21 div.sk-parallel-item::before {content: \"\";position: absolute;border-left: 1px solid gray;box-sizing: border-box;top: 0;bottom: 0;left: 50%;z-index: -1;}#sk-container-id-21 div.sk-parallel-item {display: flex;flex-direction: column;z-index: 1;position: relative;background-color: white;}#sk-container-id-21 div.sk-parallel-item:first-child::after {align-self: flex-end;width: 50%;}#sk-container-id-21 div.sk-parallel-item:last-child::after {align-self: flex-start;width: 50%;}#sk-container-id-21 div.sk-parallel-item:only-child::after {width: 0;}#sk-container-id-21 div.sk-dashed-wrapped {border: 1px dashed gray;margin: 0 0.4em 0.5em 0.4em;box-sizing: border-box;padding-bottom: 0.4em;background-color: white;}#sk-container-id-21 div.sk-label label {font-family: monospace;font-weight: bold;display: inline-block;line-height: 1.2em;}#sk-container-id-21 div.sk-label-container {text-align: center;}#sk-container-id-21 div.sk-container {/* jupyter's `normalize.less` sets `[hidden] { display: none; }` but bootstrap.min.css set `[hidden] { display: none !important; }` so we also need the `!important` here to be able to override the default hidden behavior on the sphinx rendered scikit-learn.org. See: https://github.com/scikit-learn/scikit-learn/issues/21755 */display: inline-block !important;position: relative;}#sk-container-id-21 div.sk-text-repr-fallback {display: none;}</style><div id=\"sk-container-id-21\" class=\"sk-top-container\"><div class=\"sk-text-repr-fallback\"><pre>GradientBoostingClassifier()</pre><b>In a Jupyter environment, please rerun this cell to show the HTML representation or trust the notebook. <br />On GitHub, the HTML representation is unable to render, please try loading this page with nbviewer.org.</b></div><div class=\"sk-container\" hidden><div class=\"sk-item\"><div class=\"sk-estimator sk-toggleable\"><input class=\"sk-toggleable__control sk-hidden--visually\" id=\"sk-estimator-id-39\" type=\"checkbox\" checked><label for=\"sk-estimator-id-39\" class=\"sk-toggleable__label sk-toggleable__label-arrow\">GradientBoostingClassifier</label><div class=\"sk-toggleable__content\"><pre>GradientBoostingClassifier()</pre></div></div></div></div></div>"
            ]
          },
          "metadata": {},
          "execution_count": 73
        }
      ],
      "source": [
        "%%time\n",
        "\n",
        "# создаем модель\n",
        "ensemble_gradboost = GradientBoostingClassifier()\n",
        "\n",
        "# подаем на вход модели обучающие данные\n",
        "ensemble_gradboost.fit(X_train, y_train)"
      ]
    },
    {
      "cell_type": "markdown",
      "source": [
        "Вывод результата"
      ],
      "metadata": {
        "id": "NUAO-sVx78Tb"
      }
    },
    {
      "cell_type": "code",
      "source": [
        "# предсказываем результат на тестовой выборке\n",
        "ensemble_gradboost_pred = ensemble_gradboost.predict(X_test)\n",
        "\n",
        "# оцениваем модель\n",
        "print(f'Сравнение метрик: \\n{classification_report(y_test, ensemble_gradboost_pred)}\\n')\n",
        "print(f'Матрица ошибок: \\n{confusion_matrix(y_test, ensemble_gradboost_pred)}\\n')"
      ],
      "metadata": {
        "outputId": "cb66425f-d41e-421e-aa1f-4ed0834fc642",
        "colab": {
          "base_uri": "https://localhost:8080/"
        },
        "id": "YlPM-0qv78Tb"
      },
      "execution_count": 74,
      "outputs": [
        {
          "output_type": "stream",
          "name": "stdout",
          "text": [
            "Сравнение метрик: \n",
            "              precision    recall  f1-score   support\n",
            "\n",
            "       False       1.00      0.97      0.98       857\n",
            "        True       1.00      1.00      1.00      7858\n",
            "\n",
            "    accuracy                           1.00      8715\n",
            "   macro avg       1.00      0.98      0.99      8715\n",
            "weighted avg       1.00      1.00      1.00      8715\n",
            "\n",
            "\n",
            "Матрица ошибок: \n",
            "[[ 828   29]\n",
            " [   2 7856]]\n",
            "\n"
          ]
        }
      ]
    },
    {
      "cell_type": "markdown",
      "source": [
        "#### С кросс-валидацией"
      ],
      "metadata": {
        "id": "uEY4iyDCIS0n"
      }
    },
    {
      "cell_type": "markdown",
      "source": [
        "Проведение процедуры кросс-валидации"
      ],
      "metadata": {
        "id": "8bRpsm99IWem"
      }
    },
    {
      "cell_type": "code",
      "execution_count": 75,
      "metadata": {
        "colab": {
          "base_uri": "https://localhost:8080/",
          "height": 879
        },
        "outputId": "e6902066-a34d-4960-9d9a-1df14a4b90dc",
        "id": "JD6gUwtMIWeq"
      },
      "outputs": [
        {
          "output_type": "stream",
          "name": "stderr",
          "text": [
            "/usr/local/lib/python3.10/dist-packages/sklearn/model_selection/_validation.py:378: FitFailedWarning:\n",
            "\n",
            "\n",
            "35 fits failed out of a total of 50.\n",
            "The score on these train-test partitions for these parameters will be set to nan.\n",
            "If these failures are not expected, you can try to debug them by setting error_score='raise'.\n",
            "\n",
            "Below are more details about the failures:\n",
            "--------------------------------------------------------------------------------\n",
            "14 fits failed with the following error:\n",
            "Traceback (most recent call last):\n",
            "  File \"/usr/local/lib/python3.10/dist-packages/sklearn/model_selection/_validation.py\", line 686, in _fit_and_score\n",
            "    estimator.fit(X_train, y_train, **fit_params)\n",
            "  File \"/usr/local/lib/python3.10/dist-packages/sklearn/ensemble/_gb.py\", line 420, in fit\n",
            "    self._validate_params()\n",
            "  File \"/usr/local/lib/python3.10/dist-packages/sklearn/base.py\", line 600, in _validate_params\n",
            "    validate_parameter_constraints(\n",
            "  File \"/usr/local/lib/python3.10/dist-packages/sklearn/utils/_param_validation.py\", line 97, in validate_parameter_constraints\n",
            "    raise InvalidParameterError(\n",
            "sklearn.utils._param_validation.InvalidParameterError: The 'criterion' parameter of GradientBoostingClassifier must be a str among {'squared_error', 'friedman_mse'}. Got 'mae' instead.\n",
            "\n",
            "--------------------------------------------------------------------------------\n",
            "21 fits failed with the following error:\n",
            "Traceback (most recent call last):\n",
            "  File \"/usr/local/lib/python3.10/dist-packages/sklearn/model_selection/_validation.py\", line 686, in _fit_and_score\n",
            "    estimator.fit(X_train, y_train, **fit_params)\n",
            "  File \"/usr/local/lib/python3.10/dist-packages/sklearn/ensemble/_gb.py\", line 420, in fit\n",
            "    self._validate_params()\n",
            "  File \"/usr/local/lib/python3.10/dist-packages/sklearn/base.py\", line 600, in _validate_params\n",
            "    validate_parameter_constraints(\n",
            "  File \"/usr/local/lib/python3.10/dist-packages/sklearn/utils/_param_validation.py\", line 97, in validate_parameter_constraints\n",
            "    raise InvalidParameterError(\n",
            "sklearn.utils._param_validation.InvalidParameterError: The 'criterion' parameter of GradientBoostingClassifier must be a str among {'friedman_mse', 'squared_error'}. Got 'mae' instead.\n",
            "\n",
            "\n",
            "/usr/local/lib/python3.10/dist-packages/sklearn/model_selection/_search.py:952: UserWarning:\n",
            "\n",
            "One or more of the test scores are non-finite: [       nan        nan        nan        nan 0.99821461        nan\n",
            " 0.99340672        nan 0.99821461        nan]\n",
            "\n"
          ]
        },
        {
          "output_type": "stream",
          "name": "stdout",
          "text": [
            "CPU times: user 335 ms, sys: 15.7 ms, total: 350 ms\n",
            "Wall time: 3.49 s\n"
          ]
        },
        {
          "output_type": "execute_result",
          "data": {
            "text/plain": [
              "RandomizedSearchCV(estimator=GradientBoostingClassifier(), n_jobs=-1,\n",
              "                   param_distributions={'criterion': ['friedman_mse', 'mae'],\n",
              "                                        'learning_rate': [0.01, 0.05, 0.1, 0.2],\n",
              "                                        'loss': ['deviance', 'exponential',\n",
              "                                                 'log_loss'],\n",
              "                                        'max_features': ['log2', 'sqrt'],\n",
              "                                        'n_estimators': [100, 200],\n",
              "                                        'subsample': [0.5, 0.95, 1.0]},\n",
              "                   scoring='f1')"
            ],
            "text/html": [
              "<style>#sk-container-id-22 {color: black;background-color: white;}#sk-container-id-22 pre{padding: 0;}#sk-container-id-22 div.sk-toggleable {background-color: white;}#sk-container-id-22 label.sk-toggleable__label {cursor: pointer;display: block;width: 100%;margin-bottom: 0;padding: 0.3em;box-sizing: border-box;text-align: center;}#sk-container-id-22 label.sk-toggleable__label-arrow:before {content: \"▸\";float: left;margin-right: 0.25em;color: #696969;}#sk-container-id-22 label.sk-toggleable__label-arrow:hover:before {color: black;}#sk-container-id-22 div.sk-estimator:hover label.sk-toggleable__label-arrow:before {color: black;}#sk-container-id-22 div.sk-toggleable__content {max-height: 0;max-width: 0;overflow: hidden;text-align: left;background-color: #f0f8ff;}#sk-container-id-22 div.sk-toggleable__content pre {margin: 0.2em;color: black;border-radius: 0.25em;background-color: #f0f8ff;}#sk-container-id-22 input.sk-toggleable__control:checked~div.sk-toggleable__content {max-height: 200px;max-width: 100%;overflow: auto;}#sk-container-id-22 input.sk-toggleable__control:checked~label.sk-toggleable__label-arrow:before {content: \"▾\";}#sk-container-id-22 div.sk-estimator input.sk-toggleable__control:checked~label.sk-toggleable__label {background-color: #d4ebff;}#sk-container-id-22 div.sk-label input.sk-toggleable__control:checked~label.sk-toggleable__label {background-color: #d4ebff;}#sk-container-id-22 input.sk-hidden--visually {border: 0;clip: rect(1px 1px 1px 1px);clip: rect(1px, 1px, 1px, 1px);height: 1px;margin: -1px;overflow: hidden;padding: 0;position: absolute;width: 1px;}#sk-container-id-22 div.sk-estimator {font-family: monospace;background-color: #f0f8ff;border: 1px dotted black;border-radius: 0.25em;box-sizing: border-box;margin-bottom: 0.5em;}#sk-container-id-22 div.sk-estimator:hover {background-color: #d4ebff;}#sk-container-id-22 div.sk-parallel-item::after {content: \"\";width: 100%;border-bottom: 1px solid gray;flex-grow: 1;}#sk-container-id-22 div.sk-label:hover label.sk-toggleable__label {background-color: #d4ebff;}#sk-container-id-22 div.sk-serial::before {content: \"\";position: absolute;border-left: 1px solid gray;box-sizing: border-box;top: 0;bottom: 0;left: 50%;z-index: 0;}#sk-container-id-22 div.sk-serial {display: flex;flex-direction: column;align-items: center;background-color: white;padding-right: 0.2em;padding-left: 0.2em;position: relative;}#sk-container-id-22 div.sk-item {position: relative;z-index: 1;}#sk-container-id-22 div.sk-parallel {display: flex;align-items: stretch;justify-content: center;background-color: white;position: relative;}#sk-container-id-22 div.sk-item::before, #sk-container-id-22 div.sk-parallel-item::before {content: \"\";position: absolute;border-left: 1px solid gray;box-sizing: border-box;top: 0;bottom: 0;left: 50%;z-index: -1;}#sk-container-id-22 div.sk-parallel-item {display: flex;flex-direction: column;z-index: 1;position: relative;background-color: white;}#sk-container-id-22 div.sk-parallel-item:first-child::after {align-self: flex-end;width: 50%;}#sk-container-id-22 div.sk-parallel-item:last-child::after {align-self: flex-start;width: 50%;}#sk-container-id-22 div.sk-parallel-item:only-child::after {width: 0;}#sk-container-id-22 div.sk-dashed-wrapped {border: 1px dashed gray;margin: 0 0.4em 0.5em 0.4em;box-sizing: border-box;padding-bottom: 0.4em;background-color: white;}#sk-container-id-22 div.sk-label label {font-family: monospace;font-weight: bold;display: inline-block;line-height: 1.2em;}#sk-container-id-22 div.sk-label-container {text-align: center;}#sk-container-id-22 div.sk-container {/* jupyter's `normalize.less` sets `[hidden] { display: none; }` but bootstrap.min.css set `[hidden] { display: none !important; }` so we also need the `!important` here to be able to override the default hidden behavior on the sphinx rendered scikit-learn.org. See: https://github.com/scikit-learn/scikit-learn/issues/21755 */display: inline-block !important;position: relative;}#sk-container-id-22 div.sk-text-repr-fallback {display: none;}</style><div id=\"sk-container-id-22\" class=\"sk-top-container\"><div class=\"sk-text-repr-fallback\"><pre>RandomizedSearchCV(estimator=GradientBoostingClassifier(), n_jobs=-1,\n",
              "                   param_distributions={&#x27;criterion&#x27;: [&#x27;friedman_mse&#x27;, &#x27;mae&#x27;],\n",
              "                                        &#x27;learning_rate&#x27;: [0.01, 0.05, 0.1, 0.2],\n",
              "                                        &#x27;loss&#x27;: [&#x27;deviance&#x27;, &#x27;exponential&#x27;,\n",
              "                                                 &#x27;log_loss&#x27;],\n",
              "                                        &#x27;max_features&#x27;: [&#x27;log2&#x27;, &#x27;sqrt&#x27;],\n",
              "                                        &#x27;n_estimators&#x27;: [100, 200],\n",
              "                                        &#x27;subsample&#x27;: [0.5, 0.95, 1.0]},\n",
              "                   scoring=&#x27;f1&#x27;)</pre><b>In a Jupyter environment, please rerun this cell to show the HTML representation or trust the notebook. <br />On GitHub, the HTML representation is unable to render, please try loading this page with nbviewer.org.</b></div><div class=\"sk-container\" hidden><div class=\"sk-item sk-dashed-wrapped\"><div class=\"sk-label-container\"><div class=\"sk-label sk-toggleable\"><input class=\"sk-toggleable__control sk-hidden--visually\" id=\"sk-estimator-id-40\" type=\"checkbox\" ><label for=\"sk-estimator-id-40\" class=\"sk-toggleable__label sk-toggleable__label-arrow\">RandomizedSearchCV</label><div class=\"sk-toggleable__content\"><pre>RandomizedSearchCV(estimator=GradientBoostingClassifier(), n_jobs=-1,\n",
              "                   param_distributions={&#x27;criterion&#x27;: [&#x27;friedman_mse&#x27;, &#x27;mae&#x27;],\n",
              "                                        &#x27;learning_rate&#x27;: [0.01, 0.05, 0.1, 0.2],\n",
              "                                        &#x27;loss&#x27;: [&#x27;deviance&#x27;, &#x27;exponential&#x27;,\n",
              "                                                 &#x27;log_loss&#x27;],\n",
              "                                        &#x27;max_features&#x27;: [&#x27;log2&#x27;, &#x27;sqrt&#x27;],\n",
              "                                        &#x27;n_estimators&#x27;: [100, 200],\n",
              "                                        &#x27;subsample&#x27;: [0.5, 0.95, 1.0]},\n",
              "                   scoring=&#x27;f1&#x27;)</pre></div></div></div><div class=\"sk-parallel\"><div class=\"sk-parallel-item\"><div class=\"sk-item\"><div class=\"sk-label-container\"><div class=\"sk-label sk-toggleable\"><input class=\"sk-toggleable__control sk-hidden--visually\" id=\"sk-estimator-id-41\" type=\"checkbox\" ><label for=\"sk-estimator-id-41\" class=\"sk-toggleable__label sk-toggleable__label-arrow\">estimator: GradientBoostingClassifier</label><div class=\"sk-toggleable__content\"><pre>GradientBoostingClassifier()</pre></div></div></div><div class=\"sk-serial\"><div class=\"sk-item\"><div class=\"sk-estimator sk-toggleable\"><input class=\"sk-toggleable__control sk-hidden--visually\" id=\"sk-estimator-id-42\" type=\"checkbox\" ><label for=\"sk-estimator-id-42\" class=\"sk-toggleable__label sk-toggleable__label-arrow\">GradientBoostingClassifier</label><div class=\"sk-toggleable__content\"><pre>GradientBoostingClassifier()</pre></div></div></div></div></div></div></div></div></div></div>"
            ]
          },
          "metadata": {},
          "execution_count": 75
        }
      ],
      "source": [
        "%%time\n",
        "\n",
        "# задаем диапазон параметров\n",
        "parameters = {\n",
        "    \"loss\": [\"deviance\", \"exponential\", \"log_loss\"], # функция потерь\n",
        "    \"learning_rate\": [0.01, 0.05, 0.1, 0.2], # скорость обучения\n",
        "    #\"min_samples_split\": np.linspace(0.1, 0.5, 12), # минимальное количество образцов для разделения узла\n",
        "    #\"min_samples_leaf\": np.linspace(0.1, 0.5, 12), # минимальное количество образцов для листа\n",
        "    #\"max_depth\": [3, 5, 8], # максимальная глубина дерева\n",
        "    \"max_features\": [\"log2\", \"sqrt\"], # количество признаков при поиске лучшего разделения\n",
        "    \"criterion\": [\"friedman_mse\", \"mae\"], # функция для измерения качества разделения\n",
        "    \"subsample\": [0.5, 0.95, 1.0], # доля от общего количества образцов,\n",
        "                                                          # используемая при обучения каждого дерева\n",
        "    \"n_estimators\": [100, 200] # количество деревьев в ансамбле\n",
        "}\n",
        "# подбираем лучшие параметры\n",
        "grid_ensemble_gradboost = RandomizedSearchCV(\n",
        "    GradientBoostingClassifier(),\n",
        "    parameters,\n",
        "    scoring='f1',\n",
        "    n_jobs = -1\n",
        ")\n",
        "# обучаем модель\n",
        "grid_ensemble_gradboost.fit(X_train, y_train)"
      ]
    },
    {
      "cell_type": "markdown",
      "metadata": {
        "id": "AYWVHtcMIWer"
      },
      "source": [
        "Вывод результата кросс-валидации"
      ]
    },
    {
      "cell_type": "code",
      "execution_count": 76,
      "metadata": {
        "colab": {
          "base_uri": "https://localhost:8080/"
        },
        "outputId": "bbf20b98-d646-4b26-b0a1-b6d515d23de8",
        "id": "sA7kfwlUIWer"
      },
      "outputs": [
        {
          "output_type": "stream",
          "name": "stdout",
          "text": [
            "Лучшие параметры:\n",
            "{'subsample': 1.0, 'n_estimators': 100, 'max_features': 'sqrt', 'loss': 'log_loss', 'learning_rate': 0.1, 'criterion': 'friedman_mse'}\n",
            "\n",
            "Показатель f1 для лучшей модели составил: 99.82%\n",
            "\n",
            "Сравнение метрик: \n",
            "              precision    recall  f1-score   support\n",
            "\n",
            "       False       1.00      0.97      0.98       857\n",
            "        True       1.00      1.00      1.00      7858\n",
            "\n",
            "    accuracy                           1.00      8715\n",
            "   macro avg       1.00      0.98      0.99      8715\n",
            "weighted avg       1.00      1.00      1.00      8715\n",
            "\n",
            "\n",
            "Матрица ошибок: \n",
            "[[ 829   28]\n",
            " [   1 7857]]\n",
            "\n"
          ]
        }
      ],
      "source": [
        "# результаты кросс-валидации\n",
        "print(f'Лучшие параметры:\\n{grid_ensemble_gradboost.best_params_}\\n')\n",
        "print(\"Показатель f1 для лучшей модели составил: {:.2f}%\".\n",
        "      format(grid_ensemble_gradboost.best_score_ * 100) + '\\n')\n",
        "\n",
        "# предсказываем результат на тестовой выборке\n",
        "grid_ensemble_gradboost_pred = grid_ensemble_gradboost.predict(X_test)\n",
        "\n",
        "# оцениваем модель\n",
        "print(f'Сравнение метрик: \\n{classification_report(y_test, grid_ensemble_gradboost_pred)}\\n')\n",
        "print(f'Матрица ошибок: \\n{confusion_matrix(y_test, grid_ensemble_gradboost_pred)}\\n')"
      ]
    },
    {
      "cell_type": "markdown",
      "metadata": {
        "id": "5xV4vRquo63W"
      },
      "source": [
        "# **ЛР6**"
      ]
    },
    {
      "cell_type": "markdown",
      "metadata": {
        "id": "2jrvxjii2fDD"
      },
      "source": [
        "## Описание"
      ]
    },
    {
      "cell_type": "markdown",
      "metadata": {
        "id": "lUm69m9QphbG"
      },
      "source": [
        "Задание 1 . Провести классификацию найденного датасета, методами CatBoost. В формате *Markdown* написать пояснения. Объяснить почему были выбраны именно такие гиперпараметры, была ли перекрестная проверка, и т.д.\n",
        "<br><br>\n",
        "P.S. Все решения выполнять в формате *Jupyter Notebook* и выкладывать на свои гитхабы."
      ]
    },
    {
      "cell_type": "markdown",
      "metadata": {
        "id": "ZC-9jRBp2gGj"
      },
      "source": [
        "## Решение"
      ]
    },
    {
      "cell_type": "markdown",
      "metadata": {
        "id": "eEdKPvXenJvz"
      },
      "source": [
        "### Подключение модулей"
      ]
    },
    {
      "cell_type": "markdown",
      "source": [
        "Подключение модуля классификатора"
      ],
      "metadata": {
        "id": "wwlmFYhXB1KW"
      }
    },
    {
      "cell_type": "code",
      "execution_count": 77,
      "metadata": {
        "id": "0ffTYzDYjC_K"
      },
      "outputs": [],
      "source": [
        "# основной модуль классификатора\n",
        "from catboost import CatBoostClassifier"
      ]
    },
    {
      "cell_type": "markdown",
      "source": [],
      "metadata": {
        "id": "_gegDnLRFTik"
      }
    },
    {
      "cell_type": "markdown",
      "source": [
        "### **catboost.CatBoostClassifier**\n",
        "\n",
        "---\n",
        "\n"
      ],
      "metadata": {
        "id": "9GGbMIHSFTqT"
      }
    },
    {
      "cell_type": "markdown",
      "source": [
        "#### По-умолчанию"
      ],
      "metadata": {
        "id": "dj8Qj7lqLTr_"
      }
    },
    {
      "cell_type": "markdown",
      "source": [
        "Создание и обучение модели"
      ],
      "metadata": {
        "id": "HZsk7kVdLoN4"
      }
    },
    {
      "cell_type": "code",
      "execution_count": 78,
      "metadata": {
        "colab": {
          "base_uri": "https://localhost:8080/"
        },
        "outputId": "73d91bb8-3b84-48a2-8fe1-5f214ff7b3a7",
        "id": "bVQLTxB-LoN-"
      },
      "outputs": [
        {
          "output_type": "stream",
          "name": "stdout",
          "text": [
            "Learning rate set to 0.014364\n",
            "0:\tlearn: 0.6541650\ttotal: 50.6ms\tremaining: 50.5s\n",
            "1:\tlearn: 0.6133304\ttotal: 53.5ms\tremaining: 26.7s\n",
            "2:\tlearn: 0.5703082\ttotal: 55.3ms\tremaining: 18.4s\n",
            "3:\tlearn: 0.5352844\ttotal: 58.1ms\tremaining: 14.5s\n",
            "4:\tlearn: 0.5026428\ttotal: 61.2ms\tremaining: 12.2s\n",
            "5:\tlearn: 0.4694115\ttotal: 64.9ms\tremaining: 10.8s\n",
            "6:\tlearn: 0.4425303\ttotal: 68.3ms\tremaining: 9.69s\n",
            "7:\tlearn: 0.4196084\ttotal: 72.7ms\tremaining: 9.02s\n",
            "8:\tlearn: 0.3974272\ttotal: 76.1ms\tremaining: 8.38s\n",
            "9:\tlearn: 0.3709421\ttotal: 79.2ms\tremaining: 7.84s\n",
            "10:\tlearn: 0.3512902\ttotal: 86.1ms\tremaining: 7.74s\n",
            "11:\tlearn: 0.3331620\ttotal: 89.7ms\tremaining: 7.39s\n",
            "12:\tlearn: 0.3150700\ttotal: 92.4ms\tremaining: 7.02s\n",
            "13:\tlearn: 0.2985018\ttotal: 95.4ms\tremaining: 6.72s\n",
            "14:\tlearn: 0.2836318\ttotal: 99.2ms\tremaining: 6.52s\n",
            "15:\tlearn: 0.2692433\ttotal: 103ms\tremaining: 6.31s\n",
            "16:\tlearn: 0.2535089\ttotal: 106ms\tremaining: 6.15s\n",
            "17:\tlearn: 0.2394479\ttotal: 109ms\tremaining: 5.95s\n",
            "18:\tlearn: 0.2268453\ttotal: 112ms\tremaining: 5.78s\n",
            "19:\tlearn: 0.2156168\ttotal: 115ms\tremaining: 5.64s\n",
            "20:\tlearn: 0.2042708\ttotal: 118ms\tremaining: 5.49s\n",
            "21:\tlearn: 0.1939662\ttotal: 120ms\tremaining: 5.32s\n",
            "22:\tlearn: 0.1848447\ttotal: 123ms\tremaining: 5.23s\n",
            "23:\tlearn: 0.1762324\ttotal: 126ms\tremaining: 5.13s\n",
            "24:\tlearn: 0.1682135\ttotal: 129ms\tremaining: 5.03s\n",
            "25:\tlearn: 0.1612434\ttotal: 131ms\tremaining: 4.92s\n",
            "26:\tlearn: 0.1536879\ttotal: 133ms\tremaining: 4.8s\n",
            "27:\tlearn: 0.1462775\ttotal: 135ms\tremaining: 4.68s\n",
            "28:\tlearn: 0.1395668\ttotal: 137ms\tremaining: 4.6s\n",
            "29:\tlearn: 0.1333062\ttotal: 140ms\tremaining: 4.52s\n",
            "30:\tlearn: 0.1273662\ttotal: 142ms\tremaining: 4.45s\n",
            "31:\tlearn: 0.1218163\ttotal: 145ms\tremaining: 4.38s\n",
            "32:\tlearn: 0.1173209\ttotal: 148ms\tremaining: 4.32s\n",
            "33:\tlearn: 0.1126047\ttotal: 150ms\tremaining: 4.26s\n",
            "34:\tlearn: 0.1082567\ttotal: 153ms\tremaining: 4.22s\n",
            "35:\tlearn: 0.1038068\ttotal: 156ms\tremaining: 4.17s\n",
            "36:\tlearn: 0.0999945\ttotal: 158ms\tremaining: 4.12s\n",
            "37:\tlearn: 0.0962150\ttotal: 161ms\tremaining: 4.08s\n",
            "38:\tlearn: 0.0925555\ttotal: 164ms\tremaining: 4.03s\n",
            "39:\tlearn: 0.0892428\ttotal: 166ms\tremaining: 3.98s\n",
            "40:\tlearn: 0.0858192\ttotal: 168ms\tremaining: 3.94s\n",
            "41:\tlearn: 0.0825646\ttotal: 171ms\tremaining: 3.91s\n",
            "42:\tlearn: 0.0784619\ttotal: 174ms\tremaining: 3.88s\n",
            "43:\tlearn: 0.0755322\ttotal: 177ms\tremaining: 3.85s\n",
            "44:\tlearn: 0.0729139\ttotal: 180ms\tremaining: 3.82s\n",
            "45:\tlearn: 0.0706082\ttotal: 183ms\tremaining: 3.79s\n",
            "46:\tlearn: 0.0684120\ttotal: 189ms\tremaining: 3.83s\n",
            "47:\tlearn: 0.0657547\ttotal: 192ms\tremaining: 3.8s\n",
            "48:\tlearn: 0.0628228\ttotal: 195ms\tremaining: 3.78s\n",
            "49:\tlearn: 0.0608966\ttotal: 197ms\tremaining: 3.75s\n",
            "50:\tlearn: 0.0589432\ttotal: 200ms\tremaining: 3.73s\n",
            "51:\tlearn: 0.0570825\ttotal: 203ms\tremaining: 3.7s\n",
            "52:\tlearn: 0.0553768\ttotal: 206ms\tremaining: 3.68s\n",
            "53:\tlearn: 0.0533034\ttotal: 209ms\tremaining: 3.65s\n",
            "54:\tlearn: 0.0514558\ttotal: 212ms\tremaining: 3.64s\n",
            "55:\tlearn: 0.0499607\ttotal: 215ms\tremaining: 3.62s\n",
            "56:\tlearn: 0.0486555\ttotal: 217ms\tremaining: 3.6s\n",
            "57:\tlearn: 0.0473525\ttotal: 221ms\tremaining: 3.59s\n",
            "58:\tlearn: 0.0459661\ttotal: 224ms\tremaining: 3.57s\n",
            "59:\tlearn: 0.0449080\ttotal: 227ms\tremaining: 3.55s\n",
            "60:\tlearn: 0.0434085\ttotal: 229ms\tremaining: 3.53s\n",
            "61:\tlearn: 0.0423500\ttotal: 232ms\tremaining: 3.51s\n",
            "62:\tlearn: 0.0412358\ttotal: 235ms\tremaining: 3.49s\n",
            "63:\tlearn: 0.0402356\ttotal: 240ms\tremaining: 3.51s\n",
            "64:\tlearn: 0.0392673\ttotal: 243ms\tremaining: 3.49s\n",
            "65:\tlearn: 0.0378279\ttotal: 246ms\tremaining: 3.48s\n",
            "66:\tlearn: 0.0366875\ttotal: 249ms\tremaining: 3.47s\n",
            "67:\tlearn: 0.0354875\ttotal: 252ms\tremaining: 3.45s\n",
            "68:\tlearn: 0.0347489\ttotal: 254ms\tremaining: 3.43s\n",
            "69:\tlearn: 0.0338418\ttotal: 257ms\tremaining: 3.42s\n",
            "70:\tlearn: 0.0328754\ttotal: 260ms\tremaining: 3.4s\n",
            "71:\tlearn: 0.0320637\ttotal: 263ms\tremaining: 3.38s\n",
            "72:\tlearn: 0.0314480\ttotal: 265ms\tremaining: 3.37s\n",
            "73:\tlearn: 0.0307497\ttotal: 268ms\tremaining: 3.35s\n",
            "74:\tlearn: 0.0298839\ttotal: 271ms\tremaining: 3.34s\n",
            "75:\tlearn: 0.0290781\ttotal: 274ms\tremaining: 3.33s\n",
            "76:\tlearn: 0.0286437\ttotal: 276ms\tremaining: 3.31s\n",
            "77:\tlearn: 0.0280763\ttotal: 279ms\tremaining: 3.3s\n",
            "78:\tlearn: 0.0275960\ttotal: 282ms\tremaining: 3.29s\n",
            "79:\tlearn: 0.0268809\ttotal: 285ms\tremaining: 3.28s\n",
            "80:\tlearn: 0.0262580\ttotal: 289ms\tremaining: 3.27s\n",
            "81:\tlearn: 0.0258090\ttotal: 292ms\tremaining: 3.27s\n",
            "82:\tlearn: 0.0253906\ttotal: 295ms\tremaining: 3.26s\n",
            "83:\tlearn: 0.0249814\ttotal: 298ms\tremaining: 3.24s\n",
            "84:\tlearn: 0.0244105\ttotal: 301ms\tremaining: 3.24s\n",
            "85:\tlearn: 0.0239708\ttotal: 305ms\tremaining: 3.24s\n",
            "86:\tlearn: 0.0236025\ttotal: 308ms\tremaining: 3.23s\n",
            "87:\tlearn: 0.0230853\ttotal: 310ms\tremaining: 3.22s\n",
            "88:\tlearn: 0.0225928\ttotal: 313ms\tremaining: 3.2s\n",
            "89:\tlearn: 0.0221275\ttotal: 316ms\tremaining: 3.19s\n",
            "90:\tlearn: 0.0218261\ttotal: 318ms\tremaining: 3.18s\n",
            "91:\tlearn: 0.0215318\ttotal: 320ms\tremaining: 3.16s\n",
            "92:\tlearn: 0.0211086\ttotal: 323ms\tremaining: 3.15s\n",
            "93:\tlearn: 0.0207286\ttotal: 326ms\tremaining: 3.14s\n",
            "94:\tlearn: 0.0204384\ttotal: 329ms\tremaining: 3.13s\n",
            "95:\tlearn: 0.0200407\ttotal: 332ms\tremaining: 3.12s\n",
            "96:\tlearn: 0.0197561\ttotal: 338ms\tremaining: 3.15s\n",
            "97:\tlearn: 0.0193674\ttotal: 341ms\tremaining: 3.14s\n",
            "98:\tlearn: 0.0189658\ttotal: 346ms\tremaining: 3.14s\n",
            "99:\tlearn: 0.0186685\ttotal: 349ms\tremaining: 3.14s\n",
            "100:\tlearn: 0.0183272\ttotal: 352ms\tremaining: 3.13s\n",
            "101:\tlearn: 0.0180588\ttotal: 355ms\tremaining: 3.12s\n",
            "102:\tlearn: 0.0177622\ttotal: 358ms\tremaining: 3.12s\n",
            "103:\tlearn: 0.0173894\ttotal: 361ms\tremaining: 3.11s\n",
            "104:\tlearn: 0.0171605\ttotal: 367ms\tremaining: 3.13s\n",
            "105:\tlearn: 0.0168156\ttotal: 370ms\tremaining: 3.12s\n",
            "106:\tlearn: 0.0165524\ttotal: 373ms\tremaining: 3.12s\n",
            "107:\tlearn: 0.0163547\ttotal: 379ms\tremaining: 3.13s\n",
            "108:\tlearn: 0.0161483\ttotal: 383ms\tremaining: 3.13s\n",
            "109:\tlearn: 0.0158852\ttotal: 386ms\tremaining: 3.13s\n",
            "110:\tlearn: 0.0156987\ttotal: 389ms\tremaining: 3.12s\n",
            "111:\tlearn: 0.0154145\ttotal: 392ms\tremaining: 3.11s\n",
            "112:\tlearn: 0.0152810\ttotal: 395ms\tremaining: 3.1s\n",
            "113:\tlearn: 0.0150715\ttotal: 397ms\tremaining: 3.09s\n",
            "114:\tlearn: 0.0148671\ttotal: 400ms\tremaining: 3.08s\n",
            "115:\tlearn: 0.0146974\ttotal: 402ms\tremaining: 3.07s\n",
            "116:\tlearn: 0.0145273\ttotal: 405ms\tremaining: 3.06s\n",
            "117:\tlearn: 0.0143612\ttotal: 408ms\tremaining: 3.05s\n",
            "118:\tlearn: 0.0142305\ttotal: 411ms\tremaining: 3.04s\n",
            "119:\tlearn: 0.0140736\ttotal: 414ms\tremaining: 3.03s\n",
            "120:\tlearn: 0.0138638\ttotal: 418ms\tremaining: 3.04s\n",
            "121:\tlearn: 0.0136981\ttotal: 421ms\tremaining: 3.03s\n",
            "122:\tlearn: 0.0135714\ttotal: 424ms\tremaining: 3.02s\n",
            "123:\tlearn: 0.0134769\ttotal: 427ms\tremaining: 3.02s\n",
            "124:\tlearn: 0.0133440\ttotal: 430ms\tremaining: 3.01s\n",
            "125:\tlearn: 0.0132000\ttotal: 435ms\tremaining: 3.02s\n",
            "126:\tlearn: 0.0130618\ttotal: 438ms\tremaining: 3.01s\n",
            "127:\tlearn: 0.0129799\ttotal: 440ms\tremaining: 3s\n",
            "128:\tlearn: 0.0127782\ttotal: 443ms\tremaining: 2.99s\n",
            "129:\tlearn: 0.0126698\ttotal: 446ms\tremaining: 2.98s\n",
            "130:\tlearn: 0.0125597\ttotal: 449ms\tremaining: 2.98s\n",
            "131:\tlearn: 0.0124384\ttotal: 452ms\tremaining: 2.97s\n",
            "132:\tlearn: 0.0123255\ttotal: 454ms\tremaining: 2.96s\n",
            "133:\tlearn: 0.0122072\ttotal: 457ms\tremaining: 2.96s\n",
            "134:\tlearn: 0.0121164\ttotal: 460ms\tremaining: 2.95s\n",
            "135:\tlearn: 0.0119919\ttotal: 463ms\tremaining: 2.94s\n",
            "136:\tlearn: 0.0118843\ttotal: 465ms\tremaining: 2.93s\n",
            "137:\tlearn: 0.0117810\ttotal: 468ms\tremaining: 2.92s\n",
            "138:\tlearn: 0.0116563\ttotal: 471ms\tremaining: 2.92s\n",
            "139:\tlearn: 0.0115357\ttotal: 473ms\tremaining: 2.91s\n",
            "140:\tlearn: 0.0114060\ttotal: 476ms\tremaining: 2.9s\n",
            "141:\tlearn: 0.0112792\ttotal: 479ms\tremaining: 2.89s\n",
            "142:\tlearn: 0.0111468\ttotal: 481ms\tremaining: 2.88s\n",
            "143:\tlearn: 0.0110562\ttotal: 484ms\tremaining: 2.88s\n",
            "144:\tlearn: 0.0109476\ttotal: 487ms\tremaining: 2.87s\n",
            "145:\tlearn: 0.0108176\ttotal: 490ms\tremaining: 2.86s\n",
            "146:\tlearn: 0.0106837\ttotal: 494ms\tremaining: 2.87s\n",
            "147:\tlearn: 0.0105941\ttotal: 500ms\tremaining: 2.88s\n",
            "148:\tlearn: 0.0104441\ttotal: 502ms\tremaining: 2.87s\n",
            "149:\tlearn: 0.0103604\ttotal: 510ms\tremaining: 2.89s\n",
            "150:\tlearn: 0.0102913\ttotal: 515ms\tremaining: 2.9s\n",
            "151:\tlearn: 0.0102165\ttotal: 519ms\tremaining: 2.9s\n",
            "152:\tlearn: 0.0101858\ttotal: 524ms\tremaining: 2.9s\n",
            "153:\tlearn: 0.0101123\ttotal: 528ms\tremaining: 2.9s\n",
            "154:\tlearn: 0.0100550\ttotal: 533ms\tremaining: 2.9s\n",
            "155:\tlearn: 0.0099344\ttotal: 536ms\tremaining: 2.9s\n",
            "156:\tlearn: 0.0098482\ttotal: 539ms\tremaining: 2.89s\n",
            "157:\tlearn: 0.0097684\ttotal: 542ms\tremaining: 2.89s\n",
            "158:\tlearn: 0.0097354\ttotal: 545ms\tremaining: 2.88s\n",
            "159:\tlearn: 0.0097156\ttotal: 550ms\tremaining: 2.89s\n",
            "160:\tlearn: 0.0096233\ttotal: 556ms\tremaining: 2.9s\n",
            "161:\tlearn: 0.0095964\ttotal: 559ms\tremaining: 2.89s\n",
            "162:\tlearn: 0.0095205\ttotal: 562ms\tremaining: 2.88s\n",
            "163:\tlearn: 0.0094496\ttotal: 565ms\tremaining: 2.88s\n",
            "164:\tlearn: 0.0093543\ttotal: 568ms\tremaining: 2.87s\n",
            "165:\tlearn: 0.0092569\ttotal: 571ms\tremaining: 2.87s\n",
            "166:\tlearn: 0.0091865\ttotal: 574ms\tremaining: 2.86s\n",
            "167:\tlearn: 0.0091089\ttotal: 576ms\tremaining: 2.85s\n",
            "168:\tlearn: 0.0089972\ttotal: 579ms\tremaining: 2.85s\n",
            "169:\tlearn: 0.0089319\ttotal: 582ms\tremaining: 2.84s\n",
            "170:\tlearn: 0.0088985\ttotal: 584ms\tremaining: 2.83s\n",
            "171:\tlearn: 0.0088213\ttotal: 587ms\tremaining: 2.83s\n",
            "172:\tlearn: 0.0087572\ttotal: 590ms\tremaining: 2.82s\n",
            "173:\tlearn: 0.0086824\ttotal: 593ms\tremaining: 2.81s\n",
            "174:\tlearn: 0.0086508\ttotal: 596ms\tremaining: 2.81s\n",
            "175:\tlearn: 0.0085681\ttotal: 598ms\tremaining: 2.8s\n",
            "176:\tlearn: 0.0085168\ttotal: 601ms\tremaining: 2.8s\n",
            "177:\tlearn: 0.0084483\ttotal: 604ms\tremaining: 2.79s\n",
            "178:\tlearn: 0.0083703\ttotal: 607ms\tremaining: 2.79s\n",
            "179:\tlearn: 0.0083170\ttotal: 610ms\tremaining: 2.78s\n",
            "180:\tlearn: 0.0082572\ttotal: 613ms\tremaining: 2.77s\n",
            "181:\tlearn: 0.0082104\ttotal: 616ms\tremaining: 2.77s\n",
            "182:\tlearn: 0.0080946\ttotal: 619ms\tremaining: 2.76s\n",
            "183:\tlearn: 0.0080301\ttotal: 622ms\tremaining: 2.76s\n",
            "184:\tlearn: 0.0079749\ttotal: 625ms\tremaining: 2.75s\n",
            "185:\tlearn: 0.0078923\ttotal: 628ms\tremaining: 2.75s\n",
            "186:\tlearn: 0.0078217\ttotal: 632ms\tremaining: 2.75s\n",
            "187:\tlearn: 0.0077659\ttotal: 634ms\tremaining: 2.74s\n",
            "188:\tlearn: 0.0077084\ttotal: 637ms\tremaining: 2.73s\n",
            "189:\tlearn: 0.0076562\ttotal: 640ms\tremaining: 2.73s\n",
            "190:\tlearn: 0.0076300\ttotal: 643ms\tremaining: 2.72s\n",
            "191:\tlearn: 0.0075857\ttotal: 646ms\tremaining: 2.72s\n",
            "192:\tlearn: 0.0075177\ttotal: 648ms\tremaining: 2.71s\n",
            "193:\tlearn: 0.0074813\ttotal: 654ms\tremaining: 2.71s\n",
            "194:\tlearn: 0.0074275\ttotal: 658ms\tremaining: 2.72s\n",
            "195:\tlearn: 0.0073533\ttotal: 661ms\tremaining: 2.71s\n",
            "196:\tlearn: 0.0072814\ttotal: 665ms\tremaining: 2.71s\n",
            "197:\tlearn: 0.0072323\ttotal: 667ms\tremaining: 2.7s\n",
            "198:\tlearn: 0.0071866\ttotal: 670ms\tremaining: 2.7s\n",
            "199:\tlearn: 0.0071540\ttotal: 673ms\tremaining: 2.69s\n",
            "200:\tlearn: 0.0070958\ttotal: 676ms\tremaining: 2.69s\n",
            "201:\tlearn: 0.0070527\ttotal: 678ms\tremaining: 2.68s\n",
            "202:\tlearn: 0.0069996\ttotal: 681ms\tremaining: 2.67s\n",
            "203:\tlearn: 0.0069609\ttotal: 683ms\tremaining: 2.67s\n",
            "204:\tlearn: 0.0068838\ttotal: 686ms\tremaining: 2.66s\n",
            "205:\tlearn: 0.0068203\ttotal: 689ms\tremaining: 2.65s\n",
            "206:\tlearn: 0.0067575\ttotal: 691ms\tremaining: 2.65s\n",
            "207:\tlearn: 0.0067105\ttotal: 694ms\tremaining: 2.64s\n",
            "208:\tlearn: 0.0066744\ttotal: 696ms\tremaining: 2.63s\n",
            "209:\tlearn: 0.0066258\ttotal: 699ms\tremaining: 2.63s\n",
            "210:\tlearn: 0.0065977\ttotal: 703ms\tremaining: 2.63s\n",
            "211:\tlearn: 0.0065631\ttotal: 705ms\tremaining: 2.62s\n",
            "212:\tlearn: 0.0065166\ttotal: 708ms\tremaining: 2.62s\n",
            "213:\tlearn: 0.0064577\ttotal: 711ms\tremaining: 2.61s\n",
            "214:\tlearn: 0.0064336\ttotal: 713ms\tremaining: 2.6s\n",
            "215:\tlearn: 0.0063959\ttotal: 716ms\tremaining: 2.6s\n",
            "216:\tlearn: 0.0063590\ttotal: 719ms\tremaining: 2.59s\n",
            "217:\tlearn: 0.0063135\ttotal: 721ms\tremaining: 2.59s\n",
            "218:\tlearn: 0.0062757\ttotal: 724ms\tremaining: 2.58s\n",
            "219:\tlearn: 0.0062158\ttotal: 726ms\tremaining: 2.57s\n",
            "220:\tlearn: 0.0061803\ttotal: 728ms\tremaining: 2.57s\n",
            "221:\tlearn: 0.0061322\ttotal: 731ms\tremaining: 2.56s\n",
            "222:\tlearn: 0.0061119\ttotal: 735ms\tremaining: 2.56s\n",
            "223:\tlearn: 0.0060774\ttotal: 741ms\tremaining: 2.57s\n",
            "224:\tlearn: 0.0060222\ttotal: 744ms\tremaining: 2.56s\n",
            "225:\tlearn: 0.0059914\ttotal: 747ms\tremaining: 2.56s\n",
            "226:\tlearn: 0.0059505\ttotal: 749ms\tremaining: 2.55s\n",
            "227:\tlearn: 0.0058939\ttotal: 752ms\tremaining: 2.55s\n",
            "228:\tlearn: 0.0058642\ttotal: 754ms\tremaining: 2.54s\n",
            "229:\tlearn: 0.0058344\ttotal: 757ms\tremaining: 2.53s\n",
            "230:\tlearn: 0.0058091\ttotal: 759ms\tremaining: 2.53s\n",
            "231:\tlearn: 0.0057658\ttotal: 762ms\tremaining: 2.52s\n",
            "232:\tlearn: 0.0057272\ttotal: 765ms\tremaining: 2.52s\n",
            "233:\tlearn: 0.0056838\ttotal: 767ms\tremaining: 2.51s\n",
            "234:\tlearn: 0.0056609\ttotal: 770ms\tremaining: 2.51s\n",
            "235:\tlearn: 0.0056252\ttotal: 773ms\tremaining: 2.5s\n",
            "236:\tlearn: 0.0056058\ttotal: 776ms\tremaining: 2.5s\n",
            "237:\tlearn: 0.0055877\ttotal: 778ms\tremaining: 2.49s\n",
            "238:\tlearn: 0.0055581\ttotal: 785ms\tremaining: 2.5s\n",
            "239:\tlearn: 0.0055125\ttotal: 790ms\tremaining: 2.5s\n",
            "240:\tlearn: 0.0054945\ttotal: 792ms\tremaining: 2.5s\n",
            "241:\tlearn: 0.0054631\ttotal: 796ms\tremaining: 2.49s\n",
            "242:\tlearn: 0.0054365\ttotal: 798ms\tremaining: 2.49s\n",
            "243:\tlearn: 0.0053969\ttotal: 801ms\tremaining: 2.48s\n",
            "244:\tlearn: 0.0053489\ttotal: 803ms\tremaining: 2.47s\n",
            "245:\tlearn: 0.0053229\ttotal: 805ms\tremaining: 2.47s\n",
            "246:\tlearn: 0.0053131\ttotal: 808ms\tremaining: 2.46s\n",
            "247:\tlearn: 0.0052877\ttotal: 810ms\tremaining: 2.46s\n",
            "248:\tlearn: 0.0052648\ttotal: 812ms\tremaining: 2.45s\n",
            "249:\tlearn: 0.0052449\ttotal: 815ms\tremaining: 2.44s\n",
            "250:\tlearn: 0.0052239\ttotal: 818ms\tremaining: 2.44s\n",
            "251:\tlearn: 0.0051951\ttotal: 820ms\tremaining: 2.43s\n",
            "252:\tlearn: 0.0051541\ttotal: 823ms\tremaining: 2.43s\n",
            "253:\tlearn: 0.0051406\ttotal: 826ms\tremaining: 2.42s\n",
            "254:\tlearn: 0.0051221\ttotal: 829ms\tremaining: 2.42s\n",
            "255:\tlearn: 0.0050940\ttotal: 831ms\tremaining: 2.42s\n",
            "256:\tlearn: 0.0050439\ttotal: 834ms\tremaining: 2.41s\n",
            "257:\tlearn: 0.0050151\ttotal: 837ms\tremaining: 2.41s\n",
            "258:\tlearn: 0.0049872\ttotal: 839ms\tremaining: 2.4s\n",
            "259:\tlearn: 0.0049655\ttotal: 842ms\tremaining: 2.4s\n",
            "260:\tlearn: 0.0049297\ttotal: 845ms\tremaining: 2.39s\n",
            "261:\tlearn: 0.0049047\ttotal: 847ms\tremaining: 2.39s\n",
            "262:\tlearn: 0.0048714\ttotal: 850ms\tremaining: 2.38s\n",
            "263:\tlearn: 0.0048479\ttotal: 853ms\tremaining: 2.38s\n",
            "264:\tlearn: 0.0048241\ttotal: 856ms\tremaining: 2.37s\n",
            "265:\tlearn: 0.0048028\ttotal: 859ms\tremaining: 2.37s\n",
            "266:\tlearn: 0.0047780\ttotal: 862ms\tremaining: 2.37s\n",
            "267:\tlearn: 0.0047527\ttotal: 864ms\tremaining: 2.36s\n",
            "268:\tlearn: 0.0047357\ttotal: 867ms\tremaining: 2.35s\n",
            "269:\tlearn: 0.0047155\ttotal: 870ms\tremaining: 2.35s\n",
            "270:\tlearn: 0.0047143\ttotal: 872ms\tremaining: 2.35s\n",
            "271:\tlearn: 0.0046749\ttotal: 875ms\tremaining: 2.34s\n",
            "272:\tlearn: 0.0046585\ttotal: 879ms\tremaining: 2.34s\n",
            "273:\tlearn: 0.0046235\ttotal: 882ms\tremaining: 2.34s\n",
            "274:\tlearn: 0.0046053\ttotal: 885ms\tremaining: 2.33s\n",
            "275:\tlearn: 0.0045835\ttotal: 888ms\tremaining: 2.33s\n",
            "276:\tlearn: 0.0045728\ttotal: 891ms\tremaining: 2.32s\n",
            "277:\tlearn: 0.0045511\ttotal: 893ms\tremaining: 2.32s\n",
            "278:\tlearn: 0.0045395\ttotal: 896ms\tremaining: 2.31s\n",
            "279:\tlearn: 0.0045183\ttotal: 899ms\tremaining: 2.31s\n",
            "280:\tlearn: 0.0045008\ttotal: 901ms\tremaining: 2.31s\n",
            "281:\tlearn: 0.0044809\ttotal: 904ms\tremaining: 2.3s\n",
            "282:\tlearn: 0.0044526\ttotal: 906ms\tremaining: 2.29s\n",
            "283:\tlearn: 0.0044354\ttotal: 909ms\tremaining: 2.29s\n",
            "284:\tlearn: 0.0044034\ttotal: 911ms\tremaining: 2.29s\n",
            "285:\tlearn: 0.0043791\ttotal: 914ms\tremaining: 2.28s\n",
            "286:\tlearn: 0.0043618\ttotal: 922ms\tremaining: 2.29s\n",
            "287:\tlearn: 0.0043515\ttotal: 927ms\tremaining: 2.29s\n",
            "288:\tlearn: 0.0043365\ttotal: 929ms\tremaining: 2.29s\n",
            "289:\tlearn: 0.0043041\ttotal: 932ms\tremaining: 2.28s\n",
            "290:\tlearn: 0.0042856\ttotal: 935ms\tremaining: 2.28s\n",
            "291:\tlearn: 0.0042713\ttotal: 938ms\tremaining: 2.27s\n",
            "292:\tlearn: 0.0042476\ttotal: 940ms\tremaining: 2.27s\n",
            "293:\tlearn: 0.0042251\ttotal: 943ms\tremaining: 2.26s\n",
            "294:\tlearn: 0.0042072\ttotal: 946ms\tremaining: 2.26s\n",
            "295:\tlearn: 0.0041897\ttotal: 949ms\tremaining: 2.26s\n",
            "296:\tlearn: 0.0041788\ttotal: 952ms\tremaining: 2.25s\n",
            "297:\tlearn: 0.0041627\ttotal: 955ms\tremaining: 2.25s\n",
            "298:\tlearn: 0.0041414\ttotal: 957ms\tremaining: 2.24s\n",
            "299:\tlearn: 0.0041268\ttotal: 960ms\tremaining: 2.24s\n",
            "300:\tlearn: 0.0041098\ttotal: 964ms\tremaining: 2.24s\n",
            "301:\tlearn: 0.0040819\ttotal: 967ms\tremaining: 2.23s\n",
            "302:\tlearn: 0.0040691\ttotal: 970ms\tremaining: 2.23s\n",
            "303:\tlearn: 0.0040547\ttotal: 972ms\tremaining: 2.23s\n",
            "304:\tlearn: 0.0040418\ttotal: 975ms\tremaining: 2.22s\n",
            "305:\tlearn: 0.0040286\ttotal: 978ms\tremaining: 2.22s\n",
            "306:\tlearn: 0.0040096\ttotal: 981ms\tremaining: 2.21s\n",
            "307:\tlearn: 0.0039949\ttotal: 984ms\tremaining: 2.21s\n",
            "308:\tlearn: 0.0039809\ttotal: 987ms\tremaining: 2.21s\n",
            "309:\tlearn: 0.0039553\ttotal: 990ms\tremaining: 2.2s\n",
            "310:\tlearn: 0.0039295\ttotal: 992ms\tremaining: 2.2s\n",
            "311:\tlearn: 0.0039106\ttotal: 995ms\tremaining: 2.19s\n",
            "312:\tlearn: 0.0039004\ttotal: 997ms\tremaining: 2.19s\n",
            "313:\tlearn: 0.0038885\ttotal: 1s\tremaining: 2.19s\n",
            "314:\tlearn: 0.0038672\ttotal: 1s\tremaining: 2.18s\n",
            "315:\tlearn: 0.0038500\ttotal: 1s\tremaining: 2.18s\n",
            "316:\tlearn: 0.0038212\ttotal: 1.01s\tremaining: 2.17s\n",
            "317:\tlearn: 0.0038071\ttotal: 1.01s\tremaining: 2.17s\n",
            "318:\tlearn: 0.0037891\ttotal: 1.01s\tremaining: 2.16s\n",
            "319:\tlearn: 0.0037712\ttotal: 1.01s\tremaining: 2.16s\n",
            "320:\tlearn: 0.0037379\ttotal: 1.02s\tremaining: 2.15s\n",
            "321:\tlearn: 0.0037213\ttotal: 1.02s\tremaining: 2.15s\n",
            "322:\tlearn: 0.0037041\ttotal: 1.02s\tremaining: 2.15s\n",
            "323:\tlearn: 0.0036909\ttotal: 1.03s\tremaining: 2.14s\n",
            "324:\tlearn: 0.0036727\ttotal: 1.03s\tremaining: 2.14s\n",
            "325:\tlearn: 0.0036569\ttotal: 1.03s\tremaining: 2.13s\n",
            "326:\tlearn: 0.0036435\ttotal: 1.03s\tremaining: 2.13s\n",
            "327:\tlearn: 0.0036359\ttotal: 1.04s\tremaining: 2.12s\n",
            "328:\tlearn: 0.0036222\ttotal: 1.04s\tremaining: 2.12s\n",
            "329:\tlearn: 0.0036013\ttotal: 1.04s\tremaining: 2.12s\n",
            "330:\tlearn: 0.0035881\ttotal: 1.04s\tremaining: 2.11s\n",
            "331:\tlearn: 0.0035833\ttotal: 1.05s\tremaining: 2.11s\n",
            "332:\tlearn: 0.0035686\ttotal: 1.05s\tremaining: 2.1s\n",
            "333:\tlearn: 0.0035405\ttotal: 1.05s\tremaining: 2.1s\n",
            "334:\tlearn: 0.0035215\ttotal: 1.05s\tremaining: 2.09s\n",
            "335:\tlearn: 0.0035024\ttotal: 1.06s\tremaining: 2.09s\n",
            "336:\tlearn: 0.0034815\ttotal: 1.06s\tremaining: 2.09s\n",
            "337:\tlearn: 0.0034634\ttotal: 1.07s\tremaining: 2.09s\n",
            "338:\tlearn: 0.0034500\ttotal: 1.07s\tremaining: 2.08s\n",
            "339:\tlearn: 0.0034312\ttotal: 1.07s\tremaining: 2.08s\n",
            "340:\tlearn: 0.0034194\ttotal: 1.07s\tremaining: 2.08s\n",
            "341:\tlearn: 0.0033988\ttotal: 1.08s\tremaining: 2.07s\n",
            "342:\tlearn: 0.0033850\ttotal: 1.08s\tremaining: 2.07s\n",
            "343:\tlearn: 0.0033665\ttotal: 1.08s\tremaining: 2.06s\n",
            "344:\tlearn: 0.0033544\ttotal: 1.08s\tremaining: 2.06s\n",
            "345:\tlearn: 0.0033455\ttotal: 1.09s\tremaining: 2.05s\n",
            "346:\tlearn: 0.0033305\ttotal: 1.09s\tremaining: 2.05s\n",
            "347:\tlearn: 0.0033194\ttotal: 1.09s\tremaining: 2.05s\n",
            "348:\tlearn: 0.0033075\ttotal: 1.09s\tremaining: 2.04s\n",
            "349:\tlearn: 0.0032885\ttotal: 1.1s\tremaining: 2.04s\n",
            "350:\tlearn: 0.0032754\ttotal: 1.1s\tremaining: 2.03s\n",
            "351:\tlearn: 0.0032617\ttotal: 1.1s\tremaining: 2.03s\n",
            "352:\tlearn: 0.0032381\ttotal: 1.11s\tremaining: 2.03s\n",
            "353:\tlearn: 0.0032281\ttotal: 1.11s\tremaining: 2.03s\n",
            "354:\tlearn: 0.0032161\ttotal: 1.12s\tremaining: 2.03s\n",
            "355:\tlearn: 0.0031996\ttotal: 1.12s\tremaining: 2.02s\n",
            "356:\tlearn: 0.0031768\ttotal: 1.12s\tremaining: 2.02s\n",
            "357:\tlearn: 0.0031635\ttotal: 1.12s\tremaining: 2.02s\n",
            "358:\tlearn: 0.0031490\ttotal: 1.13s\tremaining: 2.01s\n",
            "359:\tlearn: 0.0031357\ttotal: 1.13s\tremaining: 2.01s\n",
            "360:\tlearn: 0.0031211\ttotal: 1.13s\tremaining: 2s\n",
            "361:\tlearn: 0.0031139\ttotal: 1.14s\tremaining: 2s\n",
            "362:\tlearn: 0.0031013\ttotal: 1.14s\tremaining: 2s\n",
            "363:\tlearn: 0.0030942\ttotal: 1.14s\tremaining: 1.99s\n",
            "364:\tlearn: 0.0030843\ttotal: 1.14s\tremaining: 1.99s\n",
            "365:\tlearn: 0.0030764\ttotal: 1.14s\tremaining: 1.98s\n",
            "366:\tlearn: 0.0030662\ttotal: 1.15s\tremaining: 1.98s\n",
            "367:\tlearn: 0.0030526\ttotal: 1.15s\tremaining: 1.98s\n",
            "368:\tlearn: 0.0030526\ttotal: 1.15s\tremaining: 1.97s\n",
            "369:\tlearn: 0.0030418\ttotal: 1.16s\tremaining: 1.97s\n",
            "370:\tlearn: 0.0030332\ttotal: 1.16s\tremaining: 1.96s\n",
            "371:\tlearn: 0.0030199\ttotal: 1.16s\tremaining: 1.96s\n",
            "372:\tlearn: 0.0030039\ttotal: 1.16s\tremaining: 1.96s\n",
            "373:\tlearn: 0.0029915\ttotal: 1.17s\tremaining: 1.95s\n",
            "374:\tlearn: 0.0029850\ttotal: 1.17s\tremaining: 1.95s\n",
            "375:\tlearn: 0.0029718\ttotal: 1.17s\tremaining: 1.94s\n",
            "376:\tlearn: 0.0029622\ttotal: 1.17s\tremaining: 1.94s\n",
            "377:\tlearn: 0.0029507\ttotal: 1.18s\tremaining: 1.94s\n",
            "378:\tlearn: 0.0029413\ttotal: 1.18s\tremaining: 1.93s\n",
            "379:\tlearn: 0.0029299\ttotal: 1.18s\tremaining: 1.93s\n",
            "380:\tlearn: 0.0029233\ttotal: 1.18s\tremaining: 1.92s\n",
            "381:\tlearn: 0.0029111\ttotal: 1.19s\tremaining: 1.92s\n",
            "382:\tlearn: 0.0029111\ttotal: 1.19s\tremaining: 1.91s\n",
            "383:\tlearn: 0.0029007\ttotal: 1.19s\tremaining: 1.91s\n",
            "384:\tlearn: 0.0028956\ttotal: 1.19s\tremaining: 1.91s\n",
            "385:\tlearn: 0.0028867\ttotal: 1.2s\tremaining: 1.9s\n",
            "386:\tlearn: 0.0028760\ttotal: 1.2s\tremaining: 1.9s\n",
            "387:\tlearn: 0.0028687\ttotal: 1.2s\tremaining: 1.89s\n",
            "388:\tlearn: 0.0028591\ttotal: 1.2s\tremaining: 1.89s\n",
            "389:\tlearn: 0.0028494\ttotal: 1.21s\tremaining: 1.89s\n",
            "390:\tlearn: 0.0028405\ttotal: 1.21s\tremaining: 1.88s\n",
            "391:\tlearn: 0.0028257\ttotal: 1.21s\tremaining: 1.88s\n",
            "392:\tlearn: 0.0028197\ttotal: 1.21s\tremaining: 1.87s\n",
            "393:\tlearn: 0.0028117\ttotal: 1.22s\tremaining: 1.87s\n",
            "394:\tlearn: 0.0028019\ttotal: 1.22s\tremaining: 1.86s\n",
            "395:\tlearn: 0.0027930\ttotal: 1.22s\tremaining: 1.86s\n",
            "396:\tlearn: 0.0027839\ttotal: 1.22s\tremaining: 1.86s\n",
            "397:\tlearn: 0.0027767\ttotal: 1.23s\tremaining: 1.85s\n",
            "398:\tlearn: 0.0027639\ttotal: 1.23s\tremaining: 1.85s\n",
            "399:\tlearn: 0.0027510\ttotal: 1.23s\tremaining: 1.84s\n",
            "400:\tlearn: 0.0027414\ttotal: 1.23s\tremaining: 1.84s\n",
            "401:\tlearn: 0.0027337\ttotal: 1.24s\tremaining: 1.84s\n",
            "402:\tlearn: 0.0027183\ttotal: 1.24s\tremaining: 1.83s\n",
            "403:\tlearn: 0.0027117\ttotal: 1.24s\tremaining: 1.83s\n",
            "404:\tlearn: 0.0026964\ttotal: 1.24s\tremaining: 1.82s\n",
            "405:\tlearn: 0.0026964\ttotal: 1.24s\tremaining: 1.82s\n",
            "406:\tlearn: 0.0026879\ttotal: 1.25s\tremaining: 1.82s\n",
            "407:\tlearn: 0.0026737\ttotal: 1.25s\tremaining: 1.81s\n",
            "408:\tlearn: 0.0026668\ttotal: 1.25s\tremaining: 1.81s\n",
            "409:\tlearn: 0.0026668\ttotal: 1.26s\tremaining: 1.81s\n",
            "410:\tlearn: 0.0026595\ttotal: 1.26s\tremaining: 1.8s\n",
            "411:\tlearn: 0.0026510\ttotal: 1.26s\tremaining: 1.8s\n",
            "412:\tlearn: 0.0026440\ttotal: 1.26s\tremaining: 1.8s\n",
            "413:\tlearn: 0.0026293\ttotal: 1.27s\tremaining: 1.79s\n",
            "414:\tlearn: 0.0026231\ttotal: 1.27s\tremaining: 1.79s\n",
            "415:\tlearn: 0.0026157\ttotal: 1.27s\tremaining: 1.78s\n",
            "416:\tlearn: 0.0026015\ttotal: 1.27s\tremaining: 1.78s\n",
            "417:\tlearn: 0.0025900\ttotal: 1.28s\tremaining: 1.78s\n",
            "418:\tlearn: 0.0025805\ttotal: 1.28s\tremaining: 1.77s\n",
            "419:\tlearn: 0.0025670\ttotal: 1.28s\tremaining: 1.77s\n",
            "420:\tlearn: 0.0025572\ttotal: 1.28s\tremaining: 1.76s\n",
            "421:\tlearn: 0.0025481\ttotal: 1.28s\tremaining: 1.76s\n",
            "422:\tlearn: 0.0025430\ttotal: 1.29s\tremaining: 1.76s\n",
            "423:\tlearn: 0.0025288\ttotal: 1.29s\tremaining: 1.75s\n",
            "424:\tlearn: 0.0025213\ttotal: 1.29s\tremaining: 1.75s\n",
            "425:\tlearn: 0.0025029\ttotal: 1.29s\tremaining: 1.75s\n",
            "426:\tlearn: 0.0024946\ttotal: 1.3s\tremaining: 1.75s\n",
            "427:\tlearn: 0.0024789\ttotal: 1.3s\tremaining: 1.74s\n",
            "428:\tlearn: 0.0024770\ttotal: 1.31s\tremaining: 1.74s\n",
            "429:\tlearn: 0.0024693\ttotal: 1.31s\tremaining: 1.73s\n",
            "430:\tlearn: 0.0024610\ttotal: 1.31s\tremaining: 1.73s\n",
            "431:\tlearn: 0.0024536\ttotal: 1.31s\tremaining: 1.73s\n",
            "432:\tlearn: 0.0024445\ttotal: 1.31s\tremaining: 1.72s\n",
            "433:\tlearn: 0.0024376\ttotal: 1.32s\tremaining: 1.72s\n",
            "434:\tlearn: 0.0024264\ttotal: 1.32s\tremaining: 1.72s\n",
            "435:\tlearn: 0.0024203\ttotal: 1.32s\tremaining: 1.71s\n",
            "436:\tlearn: 0.0024070\ttotal: 1.32s\tremaining: 1.71s\n",
            "437:\tlearn: 0.0023974\ttotal: 1.33s\tremaining: 1.7s\n",
            "438:\tlearn: 0.0023866\ttotal: 1.33s\tremaining: 1.7s\n",
            "439:\tlearn: 0.0023780\ttotal: 1.33s\tremaining: 1.7s\n",
            "440:\tlearn: 0.0023646\ttotal: 1.34s\tremaining: 1.7s\n",
            "441:\tlearn: 0.0023561\ttotal: 1.34s\tremaining: 1.7s\n",
            "442:\tlearn: 0.0023471\ttotal: 1.34s\tremaining: 1.69s\n",
            "443:\tlearn: 0.0023362\ttotal: 1.35s\tremaining: 1.69s\n",
            "444:\tlearn: 0.0023242\ttotal: 1.35s\tremaining: 1.68s\n",
            "445:\tlearn: 0.0023172\ttotal: 1.35s\tremaining: 1.68s\n",
            "446:\tlearn: 0.0023082\ttotal: 1.35s\tremaining: 1.68s\n",
            "447:\tlearn: 0.0022963\ttotal: 1.36s\tremaining: 1.67s\n",
            "448:\tlearn: 0.0022934\ttotal: 1.36s\tremaining: 1.67s\n",
            "449:\tlearn: 0.0022844\ttotal: 1.36s\tremaining: 1.66s\n",
            "450:\tlearn: 0.0022754\ttotal: 1.36s\tremaining: 1.66s\n",
            "451:\tlearn: 0.0022754\ttotal: 1.37s\tremaining: 1.66s\n",
            "452:\tlearn: 0.0022754\ttotal: 1.37s\tremaining: 1.65s\n",
            "453:\tlearn: 0.0022583\ttotal: 1.37s\tremaining: 1.65s\n",
            "454:\tlearn: 0.0022467\ttotal: 1.38s\tremaining: 1.65s\n",
            "455:\tlearn: 0.0022346\ttotal: 1.38s\tremaining: 1.64s\n",
            "456:\tlearn: 0.0022286\ttotal: 1.38s\tremaining: 1.64s\n",
            "457:\tlearn: 0.0022168\ttotal: 1.38s\tremaining: 1.64s\n",
            "458:\tlearn: 0.0022063\ttotal: 1.39s\tremaining: 1.63s\n",
            "459:\tlearn: 0.0021989\ttotal: 1.39s\tremaining: 1.63s\n",
            "460:\tlearn: 0.0021990\ttotal: 1.39s\tremaining: 1.63s\n",
            "461:\tlearn: 0.0021990\ttotal: 1.39s\tremaining: 1.62s\n",
            "462:\tlearn: 0.0021922\ttotal: 1.4s\tremaining: 1.62s\n",
            "463:\tlearn: 0.0021855\ttotal: 1.4s\tremaining: 1.61s\n",
            "464:\tlearn: 0.0021793\ttotal: 1.4s\tremaining: 1.61s\n",
            "465:\tlearn: 0.0021693\ttotal: 1.4s\tremaining: 1.61s\n",
            "466:\tlearn: 0.0021693\ttotal: 1.41s\tremaining: 1.6s\n",
            "467:\tlearn: 0.0021635\ttotal: 1.41s\tremaining: 1.6s\n",
            "468:\tlearn: 0.0021635\ttotal: 1.41s\tremaining: 1.6s\n",
            "469:\tlearn: 0.0021501\ttotal: 1.41s\tremaining: 1.59s\n",
            "470:\tlearn: 0.0021427\ttotal: 1.42s\tremaining: 1.59s\n",
            "471:\tlearn: 0.0021427\ttotal: 1.42s\tremaining: 1.59s\n",
            "472:\tlearn: 0.0021427\ttotal: 1.42s\tremaining: 1.58s\n",
            "473:\tlearn: 0.0021347\ttotal: 1.42s\tremaining: 1.58s\n",
            "474:\tlearn: 0.0021347\ttotal: 1.43s\tremaining: 1.57s\n",
            "475:\tlearn: 0.0021265\ttotal: 1.43s\tremaining: 1.57s\n",
            "476:\tlearn: 0.0021203\ttotal: 1.43s\tremaining: 1.57s\n",
            "477:\tlearn: 0.0021203\ttotal: 1.43s\tremaining: 1.56s\n",
            "478:\tlearn: 0.0021071\ttotal: 1.44s\tremaining: 1.56s\n",
            "479:\tlearn: 0.0020999\ttotal: 1.44s\tremaining: 1.56s\n",
            "480:\tlearn: 0.0020916\ttotal: 1.44s\tremaining: 1.55s\n",
            "481:\tlearn: 0.0020915\ttotal: 1.45s\tremaining: 1.56s\n",
            "482:\tlearn: 0.0020804\ttotal: 1.45s\tremaining: 1.55s\n",
            "483:\tlearn: 0.0020735\ttotal: 1.46s\tremaining: 1.56s\n",
            "484:\tlearn: 0.0020735\ttotal: 1.47s\tremaining: 1.56s\n",
            "485:\tlearn: 0.0020735\ttotal: 1.47s\tremaining: 1.55s\n",
            "486:\tlearn: 0.0020628\ttotal: 1.47s\tremaining: 1.55s\n",
            "487:\tlearn: 0.0020628\ttotal: 1.48s\tremaining: 1.55s\n",
            "488:\tlearn: 0.0020557\ttotal: 1.48s\tremaining: 1.55s\n",
            "489:\tlearn: 0.0020557\ttotal: 1.48s\tremaining: 1.54s\n",
            "490:\tlearn: 0.0020557\ttotal: 1.49s\tremaining: 1.54s\n",
            "491:\tlearn: 0.0020442\ttotal: 1.49s\tremaining: 1.54s\n",
            "492:\tlearn: 0.0020441\ttotal: 1.49s\tremaining: 1.54s\n",
            "493:\tlearn: 0.0020441\ttotal: 1.5s\tremaining: 1.53s\n",
            "494:\tlearn: 0.0020441\ttotal: 1.5s\tremaining: 1.53s\n",
            "495:\tlearn: 0.0020376\ttotal: 1.5s\tremaining: 1.53s\n",
            "496:\tlearn: 0.0020293\ttotal: 1.5s\tremaining: 1.52s\n",
            "497:\tlearn: 0.0020293\ttotal: 1.51s\tremaining: 1.52s\n",
            "498:\tlearn: 0.0020199\ttotal: 1.51s\tremaining: 1.52s\n",
            "499:\tlearn: 0.0020199\ttotal: 1.51s\tremaining: 1.51s\n",
            "500:\tlearn: 0.0020090\ttotal: 1.51s\tremaining: 1.51s\n",
            "501:\tlearn: 0.0020090\ttotal: 1.52s\tremaining: 1.5s\n",
            "502:\tlearn: 0.0020091\ttotal: 1.52s\tremaining: 1.5s\n",
            "503:\tlearn: 0.0020090\ttotal: 1.52s\tremaining: 1.5s\n",
            "504:\tlearn: 0.0019992\ttotal: 1.52s\tremaining: 1.49s\n",
            "505:\tlearn: 0.0019992\ttotal: 1.53s\tremaining: 1.49s\n",
            "506:\tlearn: 0.0019992\ttotal: 1.53s\tremaining: 1.49s\n",
            "507:\tlearn: 0.0019992\ttotal: 1.53s\tremaining: 1.48s\n",
            "508:\tlearn: 0.0019922\ttotal: 1.53s\tremaining: 1.48s\n",
            "509:\tlearn: 0.0019831\ttotal: 1.54s\tremaining: 1.48s\n",
            "510:\tlearn: 0.0019831\ttotal: 1.54s\tremaining: 1.47s\n",
            "511:\tlearn: 0.0019830\ttotal: 1.54s\tremaining: 1.47s\n",
            "512:\tlearn: 0.0019761\ttotal: 1.54s\tremaining: 1.47s\n",
            "513:\tlearn: 0.0019676\ttotal: 1.55s\tremaining: 1.46s\n",
            "514:\tlearn: 0.0019675\ttotal: 1.55s\tremaining: 1.46s\n",
            "515:\tlearn: 0.0019676\ttotal: 1.55s\tremaining: 1.46s\n",
            "516:\tlearn: 0.0019575\ttotal: 1.55s\tremaining: 1.45s\n",
            "517:\tlearn: 0.0019575\ttotal: 1.56s\tremaining: 1.45s\n",
            "518:\tlearn: 0.0019575\ttotal: 1.56s\tremaining: 1.44s\n",
            "519:\tlearn: 0.0019505\ttotal: 1.56s\tremaining: 1.44s\n",
            "520:\tlearn: 0.0019505\ttotal: 1.56s\tremaining: 1.44s\n",
            "521:\tlearn: 0.0019431\ttotal: 1.56s\tremaining: 1.43s\n",
            "522:\tlearn: 0.0019370\ttotal: 1.57s\tremaining: 1.43s\n",
            "523:\tlearn: 0.0019295\ttotal: 1.57s\tremaining: 1.43s\n",
            "524:\tlearn: 0.0019213\ttotal: 1.57s\tremaining: 1.42s\n",
            "525:\tlearn: 0.0019155\ttotal: 1.57s\tremaining: 1.42s\n",
            "526:\tlearn: 0.0019155\ttotal: 1.58s\tremaining: 1.42s\n",
            "527:\tlearn: 0.0019155\ttotal: 1.58s\tremaining: 1.41s\n",
            "528:\tlearn: 0.0019043\ttotal: 1.58s\tremaining: 1.41s\n",
            "529:\tlearn: 0.0018987\ttotal: 1.58s\tremaining: 1.41s\n",
            "530:\tlearn: 0.0018920\ttotal: 1.59s\tremaining: 1.4s\n",
            "531:\tlearn: 0.0018849\ttotal: 1.59s\tremaining: 1.4s\n",
            "532:\tlearn: 0.0018849\ttotal: 1.59s\tremaining: 1.39s\n",
            "533:\tlearn: 0.0018757\ttotal: 1.59s\tremaining: 1.39s\n",
            "534:\tlearn: 0.0018667\ttotal: 1.6s\tremaining: 1.39s\n",
            "535:\tlearn: 0.0018601\ttotal: 1.6s\tremaining: 1.38s\n",
            "536:\tlearn: 0.0018546\ttotal: 1.6s\tremaining: 1.38s\n",
            "537:\tlearn: 0.0018546\ttotal: 1.6s\tremaining: 1.38s\n",
            "538:\tlearn: 0.0018546\ttotal: 1.6s\tremaining: 1.37s\n",
            "539:\tlearn: 0.0018546\ttotal: 1.61s\tremaining: 1.37s\n",
            "540:\tlearn: 0.0018546\ttotal: 1.61s\tremaining: 1.37s\n",
            "541:\tlearn: 0.0018546\ttotal: 1.61s\tremaining: 1.36s\n",
            "542:\tlearn: 0.0018457\ttotal: 1.61s\tremaining: 1.36s\n",
            "543:\tlearn: 0.0018457\ttotal: 1.62s\tremaining: 1.36s\n",
            "544:\tlearn: 0.0018402\ttotal: 1.62s\tremaining: 1.36s\n",
            "545:\tlearn: 0.0018402\ttotal: 1.63s\tremaining: 1.35s\n",
            "546:\tlearn: 0.0018402\ttotal: 1.63s\tremaining: 1.35s\n",
            "547:\tlearn: 0.0018344\ttotal: 1.63s\tremaining: 1.34s\n",
            "548:\tlearn: 0.0018238\ttotal: 1.63s\tremaining: 1.34s\n",
            "549:\tlearn: 0.0018140\ttotal: 1.64s\tremaining: 1.34s\n",
            "550:\tlearn: 0.0018086\ttotal: 1.64s\tremaining: 1.33s\n",
            "551:\tlearn: 0.0018027\ttotal: 1.64s\tremaining: 1.33s\n",
            "552:\tlearn: 0.0018027\ttotal: 1.64s\tremaining: 1.33s\n",
            "553:\tlearn: 0.0017976\ttotal: 1.65s\tremaining: 1.32s\n",
            "554:\tlearn: 0.0017908\ttotal: 1.65s\tremaining: 1.32s\n",
            "555:\tlearn: 0.0017826\ttotal: 1.65s\tremaining: 1.32s\n",
            "556:\tlearn: 0.0017754\ttotal: 1.65s\tremaining: 1.31s\n",
            "557:\tlearn: 0.0017706\ttotal: 1.66s\tremaining: 1.31s\n",
            "558:\tlearn: 0.0017623\ttotal: 1.66s\tremaining: 1.31s\n",
            "559:\tlearn: 0.0017551\ttotal: 1.66s\tremaining: 1.3s\n",
            "560:\tlearn: 0.0017551\ttotal: 1.66s\tremaining: 1.3s\n",
            "561:\tlearn: 0.0017476\ttotal: 1.67s\tremaining: 1.3s\n",
            "562:\tlearn: 0.0017399\ttotal: 1.67s\tremaining: 1.29s\n",
            "563:\tlearn: 0.0017301\ttotal: 1.67s\tremaining: 1.29s\n",
            "564:\tlearn: 0.0017226\ttotal: 1.68s\tremaining: 1.29s\n",
            "565:\tlearn: 0.0017226\ttotal: 1.68s\tremaining: 1.29s\n",
            "566:\tlearn: 0.0017225\ttotal: 1.68s\tremaining: 1.28s\n",
            "567:\tlearn: 0.0017180\ttotal: 1.69s\tremaining: 1.28s\n",
            "568:\tlearn: 0.0017083\ttotal: 1.69s\tremaining: 1.28s\n",
            "569:\tlearn: 0.0017083\ttotal: 1.69s\tremaining: 1.27s\n",
            "570:\tlearn: 0.0017083\ttotal: 1.69s\tremaining: 1.27s\n",
            "571:\tlearn: 0.0016996\ttotal: 1.69s\tremaining: 1.27s\n",
            "572:\tlearn: 0.0016929\ttotal: 1.7s\tremaining: 1.26s\n",
            "573:\tlearn: 0.0016929\ttotal: 1.7s\tremaining: 1.26s\n",
            "574:\tlearn: 0.0016929\ttotal: 1.7s\tremaining: 1.26s\n",
            "575:\tlearn: 0.0016929\ttotal: 1.7s\tremaining: 1.25s\n",
            "576:\tlearn: 0.0016865\ttotal: 1.71s\tremaining: 1.25s\n",
            "577:\tlearn: 0.0016865\ttotal: 1.71s\tremaining: 1.25s\n",
            "578:\tlearn: 0.0016865\ttotal: 1.71s\tremaining: 1.24s\n",
            "579:\tlearn: 0.0016865\ttotal: 1.71s\tremaining: 1.24s\n",
            "580:\tlearn: 0.0016824\ttotal: 1.72s\tremaining: 1.24s\n",
            "581:\tlearn: 0.0016824\ttotal: 1.72s\tremaining: 1.24s\n",
            "582:\tlearn: 0.0016824\ttotal: 1.72s\tremaining: 1.23s\n",
            "583:\tlearn: 0.0016824\ttotal: 1.72s\tremaining: 1.23s\n",
            "584:\tlearn: 0.0016746\ttotal: 1.73s\tremaining: 1.22s\n",
            "585:\tlearn: 0.0016681\ttotal: 1.73s\tremaining: 1.22s\n",
            "586:\tlearn: 0.0016681\ttotal: 1.73s\tremaining: 1.22s\n",
            "587:\tlearn: 0.0016681\ttotal: 1.73s\tremaining: 1.22s\n",
            "588:\tlearn: 0.0016606\ttotal: 1.74s\tremaining: 1.21s\n",
            "589:\tlearn: 0.0016539\ttotal: 1.74s\tremaining: 1.21s\n",
            "590:\tlearn: 0.0016539\ttotal: 1.74s\tremaining: 1.21s\n",
            "591:\tlearn: 0.0016539\ttotal: 1.74s\tremaining: 1.2s\n",
            "592:\tlearn: 0.0016475\ttotal: 1.75s\tremaining: 1.2s\n",
            "593:\tlearn: 0.0016408\ttotal: 1.75s\tremaining: 1.2s\n",
            "594:\tlearn: 0.0016408\ttotal: 1.75s\tremaining: 1.19s\n",
            "595:\tlearn: 0.0016408\ttotal: 1.75s\tremaining: 1.19s\n",
            "596:\tlearn: 0.0016341\ttotal: 1.76s\tremaining: 1.19s\n",
            "597:\tlearn: 0.0016251\ttotal: 1.76s\tremaining: 1.19s\n",
            "598:\tlearn: 0.0016251\ttotal: 1.77s\tremaining: 1.18s\n",
            "599:\tlearn: 0.0016251\ttotal: 1.77s\tremaining: 1.18s\n",
            "600:\tlearn: 0.0016250\ttotal: 1.77s\tremaining: 1.18s\n",
            "601:\tlearn: 0.0016250\ttotal: 1.78s\tremaining: 1.17s\n",
            "602:\tlearn: 0.0016250\ttotal: 1.78s\tremaining: 1.17s\n",
            "603:\tlearn: 0.0016250\ttotal: 1.78s\tremaining: 1.17s\n",
            "604:\tlearn: 0.0016250\ttotal: 1.78s\tremaining: 1.16s\n",
            "605:\tlearn: 0.0016250\ttotal: 1.79s\tremaining: 1.16s\n",
            "606:\tlearn: 0.0016250\ttotal: 1.79s\tremaining: 1.16s\n",
            "607:\tlearn: 0.0016250\ttotal: 1.79s\tremaining: 1.15s\n",
            "608:\tlearn: 0.0016250\ttotal: 1.79s\tremaining: 1.15s\n",
            "609:\tlearn: 0.0016250\ttotal: 1.8s\tremaining: 1.15s\n",
            "610:\tlearn: 0.0016186\ttotal: 1.8s\tremaining: 1.15s\n",
            "611:\tlearn: 0.0016186\ttotal: 1.8s\tremaining: 1.14s\n",
            "612:\tlearn: 0.0016186\ttotal: 1.8s\tremaining: 1.14s\n",
            "613:\tlearn: 0.0016186\ttotal: 1.8s\tremaining: 1.13s\n",
            "614:\tlearn: 0.0016116\ttotal: 1.81s\tremaining: 1.13s\n",
            "615:\tlearn: 0.0016116\ttotal: 1.81s\tremaining: 1.13s\n",
            "616:\tlearn: 0.0016116\ttotal: 1.81s\tremaining: 1.12s\n",
            "617:\tlearn: 0.0016116\ttotal: 1.81s\tremaining: 1.12s\n",
            "618:\tlearn: 0.0016116\ttotal: 1.82s\tremaining: 1.12s\n",
            "619:\tlearn: 0.0016116\ttotal: 1.82s\tremaining: 1.11s\n",
            "620:\tlearn: 0.0016116\ttotal: 1.82s\tremaining: 1.11s\n",
            "621:\tlearn: 0.0016055\ttotal: 1.82s\tremaining: 1.11s\n",
            "622:\tlearn: 0.0016055\ttotal: 1.82s\tremaining: 1.1s\n",
            "623:\tlearn: 0.0016055\ttotal: 1.83s\tremaining: 1.1s\n",
            "624:\tlearn: 0.0015993\ttotal: 1.83s\tremaining: 1.1s\n",
            "625:\tlearn: 0.0015925\ttotal: 1.83s\tremaining: 1.09s\n",
            "626:\tlearn: 0.0015925\ttotal: 1.83s\tremaining: 1.09s\n",
            "627:\tlearn: 0.0015857\ttotal: 1.84s\tremaining: 1.09s\n",
            "628:\tlearn: 0.0015787\ttotal: 1.84s\tremaining: 1.08s\n",
            "629:\tlearn: 0.0015788\ttotal: 1.84s\tremaining: 1.08s\n",
            "630:\tlearn: 0.0015787\ttotal: 1.84s\tremaining: 1.08s\n",
            "631:\tlearn: 0.0015787\ttotal: 1.85s\tremaining: 1.07s\n",
            "632:\tlearn: 0.0015787\ttotal: 1.85s\tremaining: 1.07s\n",
            "633:\tlearn: 0.0015724\ttotal: 1.85s\tremaining: 1.07s\n",
            "634:\tlearn: 0.0015723\ttotal: 1.85s\tremaining: 1.06s\n",
            "635:\tlearn: 0.0015723\ttotal: 1.86s\tremaining: 1.06s\n",
            "636:\tlearn: 0.0015662\ttotal: 1.86s\tremaining: 1.06s\n",
            "637:\tlearn: 0.0015662\ttotal: 1.86s\tremaining: 1.06s\n",
            "638:\tlearn: 0.0015607\ttotal: 1.87s\tremaining: 1.05s\n",
            "639:\tlearn: 0.0015606\ttotal: 1.87s\tremaining: 1.05s\n",
            "640:\tlearn: 0.0015544\ttotal: 1.87s\tremaining: 1.05s\n",
            "641:\tlearn: 0.0015544\ttotal: 1.87s\tremaining: 1.04s\n",
            "642:\tlearn: 0.0015490\ttotal: 1.88s\tremaining: 1.04s\n",
            "643:\tlearn: 0.0015429\ttotal: 1.88s\tremaining: 1.04s\n",
            "644:\tlearn: 0.0015429\ttotal: 1.88s\tremaining: 1.03s\n",
            "645:\tlearn: 0.0015429\ttotal: 1.88s\tremaining: 1.03s\n",
            "646:\tlearn: 0.0015429\ttotal: 1.89s\tremaining: 1.03s\n",
            "647:\tlearn: 0.0015429\ttotal: 1.89s\tremaining: 1.03s\n",
            "648:\tlearn: 0.0015429\ttotal: 1.89s\tremaining: 1.02s\n",
            "649:\tlearn: 0.0015429\ttotal: 1.89s\tremaining: 1.02s\n",
            "650:\tlearn: 0.0015429\ttotal: 1.9s\tremaining: 1.02s\n",
            "651:\tlearn: 0.0015429\ttotal: 1.9s\tremaining: 1.01s\n",
            "652:\tlearn: 0.0015352\ttotal: 1.9s\tremaining: 1.01s\n",
            "653:\tlearn: 0.0015352\ttotal: 1.9s\tremaining: 1.01s\n",
            "654:\tlearn: 0.0015352\ttotal: 1.91s\tremaining: 1s\n",
            "655:\tlearn: 0.0015352\ttotal: 1.91s\tremaining: 1s\n",
            "656:\tlearn: 0.0015352\ttotal: 1.91s\tremaining: 997ms\n",
            "657:\tlearn: 0.0015352\ttotal: 1.91s\tremaining: 994ms\n",
            "658:\tlearn: 0.0015352\ttotal: 1.92s\tremaining: 991ms\n",
            "659:\tlearn: 0.0015283\ttotal: 1.92s\tremaining: 988ms\n",
            "660:\tlearn: 0.0015283\ttotal: 1.92s\tremaining: 985ms\n",
            "661:\tlearn: 0.0015283\ttotal: 1.92s\tremaining: 981ms\n",
            "662:\tlearn: 0.0015283\ttotal: 1.92s\tremaining: 978ms\n",
            "663:\tlearn: 0.0015283\ttotal: 1.93s\tremaining: 975ms\n",
            "664:\tlearn: 0.0015207\ttotal: 1.93s\tremaining: 972ms\n",
            "665:\tlearn: 0.0015207\ttotal: 1.93s\tremaining: 969ms\n",
            "666:\tlearn: 0.0015207\ttotal: 1.93s\tremaining: 965ms\n",
            "667:\tlearn: 0.0015207\ttotal: 1.94s\tremaining: 962ms\n",
            "668:\tlearn: 0.0015207\ttotal: 1.94s\tremaining: 959ms\n",
            "669:\tlearn: 0.0015207\ttotal: 1.94s\tremaining: 956ms\n",
            "670:\tlearn: 0.0015206\ttotal: 1.94s\tremaining: 953ms\n",
            "671:\tlearn: 0.0015207\ttotal: 1.95s\tremaining: 950ms\n",
            "672:\tlearn: 0.0015206\ttotal: 1.95s\tremaining: 946ms\n",
            "673:\tlearn: 0.0015205\ttotal: 1.95s\tremaining: 943ms\n",
            "674:\tlearn: 0.0015205\ttotal: 1.95s\tremaining: 940ms\n",
            "675:\tlearn: 0.0015205\ttotal: 1.95s\tremaining: 937ms\n",
            "676:\tlearn: 0.0015205\ttotal: 1.96s\tremaining: 934ms\n",
            "677:\tlearn: 0.0015141\ttotal: 1.96s\tremaining: 931ms\n",
            "678:\tlearn: 0.0015141\ttotal: 1.96s\tremaining: 928ms\n",
            "679:\tlearn: 0.0015141\ttotal: 1.96s\tremaining: 924ms\n",
            "680:\tlearn: 0.0015141\ttotal: 1.97s\tremaining: 921ms\n",
            "681:\tlearn: 0.0015141\ttotal: 1.97s\tremaining: 918ms\n",
            "682:\tlearn: 0.0015141\ttotal: 1.97s\tremaining: 915ms\n",
            "683:\tlearn: 0.0015141\ttotal: 1.97s\tremaining: 912ms\n",
            "684:\tlearn: 0.0015111\ttotal: 1.98s\tremaining: 909ms\n",
            "685:\tlearn: 0.0015111\ttotal: 1.98s\tremaining: 907ms\n",
            "686:\tlearn: 0.0015111\ttotal: 1.98s\tremaining: 904ms\n",
            "687:\tlearn: 0.0015111\ttotal: 1.99s\tremaining: 900ms\n",
            "688:\tlearn: 0.0015111\ttotal: 1.99s\tremaining: 897ms\n",
            "689:\tlearn: 0.0015111\ttotal: 1.99s\tremaining: 894ms\n",
            "690:\tlearn: 0.0015111\ttotal: 1.99s\tremaining: 891ms\n",
            "691:\tlearn: 0.0015111\ttotal: 2s\tremaining: 888ms\n",
            "692:\tlearn: 0.0015111\ttotal: 2s\tremaining: 885ms\n",
            "693:\tlearn: 0.0015111\ttotal: 2s\tremaining: 882ms\n",
            "694:\tlearn: 0.0015111\ttotal: 2s\tremaining: 879ms\n",
            "695:\tlearn: 0.0015110\ttotal: 2s\tremaining: 876ms\n",
            "696:\tlearn: 0.0015110\ttotal: 2.01s\tremaining: 872ms\n",
            "697:\tlearn: 0.0015110\ttotal: 2.01s\tremaining: 869ms\n",
            "698:\tlearn: 0.0015110\ttotal: 2.01s\tremaining: 866ms\n",
            "699:\tlearn: 0.0015110\ttotal: 2.01s\tremaining: 863ms\n",
            "700:\tlearn: 0.0015110\ttotal: 2.02s\tremaining: 861ms\n",
            "701:\tlearn: 0.0015110\ttotal: 2.02s\tremaining: 858ms\n",
            "702:\tlearn: 0.0015110\ttotal: 2.02s\tremaining: 854ms\n",
            "703:\tlearn: 0.0015110\ttotal: 2.02s\tremaining: 851ms\n",
            "704:\tlearn: 0.0015041\ttotal: 2.03s\tremaining: 848ms\n",
            "705:\tlearn: 0.0015042\ttotal: 2.03s\tremaining: 845ms\n",
            "706:\tlearn: 0.0015041\ttotal: 2.03s\tremaining: 842ms\n",
            "707:\tlearn: 0.0015041\ttotal: 2.03s\tremaining: 839ms\n",
            "708:\tlearn: 0.0015041\ttotal: 2.04s\tremaining: 836ms\n",
            "709:\tlearn: 0.0015041\ttotal: 2.04s\tremaining: 833ms\n",
            "710:\tlearn: 0.0015041\ttotal: 2.04s\tremaining: 830ms\n",
            "711:\tlearn: 0.0015041\ttotal: 2.04s\tremaining: 827ms\n",
            "712:\tlearn: 0.0015041\ttotal: 2.05s\tremaining: 826ms\n",
            "713:\tlearn: 0.0015041\ttotal: 2.06s\tremaining: 823ms\n",
            "714:\tlearn: 0.0015041\ttotal: 2.06s\tremaining: 821ms\n",
            "715:\tlearn: 0.0015041\ttotal: 2.06s\tremaining: 818ms\n",
            "716:\tlearn: 0.0015041\ttotal: 2.06s\tremaining: 815ms\n",
            "717:\tlearn: 0.0015041\ttotal: 2.07s\tremaining: 811ms\n",
            "718:\tlearn: 0.0015041\ttotal: 2.07s\tremaining: 808ms\n",
            "719:\tlearn: 0.0015041\ttotal: 2.07s\tremaining: 805ms\n",
            "720:\tlearn: 0.0015041\ttotal: 2.07s\tremaining: 802ms\n",
            "721:\tlearn: 0.0015041\ttotal: 2.08s\tremaining: 799ms\n",
            "722:\tlearn: 0.0015041\ttotal: 2.08s\tremaining: 796ms\n",
            "723:\tlearn: 0.0015041\ttotal: 2.08s\tremaining: 793ms\n",
            "724:\tlearn: 0.0015041\ttotal: 2.08s\tremaining: 790ms\n",
            "725:\tlearn: 0.0015041\ttotal: 2.08s\tremaining: 787ms\n",
            "726:\tlearn: 0.0015041\ttotal: 2.09s\tremaining: 784ms\n",
            "727:\tlearn: 0.0015041\ttotal: 2.09s\tremaining: 781ms\n",
            "728:\tlearn: 0.0015040\ttotal: 2.09s\tremaining: 778ms\n",
            "729:\tlearn: 0.0015040\ttotal: 2.09s\tremaining: 775ms\n",
            "730:\tlearn: 0.0015040\ttotal: 2.1s\tremaining: 772ms\n",
            "731:\tlearn: 0.0015040\ttotal: 2.1s\tremaining: 769ms\n",
            "732:\tlearn: 0.0015040\ttotal: 2.1s\tremaining: 766ms\n",
            "733:\tlearn: 0.0015040\ttotal: 2.1s\tremaining: 763ms\n",
            "734:\tlearn: 0.0015040\ttotal: 2.11s\tremaining: 760ms\n",
            "735:\tlearn: 0.0015040\ttotal: 2.11s\tremaining: 756ms\n",
            "736:\tlearn: 0.0015040\ttotal: 2.11s\tremaining: 753ms\n",
            "737:\tlearn: 0.0015040\ttotal: 2.11s\tremaining: 750ms\n",
            "738:\tlearn: 0.0015040\ttotal: 2.12s\tremaining: 747ms\n",
            "739:\tlearn: 0.0015040\ttotal: 2.12s\tremaining: 745ms\n",
            "740:\tlearn: 0.0015040\ttotal: 2.12s\tremaining: 742ms\n",
            "741:\tlearn: 0.0015040\ttotal: 2.12s\tremaining: 738ms\n",
            "742:\tlearn: 0.0015040\ttotal: 2.13s\tremaining: 735ms\n",
            "743:\tlearn: 0.0015040\ttotal: 2.13s\tremaining: 733ms\n",
            "744:\tlearn: 0.0015040\ttotal: 2.13s\tremaining: 729ms\n",
            "745:\tlearn: 0.0015040\ttotal: 2.13s\tremaining: 726ms\n",
            "746:\tlearn: 0.0015040\ttotal: 2.14s\tremaining: 724ms\n",
            "747:\tlearn: 0.0015039\ttotal: 2.14s\tremaining: 720ms\n",
            "748:\tlearn: 0.0015039\ttotal: 2.14s\tremaining: 717ms\n",
            "749:\tlearn: 0.0015039\ttotal: 2.14s\tremaining: 714ms\n",
            "750:\tlearn: 0.0015039\ttotal: 2.15s\tremaining: 711ms\n",
            "751:\tlearn: 0.0015039\ttotal: 2.15s\tremaining: 708ms\n",
            "752:\tlearn: 0.0015039\ttotal: 2.15s\tremaining: 705ms\n",
            "753:\tlearn: 0.0015039\ttotal: 2.15s\tremaining: 702ms\n",
            "754:\tlearn: 0.0015039\ttotal: 2.15s\tremaining: 699ms\n",
            "755:\tlearn: 0.0015039\ttotal: 2.16s\tremaining: 696ms\n",
            "756:\tlearn: 0.0015039\ttotal: 2.16s\tremaining: 693ms\n",
            "757:\tlearn: 0.0015039\ttotal: 2.16s\tremaining: 690ms\n",
            "758:\tlearn: 0.0015039\ttotal: 2.17s\tremaining: 688ms\n",
            "759:\tlearn: 0.0015039\ttotal: 2.17s\tremaining: 685ms\n",
            "760:\tlearn: 0.0015039\ttotal: 2.17s\tremaining: 682ms\n",
            "761:\tlearn: 0.0015039\ttotal: 2.18s\tremaining: 680ms\n",
            "762:\tlearn: 0.0015039\ttotal: 2.18s\tremaining: 678ms\n",
            "763:\tlearn: 0.0015039\ttotal: 2.18s\tremaining: 675ms\n",
            "764:\tlearn: 0.0015039\ttotal: 2.19s\tremaining: 672ms\n",
            "765:\tlearn: 0.0015039\ttotal: 2.19s\tremaining: 669ms\n",
            "766:\tlearn: 0.0015039\ttotal: 2.19s\tremaining: 666ms\n",
            "767:\tlearn: 0.0015039\ttotal: 2.19s\tremaining: 663ms\n",
            "768:\tlearn: 0.0015039\ttotal: 2.2s\tremaining: 660ms\n",
            "769:\tlearn: 0.0015038\ttotal: 2.2s\tremaining: 657ms\n",
            "770:\tlearn: 0.0015039\ttotal: 2.2s\tremaining: 654ms\n",
            "771:\tlearn: 0.0015039\ttotal: 2.21s\tremaining: 651ms\n",
            "772:\tlearn: 0.0015039\ttotal: 2.21s\tremaining: 649ms\n",
            "773:\tlearn: 0.0015038\ttotal: 2.21s\tremaining: 646ms\n",
            "774:\tlearn: 0.0015038\ttotal: 2.21s\tremaining: 643ms\n",
            "775:\tlearn: 0.0015038\ttotal: 2.22s\tremaining: 640ms\n",
            "776:\tlearn: 0.0015038\ttotal: 2.22s\tremaining: 637ms\n",
            "777:\tlearn: 0.0015038\ttotal: 2.22s\tremaining: 634ms\n",
            "778:\tlearn: 0.0015038\ttotal: 2.22s\tremaining: 631ms\n",
            "779:\tlearn: 0.0015038\ttotal: 2.23s\tremaining: 628ms\n",
            "780:\tlearn: 0.0015038\ttotal: 2.23s\tremaining: 625ms\n",
            "781:\tlearn: 0.0015038\ttotal: 2.23s\tremaining: 622ms\n",
            "782:\tlearn: 0.0015038\ttotal: 2.23s\tremaining: 620ms\n",
            "783:\tlearn: 0.0015038\ttotal: 2.24s\tremaining: 617ms\n",
            "784:\tlearn: 0.0015038\ttotal: 2.24s\tremaining: 614ms\n",
            "785:\tlearn: 0.0015038\ttotal: 2.25s\tremaining: 611ms\n",
            "786:\tlearn: 0.0015038\ttotal: 2.25s\tremaining: 609ms\n",
            "787:\tlearn: 0.0015038\ttotal: 2.25s\tremaining: 606ms\n",
            "788:\tlearn: 0.0015038\ttotal: 2.25s\tremaining: 603ms\n",
            "789:\tlearn: 0.0015038\ttotal: 2.26s\tremaining: 600ms\n",
            "790:\tlearn: 0.0015038\ttotal: 2.26s\tremaining: 597ms\n",
            "791:\tlearn: 0.0015038\ttotal: 2.26s\tremaining: 594ms\n",
            "792:\tlearn: 0.0015037\ttotal: 2.27s\tremaining: 591ms\n",
            "793:\tlearn: 0.0015037\ttotal: 2.27s\tremaining: 588ms\n",
            "794:\tlearn: 0.0015037\ttotal: 2.27s\tremaining: 585ms\n",
            "795:\tlearn: 0.0015037\ttotal: 2.27s\tremaining: 582ms\n",
            "796:\tlearn: 0.0015037\ttotal: 2.27s\tremaining: 579ms\n",
            "797:\tlearn: 0.0015037\ttotal: 2.28s\tremaining: 576ms\n",
            "798:\tlearn: 0.0015037\ttotal: 2.28s\tremaining: 573ms\n",
            "799:\tlearn: 0.0015037\ttotal: 2.28s\tremaining: 570ms\n",
            "800:\tlearn: 0.0015037\ttotal: 2.28s\tremaining: 567ms\n",
            "801:\tlearn: 0.0015037\ttotal: 2.29s\tremaining: 565ms\n",
            "802:\tlearn: 0.0015037\ttotal: 2.29s\tremaining: 562ms\n",
            "803:\tlearn: 0.0015037\ttotal: 2.29s\tremaining: 559ms\n",
            "804:\tlearn: 0.0015037\ttotal: 2.29s\tremaining: 556ms\n",
            "805:\tlearn: 0.0015037\ttotal: 2.3s\tremaining: 553ms\n",
            "806:\tlearn: 0.0015037\ttotal: 2.3s\tremaining: 550ms\n",
            "807:\tlearn: 0.0015037\ttotal: 2.3s\tremaining: 547ms\n",
            "808:\tlearn: 0.0015037\ttotal: 2.3s\tremaining: 544ms\n",
            "809:\tlearn: 0.0015037\ttotal: 2.31s\tremaining: 541ms\n",
            "810:\tlearn: 0.0015037\ttotal: 2.31s\tremaining: 538ms\n",
            "811:\tlearn: 0.0015037\ttotal: 2.31s\tremaining: 535ms\n",
            "812:\tlearn: 0.0015037\ttotal: 2.31s\tremaining: 532ms\n",
            "813:\tlearn: 0.0015037\ttotal: 2.32s\tremaining: 529ms\n",
            "814:\tlearn: 0.0015036\ttotal: 2.32s\tremaining: 526ms\n",
            "815:\tlearn: 0.0015036\ttotal: 2.32s\tremaining: 524ms\n",
            "816:\tlearn: 0.0015036\ttotal: 2.32s\tremaining: 521ms\n",
            "817:\tlearn: 0.0015036\ttotal: 2.33s\tremaining: 518ms\n",
            "818:\tlearn: 0.0015036\ttotal: 2.33s\tremaining: 515ms\n",
            "819:\tlearn: 0.0015036\ttotal: 2.33s\tremaining: 513ms\n",
            "820:\tlearn: 0.0015036\ttotal: 2.34s\tremaining: 510ms\n",
            "821:\tlearn: 0.0015036\ttotal: 2.34s\tremaining: 507ms\n",
            "822:\tlearn: 0.0015036\ttotal: 2.34s\tremaining: 504ms\n",
            "823:\tlearn: 0.0015036\ttotal: 2.34s\tremaining: 501ms\n",
            "824:\tlearn: 0.0015036\ttotal: 2.35s\tremaining: 498ms\n",
            "825:\tlearn: 0.0015036\ttotal: 2.35s\tremaining: 495ms\n",
            "826:\tlearn: 0.0015036\ttotal: 2.35s\tremaining: 492ms\n",
            "827:\tlearn: 0.0015036\ttotal: 2.35s\tremaining: 489ms\n",
            "828:\tlearn: 0.0015036\ttotal: 2.36s\tremaining: 486ms\n",
            "829:\tlearn: 0.0015036\ttotal: 2.36s\tremaining: 483ms\n",
            "830:\tlearn: 0.0015036\ttotal: 2.36s\tremaining: 480ms\n",
            "831:\tlearn: 0.0015036\ttotal: 2.36s\tremaining: 477ms\n",
            "832:\tlearn: 0.0015036\ttotal: 2.37s\tremaining: 474ms\n",
            "833:\tlearn: 0.0015036\ttotal: 2.37s\tremaining: 472ms\n",
            "834:\tlearn: 0.0015036\ttotal: 2.37s\tremaining: 469ms\n",
            "835:\tlearn: 0.0015036\ttotal: 2.37s\tremaining: 466ms\n",
            "836:\tlearn: 0.0015036\ttotal: 2.38s\tremaining: 463ms\n",
            "837:\tlearn: 0.0015035\ttotal: 2.38s\tremaining: 460ms\n",
            "838:\tlearn: 0.0015036\ttotal: 2.38s\tremaining: 457ms\n",
            "839:\tlearn: 0.0015036\ttotal: 2.39s\tremaining: 455ms\n",
            "840:\tlearn: 0.0015035\ttotal: 2.39s\tremaining: 453ms\n",
            "841:\tlearn: 0.0015035\ttotal: 2.4s\tremaining: 451ms\n",
            "842:\tlearn: 0.0015035\ttotal: 2.41s\tremaining: 448ms\n",
            "843:\tlearn: 0.0015035\ttotal: 2.41s\tremaining: 445ms\n",
            "844:\tlearn: 0.0015035\ttotal: 2.41s\tremaining: 443ms\n",
            "845:\tlearn: 0.0015035\ttotal: 2.42s\tremaining: 440ms\n",
            "846:\tlearn: 0.0015035\ttotal: 2.42s\tremaining: 437ms\n",
            "847:\tlearn: 0.0015035\ttotal: 2.42s\tremaining: 434ms\n",
            "848:\tlearn: 0.0015035\ttotal: 2.43s\tremaining: 432ms\n",
            "849:\tlearn: 0.0015035\ttotal: 2.43s\tremaining: 429ms\n",
            "850:\tlearn: 0.0015035\ttotal: 2.43s\tremaining: 426ms\n",
            "851:\tlearn: 0.0015035\ttotal: 2.43s\tremaining: 423ms\n",
            "852:\tlearn: 0.0015035\ttotal: 2.44s\tremaining: 420ms\n",
            "853:\tlearn: 0.0015035\ttotal: 2.44s\tremaining: 417ms\n",
            "854:\tlearn: 0.0015035\ttotal: 2.44s\tremaining: 414ms\n",
            "855:\tlearn: 0.0015035\ttotal: 2.44s\tremaining: 411ms\n",
            "856:\tlearn: 0.0015034\ttotal: 2.44s\tremaining: 408ms\n",
            "857:\tlearn: 0.0015035\ttotal: 2.45s\tremaining: 405ms\n",
            "858:\tlearn: 0.0015035\ttotal: 2.45s\tremaining: 402ms\n",
            "859:\tlearn: 0.0015035\ttotal: 2.45s\tremaining: 399ms\n",
            "860:\tlearn: 0.0015034\ttotal: 2.46s\tremaining: 396ms\n",
            "861:\tlearn: 0.0015034\ttotal: 2.46s\tremaining: 394ms\n",
            "862:\tlearn: 0.0015034\ttotal: 2.46s\tremaining: 391ms\n",
            "863:\tlearn: 0.0015034\ttotal: 2.46s\tremaining: 388ms\n",
            "864:\tlearn: 0.0015034\ttotal: 2.47s\tremaining: 385ms\n",
            "865:\tlearn: 0.0015034\ttotal: 2.47s\tremaining: 382ms\n",
            "866:\tlearn: 0.0015034\ttotal: 2.47s\tremaining: 379ms\n",
            "867:\tlearn: 0.0015034\ttotal: 2.47s\tremaining: 376ms\n",
            "868:\tlearn: 0.0015034\ttotal: 2.48s\tremaining: 373ms\n",
            "869:\tlearn: 0.0015034\ttotal: 2.48s\tremaining: 370ms\n",
            "870:\tlearn: 0.0015034\ttotal: 2.48s\tremaining: 367ms\n",
            "871:\tlearn: 0.0015034\ttotal: 2.48s\tremaining: 364ms\n",
            "872:\tlearn: 0.0015034\ttotal: 2.48s\tremaining: 361ms\n",
            "873:\tlearn: 0.0015034\ttotal: 2.49s\tremaining: 359ms\n",
            "874:\tlearn: 0.0015034\ttotal: 2.49s\tremaining: 356ms\n",
            "875:\tlearn: 0.0015034\ttotal: 2.49s\tremaining: 353ms\n",
            "876:\tlearn: 0.0015034\ttotal: 2.49s\tremaining: 350ms\n",
            "877:\tlearn: 0.0015034\ttotal: 2.5s\tremaining: 347ms\n",
            "878:\tlearn: 0.0015033\ttotal: 2.5s\tremaining: 344ms\n",
            "879:\tlearn: 0.0015034\ttotal: 2.5s\tremaining: 341ms\n",
            "880:\tlearn: 0.0015033\ttotal: 2.5s\tremaining: 338ms\n",
            "881:\tlearn: 0.0015033\ttotal: 2.51s\tremaining: 336ms\n",
            "882:\tlearn: 0.0015033\ttotal: 2.51s\tremaining: 333ms\n",
            "883:\tlearn: 0.0015033\ttotal: 2.51s\tremaining: 330ms\n",
            "884:\tlearn: 0.0015033\ttotal: 2.52s\tremaining: 327ms\n",
            "885:\tlearn: 0.0015033\ttotal: 2.52s\tremaining: 324ms\n",
            "886:\tlearn: 0.0015033\ttotal: 2.52s\tremaining: 321ms\n",
            "887:\tlearn: 0.0015033\ttotal: 2.52s\tremaining: 318ms\n",
            "888:\tlearn: 0.0015033\ttotal: 2.52s\tremaining: 315ms\n",
            "889:\tlearn: 0.0015033\ttotal: 2.53s\tremaining: 312ms\n",
            "890:\tlearn: 0.0015033\ttotal: 2.53s\tremaining: 310ms\n",
            "891:\tlearn: 0.0015033\ttotal: 2.53s\tremaining: 307ms\n",
            "892:\tlearn: 0.0015033\ttotal: 2.54s\tremaining: 304ms\n",
            "893:\tlearn: 0.0015033\ttotal: 2.54s\tremaining: 301ms\n",
            "894:\tlearn: 0.0015033\ttotal: 2.54s\tremaining: 298ms\n",
            "895:\tlearn: 0.0015033\ttotal: 2.54s\tremaining: 295ms\n",
            "896:\tlearn: 0.0015033\ttotal: 2.54s\tremaining: 292ms\n",
            "897:\tlearn: 0.0015033\ttotal: 2.55s\tremaining: 289ms\n",
            "898:\tlearn: 0.0015033\ttotal: 2.55s\tremaining: 286ms\n",
            "899:\tlearn: 0.0015033\ttotal: 2.55s\tremaining: 284ms\n",
            "900:\tlearn: 0.0015033\ttotal: 2.55s\tremaining: 281ms\n",
            "901:\tlearn: 0.0015032\ttotal: 2.56s\tremaining: 278ms\n",
            "902:\tlearn: 0.0015033\ttotal: 2.56s\tremaining: 275ms\n",
            "903:\tlearn: 0.0015033\ttotal: 2.56s\tremaining: 272ms\n",
            "904:\tlearn: 0.0015033\ttotal: 2.56s\tremaining: 269ms\n",
            "905:\tlearn: 0.0015033\ttotal: 2.57s\tremaining: 266ms\n",
            "906:\tlearn: 0.0015033\ttotal: 2.57s\tremaining: 264ms\n",
            "907:\tlearn: 0.0015033\ttotal: 2.57s\tremaining: 261ms\n",
            "908:\tlearn: 0.0015033\ttotal: 2.58s\tremaining: 258ms\n",
            "909:\tlearn: 0.0015033\ttotal: 2.58s\tremaining: 255ms\n",
            "910:\tlearn: 0.0015033\ttotal: 2.58s\tremaining: 252ms\n",
            "911:\tlearn: 0.0015033\ttotal: 2.58s\tremaining: 249ms\n",
            "912:\tlearn: 0.0015033\ttotal: 2.59s\tremaining: 247ms\n",
            "913:\tlearn: 0.0015033\ttotal: 2.59s\tremaining: 244ms\n",
            "914:\tlearn: 0.0015033\ttotal: 2.59s\tremaining: 241ms\n",
            "915:\tlearn: 0.0015033\ttotal: 2.6s\tremaining: 238ms\n",
            "916:\tlearn: 0.0015033\ttotal: 2.6s\tremaining: 235ms\n",
            "917:\tlearn: 0.0015033\ttotal: 2.6s\tremaining: 232ms\n",
            "918:\tlearn: 0.0015032\ttotal: 2.6s\tremaining: 230ms\n",
            "919:\tlearn: 0.0015032\ttotal: 2.61s\tremaining: 227ms\n",
            "920:\tlearn: 0.0015032\ttotal: 2.61s\tremaining: 224ms\n",
            "921:\tlearn: 0.0015032\ttotal: 2.62s\tremaining: 221ms\n",
            "922:\tlearn: 0.0015032\ttotal: 2.62s\tremaining: 218ms\n",
            "923:\tlearn: 0.0015032\ttotal: 2.62s\tremaining: 216ms\n",
            "924:\tlearn: 0.0015032\ttotal: 2.62s\tremaining: 213ms\n",
            "925:\tlearn: 0.0015032\ttotal: 2.63s\tremaining: 210ms\n",
            "926:\tlearn: 0.0015032\ttotal: 2.63s\tremaining: 207ms\n",
            "927:\tlearn: 0.0015032\ttotal: 2.63s\tremaining: 204ms\n",
            "928:\tlearn: 0.0015032\ttotal: 2.63s\tremaining: 201ms\n",
            "929:\tlearn: 0.0015032\ttotal: 2.64s\tremaining: 199ms\n",
            "930:\tlearn: 0.0015032\ttotal: 2.64s\tremaining: 196ms\n",
            "931:\tlearn: 0.0015032\ttotal: 2.64s\tremaining: 193ms\n",
            "932:\tlearn: 0.0015032\ttotal: 2.64s\tremaining: 190ms\n",
            "933:\tlearn: 0.0015032\ttotal: 2.65s\tremaining: 187ms\n",
            "934:\tlearn: 0.0015032\ttotal: 2.65s\tremaining: 184ms\n",
            "935:\tlearn: 0.0015032\ttotal: 2.65s\tremaining: 181ms\n",
            "936:\tlearn: 0.0015032\ttotal: 2.65s\tremaining: 178ms\n",
            "937:\tlearn: 0.0015032\ttotal: 2.66s\tremaining: 176ms\n",
            "938:\tlearn: 0.0015032\ttotal: 2.66s\tremaining: 173ms\n",
            "939:\tlearn: 0.0015032\ttotal: 2.66s\tremaining: 170ms\n",
            "940:\tlearn: 0.0015032\ttotal: 2.66s\tremaining: 167ms\n",
            "941:\tlearn: 0.0015032\ttotal: 2.67s\tremaining: 164ms\n",
            "942:\tlearn: 0.0015032\ttotal: 2.67s\tremaining: 161ms\n",
            "943:\tlearn: 0.0015032\ttotal: 2.67s\tremaining: 158ms\n",
            "944:\tlearn: 0.0015032\ttotal: 2.67s\tremaining: 156ms\n",
            "945:\tlearn: 0.0015032\ttotal: 2.67s\tremaining: 153ms\n",
            "946:\tlearn: 0.0015032\ttotal: 2.68s\tremaining: 150ms\n",
            "947:\tlearn: 0.0015032\ttotal: 2.68s\tremaining: 147ms\n",
            "948:\tlearn: 0.0015031\ttotal: 2.68s\tremaining: 144ms\n",
            "949:\tlearn: 0.0015032\ttotal: 2.69s\tremaining: 141ms\n",
            "950:\tlearn: 0.0015032\ttotal: 2.69s\tremaining: 139ms\n",
            "951:\tlearn: 0.0015031\ttotal: 2.69s\tremaining: 136ms\n",
            "952:\tlearn: 0.0015031\ttotal: 2.69s\tremaining: 133ms\n",
            "953:\tlearn: 0.0015031\ttotal: 2.69s\tremaining: 130ms\n",
            "954:\tlearn: 0.0015031\ttotal: 2.7s\tremaining: 127ms\n",
            "955:\tlearn: 0.0015031\ttotal: 2.7s\tremaining: 124ms\n",
            "956:\tlearn: 0.0015031\ttotal: 2.7s\tremaining: 121ms\n",
            "957:\tlearn: 0.0015031\ttotal: 2.7s\tremaining: 119ms\n",
            "958:\tlearn: 0.0015031\ttotal: 2.71s\tremaining: 116ms\n",
            "959:\tlearn: 0.0015031\ttotal: 2.71s\tremaining: 113ms\n",
            "960:\tlearn: 0.0015031\ttotal: 2.71s\tremaining: 110ms\n",
            "961:\tlearn: 0.0015031\ttotal: 2.71s\tremaining: 107ms\n",
            "962:\tlearn: 0.0015031\ttotal: 2.72s\tremaining: 104ms\n",
            "963:\tlearn: 0.0015031\ttotal: 2.72s\tremaining: 102ms\n",
            "964:\tlearn: 0.0015031\ttotal: 2.72s\tremaining: 98.7ms\n",
            "965:\tlearn: 0.0015031\ttotal: 2.73s\tremaining: 95.9ms\n",
            "966:\tlearn: 0.0015031\ttotal: 2.73s\tremaining: 93.1ms\n",
            "967:\tlearn: 0.0015031\ttotal: 2.73s\tremaining: 90.3ms\n",
            "968:\tlearn: 0.0015031\ttotal: 2.73s\tremaining: 87.4ms\n",
            "969:\tlearn: 0.0015031\ttotal: 2.73s\tremaining: 84.6ms\n",
            "970:\tlearn: 0.0015031\ttotal: 2.74s\tremaining: 81.8ms\n",
            "971:\tlearn: 0.0015031\ttotal: 2.74s\tremaining: 78.9ms\n",
            "972:\tlearn: 0.0015031\ttotal: 2.74s\tremaining: 76.1ms\n",
            "973:\tlearn: 0.0015031\ttotal: 2.75s\tremaining: 73.3ms\n",
            "974:\tlearn: 0.0015031\ttotal: 2.75s\tremaining: 70.5ms\n",
            "975:\tlearn: 0.0015031\ttotal: 2.75s\tremaining: 67.6ms\n",
            "976:\tlearn: 0.0015031\ttotal: 2.75s\tremaining: 64.8ms\n",
            "977:\tlearn: 0.0015031\ttotal: 2.75s\tremaining: 62ms\n",
            "978:\tlearn: 0.0015031\ttotal: 2.76s\tremaining: 59.2ms\n",
            "979:\tlearn: 0.0015031\ttotal: 2.76s\tremaining: 56.3ms\n",
            "980:\tlearn: 0.0015031\ttotal: 2.76s\tremaining: 53.5ms\n",
            "981:\tlearn: 0.0015031\ttotal: 2.76s\tremaining: 50.7ms\n",
            "982:\tlearn: 0.0015031\ttotal: 2.77s\tremaining: 47.9ms\n",
            "983:\tlearn: 0.0015031\ttotal: 2.77s\tremaining: 45ms\n",
            "984:\tlearn: 0.0015031\ttotal: 2.77s\tremaining: 42.2ms\n",
            "985:\tlearn: 0.0015031\ttotal: 2.77s\tremaining: 39.4ms\n",
            "986:\tlearn: 0.0015031\ttotal: 2.78s\tremaining: 36.6ms\n",
            "987:\tlearn: 0.0015031\ttotal: 2.78s\tremaining: 33.8ms\n",
            "988:\tlearn: 0.0015031\ttotal: 2.78s\tremaining: 30.9ms\n",
            "989:\tlearn: 0.0015031\ttotal: 2.78s\tremaining: 28.1ms\n",
            "990:\tlearn: 0.0015031\ttotal: 2.79s\tremaining: 25.3ms\n",
            "991:\tlearn: 0.0015031\ttotal: 2.79s\tremaining: 22.5ms\n",
            "992:\tlearn: 0.0015031\ttotal: 2.79s\tremaining: 19.7ms\n",
            "993:\tlearn: 0.0015031\ttotal: 2.8s\tremaining: 16.9ms\n",
            "994:\tlearn: 0.0015031\ttotal: 2.8s\tremaining: 14.1ms\n",
            "995:\tlearn: 0.0015030\ttotal: 2.81s\tremaining: 11.3ms\n",
            "996:\tlearn: 0.0015030\ttotal: 2.81s\tremaining: 8.45ms\n",
            "997:\tlearn: 0.0015031\ttotal: 2.81s\tremaining: 5.63ms\n",
            "998:\tlearn: 0.0015031\ttotal: 2.81s\tremaining: 2.81ms\n",
            "999:\tlearn: 0.0015030\ttotal: 2.81s\tremaining: 0us\n",
            "CPU times: user 4.7 s, sys: 462 ms, total: 5.16 s\n",
            "Wall time: 3.16 s\n"
          ]
        },
        {
          "output_type": "execute_result",
          "data": {
            "text/plain": [
              "<catboost.core.CatBoostClassifier at 0x7905199afb80>"
            ]
          },
          "metadata": {},
          "execution_count": 78
        }
      ],
      "source": [
        "%%time\n",
        "\n",
        "# создаем модель\n",
        "catboost = CatBoostClassifier()\n",
        "\n",
        "# подаем на вход модели обучающие данные\n",
        "catboost.fit(X_train, y_train)"
      ]
    },
    {
      "cell_type": "markdown",
      "source": [
        "Вывод результата"
      ],
      "metadata": {
        "id": "4q36HyhuLoN_"
      }
    },
    {
      "cell_type": "code",
      "source": [
        "# предсказываем результат на тестовой выборке\n",
        "catboost_pred = catboost.predict(X_test)\n",
        "\n",
        "# оцениваем модель\n",
        "print(f'Сравнение метрик: \\n{classification_report(y_test, catboost_pred)}\\n')\n",
        "print(f'Матрица ошибок: \\n{confusion_matrix(y_test, catboost_pred)}\\n')"
      ],
      "metadata": {
        "outputId": "bfe1150c-d396-47ec-f746-38754688477f",
        "colab": {
          "base_uri": "https://localhost:8080/"
        },
        "id": "tgRe3LppLoN_"
      },
      "execution_count": 79,
      "outputs": [
        {
          "output_type": "stream",
          "name": "stdout",
          "text": [
            "Сравнение метрик: \n",
            "              precision    recall  f1-score   support\n",
            "\n",
            "       False       1.00      0.96      0.98       857\n",
            "        True       1.00      1.00      1.00      7858\n",
            "\n",
            "    accuracy                           1.00      8715\n",
            "   macro avg       1.00      0.98      0.99      8715\n",
            "weighted avg       1.00      1.00      1.00      8715\n",
            "\n",
            "\n",
            "Матрица ошибок: \n",
            "[[ 827   30]\n",
            " [   3 7855]]\n",
            "\n"
          ]
        }
      ]
    },
    {
      "cell_type": "markdown",
      "source": [
        "#### С кросс-валидацией"
      ],
      "metadata": {
        "id": "ZvZDKbSHLSFB"
      }
    },
    {
      "cell_type": "markdown",
      "source": [
        "Проведение процедуры кросс-валидации"
      ],
      "metadata": {
        "id": "8sjM1khnMS2j"
      }
    },
    {
      "cell_type": "code",
      "execution_count": 80,
      "metadata": {
        "colab": {
          "base_uri": "https://localhost:8080/",
          "height": 1000
        },
        "outputId": "a30c1563-b902-48eb-c1f2-ef39f34d2092",
        "id": "hcpOozQhMS2n"
      },
      "outputs": [
        {
          "output_type": "stream",
          "name": "stdout",
          "text": [
            "0:\tlearn: 0.6093917\ttotal: 2.83ms\tremaining: 280ms\n",
            "1:\tlearn: 0.5358041\ttotal: 5.4ms\tremaining: 265ms\n",
            "2:\tlearn: 0.4739976\ttotal: 7.53ms\tremaining: 244ms\n",
            "3:\tlearn: 0.4269254\ttotal: 11.4ms\tremaining: 273ms\n",
            "4:\tlearn: 0.3808668\ttotal: 13.6ms\tremaining: 258ms\n",
            "5:\tlearn: 0.3456291\ttotal: 17.6ms\tremaining: 276ms\n",
            "6:\tlearn: 0.3142621\ttotal: 21.1ms\tremaining: 280ms\n",
            "7:\tlearn: 0.2884533\ttotal: 28.1ms\tremaining: 324ms\n",
            "8:\tlearn: 0.2636896\ttotal: 35.3ms\tremaining: 357ms\n",
            "9:\tlearn: 0.2388651\ttotal: 41.1ms\tremaining: 370ms\n",
            "10:\tlearn: 0.2203179\ttotal: 52.6ms\tremaining: 426ms\n",
            "11:\tlearn: 0.2044386\ttotal: 87ms\tremaining: 638ms\n",
            "12:\tlearn: 0.1871257\ttotal: 90.7ms\tremaining: 607ms\n",
            "13:\tlearn: 0.1733993\ttotal: 95.9ms\tremaining: 589ms\n",
            "14:\tlearn: 0.1586462\ttotal: 98.6ms\tremaining: 559ms\n",
            "15:\tlearn: 0.1493274\ttotal: 111ms\tremaining: 580ms\n",
            "16:\tlearn: 0.1391175\ttotal: 120ms\tremaining: 584ms\n",
            "17:\tlearn: 0.1313950\ttotal: 125ms\tremaining: 571ms\n",
            "18:\tlearn: 0.1241509\ttotal: 131ms\tremaining: 557ms\n",
            "19:\tlearn: 0.1157328\ttotal: 134ms\tremaining: 537ms\n",
            "20:\tlearn: 0.1092944\ttotal: 138ms\tremaining: 520ms\n",
            "21:\tlearn: 0.1024023\ttotal: 143ms\tremaining: 509ms\n",
            "22:\tlearn: 0.0981017\ttotal: 182ms\tremaining: 609ms\n",
            "23:\tlearn: 0.0941811\ttotal: 226ms\tremaining: 717ms\n",
            "24:\tlearn: 0.0917521\ttotal: 247ms\tremaining: 740ms\n",
            "25:\tlearn: 0.0880339\ttotal: 265ms\tremaining: 753ms\n",
            "26:\tlearn: 0.0857358\ttotal: 305ms\tremaining: 823ms\n",
            "27:\tlearn: 0.0820242\ttotal: 314ms\tremaining: 808ms\n",
            "28:\tlearn: 0.0781372\ttotal: 332ms\tremaining: 813ms\n",
            "29:\tlearn: 0.0760555\ttotal: 372ms\tremaining: 867ms\n",
            "30:\tlearn: 0.0725640\ttotal: 381ms\tremaining: 847ms\n",
            "31:\tlearn: 0.0709797\ttotal: 422ms\tremaining: 897ms\n",
            "32:\tlearn: 0.0686112\ttotal: 436ms\tremaining: 884ms\n",
            "33:\tlearn: 0.0667711\ttotal: 481ms\tremaining: 934ms\n",
            "34:\tlearn: 0.0645411\ttotal: 514ms\tremaining: 954ms\n",
            "35:\tlearn: 0.0634051\ttotal: 548ms\tremaining: 975ms\n",
            "36:\tlearn: 0.0617970\ttotal: 588ms\tremaining: 1s\n",
            "37:\tlearn: 0.0604807\ttotal: 622ms\tremaining: 1.01s\n",
            "38:\tlearn: 0.0598332\ttotal: 659ms\tremaining: 1.03s\n",
            "39:\tlearn: 0.0589315\ttotal: 692ms\tremaining: 1.04s\n",
            "40:\tlearn: 0.0574840\ttotal: 731ms\tremaining: 1.05s\n",
            "41:\tlearn: 0.0562437\ttotal: 766ms\tremaining: 1.06s\n",
            "42:\tlearn: 0.0547772\ttotal: 783ms\tremaining: 1.04s\n",
            "43:\tlearn: 0.0532537\ttotal: 816ms\tremaining: 1.04s\n",
            "44:\tlearn: 0.0524510\ttotal: 850ms\tremaining: 1.04s\n",
            "45:\tlearn: 0.0517006\ttotal: 888ms\tremaining: 1.04s\n",
            "46:\tlearn: 0.0508905\ttotal: 921ms\tremaining: 1.04s\n",
            "47:\tlearn: 0.0494744\ttotal: 938ms\tremaining: 1.02s\n",
            "48:\tlearn: 0.0490435\ttotal: 970ms\tremaining: 1.01s\n",
            "49:\tlearn: 0.0484463\ttotal: 1s\tremaining: 1s\n",
            "50:\tlearn: 0.0477958\ttotal: 1.03s\tremaining: 994ms\n",
            "51:\tlearn: 0.0469166\ttotal: 1.07s\tremaining: 991ms\n",
            "52:\tlearn: 0.0462644\ttotal: 1.11s\tremaining: 983ms\n",
            "53:\tlearn: 0.0456263\ttotal: 1.14s\tremaining: 968ms\n",
            "54:\tlearn: 0.0450429\ttotal: 1.17s\tremaining: 953ms\n",
            "55:\tlearn: 0.0446014\ttotal: 1.19s\tremaining: 937ms\n",
            "56:\tlearn: 0.0440388\ttotal: 1.22s\tremaining: 921ms\n",
            "57:\tlearn: 0.0433909\ttotal: 1.25s\tremaining: 905ms\n",
            "58:\tlearn: 0.0430632\ttotal: 1.28s\tremaining: 889ms\n",
            "59:\tlearn: 0.0426005\ttotal: 1.31s\tremaining: 872ms\n",
            "60:\tlearn: 0.0422681\ttotal: 1.34s\tremaining: 858ms\n",
            "61:\tlearn: 0.0417883\ttotal: 1.37s\tremaining: 840ms\n",
            "62:\tlearn: 0.0413710\ttotal: 1.4s\tremaining: 823ms\n",
            "63:\tlearn: 0.0409235\ttotal: 1.43s\tremaining: 804ms\n",
            "64:\tlearn: 0.0403114\ttotal: 1.46s\tremaining: 785ms\n",
            "65:\tlearn: 0.0399519\ttotal: 1.49s\tremaining: 766ms\n",
            "66:\tlearn: 0.0391037\ttotal: 1.52s\tremaining: 748ms\n",
            "67:\tlearn: 0.0387852\ttotal: 1.55s\tremaining: 728ms\n",
            "68:\tlearn: 0.0382965\ttotal: 1.58s\tremaining: 709ms\n",
            "69:\tlearn: 0.0379352\ttotal: 1.61s\tremaining: 689ms\n",
            "70:\tlearn: 0.0377234\ttotal: 1.64s\tremaining: 669ms\n",
            "71:\tlearn: 0.0373271\ttotal: 1.67s\tremaining: 649ms\n",
            "72:\tlearn: 0.0371055\ttotal: 1.7s\tremaining: 628ms\n",
            "73:\tlearn: 0.0367771\ttotal: 1.73s\tremaining: 608ms\n",
            "74:\tlearn: 0.0364710\ttotal: 1.76s\tremaining: 587ms\n",
            "75:\tlearn: 0.0360217\ttotal: 1.79s\tremaining: 565ms\n",
            "76:\tlearn: 0.0356457\ttotal: 1.82s\tremaining: 543ms\n",
            "77:\tlearn: 0.0351916\ttotal: 1.85s\tremaining: 521ms\n",
            "78:\tlearn: 0.0349006\ttotal: 1.88s\tremaining: 499ms\n",
            "79:\tlearn: 0.0345838\ttotal: 1.91s\tremaining: 477ms\n",
            "80:\tlearn: 0.0341102\ttotal: 1.94s\tremaining: 455ms\n",
            "81:\tlearn: 0.0337461\ttotal: 1.97s\tremaining: 432ms\n",
            "82:\tlearn: 0.0334799\ttotal: 2s\tremaining: 409ms\n",
            "83:\tlearn: 0.0331940\ttotal: 2.03s\tremaining: 386ms\n",
            "84:\tlearn: 0.0328638\ttotal: 2.06s\tremaining: 364ms\n",
            "85:\tlearn: 0.0325746\ttotal: 2.1s\tremaining: 342ms\n",
            "86:\tlearn: 0.0321877\ttotal: 2.13s\tremaining: 319ms\n",
            "87:\tlearn: 0.0319404\ttotal: 2.17s\tremaining: 295ms\n",
            "88:\tlearn: 0.0316264\ttotal: 2.2s\tremaining: 271ms\n",
            "89:\tlearn: 0.0313621\ttotal: 2.22s\tremaining: 247ms\n",
            "90:\tlearn: 0.0310643\ttotal: 2.25s\tremaining: 223ms\n",
            "91:\tlearn: 0.0307549\ttotal: 2.28s\tremaining: 198ms\n",
            "92:\tlearn: 0.0304931\ttotal: 2.31s\tremaining: 174ms\n",
            "93:\tlearn: 0.0302641\ttotal: 2.34s\tremaining: 149ms\n",
            "94:\tlearn: 0.0301055\ttotal: 2.38s\tremaining: 125ms\n",
            "95:\tlearn: 0.0299383\ttotal: 2.41s\tremaining: 100ms\n",
            "96:\tlearn: 0.0297532\ttotal: 2.44s\tremaining: 75.4ms\n",
            "97:\tlearn: 0.0295959\ttotal: 2.47s\tremaining: 50.3ms\n",
            "98:\tlearn: 0.0293733\ttotal: 2.5s\tremaining: 25.2ms\n",
            "99:\tlearn: 0.0290516\ttotal: 2.52s\tremaining: 0us\n",
            "CPU times: user 5.08 s, sys: 196 ms, total: 5.27 s\n",
            "Wall time: 25.1 s\n"
          ]
        },
        {
          "output_type": "execute_result",
          "data": {
            "text/plain": [
              "RandomizedSearchCV(estimator=<catboost.core.CatBoostClassifier object at 0x7905199af760>,\n",
              "                   n_jobs=-1,\n",
              "                   param_distributions={'bagging_temperature': [0, 1],\n",
              "                                        'border_count': [1, 255],\n",
              "                                        'depth': [5, 10],\n",
              "                                        'iterations': [10, 100],\n",
              "                                        'l2_leaf_reg': [1, 10],\n",
              "                                        'learning_rate': [0.01, 0.1],\n",
              "                                        'loss_function': ['Logloss',\n",
              "                                                          'CrossEntropy',\n",
              "                                                          'MultiClass',\n",
              "                                                          'MultiClassOneVsAll'],\n",
              "                                        'od_type': ['IncToDec', 'Iter', 'None'],\n",
              "                                        'od_wait': [10, 100],\n",
              "                                        'random_strength': [0, 1]},\n",
              "                   scoring='f1')"
            ],
            "text/html": [
              "<style>#sk-container-id-23 {color: black;background-color: white;}#sk-container-id-23 pre{padding: 0;}#sk-container-id-23 div.sk-toggleable {background-color: white;}#sk-container-id-23 label.sk-toggleable__label {cursor: pointer;display: block;width: 100%;margin-bottom: 0;padding: 0.3em;box-sizing: border-box;text-align: center;}#sk-container-id-23 label.sk-toggleable__label-arrow:before {content: \"▸\";float: left;margin-right: 0.25em;color: #696969;}#sk-container-id-23 label.sk-toggleable__label-arrow:hover:before {color: black;}#sk-container-id-23 div.sk-estimator:hover label.sk-toggleable__label-arrow:before {color: black;}#sk-container-id-23 div.sk-toggleable__content {max-height: 0;max-width: 0;overflow: hidden;text-align: left;background-color: #f0f8ff;}#sk-container-id-23 div.sk-toggleable__content pre {margin: 0.2em;color: black;border-radius: 0.25em;background-color: #f0f8ff;}#sk-container-id-23 input.sk-toggleable__control:checked~div.sk-toggleable__content {max-height: 200px;max-width: 100%;overflow: auto;}#sk-container-id-23 input.sk-toggleable__control:checked~label.sk-toggleable__label-arrow:before {content: \"▾\";}#sk-container-id-23 div.sk-estimator input.sk-toggleable__control:checked~label.sk-toggleable__label {background-color: #d4ebff;}#sk-container-id-23 div.sk-label input.sk-toggleable__control:checked~label.sk-toggleable__label {background-color: #d4ebff;}#sk-container-id-23 input.sk-hidden--visually {border: 0;clip: rect(1px 1px 1px 1px);clip: rect(1px, 1px, 1px, 1px);height: 1px;margin: -1px;overflow: hidden;padding: 0;position: absolute;width: 1px;}#sk-container-id-23 div.sk-estimator {font-family: monospace;background-color: #f0f8ff;border: 1px dotted black;border-radius: 0.25em;box-sizing: border-box;margin-bottom: 0.5em;}#sk-container-id-23 div.sk-estimator:hover {background-color: #d4ebff;}#sk-container-id-23 div.sk-parallel-item::after {content: \"\";width: 100%;border-bottom: 1px solid gray;flex-grow: 1;}#sk-container-id-23 div.sk-label:hover label.sk-toggleable__label {background-color: #d4ebff;}#sk-container-id-23 div.sk-serial::before {content: \"\";position: absolute;border-left: 1px solid gray;box-sizing: border-box;top: 0;bottom: 0;left: 50%;z-index: 0;}#sk-container-id-23 div.sk-serial {display: flex;flex-direction: column;align-items: center;background-color: white;padding-right: 0.2em;padding-left: 0.2em;position: relative;}#sk-container-id-23 div.sk-item {position: relative;z-index: 1;}#sk-container-id-23 div.sk-parallel {display: flex;align-items: stretch;justify-content: center;background-color: white;position: relative;}#sk-container-id-23 div.sk-item::before, #sk-container-id-23 div.sk-parallel-item::before {content: \"\";position: absolute;border-left: 1px solid gray;box-sizing: border-box;top: 0;bottom: 0;left: 50%;z-index: -1;}#sk-container-id-23 div.sk-parallel-item {display: flex;flex-direction: column;z-index: 1;position: relative;background-color: white;}#sk-container-id-23 div.sk-parallel-item:first-child::after {align-self: flex-end;width: 50%;}#sk-container-id-23 div.sk-parallel-item:last-child::after {align-self: flex-start;width: 50%;}#sk-container-id-23 div.sk-parallel-item:only-child::after {width: 0;}#sk-container-id-23 div.sk-dashed-wrapped {border: 1px dashed gray;margin: 0 0.4em 0.5em 0.4em;box-sizing: border-box;padding-bottom: 0.4em;background-color: white;}#sk-container-id-23 div.sk-label label {font-family: monospace;font-weight: bold;display: inline-block;line-height: 1.2em;}#sk-container-id-23 div.sk-label-container {text-align: center;}#sk-container-id-23 div.sk-container {/* jupyter's `normalize.less` sets `[hidden] { display: none; }` but bootstrap.min.css set `[hidden] { display: none !important; }` so we also need the `!important` here to be able to override the default hidden behavior on the sphinx rendered scikit-learn.org. See: https://github.com/scikit-learn/scikit-learn/issues/21755 */display: inline-block !important;position: relative;}#sk-container-id-23 div.sk-text-repr-fallback {display: none;}</style><div id=\"sk-container-id-23\" class=\"sk-top-container\"><div class=\"sk-text-repr-fallback\"><pre>RandomizedSearchCV(estimator=&lt;catboost.core.CatBoostClassifier object at 0x7905199af760&gt;,\n",
              "                   n_jobs=-1,\n",
              "                   param_distributions={&#x27;bagging_temperature&#x27;: [0, 1],\n",
              "                                        &#x27;border_count&#x27;: [1, 255],\n",
              "                                        &#x27;depth&#x27;: [5, 10],\n",
              "                                        &#x27;iterations&#x27;: [10, 100],\n",
              "                                        &#x27;l2_leaf_reg&#x27;: [1, 10],\n",
              "                                        &#x27;learning_rate&#x27;: [0.01, 0.1],\n",
              "                                        &#x27;loss_function&#x27;: [&#x27;Logloss&#x27;,\n",
              "                                                          &#x27;CrossEntropy&#x27;,\n",
              "                                                          &#x27;MultiClass&#x27;,\n",
              "                                                          &#x27;MultiClassOneVsAll&#x27;],\n",
              "                                        &#x27;od_type&#x27;: [&#x27;IncToDec&#x27;, &#x27;Iter&#x27;, &#x27;None&#x27;],\n",
              "                                        &#x27;od_wait&#x27;: [10, 100],\n",
              "                                        &#x27;random_strength&#x27;: [0, 1]},\n",
              "                   scoring=&#x27;f1&#x27;)</pre><b>In a Jupyter environment, please rerun this cell to show the HTML representation or trust the notebook. <br />On GitHub, the HTML representation is unable to render, please try loading this page with nbviewer.org.</b></div><div class=\"sk-container\" hidden><div class=\"sk-item sk-dashed-wrapped\"><div class=\"sk-label-container\"><div class=\"sk-label sk-toggleable\"><input class=\"sk-toggleable__control sk-hidden--visually\" id=\"sk-estimator-id-43\" type=\"checkbox\" ><label for=\"sk-estimator-id-43\" class=\"sk-toggleable__label sk-toggleable__label-arrow\">RandomizedSearchCV</label><div class=\"sk-toggleable__content\"><pre>RandomizedSearchCV(estimator=&lt;catboost.core.CatBoostClassifier object at 0x7905199af760&gt;,\n",
              "                   n_jobs=-1,\n",
              "                   param_distributions={&#x27;bagging_temperature&#x27;: [0, 1],\n",
              "                                        &#x27;border_count&#x27;: [1, 255],\n",
              "                                        &#x27;depth&#x27;: [5, 10],\n",
              "                                        &#x27;iterations&#x27;: [10, 100],\n",
              "                                        &#x27;l2_leaf_reg&#x27;: [1, 10],\n",
              "                                        &#x27;learning_rate&#x27;: [0.01, 0.1],\n",
              "                                        &#x27;loss_function&#x27;: [&#x27;Logloss&#x27;,\n",
              "                                                          &#x27;CrossEntropy&#x27;,\n",
              "                                                          &#x27;MultiClass&#x27;,\n",
              "                                                          &#x27;MultiClassOneVsAll&#x27;],\n",
              "                                        &#x27;od_type&#x27;: [&#x27;IncToDec&#x27;, &#x27;Iter&#x27;, &#x27;None&#x27;],\n",
              "                                        &#x27;od_wait&#x27;: [10, 100],\n",
              "                                        &#x27;random_strength&#x27;: [0, 1]},\n",
              "                   scoring=&#x27;f1&#x27;)</pre></div></div></div><div class=\"sk-parallel\"><div class=\"sk-parallel-item\"><div class=\"sk-item\"><div class=\"sk-label-container\"><div class=\"sk-label sk-toggleable\"><input class=\"sk-toggleable__control sk-hidden--visually\" id=\"sk-estimator-id-44\" type=\"checkbox\" ><label for=\"sk-estimator-id-44\" class=\"sk-toggleable__label sk-toggleable__label-arrow\">estimator: CatBoostClassifier</label><div class=\"sk-toggleable__content\"><pre>&lt;catboost.core.CatBoostClassifier object at 0x7905199af760&gt;</pre></div></div></div><div class=\"sk-serial\"><div class=\"sk-item\"><div class=\"sk-estimator sk-toggleable\"><input class=\"sk-toggleable__control sk-hidden--visually\" id=\"sk-estimator-id-45\" type=\"checkbox\" ><label for=\"sk-estimator-id-45\" class=\"sk-toggleable__label sk-toggleable__label-arrow\">CatBoostClassifier</label><div class=\"sk-toggleable__content\"><pre>&lt;catboost.core.CatBoostClassifier object at 0x7905199af760&gt;</pre></div></div></div></div></div></div></div></div></div></div>"
            ]
          },
          "metadata": {},
          "execution_count": 80
        }
      ],
      "source": [
        "%%time\n",
        "\n",
        "# задаем диапазон параметров\n",
        "# задаем параметры\n",
        "parameters = {\n",
        "    'depth': [5, 10], # максимальная глубина дерева\n",
        "    'learning_rate': [0.01, 0.1], # скорость обучения\n",
        "    'iterations': [10, 100], # количество итераций\n",
        "    'l2_leaf_reg': [1, 10], # коэффициент L2 регуляризации листьев\n",
        "    'border_count': [1, 255], # количество границ для числовых признаков\n",
        "    'loss_function': ['Logloss', 'CrossEntropy', 'MultiClass', 'MultiClassOneVsAll'], # функция потерь\n",
        "    'random_strength': [0, 1], # сила случайности в выборе признаков на каждом уровне\n",
        "    'bagging_temperature': [0, 1], # температура для баггинга\n",
        "    'od_type': ['IncToDec', 'Iter', 'None'], # тип оптимизации\n",
        "    'od_wait': [10, 100] # количество итераций между проверками оптимизации\n",
        "}\n",
        "\n",
        "# подбираем лучшие параметры\n",
        "grid_catboost = RandomizedSearchCV(\n",
        "    CatBoostClassifier(),\n",
        "    parameters,\n",
        "    scoring='f1',\n",
        "    n_jobs = -1\n",
        ")\n",
        "# обучаем модель\n",
        "grid_catboost.fit(X_train, y_train)"
      ]
    },
    {
      "cell_type": "markdown",
      "metadata": {
        "id": "6q-GhEEhMS2o"
      },
      "source": [
        "Вывод результата кросс-валидации"
      ]
    },
    {
      "cell_type": "code",
      "execution_count": 81,
      "metadata": {
        "colab": {
          "base_uri": "https://localhost:8080/"
        },
        "outputId": "17f91204-90c3-437e-d998-67748ce247d4",
        "id": "eTv7kLg0MS2o"
      },
      "outputs": [
        {
          "output_type": "stream",
          "name": "stdout",
          "text": [
            "Лучшие параметры:\n",
            "{'random_strength': 0, 'od_wait': 10, 'od_type': 'Iter', 'loss_function': 'MultiClassOneVsAll', 'learning_rate': 0.1, 'l2_leaf_reg': 10, 'iterations': 100, 'depth': 10, 'border_count': 255, 'bagging_temperature': 1}\n",
            "\n",
            "Показатель f1 для лучшей модели составил: 99.82%\n",
            "\n",
            "Сравнение метрик: \n",
            "              precision    recall  f1-score   support\n",
            "\n",
            "       False       1.00      0.96      0.98       857\n",
            "        True       1.00      1.00      1.00      7858\n",
            "\n",
            "    accuracy                           1.00      8715\n",
            "   macro avg       1.00      0.98      0.99      8715\n",
            "weighted avg       1.00      1.00      1.00      8715\n",
            "\n",
            "\n",
            "Матрица ошибок: \n",
            "[[ 826   31]\n",
            " [   1 7857]]\n",
            "\n"
          ]
        }
      ],
      "source": [
        "# результаты кросс-валидации\n",
        "print(f'Лучшие параметры:\\n{grid_catboost.best_params_}\\n')\n",
        "print(\"Показатель f1 для лучшей модели составил: {:.2f}%\".\n",
        "      format(grid_catboost.best_score_ * 100) + '\\n')\n",
        "\n",
        "# предсказываем результат на тестовой выборке\n",
        "grid_catboost_pred = grid_catboost.predict(X_test)\n",
        "\n",
        "# оцениваем модель\n",
        "print(f'Сравнение метрик: \\n{classification_report(y_test, grid_catboost_pred)}\\n')\n",
        "print(f'Матрица ошибок: \\n{confusion_matrix(y_test, grid_catboost_pred)}\\n')"
      ]
    }
  ],
  "metadata": {
    "colab": {
      "provenance": [],
      "toc_visible": true
    },
    "kernelspec": {
      "display_name": "Python 3",
      "name": "python3"
    },
    "language_info": {
      "name": "python"
    }
  },
  "nbformat": 4,
  "nbformat_minor": 0
}